{
 "cells": [
  {
   "cell_type": "markdown",
   "metadata": {},
   "source": [
    "# Import Data"
   ]
  },
  {
   "cell_type": "code",
   "execution_count": 149,
   "metadata": {
    "colab": {},
    "colab_type": "code",
    "id": "MBJ9fufxfypJ"
   },
   "outputs": [],
   "source": [
    "import numpy as np\n",
    "import pandas as pd\n",
    "\n",
    "import matplotlib.pyplot as plt \n",
    "%matplotlib inline"
   ]
  },
  {
   "cell_type": "markdown",
   "metadata": {},
   "source": [
    "## Data from 2012, 2016, 2020"
   ]
  },
  {
   "cell_type": "code",
   "execution_count": 150,
   "metadata": {
    "colab": {},
    "colab_type": "code",
    "id": "6pYmgiUuFOLY"
   },
   "outputs": [
    {
     "name": "stdout",
     "output_type": "stream",
     "text": [
      "(13705, 6) (30151, 6) (56121, 7)\n"
     ]
    }
   ],
   "source": [
    "# Import Data \n",
    "train2012 = pd.read_csv(\"/Users/wenniehu/Desktop/IMT575/ProjectData/train2012.csv\")\n",
    "train2016 = pd.read_csv(\"/Users/wenniehu/Desktop/IMT575/ProjectData/train2016.csv\")\n",
    "train2020 = pd.read_csv(\"/Users/wenniehu/Desktop/IMT575/ProjectData/train2020.csv\")\n",
    "print(train2012.shape, train2016.shape, train2020.shape)"
   ]
  },
  {
   "cell_type": "code",
   "execution_count": 151,
   "metadata": {},
   "outputs": [
    {
     "name": "stdout",
     "output_type": "stream",
     "text": [
      "--train2012--\n",
      "Datetime -no NaN\n",
      "Text\n",
      "TweetID -no NaN\n",
      "username -no NaN\n",
      "geo\n",
      "Party -no NaN\n",
      "\n",
      "\n",
      "--train2016--\n",
      "Datetime -no NaN\n",
      "Text\n",
      "TweetID -no NaN\n",
      "username -no NaN\n",
      "geo\n",
      "Party -no NaN\n",
      "\n",
      "\n",
      "--for train2020--\n",
      "Datetime -no NaN\n",
      "Text\n",
      "TweetID -no NaN\n",
      "username -no NaN\n",
      "geo\n",
      "Party -no NaN\n",
      "State\n"
     ]
    }
   ],
   "source": [
    "# Inspect whether raw data has NaN\n",
    "\n",
    "print('--train2012--')\n",
    "for c in train2012.columns.values:\n",
    "    if np.sum(train2012[c].isna()) > 0 :\n",
    "        print(c)\n",
    "    else: \n",
    "        print(c, '-no NaN')\n",
    "        continue\n",
    "print('\\n')\n",
    "\n",
    "print('--train2016--')\n",
    "for c in train2016.columns.values:\n",
    "    if np.sum(train2016[c].isna()) > 0 :\n",
    "        print(c)\n",
    "    else: \n",
    "        print(c, '-no NaN')\n",
    "        continue\n",
    "print('\\n')\n",
    "\n",
    "print('--for train2020--')\n",
    "for c in train2020.columns.values:\n",
    "    if np.sum(train2020[c].isna()) > 0 :\n",
    "        print(c)\n",
    "    else: \n",
    "        print(c, '-no NaN')\n",
    "        continue"
   ]
  },
  {
   "cell_type": "code",
   "execution_count": 152,
   "metadata": {},
   "outputs": [],
   "source": [
    "# Create a function to clean all three data\n",
    "def clean_df(df):\n",
    "    \n",
    "    # Remove duplicate rows in each data\n",
    "    cleandf = df.drop_duplicates('TweetID', keep = 'first')\n",
    "    \n",
    "    # Remove NA in the text column\n",
    "    cleandf = cleandf.dropna(subset = ['Text'] )\n",
    "    \n",
    "    # Select relevant column\n",
    "    cleandf = cleandf[['Text','username','Party']]\n",
    "    \n",
    "    # Remove independent class in Party variable\n",
    "    cleandf = cleandf[cleandf['Party'] != 'I']\n",
    "    \n",
    "    return(cleandf)"
   ]
  },
  {
   "cell_type": "code",
   "execution_count": 153,
   "metadata": {},
   "outputs": [
    {
     "name": "stdout",
     "output_type": "stream",
     "text": [
      "(13084, 3) (29659, 3) (55459, 3)\n"
     ]
    }
   ],
   "source": [
    "# Pre-process dataframe\n",
    "data2012 = clean_df(train2012)\n",
    "data2016 = clean_df(train2016)\n",
    "data2020 = clean_df(train2020)\n",
    "\n",
    "print(data2012.shape, data2016.shape, data2020.shape)"
   ]
  },
  {
   "cell_type": "code",
   "execution_count": 154,
   "metadata": {
    "scrolled": true
   },
   "outputs": [
    {
     "data": {
      "text/plain": [
       "username\n",
       "BarackObama       1084\n",
       "SenSanders         709\n",
       "JohnCornyn         670\n",
       "SenJohnMcCain      521\n",
       "MikeCrapo          497\n",
       "MarkUdall          496\n",
       "kaybaileyhutch     437\n",
       "SenBlumenthal      325\n",
       "RoyBlunt           313\n",
       "ChuckGrassley      298\n",
       "Name: Text, dtype: int64"
      ]
     },
     "execution_count": 154,
     "metadata": {},
     "output_type": "execute_result"
    }
   ],
   "source": [
    "# Return the top 10 politicians who tweets most frequently in 2012\n",
    "data2012.groupby('username')['Text'].count().sort_values(ascending = False).head(10)"
   ]
  },
  {
   "cell_type": "code",
   "execution_count": 155,
   "metadata": {},
   "outputs": [
    {
     "data": {
      "text/plain": [
       "username\n",
       "HillaryClinton     2728\n",
       "realDonaldTrump    1440\n",
       "CoryBooker         1279\n",
       "SenRickScott       1240\n",
       "JohnCornyn         1188\n",
       "senrobportman      1045\n",
       "SenTomCotton        972\n",
       "SenSanders          742\n",
       "SenatorDurbin       647\n",
       "SenatorBaldwin      609\n",
       "Name: Text, dtype: int64"
      ]
     },
     "execution_count": 155,
     "metadata": {},
     "output_type": "execute_result"
    }
   ],
   "source": [
    "# Return the top 10 politicians who tweets most frequently in 2016\n",
    "data2016.groupby('username')['Text'].count().sort_values(ascending = False).head(10)"
   ]
  },
  {
   "cell_type": "code",
   "execution_count": 156,
   "metadata": {},
   "outputs": [
    {
     "data": {
      "text/plain": [
       "username\n",
       "AndrewYang         2199\n",
       "realDonaldTrump    1894\n",
       "JohnCornyn         1346\n",
       "JoeBiden           1303\n",
       "SenatorDurbin      1282\n",
       "SenTedCruz         1166\n",
       "SenRickScott       1126\n",
       "PeteButtigieg      1034\n",
       "SenSchumer         1006\n",
       "senrobportman       964\n",
       "Name: Text, dtype: int64"
      ]
     },
     "execution_count": 156,
     "metadata": {},
     "output_type": "execute_result"
    }
   ],
   "source": [
    "# Return the top 10 politicians who tweets most frequently in 2020\n",
    "data2020.groupby('username')['Text'].count().sort_values(ascending = False).head(10)"
   ]
  },
  {
   "cell_type": "code",
   "execution_count": 157,
   "metadata": {},
   "outputs": [
    {
     "name": "stdout",
     "output_type": "stream",
     "text": [
      "Number of Tweets by each party in 2012\n",
      "D    0.529272\n",
      "R    0.470728\n",
      "Name: Party, dtype: float64\n",
      "\n",
      "\n",
      "Number of Tweets by each party in 2016\n",
      "R    0.510166\n",
      "D    0.489834\n",
      "Name: Party, dtype: float64\n",
      "\n",
      "\n",
      "Number of Tweets by each party in 2020\n",
      "D    0.541716\n",
      "R    0.458284\n",
      "Name: Party, dtype: float64\n"
     ]
    }
   ],
   "source": [
    "# Calculate number of Democratic tweets and Republican tweets for 2012, 2016 and 2020.\n",
    "print('Number of Tweets by each party in 2012')\n",
    "print(data2012['Party'].value_counts()/data2012.shape[0])\n",
    "print('\\n')\n",
    "\n",
    "print('Number of Tweets by each party in 2016')\n",
    "print(data2016['Party'].value_counts()/data2016.shape[0])\n",
    "print('\\n')\n",
    "\n",
    "print('Number of Tweets by each party in 2020')\n",
    "print(data2020['Party'].value_counts()/data2020.shape[0])"
   ]
  },
  {
   "cell_type": "code",
   "execution_count": 158,
   "metadata": {
    "scrolled": true
   },
   "outputs": [
    {
     "data": {
      "text/plain": [
       "(98202, 4)"
      ]
     },
     "execution_count": 158,
     "metadata": {},
     "output_type": "execute_result"
    }
   ],
   "source": [
    "# Add [Year] column into each dataframe \n",
    "data2012['Year'] = int(2012)\n",
    "data2016['Year'] = int(2016)\n",
    "data2020['Year'] = int(2020)\n",
    "\n",
    "# Concatenate three data in a single df\n",
    "dataall = pd.concat([data2012, data2016, data2020], axis = 0, ignore_index = True)\n",
    "dataall.shape"
   ]
  },
  {
   "cell_type": "markdown",
   "metadata": {},
   "source": [
    "# Text Processing"
   ]
  },
  {
   "cell_type": "code",
   "execution_count": 159,
   "metadata": {},
   "outputs": [
    {
     "name": "stdout",
     "output_type": "stream",
     "text": [
      "Requirement already up-to-date: unidecode in /Users/wenniehu/opt/anaconda3/lib/python3.7/site-packages (1.1.1)\n",
      "\u001b[33mWARNING: You are using pip version 20.1; however, version 20.1.1 is available.\n",
      "You should consider upgrading via the '/Users/wenniehu/opt/anaconda3/bin/python -m pip install --upgrade pip' command.\u001b[0m\n",
      "Note: you may need to restart the kernel to use updated packages.\n"
     ]
    }
   ],
   "source": [
    "pip install --upgrade unidecode"
   ]
  },
  {
   "cell_type": "code",
   "execution_count": 160,
   "metadata": {},
   "outputs": [
    {
     "name": "stdout",
     "output_type": "stream",
     "text": [
      "Requirement already up-to-date: emoji in /Users/wenniehu/opt/anaconda3/lib/python3.7/site-packages (0.5.4)\n",
      "\u001b[33mWARNING: You are using pip version 20.1; however, version 20.1.1 is available.\n",
      "You should consider upgrading via the '/Users/wenniehu/opt/anaconda3/bin/python -m pip install --upgrade pip' command.\u001b[0m\n",
      "Note: you may need to restart the kernel to use updated packages.\n"
     ]
    }
   ],
   "source": [
    "pip install --upgrade emoji"
   ]
  },
  {
   "cell_type": "code",
   "execution_count": 161,
   "metadata": {},
   "outputs": [
    {
     "name": "stdout",
     "output_type": "stream",
     "text": [
      "Requirement already satisfied: nltk in /Users/wenniehu/opt/anaconda3/lib/python3.7/site-packages (3.4.5)\n",
      "Requirement already satisfied: six in /Users/wenniehu/opt/anaconda3/lib/python3.7/site-packages (from nltk) (1.12.0)\n",
      "\u001b[33mWARNING: You are using pip version 20.1; however, version 20.1.1 is available.\n",
      "You should consider upgrading via the '/Users/wenniehu/opt/anaconda3/bin/python -m pip install --upgrade pip' command.\u001b[0m\n",
      "Note: you may need to restart the kernel to use updated packages.\n"
     ]
    }
   ],
   "source": [
    "pip install nltk"
   ]
  },
  {
   "cell_type": "code",
   "execution_count": 162,
   "metadata": {
    "colab": {
     "base_uri": "https://localhost:8080/",
     "height": 51
    },
    "colab_type": "code",
    "id": "CTIvBa4TMIu2",
    "outputId": "8ab96bd9-5ffa-44b4-be70-02c071fdedfc",
    "scrolled": true
   },
   "outputs": [
    {
     "name": "stderr",
     "output_type": "stream",
     "text": [
      "[nltk_data] Downloading package stopwords to\n",
      "[nltk_data]     /Users/wenniehu/nltk_data...\n",
      "[nltk_data]   Package stopwords is already up-to-date!\n",
      "[nltk_data] Downloading package wordnet to\n",
      "[nltk_data]     /Users/wenniehu/nltk_data...\n",
      "[nltk_data]   Package wordnet is already up-to-date!\n"
     ]
    }
   ],
   "source": [
    "# Import text processing packages\n",
    "\n",
    "import re\n",
    "from unidecode import unidecode\n",
    "import emoji\n",
    "\n",
    "import nltk\n",
    "nltk.download('stopwords')\n",
    "nltk.download('wordnet')\n",
    "from nltk.corpus import stopwords\n",
    "from nltk.stem import PorterStemmer\n",
    "from nltk.stem import WordNetLemmatizer\n",
    "\n",
    "# Import stop word and stemmer\n",
    "stopwordslist = stopwords.words('english')\n",
    "stemmer = PorterStemmer()\n",
    "lemmatizer= WordNetLemmatizer()"
   ]
  },
  {
   "cell_type": "markdown",
   "metadata": {},
   "source": [
    "### Text processing procedure\n",
    "1.Remove http:// link <br>\n",
    "https://www.digitalocean.com/community/tutorials/how-to-perform-sentiment-analysis-in-python-3-using-the-natural-language-toolkit-nltk <br>\n",
    "<br>\n",
    "2.Convert accent character and unicode to ASCII (café to cafe)<br>\n",
    "https://towardsdatascience.com/nlp-text-preprocessing-a-practical-guide-and-template-d80874676e79<br>\n",
    "<br>\n",
    "3a.Convert emoji to text(for sentimental analysis) <br>\n",
    "https://towardsdatascience.com/twitter-sentiment-analysis-using-fasttext-9ccd04465597<br>\n",
    "<br>\n",
    "3b.Remove emoji entirely<br> \n",
    "https://towardsdatascience.com/extracting-twitter-data-pre-processing-and-sentiment-analysis-using-python-3-0-7192bd8b47cf<br>\n",
    "<br>\n",
    "4a.Remove @mention and special character<br> \n",
    "https://www.digitalocean.com/community/tutorials/how-to-perform-sentiment-analysis-in-python-3-using-the-natural-language-toolkit-nltk<br>\n",
    "4b.Replace hyphen with space<br>\n",
    "https://stackoverflow.com/questions/44333462/how-do-i-replace-hyphen-with-space-in-a-string-except-for-the-matched-patter<br>\n",
    "<br>\n",
    "5.Expand Contractions (not using pycontractions)<br>\n",
    "https://stackoverflow.com/questions/43018030/replace-apostrophe-short-words-in-python/47091370#47091370<br>\n",
    "<br>\n",
    "6.Remove punctuations<br>\n",
    "<br>\n",
    "7.Lowercase all texts<br>\n",
    "<br>\n",
    "8.Remove whitespace<br>\n",
    "<br>\n",
    "9.Replace newline and tab with space <br>\n",
    "<br>\n",
    "10a.Remove number<br>\n",
    "https://medium.com/@datamonsters/text-preprocessing-in-python-steps-tools-and-examples-bf025f872908<br>\n",
    "<br>\n",
    "10b.Convert number words to number <br>\n",
    "https://towardsdatascience.com/tf-idf-for-document-ranking-from-scratch-in-python-on-real-world-dataset-796d339a4089<br>\n",
    "<br>\n",
    "11.Remove stopword <br>\n",
    "<br>\n",
    "12a.Lemmatize<br>\n",
    "<br>\n",
    "12b.Stemming<br>"
   ]
  },
  {
   "cell_type": "markdown",
   "metadata": {},
   "source": [
    "## Text Processing I - Remove Emoji"
   ]
  },
  {
   "cell_type": "code",
   "execution_count": 163,
   "metadata": {},
   "outputs": [],
   "source": [
    "# Create a Text Processing Function textprocessing()\n",
    "\n",
    "emoji_pattern = re.compile(\"[\"\n",
    "         u\"\\U0001F600-\\U0001F64F\"  # emoticons\n",
    "         u\"\\U0001F300-\\U0001F5FF\"  # symbols & pictographs\n",
    "         u\"\\U0001F680-\\U0001F6FF\"  # transport & map symbols\n",
    "         u\"\\U0001F1E0-\\U0001F1FF\"  # flags (iOS)\n",
    "         u\"\\U00002702-\\U000027B0\"\n",
    "         u\"\\U000024C2-\\U0001F251\"\n",
    "         \"]+\", flags=re.UNICODE)\n",
    "\n",
    "def decontracted(phrase):\n",
    "    # specific\n",
    "    phrase = re.sub(r\"won\\'t\", \"will not\", phrase)\n",
    "    phrase = re.sub(r\"can\\'t\", \"can not\", phrase)\n",
    "\n",
    "    # general\n",
    "    phrase = re.sub(r\"n\\'t\", \" not\", phrase)\n",
    "    phrase = re.sub(r\"\\'re\", \" are\", phrase)\n",
    "    phrase = re.sub(r\"\\'s\", \" is\", phrase) \n",
    "    # Even though \"Jenny's bag\" will be contracted to \"Jenny is bag\", \n",
    "    # \"what's\" can be correctly decontracted to \"what is\"\n",
    "    phrase = re.sub(r\"\\'d\", \" would\", phrase)\n",
    "    phrase = re.sub(r\"\\'ll\", \" will\", phrase)\n",
    "    phrase = re.sub(r\"\\'t\", \" not\", phrase)\n",
    "    phrase = re.sub(r\"\\'ve\", \" have\", phrase)\n",
    "    phrase = re.sub(r\"\\'m\", \" am\", phrase)\n",
    "    return phrase\n",
    "\n",
    "def textprocessing(tweet):\n",
    "    #Ensure passing value is a string\n",
    "    tweet = str(tweet)\n",
    "    \n",
    "    # Remove embedded link\n",
    "    tweet = re.sub(r'http[s]?://(?:[a-zA-Z]|[0-9]|[$-_@.&+#]|[!*\\(\\),]|''(?:%[0-9a-fA-F][0-9a-fA-F]))+','', tweet)\n",
    "         \n",
    "    # Convert Accented Characters and non-English to Enligh alpabet\n",
    "    tweet = unidecode(tweet)\n",
    "    \n",
    "    # Retain emoji for sentiment analysis \n",
    "    # tweet = emoji.demojize(tweet).replace(':','')\n",
    "    \n",
    "    # Remove emoji entirely\n",
    "    tweet = emoji_pattern.sub(r'', tweet)\n",
    "    \n",
    "    # Remove @mention \n",
    "    tweet = re.sub('(@[A-Za-z0-9_]+)', '', tweet)\n",
    "    \n",
    "    # Replace hyphen with space\n",
    "    tweet = re.sub(r'-(?:(?<!\\b[0-9]{4}-)|(?![0-9]{2}(?:[0-9]{2})?\\b))', ' ', tweet)\n",
    "    \n",
    "    # Expand contraction\n",
    "    tweet = decontracted(tweet)\n",
    "    \n",
    "    # Remove in-text punctuations\n",
    "    tweet = re.sub(r'[^a-zA-Z0-9 \\n]', '', tweet)\n",
    "    \n",
    "    # Lowercase the text and remove white spaces\n",
    "    tweet = tweet.lower().strip()\n",
    "\n",
    "    # Replace newline and tab with space \n",
    "    tweet = tweet.replace('\\n', ' ').replace('\\t', ' ')\n",
    "    \n",
    "    # Remove in-text numbers\n",
    "    tweet =  re.sub(r'\\d+', '', tweet)\n",
    "\n",
    "    # Remove stopwords listed in the stopwordslist\n",
    "    tweet =  ' '.join([word for word in tweet.split() if word not in stopwordslist])\n",
    "    \n",
    "    # Lemmatize then Stemming\n",
    "    tweet = ' '.join([stemmer.stem(lemmatizer.lemmatize(word)) for word in tweet.split()])\n",
    "    \n",
    "    # Ensure tweet is in string format\n",
    "    tweet = str(tweet)\n",
    "    return(tweet)"
   ]
  },
  {
   "cell_type": "code",
   "execution_count": 164,
   "metadata": {},
   "outputs": [],
   "source": [
    "dataall['Text'] = dataall['Text'].apply(lambda x: textprocessing(x))"
   ]
  },
  {
   "cell_type": "markdown",
   "metadata": {},
   "source": [
    "## Text Processing II - Retain emoji"
   ]
  },
  {
   "cell_type": "code",
   "execution_count": 165,
   "metadata": {},
   "outputs": [],
   "source": [
    "def textprocessing2(tweet):\n",
    "    #Ensure passing value is a string\n",
    "    tweet = str(tweet)\n",
    "    \n",
    "    # Remove embedded link\n",
    "    tweet = re.sub(r'http[s]?://(?:[a-zA-Z]|[0-9]|[$-_@.&+#]|[!*\\(\\),]|''(?:%[0-9a-fA-F][0-9a-fA-F]))+','', tweet)\n",
    "         \n",
    "    # Convert Accented Characters and non-English to Enligh alpabet\n",
    "    tweet = unidecode(tweet)\n",
    "    \n",
    "    # Retain emoji for sentiment analysis \n",
    "    tweet = emoji.demojize(tweet).replace(':','')\n",
    "    \n",
    "    # Remove emoji entirely\n",
    "    # tweet = emoji_pattern.sub(r'', tweet)\n",
    "    \n",
    "    # Remove @mention \n",
    "    tweet = re.sub('(@[A-Za-z0-9_]+)', '', tweet)\n",
    "    \n",
    "    # Replace hyphen with space\n",
    "    tweet = re.sub(r'-(?:(?<!\\b[0-9]{4}-)|(?![0-9]{2}(?:[0-9]{2})?\\b))', ' ', tweet)\n",
    "    \n",
    "    # Expand contraction\n",
    "    tweet = decontracted(tweet)\n",
    "    \n",
    "    # Remove in-text punctuations\n",
    "    tweet = re.sub(r'[^a-zA-Z0-9 \\n]', '', tweet)\n",
    "    \n",
    "    # Lowercase the text and remove white spaces\n",
    "    tweet = tweet.lower().strip()\n",
    "\n",
    "    # Replace newline and tab with space \n",
    "    tweet = tweet.replace('\\n', ' ').replace('\\t', ' ')\n",
    "    \n",
    "    # Remove in-text numbers\n",
    "    tweet =  re.sub(r'\\d+', '', tweet)\n",
    "\n",
    "    # Remove stopwords listed in the stopwordslist\n",
    "    tweet =  ' '.join([word for word in tweet.split() if word not in stopwordslist])\n",
    "    \n",
    "    # Lemmatize then Stemming\n",
    "    tweet = ' '.join([stemmer.stem(lemmatizer.lemmatize(word)) for word in tweet.split()])\n",
    "    \n",
    "    # Ensure tweet is in string format\n",
    "    tweet = str(tweet)\n",
    "    return(tweet)"
   ]
  },
  {
   "cell_type": "code",
   "execution_count": 166,
   "metadata": {},
   "outputs": [],
   "source": [
    "dataall['Text2'] = dataall['Text'].apply(lambda x: textprocessing2(x))"
   ]
  },
  {
   "cell_type": "markdown",
   "metadata": {},
   "source": [
    "# Sentiment Analysis/ Polarity Calculation"
   ]
  },
  {
   "cell_type": "code",
   "execution_count": 167,
   "metadata": {},
   "outputs": [
    {
     "name": "stdout",
     "output_type": "stream",
     "text": [
      "Requirement already satisfied: textblob in /Users/wenniehu/opt/anaconda3/lib/python3.7/site-packages (0.15.3)\n",
      "Requirement already satisfied: nltk>=3.1 in /Users/wenniehu/opt/anaconda3/lib/python3.7/site-packages (from textblob) (3.4.5)\n",
      "Requirement already satisfied: six in /Users/wenniehu/opt/anaconda3/lib/python3.7/site-packages (from nltk>=3.1->textblob) (1.12.0)\n",
      "\u001b[33mWARNING: You are using pip version 20.1; however, version 20.1.1 is available.\n",
      "You should consider upgrading via the '/Users/wenniehu/opt/anaconda3/bin/python -m pip install --upgrade pip' command.\u001b[0m\n",
      "Note: you may need to restart the kernel to use updated packages.\n"
     ]
    }
   ],
   "source": [
    "pip install textblob"
   ]
  },
  {
   "cell_type": "code",
   "execution_count": 168,
   "metadata": {},
   "outputs": [],
   "source": [
    "from textblob import TextBlob"
   ]
  },
  {
   "cell_type": "code",
   "execution_count": 169,
   "metadata": {},
   "outputs": [
    {
     "name": "stdout",
     "output_type": "stream",
     "text": [
      "1526\n"
     ]
    }
   ],
   "source": [
    "# Calculate polarity of each tweet\n",
    "# Polarity - Remove emoji \n",
    "# Polarity2 - Retain emoji \n",
    "\n",
    "dataall['Polarity'] = dataall['Text'].apply(lambda x: TextBlob(x).sentiment.polarity)\n",
    "dataall['Polarity2'] = dataall['Text2'].apply(lambda x: TextBlob(x).sentiment.polarity)\n",
    "print(np.sum(dataall['Polarity'] != dataall['Polarity2']))"
   ]
  },
  {
   "cell_type": "code",
   "execution_count": 170,
   "metadata": {},
   "outputs": [
    {
     "data": {
      "text/plain": [
       "0.015539398382924991"
      ]
     },
     "execution_count": 170,
     "metadata": {},
     "output_type": "execute_result"
    }
   ],
   "source": [
    "1526/len(dataall)"
   ]
  },
  {
   "cell_type": "markdown",
   "metadata": {},
   "source": [
    "Number of tweets that change polarity by two different text processing constitue a small number of all data (less than 2%). Because the two texeprocessing methods used yield similar results in polarity, textprocessing will be used."
   ]
  },
  {
   "cell_type": "code",
   "execution_count": 171,
   "metadata": {},
   "outputs": [
    {
     "data": {
      "text/html": [
       "<div>\n",
       "<style scoped>\n",
       "    .dataframe tbody tr th:only-of-type {\n",
       "        vertical-align: middle;\n",
       "    }\n",
       "\n",
       "    .dataframe tbody tr th {\n",
       "        vertical-align: top;\n",
       "    }\n",
       "\n",
       "    .dataframe thead th {\n",
       "        text-align: right;\n",
       "    }\n",
       "</style>\n",
       "<table border=\"1\" class=\"dataframe\">\n",
       "  <thead>\n",
       "    <tr style=\"text-align: right;\">\n",
       "      <th></th>\n",
       "      <th>Text</th>\n",
       "      <th>username</th>\n",
       "      <th>Party</th>\n",
       "      <th>Year</th>\n",
       "      <th>Text2</th>\n",
       "      <th>Polarity</th>\n",
       "      <th>Polarity2</th>\n",
       "    </tr>\n",
       "  </thead>\n",
       "  <tbody>\n",
       "    <tr>\n",
       "      <th>16496</th>\n",
       "      <td>thank awesom teacher give class best</td>\n",
       "      <td>CoryBooker</td>\n",
       "      <td>D</td>\n",
       "      <td>2016</td>\n",
       "      <td>thank awesom teacher give class best</td>\n",
       "      <td>1.0</td>\n",
       "      <td>1.0</td>\n",
       "    </tr>\n",
       "    <tr>\n",
       "      <th>90455</th>\n",
       "      <td>democrat best finest</td>\n",
       "      <td>realDonaldTrump</td>\n",
       "      <td>R</td>\n",
       "      <td>2020</td>\n",
       "      <td>democrat best finest</td>\n",
       "      <td>1.0</td>\n",
       "      <td>1.0</td>\n",
       "    </tr>\n",
       "    <tr>\n",
       "      <th>25216</th>\n",
       "      <td>wish best amp virginian compet rio openingcere...</td>\n",
       "      <td>MarkWarner</td>\n",
       "      <td>D</td>\n",
       "      <td>2016</td>\n",
       "      <td>wish best amp virginian compet rio openingcere...</td>\n",
       "      <td>1.0</td>\n",
       "      <td>1.0</td>\n",
       "    </tr>\n",
       "    <tr>\n",
       "      <th>20128</th>\n",
       "      <td>best luck oregonian compet rio roadtorio orego...</td>\n",
       "      <td>SenJeffMerkley</td>\n",
       "      <td>D</td>\n",
       "      <td>2016</td>\n",
       "      <td>best luck oregonian compet rio roadtorio orego...</td>\n",
       "      <td>1.0</td>\n",
       "      <td>1.0</td>\n",
       "    </tr>\n",
       "    <tr>\n",
       "      <th>95974</th>\n",
       "      <td>pray son south bend tonight wish best famili t...</td>\n",
       "      <td>PeteButtigieg</td>\n",
       "      <td>D</td>\n",
       "      <td>2020</td>\n",
       "      <td>pray son south bend tonight wish best famili t...</td>\n",
       "      <td>1.0</td>\n",
       "      <td>1.0</td>\n",
       "    </tr>\n",
       "    <tr>\n",
       "      <th>57967</th>\n",
       "      <td>get coronaviru relat text friend friend best t...</td>\n",
       "      <td>JohnCornyn</td>\n",
       "      <td>R</td>\n",
       "      <td>2020</td>\n",
       "      <td>get coronaviru relat text friend friend best t...</td>\n",
       "      <td>1.0</td>\n",
       "      <td>1.0</td>\n",
       "    </tr>\n",
       "    <tr>\n",
       "      <th>95960</th>\n",
       "      <td>plan provid medicar want everyon access health...</td>\n",
       "      <td>PeteButtigieg</td>\n",
       "      <td>D</td>\n",
       "      <td>2020</td>\n",
       "      <td>plan provid medicar want everyon access health...</td>\n",
       "      <td>1.0</td>\n",
       "      <td>1.0</td>\n",
       "    </tr>\n",
       "    <tr>\n",
       "      <th>20234</th>\n",
       "      <td>two lifesav organ team end breastcanc perfect ...</td>\n",
       "      <td>JerryMoran</td>\n",
       "      <td>R</td>\n",
       "      <td>2016</td>\n",
       "      <td>two lifesav organ team end breastcanc perfect ...</td>\n",
       "      <td>1.0</td>\n",
       "      <td>1.0</td>\n",
       "    </tr>\n",
       "    <tr>\n",
       "      <th>10659</th>\n",
       "      <td>continu work colleagu pa best bill possibl str...</td>\n",
       "      <td>RoyBlunt</td>\n",
       "      <td>R</td>\n",
       "      <td>2012</td>\n",
       "      <td>continu work colleagu pa best bill possibl str...</td>\n",
       "      <td>1.0</td>\n",
       "      <td>1.0</td>\n",
       "    </tr>\n",
       "    <tr>\n",
       "      <th>35647</th>\n",
       "      <td>freshcoast best coast doorcounti madeinwi bays...</td>\n",
       "      <td>SenatorBaldwin</td>\n",
       "      <td>D</td>\n",
       "      <td>2016</td>\n",
       "      <td>freshcoast best coast doorcounti madeinwi bays...</td>\n",
       "      <td>1.0</td>\n",
       "      <td>1.0</td>\n",
       "    </tr>\n",
       "  </tbody>\n",
       "</table>\n",
       "</div>"
      ],
      "text/plain": [
       "                                                    Text         username  \\\n",
       "16496               thank awesom teacher give class best       CoryBooker   \n",
       "90455                               democrat best finest  realDonaldTrump   \n",
       "25216  wish best amp virginian compet rio openingcere...       MarkWarner   \n",
       "20128  best luck oregonian compet rio roadtorio orego...   SenJeffMerkley   \n",
       "95974  pray son south bend tonight wish best famili t...    PeteButtigieg   \n",
       "57967  get coronaviru relat text friend friend best t...       JohnCornyn   \n",
       "95960  plan provid medicar want everyon access health...    PeteButtigieg   \n",
       "20234  two lifesav organ team end breastcanc perfect ...       JerryMoran   \n",
       "10659  continu work colleagu pa best bill possibl str...         RoyBlunt   \n",
       "35647  freshcoast best coast doorcounti madeinwi bays...   SenatorBaldwin   \n",
       "\n",
       "      Party  Year                                              Text2  \\\n",
       "16496     D  2016               thank awesom teacher give class best   \n",
       "90455     R  2020                               democrat best finest   \n",
       "25216     D  2016  wish best amp virginian compet rio openingcere...   \n",
       "20128     D  2016  best luck oregonian compet rio roadtorio orego...   \n",
       "95974     D  2020  pray son south bend tonight wish best famili t...   \n",
       "57967     R  2020  get coronaviru relat text friend friend best t...   \n",
       "95960     D  2020  plan provid medicar want everyon access health...   \n",
       "20234     R  2016  two lifesav organ team end breastcanc perfect ...   \n",
       "10659     R  2012  continu work colleagu pa best bill possibl str...   \n",
       "35647     D  2016  freshcoast best coast doorcounti madeinwi bays...   \n",
       "\n",
       "       Polarity  Polarity2  \n",
       "16496       1.0        1.0  \n",
       "90455       1.0        1.0  \n",
       "25216       1.0        1.0  \n",
       "20128       1.0        1.0  \n",
       "95974       1.0        1.0  \n",
       "57967       1.0        1.0  \n",
       "95960       1.0        1.0  \n",
       "20234       1.0        1.0  \n",
       "10659       1.0        1.0  \n",
       "35647       1.0        1.0  "
      ]
     },
     "execution_count": 171,
     "metadata": {},
     "output_type": "execute_result"
    }
   ],
   "source": [
    "# Display the top 10 tweet with highest polarity by first textprocessing method\n",
    "dataall.sort_values(by = 'Polarity', ascending = False).head(10)"
   ]
  },
  {
   "cell_type": "code",
   "execution_count": 172,
   "metadata": {},
   "outputs": [
    {
     "data": {
      "text/html": [
       "<div>\n",
       "<style scoped>\n",
       "    .dataframe tbody tr th:only-of-type {\n",
       "        vertical-align: middle;\n",
       "    }\n",
       "\n",
       "    .dataframe tbody tr th {\n",
       "        vertical-align: top;\n",
       "    }\n",
       "\n",
       "    .dataframe thead th {\n",
       "        text-align: right;\n",
       "    }\n",
       "</style>\n",
       "<table border=\"1\" class=\"dataframe\">\n",
       "  <thead>\n",
       "    <tr style=\"text-align: right;\">\n",
       "      <th></th>\n",
       "      <th>Text</th>\n",
       "      <th>username</th>\n",
       "      <th>Party</th>\n",
       "      <th>Year</th>\n",
       "      <th>Text2</th>\n",
       "      <th>Polarity</th>\n",
       "      <th>Polarity2</th>\n",
       "    </tr>\n",
       "  </thead>\n",
       "  <tbody>\n",
       "    <tr>\n",
       "      <th>667</th>\n",
       "      <td>histori record citizensunit decis one worst hi...</td>\n",
       "      <td>SenSanders</td>\n",
       "      <td>D</td>\n",
       "      <td>2012</td>\n",
       "      <td>histori record citizensunit deci one worst his...</td>\n",
       "      <td>-1.0</td>\n",
       "      <td>-1.0</td>\n",
       "    </tr>\n",
       "    <tr>\n",
       "      <th>75393</th>\n",
       "      <td>lead urg presid automat extend work author dac...</td>\n",
       "      <td>SenatorDurbin</td>\n",
       "      <td>D</td>\n",
       "      <td>2020</td>\n",
       "      <td>lead urg presid automat extend work author dac...</td>\n",
       "      <td>-1.0</td>\n",
       "      <td>-1.0</td>\n",
       "    </tr>\n",
       "    <tr>\n",
       "      <th>69393</th>\n",
       "      <td>trump administr remaininmexico polici affect t...</td>\n",
       "      <td>MartinHeinrich</td>\n",
       "      <td>D</td>\n",
       "      <td>2020</td>\n",
       "      <td>trump administr remaininmexico polici affect t...</td>\n",
       "      <td>-1.0</td>\n",
       "      <td>-1.0</td>\n",
       "    </tr>\n",
       "    <tr>\n",
       "      <th>57728</th>\n",
       "      <td>russia saudi arabia retreat u oil industri avo...</td>\n",
       "      <td>JohnCornyn</td>\n",
       "      <td>R</td>\n",
       "      <td>2020</td>\n",
       "      <td>russia saudi arabia retreat u oil industri avo...</td>\n",
       "      <td>-1.0</td>\n",
       "      <td>-1.0</td>\n",
       "    </tr>\n",
       "    <tr>\n",
       "      <th>57864</th>\n",
       "      <td>worst case coronaviru scienc via</td>\n",
       "      <td>JohnCornyn</td>\n",
       "      <td>R</td>\n",
       "      <td>2020</td>\n",
       "      <td>worst case coronaviru scienc via</td>\n",
       "      <td>-1.0</td>\n",
       "      <td>-1.0</td>\n",
       "    </tr>\n",
       "    <tr>\n",
       "      <th>52509</th>\n",
       "      <td>nation guardsman mi put risk crisi forc mi gua...</td>\n",
       "      <td>SenGaryPeters</td>\n",
       "      <td>D</td>\n",
       "      <td>2020</td>\n",
       "      <td>nation guardsman mi put risk crisi forc mi gua...</td>\n",
       "      <td>-1.0</td>\n",
       "      <td>-1.0</td>\n",
       "    </tr>\n",
       "    <tr>\n",
       "      <th>70232</th>\n",
       "      <td>cruel tactic creat chill environ immigr parent...</td>\n",
       "      <td>SenatorBennet</td>\n",
       "      <td>D</td>\n",
       "      <td>2020</td>\n",
       "      <td>cruel tactic creat chill environ immigr parent...</td>\n",
       "      <td>-1.0</td>\n",
       "      <td>-1.0</td>\n",
       "    </tr>\n",
       "    <tr>\n",
       "      <th>70272</th>\n",
       "      <td>yet anoth cruel deliber move trump administr i...</td>\n",
       "      <td>SenatorBennet</td>\n",
       "      <td>D</td>\n",
       "      <td>2020</td>\n",
       "      <td>yet anoth cruel delib move trump administr int...</td>\n",
       "      <td>-1.0</td>\n",
       "      <td>-1.0</td>\n",
       "    </tr>\n",
       "    <tr>\n",
       "      <th>52316</th>\n",
       "      <td>call rubber stamp absolut worst profit colleg ...</td>\n",
       "      <td>SenWarren</td>\n",
       "      <td>D</td>\n",
       "      <td>2020</td>\n",
       "      <td>call rubber stamp absolut worst profit colleg ...</td>\n",
       "      <td>-1.0</td>\n",
       "      <td>-1.0</td>\n",
       "    </tr>\n",
       "    <tr>\n",
       "      <th>90779</th>\n",
       "      <td>sleepi joe biden victori south carolina democr...</td>\n",
       "      <td>realDonaldTrump</td>\n",
       "      <td>R</td>\n",
       "      <td>2020</td>\n",
       "      <td>sleepi joe biden victori south carolina democr...</td>\n",
       "      <td>-1.0</td>\n",
       "      <td>-1.0</td>\n",
       "    </tr>\n",
       "  </tbody>\n",
       "</table>\n",
       "</div>"
      ],
      "text/plain": [
       "                                                    Text         username  \\\n",
       "667    histori record citizensunit decis one worst hi...       SenSanders   \n",
       "75393  lead urg presid automat extend work author dac...    SenatorDurbin   \n",
       "69393  trump administr remaininmexico polici affect t...   MartinHeinrich   \n",
       "57728  russia saudi arabia retreat u oil industri avo...       JohnCornyn   \n",
       "57864                   worst case coronaviru scienc via       JohnCornyn   \n",
       "52509  nation guardsman mi put risk crisi forc mi gua...    SenGaryPeters   \n",
       "70232  cruel tactic creat chill environ immigr parent...    SenatorBennet   \n",
       "70272  yet anoth cruel deliber move trump administr i...    SenatorBennet   \n",
       "52316  call rubber stamp absolut worst profit colleg ...        SenWarren   \n",
       "90779  sleepi joe biden victori south carolina democr...  realDonaldTrump   \n",
       "\n",
       "      Party  Year                                              Text2  \\\n",
       "667       D  2012  histori record citizensunit deci one worst his...   \n",
       "75393     D  2020  lead urg presid automat extend work author dac...   \n",
       "69393     D  2020  trump administr remaininmexico polici affect t...   \n",
       "57728     R  2020  russia saudi arabia retreat u oil industri avo...   \n",
       "57864     R  2020                   worst case coronaviru scienc via   \n",
       "52509     D  2020  nation guardsman mi put risk crisi forc mi gua...   \n",
       "70232     D  2020  cruel tactic creat chill environ immigr parent...   \n",
       "70272     D  2020  yet anoth cruel delib move trump administr int...   \n",
       "52316     D  2020  call rubber stamp absolut worst profit colleg ...   \n",
       "90779     R  2020  sleepi joe biden victori south carolina democr...   \n",
       "\n",
       "       Polarity  Polarity2  \n",
       "667        -1.0       -1.0  \n",
       "75393      -1.0       -1.0  \n",
       "69393      -1.0       -1.0  \n",
       "57728      -1.0       -1.0  \n",
       "57864      -1.0       -1.0  \n",
       "52509      -1.0       -1.0  \n",
       "70232      -1.0       -1.0  \n",
       "70272      -1.0       -1.0  \n",
       "52316      -1.0       -1.0  \n",
       "90779      -1.0       -1.0  "
      ]
     },
     "execution_count": 172,
     "metadata": {},
     "output_type": "execute_result"
    }
   ],
   "source": [
    "# Display the top 10 tweet with lowest polarity by first textprocessing method\n",
    "dataall.sort_values(by = 'Polarity').head(10)"
   ]
  },
  {
   "cell_type": "code",
   "execution_count": 173,
   "metadata": {},
   "outputs": [
    {
     "data": {
      "image/png": "[encoded data removed]",
      "text/plain": [
       "<Figure size 576x432 with 1 Axes>"
      ]
     },
     "metadata": {
      "needs_background": "light"
     },
     "output_type": "display_data"
    }
   ],
   "source": [
    "# Plot polarity distribution on the graph\n",
    "plt.figure(figsize = (8, 6))\n",
    "plt.hist(dataall['Polarity'], bins = 100, color = 'k', label = 'Remove Emoji')\n",
    "plt.title('Distribution of Speech Polarity', fontsize = 20)\n",
    "plt.xlabel('Polarity', fontsize = 10)\n",
    "plt.ylabel('Frequency', fontsize = 10)\n",
    "plt.legend(loc='upper left')\n",
    "plt.show()"
   ]
  },
  {
   "cell_type": "code",
   "execution_count": 174,
   "metadata": {},
   "outputs": [
    {
     "name": "stdout",
     "output_type": "stream",
     "text": [
      "Number of neutral polarity tweets\n",
      "41952\n",
      "Percentage of neutral polarity tweets\n",
      "0.42720107533451457\n"
     ]
    }
   ],
   "source": [
    "print('Number of neutral polarity tweets')\n",
    "print(np.sum(dataall['Polarity'] == 0))\n",
    "\n",
    "print('Percentage of neutral polarity tweets')\n",
    "print(np.sum(dataall['Polarity'] == 0)/len(dataall))"
   ]
  },
  {
   "cell_type": "markdown",
   "metadata": {},
   "source": [
    "There are exceptionally large data (43%) that has neutral polarity"
   ]
  },
  {
   "cell_type": "code",
   "execution_count": 175,
   "metadata": {},
   "outputs": [
    {
     "name": "stdout",
     "output_type": "stream",
     "text": [
      "Polarity Average by each year of data\n",
      "Year\n",
      "2012    0.124717\n",
      "2016    0.120693\n",
      "2020    0.105518\n",
      "Name: Polarity, dtype: float64\n",
      "\n",
      "\n",
      "Polarity Average (exclude neutral tweets) by each year of data\n",
      "Year\n",
      "2012    0.257667\n",
      "2016    0.258738\n",
      "2020    0.162184\n",
      "Name: Polarity, dtype: float64\n"
     ]
    }
   ],
   "source": [
    "print('Polarity Average by each year of data')\n",
    "print(dataall.groupby(['Year']).mean()['Polarity'])\n",
    "print('\\n')\n",
    "\n",
    "print('Polarity Average (exclude neutral tweets) by each year of data')\n",
    "print(dataall[dataall['Polarity'] !=0].groupby(['Year']).mean()['Polarity'])"
   ]
  },
  {
   "cell_type": "code",
   "execution_count": 176,
   "metadata": {},
   "outputs": [
    {
     "data": {
      "image/png": "[encoded data removed]",
      "text/plain": [
       "<Figure size 1440x432 with 3 Axes>"
      ]
     },
     "metadata": {
      "needs_background": "light"
     },
     "output_type": "display_data"
    }
   ],
   "source": [
    "# Plot polarity distribution by each election year\n",
    "\n",
    "fig, (ax1, ax2, ax3) = plt.subplots(1, 3, figsize=(20, 6))\n",
    "fig.suptitle('Distribution of Speech Polarity by Year', fontsize = 30)\n",
    "\n",
    "ax1.hist(dataall[dataall['Year'] == 2012]['Polarity'], bins = 100, color = 'k')\n",
    "ax1.set_title('2012')\n",
    "ax1.set(xlabel='Polarity', ylabel='Count')\n",
    "\n",
    "\n",
    "ax2.hist(dataall[dataall['Year'] == 2016]['Polarity'], bins = 100, color = 'k')\n",
    "ax2.set_title('2016')\n",
    "ax2.set(xlabel='Polarity', ylabel='Count')\n",
    "\n",
    "\n",
    "ax3.hist(dataall[dataall['Year'] == 2020]['Polarity'], bins = 100, color = 'k')\n",
    "ax3.set_title('2020')\n",
    "ax3.set(xlabel='Polarity', ylabel='Count')\n",
    "\n",
    "plt.show()"
   ]
  },
  {
   "cell_type": "code",
   "execution_count": 177,
   "metadata": {},
   "outputs": [
    {
     "data": {
      "image/png": "[encoded data removed]",
      "text/plain": [
       "<Figure size 1440x432 with 3 Axes>"
      ]
     },
     "metadata": {
      "needs_background": "light"
     },
     "output_type": "display_data"
    }
   ],
   "source": [
    "# Plot polarity distribution (exclude neutral tweets) by each election year\n",
    "\n",
    "fig, (ax1, ax2, ax3) = plt.subplots(1, 3, figsize=(20, 6))\n",
    "fig.suptitle('Distribution of Speech Polarity by each Year (neutral tweets excluded)', fontsize = 20)\n",
    "\n",
    "ax1.hist(dataall[(dataall['Year'] == 2012) & (dataall['Polarity'] != 0)]['Polarity'], \n",
    "         bins = 100, color = 'k')\n",
    "ax1.set_title('2012')\n",
    "ax1.set(xlabel='Polarity', ylabel='Count')\n",
    "\n",
    "ax2.hist(dataall[(dataall['Year'] == 2016) & (dataall['Polarity'] != 0)]['Polarity'], \n",
    "         bins = 100, color = 'k')\n",
    "ax2.set_title('2016')\n",
    "ax2.set(xlabel='Polarity', ylabel='Count')\n",
    "\n",
    "ax3.hist(dataall[(dataall['Year'] == 2020) & (dataall['Polarity'] != 0)]['Polarity'], \n",
    "         bins = 100, color = 'k')\n",
    "ax3.set_title('2020')\n",
    "ax3.set(xlabel='Polarity', ylabel='Count')\n",
    "\n",
    "plt.show()"
   ]
  },
  {
   "cell_type": "code",
   "execution_count": 178,
   "metadata": {},
   "outputs": [
    {
     "data": {
      "image/png": "[encoded data removed]",
      "text/plain": [
       "<Figure size 1440x432 with 3 Axes>"
      ]
     },
     "metadata": {
      "needs_background": "light"
     },
     "output_type": "display_data"
    }
   ],
   "source": [
    "# Plot polarity distribution by different party by each election year\n",
    "\n",
    "fig, (ax1, ax2, ax3) = plt.subplots(1,3, figsize=(20, 6))\n",
    "fig.suptitle('Distribution of Speech Polarity by Year', fontsize = 20)\n",
    "\n",
    "ax1.hist([dataall[(dataall['Year'] == 2012) & (dataall['Party']=='D')]['Polarity'],\n",
    "          dataall[(dataall['Year'] == 2012)& (dataall['Party']=='R')]['Polarity']],\n",
    "         bins = 20, color = ['b', 'r'], label = ['Democratic','Republican'])\n",
    "ax1.set_title('2012')\n",
    "ax1.set(xlabel='Polarity', ylabel='Count')\n",
    "ax1.legend(loc='upper left')\n",
    "\n",
    "ax2.hist([dataall[(dataall['Year'] == 2016) & (dataall['Party']=='D')]['Polarity'],\n",
    "          dataall[(dataall['Year'] == 2016)& (dataall['Party']=='R')]['Polarity']], \n",
    "         bins = 20, color = ['b', 'r'], label = ['Democratic','Republican'])\n",
    "ax2.set_title('2016')\n",
    "ax2.set(xlabel='Polarity', ylabel='Count')\n",
    "ax2.legend(loc='upper left')\n",
    "\n",
    "ax3.hist([dataall[(dataall['Year'] == 2020) & (dataall['Party']=='D')]['Polarity'],\n",
    "          dataall[(dataall['Year'] == 2020)& (dataall['Party']=='R')]['Polarity']], \n",
    "         bins = 20, color = ['b', 'r'], label = ['Democratic','Republican'])\n",
    "ax3.set_title('2020')\n",
    "ax3.set(xlabel='Polarity', ylabel='Count')\n",
    "ax3.legend(loc='upper left')\n",
    "\n",
    "plt.show()"
   ]
  },
  {
   "cell_type": "markdown",
   "metadata": {},
   "source": [
    "# Tokenization"
   ]
  },
  {
   "cell_type": "code",
   "execution_count": 179,
   "metadata": {},
   "outputs": [],
   "source": [
    "# Separate text out in the dataframe\n",
    "data_text = dataall['Text']\n",
    "\n",
    "# Set the index for each year\n",
    "ind2012 = dataall[dataall['Year'] == 2012].index.values\n",
    "ind2016 = dataall[dataall['Year'] == 2016].index.values\n",
    "ind2020 = dataall[dataall['Year'] == 2020].index.values"
   ]
  },
  {
   "cell_type": "code",
   "execution_count": 180,
   "metadata": {},
   "outputs": [],
   "source": [
    "# Import tokenization libraries and packages\n",
    "from sklearn.feature_extraction.text import CountVectorizer\n",
    "from sklearn.feature_extraction.text import TfidfVectorizer\n",
    "from sklearn.feature_extraction.text import TfidfTransformer"
   ]
  },
  {
   "cell_type": "code",
   "execution_count": 181,
   "metadata": {},
   "outputs": [],
   "source": [
    "# Create a function that yield the number of words from count vectorizer\n",
    "def vectorized_matrix_size(data, ngram = (1,1), mindf = 1, maxdf = 1.0):\n",
    "    vec = CountVectorizer(ngram_range = ngram, min_df = mindf , max_df = maxdf).fit(data)\n",
    "    return(len(vec.get_feature_names()))"
   ]
  },
  {
   "cell_type": "code",
   "execution_count": 182,
   "metadata": {
    "scrolled": true
   },
   "outputs": [
    {
     "data": {
      "text/html": [
       "<div>\n",
       "<style scoped>\n",
       "    .dataframe tbody tr th:only-of-type {\n",
       "        vertical-align: middle;\n",
       "    }\n",
       "\n",
       "    .dataframe tbody tr th {\n",
       "        vertical-align: top;\n",
       "    }\n",
       "\n",
       "    .dataframe thead th {\n",
       "        text-align: right;\n",
       "    }\n",
       "</style>\n",
       "<table border=\"1\" class=\"dataframe\">\n",
       "  <thead>\n",
       "    <tr style=\"text-align: right;\">\n",
       "      <th></th>\n",
       "      <th>min_df = 1</th>\n",
       "      <th>min_df = 2</th>\n",
       "      <th>min_df = 3</th>\n",
       "      <th>min_df = 4</th>\n",
       "      <th>min_df = 5</th>\n",
       "      <th>min_df = 6</th>\n",
       "      <th>min_df = 7</th>\n",
       "      <th>min_df = 8</th>\n",
       "      <th>min_df = 9</th>\n",
       "      <th>min_df = 10</th>\n",
       "    </tr>\n",
       "  </thead>\n",
       "  <tbody>\n",
       "    <tr>\n",
       "      <th>unigram</th>\n",
       "      <td>34749</td>\n",
       "      <td>18684</td>\n",
       "      <td>14279</td>\n",
       "      <td>11969</td>\n",
       "      <td>10541</td>\n",
       "      <td>9465</td>\n",
       "      <td>8722</td>\n",
       "      <td>8149</td>\n",
       "      <td>7634</td>\n",
       "      <td>7207</td>\n",
       "    </tr>\n",
       "    <tr>\n",
       "      <th>bigram</th>\n",
       "      <td>600109</td>\n",
       "      <td>157005</td>\n",
       "      <td>82369</td>\n",
       "      <td>53774</td>\n",
       "      <td>39095</td>\n",
       "      <td>30175</td>\n",
       "      <td>24363</td>\n",
       "      <td>20254</td>\n",
       "      <td>17162</td>\n",
       "      <td>14857</td>\n",
       "    </tr>\n",
       "    <tr>\n",
       "      <th>unigram+bigram</th>\n",
       "      <td>634858</td>\n",
       "      <td>175689</td>\n",
       "      <td>96648</td>\n",
       "      <td>65743</td>\n",
       "      <td>49636</td>\n",
       "      <td>39640</td>\n",
       "      <td>33085</td>\n",
       "      <td>28403</td>\n",
       "      <td>24796</td>\n",
       "      <td>22064</td>\n",
       "    </tr>\n",
       "  </tbody>\n",
       "</table>\n",
       "</div>"
      ],
      "text/plain": [
       "                min_df = 1  min_df = 2  min_df = 3  min_df = 4  min_df = 5  \\\n",
       "unigram              34749       18684       14279       11969       10541   \n",
       "bigram              600109      157005       82369       53774       39095   \n",
       "unigram+bigram      634858      175689       96648       65743       49636   \n",
       "\n",
       "                min_df = 6  min_df = 7  min_df = 8  min_df = 9  min_df = 10  \n",
       "unigram               9465        8722        8149        7634         7207  \n",
       "bigram               30175       24363       20254       17162        14857  \n",
       "unigram+bigram       39640       33085       28403       24796        22064  "
      ]
     },
     "execution_count": 182,
     "metadata": {},
     "output_type": "execute_result"
    }
   ],
   "source": [
    "mtx = [vectorized_matrix_size(data_text, n, m) for n in [(1,1),(2,2),(1,2)] for m in (range(1,11))]\n",
    "ngram_df = pd.DataFrame(np.array(mtx).reshape(3,10), \n",
    "                        columns = ['min_df = ' + str(i) for i in range(1,11)],\n",
    "                        index = ['unigram', 'bigram', 'unigram+bigram'])\n",
    "ngram_df"
   ]
  },
  {
   "cell_type": "code",
   "execution_count": 183,
   "metadata": {
    "colab": {},
    "colab_type": "code",
    "id": "faVe1wkWNSAd"
   },
   "outputs": [
    {
     "name": "stdout",
     "output_type": "stream",
     "text": [
      "(98202, 7207)\n"
     ]
    }
   ],
   "source": [
    "# Tokenize and set the minimum of word frequency to appear in at least 10 tweets\n",
    "vec = CountVectorizer(min_df = 10)\n",
    "vec.fit(data_text)\n",
    "vec_counts = vec.transform(data_text)\n",
    "\n",
    "# Use matrix form for computational efficiency\n",
    "vec_mx = vec_counts.toarray()\n",
    "\n",
    "# Create a vectorized and transformed training dataframe\n",
    "vec_df = pd.DataFrame(vec_mx, columns = vec.get_feature_names())\n",
    "print(vec_df.shape)"
   ]
  },
  {
   "cell_type": "code",
   "execution_count": 184,
   "metadata": {},
   "outputs": [
    {
     "data": {
      "text/plain": [
       "array(['amp', 'need', 'help', 'work', 'today', 'american', 'senat',\n",
       "       'thank', 'health', 'covid', 'trump', 'presid', 'state', 'get',\n",
       "       'make', 'peopl', 'time', 'famili', 'support', 'coronaviru', 'care',\n",
       "       'protect', 'great', 'must', 'nation', 'commun', 'new', 'act',\n",
       "       'busi', 'day'], dtype=object)"
      ]
     },
     "execution_count": 184,
     "metadata": {},
     "output_type": "execute_result"
    }
   ],
   "source": [
    "# Display top 30 frequent word tweeted across three election year\n",
    "np.sum(vec_df, axis = 0).sort_values(ascending=False).head(30).index.values"
   ]
  },
  {
   "cell_type": "markdown",
   "metadata": {},
   "source": [
    "The top frequently used words in the training data by appearance. The stemmed word is counted by the number of times it appears in the training data as opposed to sum of binary response which disregard the number of occurence in each tweet (if it appears in the document then the count is 1 regardless of how many occurence). "
   ]
  },
  {
   "cell_type": "code",
   "execution_count": 185,
   "metadata": {},
   "outputs": [
    {
     "data": {
      "text/plain": [
       "array(['amp', 'today', 'obama', 'job', 'senat', 'presid', 'great',\n",
       "       'thank', 'help', 'sen', 'need', 'work', 'tax', 'day', 'new',\n",
       "       'american', 'vote', 'get', 'bill', 'join', 'make', 'year',\n",
       "       'support', 'go', 'rt', 'famili', 'nation', 'would', 'good', 'must'],\n",
       "      dtype=object)"
      ]
     },
     "execution_count": 185,
     "metadata": {},
     "output_type": "execute_result"
    }
   ],
   "source": [
    "# Display top 30 frequent word tweeted in 2012\n",
    "np.sum(vec_df.iloc[ind2012], axis = 0).sort_values(ascending=False).head(30).index.values"
   ]
  },
  {
   "cell_type": "code",
   "execution_count": 186,
   "metadata": {},
   "outputs": [
    {
     "data": {
      "text/plain": [
       "array(['amp', 'today', 'thank', 'help', 'great', 'work', 'famili', 'join',\n",
       "       'hillari', 'american', 'need', 'make', 'new', 'trump', 'senat',\n",
       "       'day', 'year', 'peopl', 'state', 'time', 'must', 'nation', 'bill',\n",
       "       'support', 'proud', 'get', 'commun', 'honor', 'see', 'offic'],\n",
       "      dtype=object)"
      ]
     },
     "execution_count": 186,
     "metadata": {},
     "output_type": "execute_result"
    }
   ],
   "source": [
    "# Display top 30 frequent word tweeted in 2016\n",
    "np.sum(vec_df.iloc[ind2016], axis = 0).sort_values(ascending=False).head(30).index.values"
   ]
  },
  {
   "cell_type": "code",
   "execution_count": 187,
   "metadata": {},
   "outputs": [
    {
     "data": {
      "text/plain": [
       "array(['need', 'amp', 'work', 'help', 'american', 'covid', 'health',\n",
       "       'coronaviru', 'today', 'trump', 'senat', 'care', 'state', 'get',\n",
       "       'presid', 'peopl', 'protect', 'thank', 'time', 'support', 'make',\n",
       "       'famili', 'busi', 'commun', 'must', 'nation', 'worker', 'act',\n",
       "       'provid', 'continu'], dtype=object)"
      ]
     },
     "execution_count": 187,
     "metadata": {},
     "output_type": "execute_result"
    }
   ],
   "source": [
    "# Display top 30 frequent word tweeted in 2020\n",
    "np.sum(vec_df.iloc[ind2020], axis = 0).sort_values(ascending=False).head(30).index.values"
   ]
  },
  {
   "cell_type": "markdown",
   "metadata": {},
   "source": [
    "## Bigram Tokenization & Analysis"
   ]
  },
  {
   "cell_type": "code",
   "execution_count": 188,
   "metadata": {},
   "outputs": [
    {
     "name": "stdout",
     "output_type": "stream",
     "text": [
      "(98202, 14857)\n"
     ]
    }
   ],
   "source": [
    "# Tokenize and set the minimum of word frequency to appear in at least 10 tweets\n",
    "vec_bigram = CountVectorizer(ngram_range = (2,2) , min_df = 10)\n",
    "vec_counts_bigram = vec_bigram.fit_transform(data_text)\n",
    "\n",
    "# Use matrix form for computational efficiency\n",
    "vec_mx_bigram = vec_counts_bigram.toarray()\n",
    "\n",
    "# Create a vectorized and transformed training dataframe\n",
    "vecdf_bigram = pd.DataFrame(vec_mx_bigram, columns = vec_bigram.get_feature_names())\n",
    "print(vecdf_bigram.shape)"
   ]
  },
  {
   "cell_type": "code",
   "execution_count": 189,
   "metadata": {},
   "outputs": [
    {
     "data": {
      "text/plain": [
       "array(['health care', 'small busi', 'presid trump', 'make sure',\n",
       "       'public health', 'donald trump', 'american peopl', 'look forward',\n",
       "       'care act', 'across countri', 'unit state', 'trump administr',\n",
       "       'presid obama', 'everi day', 'last night', 'coronaviru pandem',\n",
       "       'covid pandem', 'front line', 'white hous', 'town hall',\n",
       "       'work togeth', 'year ago', 'happi birthday', 'senat floor',\n",
       "       'continu work', 'law enforc', 'last week', 'love one', 'men woman',\n",
       "       'nation secur'], dtype=object)"
      ]
     },
     "execution_count": 189,
     "metadata": {},
     "output_type": "execute_result"
    }
   ],
   "source": [
    "# Calculate top 30 frequent bi-gram word tweeted\n",
    "np.sum(vecdf_bigram, axis = 0).sort_values(ascending=False).head(30).index.values"
   ]
  },
  {
   "cell_type": "code",
   "execution_count": 190,
   "metadata": {},
   "outputs": [
    {
     "data": {
      "text/plain": [
       "array(['presid obama', 'sen sander', 'look forward', 'small busi',\n",
       "       'berni sander', 'sen berni', 'last night', 'senat floor',\n",
       "       'middl class', 'must read', 'today news', 'watch live', 'news sen',\n",
       "       'sander vt', 'vt vermont', 'health care', 'good luck', 'creat job',\n",
       "       'op ed', 'senat inouy', 'town hall', 'pre obama', 'would like',\n",
       "       'disclos act', 'vermont vt', 'thought prayer', 'discu issu',\n",
       "       'feel free', 'mitt romney', 'staff thank'], dtype=object)"
      ]
     },
     "execution_count": 190,
     "metadata": {},
     "output_type": "execute_result"
    }
   ],
   "source": [
    "# Calculate top 30 frequent bi-gram word tweeted in 2012\n",
    "np.sum(vecdf_bigram.iloc[ind2012], axis = 0).sort_values(ascending=False).head(30).index.values"
   ]
  },
  {
   "cell_type": "code",
   "execution_count": 191,
   "metadata": {},
   "outputs": [
    {
     "data": {
      "text/plain": [
       "array(['donald trump', 'happi birthday', 'hillari clinton', 'mobil offic',\n",
       "       'last night', 'make sure', 'law enforc', 'look forward',\n",
       "       'health care', 'op ed', 'presid obama', 'american peopl',\n",
       "       'great meet', 'unit state', 'obama admin', 'crook hillari',\n",
       "       'senat floor', 'year ago', 'watch live', 'small busi', 'hard work',\n",
       "       'everi day', 'work togeth', 'last week', 'hurrican matthew',\n",
       "       'great see', 'happi th', 'good luck', 'men woman', 'climat chang'],\n",
       "      dtype=object)"
      ]
     },
     "execution_count": 191,
     "metadata": {},
     "output_type": "execute_result"
    }
   ],
   "source": [
    "# Calculate top 30 frequent bi-gram word tweeted in 2016\n",
    "np.sum(vecdf_bigram.iloc[ind2016], axis = 0).sort_values(ascending=False).head(30).index.values"
   ]
  },
  {
   "cell_type": "code",
   "execution_count": 192,
   "metadata": {},
   "outputs": [
    {
     "data": {
      "text/plain": [
       "array(['health care', 'small busi', 'presid trump', 'public health',\n",
       "       'make sure', 'american peopl', 'care act', 'across countri',\n",
       "       'donald trump', 'trump administr', 'look forward',\n",
       "       'coronaviru pandem', 'covid pandem', 'front line', 'unit state',\n",
       "       'everi day', 'white hous', 'care worker', 'town hall',\n",
       "       'continu work', 'social distanc', 'relief packag', 'work togeth',\n",
       "       'health crisi', 'love one', 'state local', 'impeach trial',\n",
       "       'stay home', 'save life', 'last week'], dtype=object)"
      ]
     },
     "execution_count": 192,
     "metadata": {},
     "output_type": "execute_result"
    }
   ],
   "source": [
    "# Calculate top 30 frequent bi-gram word tweeted in 2020\n",
    "np.sum(vecdf_bigram.iloc[ind2020], axis = 0).sort_values(ascending=False).head(30).index.values"
   ]
  },
  {
   "cell_type": "markdown",
   "metadata": {},
   "source": [
    "### Subsetting entire data "
   ]
  },
  {
   "cell_type": "markdown",
   "metadata": {},
   "source": [
    "# Pre-run model evaluation code on a smaller subset of the data\n",
    "np.random.seed(123)\n",
    "subind= np.random.choice(len(train), 1000, replace = False)\n",
    "train = train_mx[subind]\n",
    "train_label = train_label.iloc[subind]"
   ]
  },
  {
   "cell_type": "markdown",
   "metadata": {},
   "source": [
    "# Model Fitting and Selection \n",
    "Choose model between: Logistic Regression, SVM, and Naive Bayes."
   ]
  },
  {
   "cell_type": "code",
   "execution_count": 193,
   "metadata": {},
   "outputs": [],
   "source": [
    "# Import model fitting libraries and packages\n",
    "\n",
    "from sklearn.model_selection import cross_val_score, train_test_split, StratifiedKFold\n",
    "from sklearn.linear_model import LogisticRegression\n",
    "#from sklearn.neighbors import KNeighborsClassifier\n",
    "from sklearn.svm import LinearSVC\n",
    "from sklearn.naive_bayes import MultinomialNB\n",
    "#from sklearn.ensemble import RandomForestClassifier\n",
    "#from sklearn.neural_network import MLPClassifier\n",
    "from sklearn import metrics\n",
    "\n",
    "# Set 5-fold cross_validation\n",
    "stratifiedcv = StratifiedKFold(n_splits = 5, shuffle = True, random_state = 123)"
   ]
  },
  {
   "cell_type": "markdown",
   "metadata": {},
   "source": [
    "## Logistic Regression"
   ]
  },
  {
   "cell_type": "code",
   "execution_count": 194,
   "metadata": {
    "scrolled": true
   },
   "outputs": [
    {
     "name": "stdout",
     "output_type": "stream",
     "text": [
      "Logistic Regression Average Accuracy 0.8072197800748176\n"
     ]
    }
   ],
   "source": [
    "# Logistic Regression\n",
    "logreg_mod = LogisticRegression(solver = 'lbfgs', max_iter = 200)\n",
    "cv_score = cross_val_score(logreg_mod, train, train_label, cv=stratifiedcv, scoring = 'accuracy')\n",
    "logreg_acc = np.mean(cv_score)\n",
    "print('Logistic Regression Average Accuracy', logreg_acc)"
   ]
  },
  {
   "cell_type": "markdown",
   "metadata": {},
   "source": [
    "## SVM"
   ]
  },
  {
   "cell_type": "code",
   "execution_count": 195,
   "metadata": {},
   "outputs": [
    {
     "name": "stdout",
     "output_type": "stream",
     "text": [
      "SVM Average Accuracy 0.7988675401616916\n"
     ]
    }
   ],
   "source": [
    "# SVM \n",
    "svm_mod = LinearSVC(random_state = 123)\n",
    "cv_score = cross_val_score(svm_mod, train, train_label, cv=stratifiedcv, scoring = 'accuracy')\n",
    "svm_acc = np.mean(cv_score)\n",
    "print('SVM Average Accuracy', svm_acc)"
   ]
  },
  {
   "cell_type": "markdown",
   "metadata": {},
   "source": [
    "## Naive Bayes "
   ]
  },
  {
   "cell_type": "code",
   "execution_count": 196,
   "metadata": {},
   "outputs": [
    {
     "name": "stdout",
     "output_type": "stream",
     "text": [
      "Naive Bayes Average Accuracy 0.8022600043034147\n"
     ]
    }
   ],
   "source": [
    "# Naive Bayes\n",
    "nb_mod = MultinomialNB()\n",
    "cv_score = cross_val_score(nb_mod, train, train_label, cv=stratifiedcv, scoring = 'accuracy')\n",
    "nb_acc = np.mean(cv_score)\n",
    "print('Naive Bayes Average Accuracy', nb_acc)"
   ]
  },
  {
   "cell_type": "markdown",
   "metadata": {},
   "source": [
    "# Model comparisons"
   ]
  },
  {
   "cell_type": "code",
   "execution_count": 197,
   "metadata": {
    "scrolled": true
   },
   "outputs": [
    {
     "data": {
      "text/html": [
       "<div>\n",
       "<style scoped>\n",
       "    .dataframe tbody tr th:only-of-type {\n",
       "        vertical-align: middle;\n",
       "    }\n",
       "\n",
       "    .dataframe tbody tr th {\n",
       "        vertical-align: top;\n",
       "    }\n",
       "\n",
       "    .dataframe thead th {\n",
       "        text-align: right;\n",
       "    }\n",
       "</style>\n",
       "<table border=\"1\" class=\"dataframe\">\n",
       "  <thead>\n",
       "    <tr style=\"text-align: right;\">\n",
       "      <th></th>\n",
       "      <th>Model Name</th>\n",
       "      <th>Accuracy</th>\n",
       "    </tr>\n",
       "  </thead>\n",
       "  <tbody>\n",
       "    <tr>\n",
       "      <th>0</th>\n",
       "      <td>Logistic Regression</td>\n",
       "      <td>0.807220</td>\n",
       "    </tr>\n",
       "    <tr>\n",
       "      <th>1</th>\n",
       "      <td>Suppor Vector Machine</td>\n",
       "      <td>0.798868</td>\n",
       "    </tr>\n",
       "    <tr>\n",
       "      <th>2</th>\n",
       "      <td>Naive Bayes</td>\n",
       "      <td>0.802260</td>\n",
       "    </tr>\n",
       "  </tbody>\n",
       "</table>\n",
       "</div>"
      ],
      "text/plain": [
       "              Model Name  Accuracy\n",
       "0    Logistic Regression  0.807220\n",
       "1  Suppor Vector Machine  0.798868\n",
       "2            Naive Bayes  0.802260"
      ]
     },
     "execution_count": 197,
     "metadata": {},
     "output_type": "execute_result"
    }
   ],
   "source": [
    "pd.DataFrame({'Model Name': ['Logistic Regression', 'Suppor Vector Machine', 'Naive Bayes'], \n",
    "              'Accuracy': [logreg_acc, svm_acc, nb_acc]})"
   ]
  },
  {
   "cell_type": "markdown",
   "metadata": {},
   "source": [
    "# Assign training and test data label"
   ]
  },
  {
   "cell_type": "code",
   "execution_count": 198,
   "metadata": {},
   "outputs": [
    {
     "name": "stdout",
     "output_type": "stream",
     "text": [
      "(42743, 7207) (42743,)\n",
      "(55459, 7207) (55459,)\n"
     ]
    }
   ],
   "source": [
    "# Assign 2012 and 2016 as training data\n",
    "\n",
    "train = vec_mx[np.concatenate([ind2012, ind2016])]\n",
    "train_label = dataall.iloc[np.concatenate([ind2012, ind2016])].Party\n",
    "print(train.shape, train_label.shape)\n",
    "\n",
    "# Assign 2020 as test data\n",
    "test = vec_mx[ind2020]\n",
    "test_label = dataall.iloc[ind2020].Party\n",
    "print(test.shape, test_label.shape)"
   ]
  },
  {
   "cell_type": "markdown",
   "metadata": {},
   "source": [
    "From the above table, we learn that all three models yield similar accuracy. We pick the Naive Bayes model over the other two because it's a more computationally efficient."
   ]
  },
  {
   "cell_type": "markdown",
   "metadata": {},
   "source": [
    "# Model Prediction on Test Data"
   ]
  },
  {
   "cell_type": "code",
   "execution_count": 199,
   "metadata": {},
   "outputs": [],
   "source": [
    "nb_mod = MultinomialNB()\n",
    "nb_mod.fit(train, train_label)\n",
    "pre = nb_mod.predict(test)\n",
    "acc_score = metrics.accuracy_score(test_label, pre)"
   ]
  },
  {
   "cell_type": "code",
   "execution_count": 201,
   "metadata": {},
   "outputs": [
    {
     "data": {
      "text/plain": [
       "0.6715772011756432"
      ]
     },
     "execution_count": 201,
     "metadata": {},
     "output_type": "execute_result"
    }
   ],
   "source": [
    "acc_score"
   ]
  },
  {
   "cell_type": "markdown",
   "metadata": {},
   "source": [
    "# Topic Modeling by LDA"
   ]
  },
  {
   "cell_type": "markdown",
   "metadata": {},
   "source": [
    "[Reference] https://www.machinelearningplus.com/nlp/topic-modeling-python-sklearn-examples/#7createthedocumentwordmatrix\n",
    "<br>\n",
    "[Reference] https://stackoverflow.com/questions/45658014/how-to-interpret-sklearn-lda-perplexity-score-why-it-always-increase-as-number"
   ]
  },
  {
   "cell_type": "code",
   "execution_count": 202,
   "metadata": {},
   "outputs": [],
   "source": [
    "# Import LDA libraries and packages\n",
    "from sklearn.decomposition import LatentDirichletAllocation as LDA\n",
    "import pyLDAvis\n",
    "from pyLDAvis import sklearn"
   ]
  },
  {
   "cell_type": "code",
   "execution_count": 207,
   "metadata": {},
   "outputs": [
    {
     "name": "stdout",
     "output_type": "stream",
     "text": [
      "(13084, 7207)\n",
      "(29659, 7207)\n",
      "(55459, 7207)\n"
     ]
    }
   ],
   "source": [
    "# Create individual vectorized matrix for each year 2012, 2016, 2020\n",
    "\n",
    "# 2012\n",
    "mx2012 = vec_mx[ind2012]\n",
    "print(mx2012.shape)\n",
    "\n",
    "# 2016 \n",
    "mx2016 = vec_mx[ind2016]\n",
    "print(mx2016.shape)\n",
    "\n",
    "# 2020 \n",
    "mx2020 = vec_mx[ind2020]\n",
    "print(mx2020.shape)"
   ]
  },
  {
   "cell_type": "code",
   "execution_count": 216,
   "metadata": {},
   "outputs": [],
   "source": [
    "# Set LDA n_components with an array of values\n",
    "lda_n_comp_arr = np.arange(3, 21, 3)"
   ]
  },
  {
   "cell_type": "markdown",
   "metadata": {},
   "source": [
    "## Topic Number Optimization for 2012"
   ]
  },
  {
   "cell_type": "code",
   "execution_count": null,
   "metadata": {},
   "outputs": [],
   "source": [
    "# Log Likelyhood: Higher the better\n",
    "# Perplexity: Lower the better."
   ]
  },
  {
   "cell_type": "code",
   "execution_count": 233,
   "metadata": {
    "scrolled": true
   },
   "outputs": [],
   "source": [
    "# Find optimal topic in 2012 data\n",
    "log2012 = []\n",
    "perp2012 = []\n",
    "\n",
    "for n in lda_n_comp_arr:\n",
    "    lda_mod = LDA(n_components = n, random_state = 123)\n",
    "    lda_mod.fit(mx2012)\n",
    "    lda_out = lda_mod.transform(mx2012)\n",
    "    log2012.append(lda_mod.score(mx2012)) \n",
    "    perp2012.append(lda_mod.perplexity(mx2012))"
   ]
  },
  {
   "cell_type": "code",
   "execution_count": 238,
   "metadata": {
    "scrolled": true
   },
   "outputs": [
    {
     "data": {
      "image/png": "[encoded data removed]",
      "text/plain": [
       "<Figure size 1080x360 with 2 Axes>"
      ]
     },
     "metadata": {
      "needs_background": "light"
     },
     "output_type": "display_data"
    }
   ],
   "source": [
    "fig, (ax1, ax2) = plt.subplots(1,2, figsize = (15, 5))\n",
    "fig.suptitle('Topic Number Optimization for 2012 Data', fontsize= 20)\n",
    "\n",
    "ax1.plot(lda_n_comp_arr, log2012, 'o-k')\n",
    "ax1.set_title('Log Likelihood')\n",
    "ax1.set(xlabel = 'Number of Topic')\n",
    "ax1.set_xticks(lda_n_comp_arr)\n",
    "\n",
    "ax2.plot(lda_n_comp_arr, perp2012, 'o-k')\n",
    "ax2.set_title('Perplexity')\n",
    "ax2.set(xlabel = 'Number of Topic')\n",
    "ax2.set_xticks(lda_n_comp_arr)\n",
    "\n",
    "plt.show()"
   ]
  },
  {
   "cell_type": "markdown",
   "metadata": {},
   "source": [
    "Because we know the higher the Log Likelihood and the lower the perplexity, the better the LDA model is, the optimal topic number for 2012 data is 3."
   ]
  },
  {
   "cell_type": "markdown",
   "metadata": {},
   "source": [
    "## Topic Number Optimization for 2016"
   ]
  },
  {
   "cell_type": "code",
   "execution_count": 224,
   "metadata": {},
   "outputs": [],
   "source": [
    "# Find optimal topic in 2016 data\n",
    "log2016 = []\n",
    "perp2016 = []\n",
    "\n",
    "for n in lda_n_comp_arr:\n",
    "    lda_mod = LDA(n_components = n, random_state = 123)\n",
    "    lda_mod.fit(mx2016)\n",
    "    lda_out = lda_mod.transform(mx2016)\n",
    "    log2016.append(lda_mod.score(mx2016)) # Log Likelyhood: Higher the better\n",
    "    perp2016.append(lda_mod.perplexity(mx2016)) # Perplexity: Lower the better."
   ]
  },
  {
   "cell_type": "code",
   "execution_count": 230,
   "metadata": {
    "scrolled": true
   },
   "outputs": [
    {
     "data": {
      "image/png": "[encoded data removed]",
      "text/plain": [
       "<Figure size 1080x360 with 2 Axes>"
      ]
     },
     "metadata": {
      "needs_background": "light"
     },
     "output_type": "display_data"
    }
   ],
   "source": [
    "fig, (ax1, ax2) = plt.subplots(1,2, figsize = (15, 5))\n",
    "fig.suptitle('Topic Number Optimization for 2016 Data', fontsize= 20)\n",
    "\n",
    "ax1.plot(lda_n_comp_arr, log2016, 'o-k')\n",
    "ax1.set_title('Log Likelihood')\n",
    "ax1.set(xlabel = 'Number of Topic')\n",
    "ax1.set_xticks(lda_n_comp_arr)\n",
    "\n",
    "ax2.plot(lda_n_comp_arr, perp2016, 'o-k')\n",
    "ax2.set_title('Perplexity')\n",
    "ax2.set(xlabel = 'Number of Topic')\n",
    "ax2.set_xticks(lda_n_comp_arr)\n",
    "\n",
    "plt.show()"
   ]
  },
  {
   "cell_type": "markdown",
   "metadata": {},
   "source": [
    "Because we know the higher the Log Likelihood and the lower the perplexity, the better the LDA model is, the optimal topic number for 2016 data is 3 as well."
   ]
  },
  {
   "cell_type": "markdown",
   "metadata": {},
   "source": [
    "## Topic Number Optimization for 2020"
   ]
  },
  {
   "cell_type": "code",
   "execution_count": 226,
   "metadata": {},
   "outputs": [],
   "source": [
    "# Find optimal topic in 2020 data\n",
    "log2020 = []\n",
    "perp2020 = []\n",
    "\n",
    "for n in lda_n_comp_arr:\n",
    "    lda_mod = LDA(n_components = n, random_state = 123)\n",
    "    lda_mod.fit(mx2020)\n",
    "    lda_out = lda_mod.transform(mx2020)\n",
    "    log2020.append(lda_mod.score(mx2020)) # Log Likelyhood: Higher the better\n",
    "    perp2020.append(lda_mod.perplexity(mx2020)) # Perplexity: Lower the better."
   ]
  },
  {
   "cell_type": "code",
   "execution_count": 231,
   "metadata": {
    "scrolled": true
   },
   "outputs": [
    {
     "data": {
      "image/png": "[encoded data removed]",
      "text/plain": [
       "<Figure size 1080x360 with 2 Axes>"
      ]
     },
     "metadata": {
      "needs_background": "light"
     },
     "output_type": "display_data"
    }
   ],
   "source": [
    "fig, (ax1, ax2) = plt.subplots(1,2, figsize = (15, 5))\n",
    "fig.suptitle('Topic Number Optimization for 2020 Data', fontsize= 20)\n",
    "\n",
    "ax1.plot(lda_n_comp_arr, log2020, 'o-k')\n",
    "ax1.set_title('Log Likelihood')\n",
    "ax1.set(xlabel = 'Number of Topic')\n",
    "ax1.set_xticks(lda_n_comp_arr)\n",
    "\n",
    "ax2.plot(lda_n_comp_arr, perp2020, 'o-k')\n",
    "ax2.set_title('Perplexity')\n",
    "ax2.set(xlabel = 'Number of Topic')\n",
    "ax2.set_xticks(lda_n_comp_arr)\n",
    "\n",
    "plt.show()"
   ]
  },
  {
   "cell_type": "markdown",
   "metadata": {},
   "source": [
    "Because we know the higher the Log Likelihood and the lower the perplexity, the better the LDA model is, the optimal topic number for 2020 data is 18."
   ]
  },
  {
   "cell_type": "code",
   "execution_count": 240,
   "metadata": {},
   "outputs": [
    {
     "name": "stdout",
     "output_type": "stream",
     "text": [
      "The optimal topic number for 2012 data is:  3\n",
      "The optimal topic number for 2016 data is:  3\n",
      "The optimal topic number for 2020 data is:  18\n",
      "\n",
      "\n",
      "The optimal topic number for 2012 data is:  3\n",
      "The optimal topic number for 2016 data is:  3\n",
      "The optimal topic number for 2020 data is:  18\n"
     ]
    }
   ],
   "source": [
    "print('The optimal topic number for 2012 data is: ',lda_n_comp_arr[log2012.index(max(log2012))])\n",
    "print('The optimal topic number for 2016 data is: ',lda_n_comp_arr[log2016.index(max(log2016))])\n",
    "print('The optimal topic number for 2020 data is: ',lda_n_comp_arr[log2020.index(max(log2020))])\n",
    "print('\\n')\n",
    "print('The optimal topic number for 2012 data is: ',lda_n_comp_arr[perp2012.index(min(perp2012))])\n",
    "print('The optimal topic number for 2016 data is: ',lda_n_comp_arr[perp2016.index(min(perp2016))])\n",
    "print('The optimal topic number for 2020 data is: ',lda_n_comp_arr[perp2020.index(min(perp2020))])"
   ]
  },
  {
   "cell_type": "code",
   "execution_count": null,
   "metadata": {},
   "outputs": [],
   "source": [
    "pd.DataFrame({'Log Likelihood': loglik, 'Perplexity': perp}, \n",
    "             index = ['n_comp = '+str(i) for i in lda_n_comp])"
   ]
  },
  {
   "cell_type": "code",
   "execution_count": 241,
   "metadata": {},
   "outputs": [],
   "source": [
    "# Define a function that can display top n keywords for each topic\n",
    "def topic_keywords(vectorizer=vec, lda_model=lda_mod, n_words=20):\n",
    "    keywords = np.array(vec.get_feature_names())\n",
    "    topic_keywords_list = []\n",
    "    for topic_weights in lda_model.components_:\n",
    "        top_keyword_ind = (-topic_weights).argsort()[:n_words]\n",
    "        topic_keywords_list.append(keywords.take(top_keyword_ind))\n",
    "    df = pd.DataFrame(topic_keywords_list, \n",
    "                      columns = ['Word '+str(i) for i in range(n_words)], \n",
    "                      index = ['Topic '+str(i) for i in range(len(topic_keywords_list))])   \n",
    "    return df"
   ]
  },
  {
   "cell_type": "markdown",
   "metadata": {},
   "source": [
    "## Display the top 20 words in each topic by each data"
   ]
  },
  {
   "cell_type": "markdown",
   "metadata": {},
   "source": [
    "### 2012"
   ]
  },
  {
   "cell_type": "code",
   "execution_count": 247,
   "metadata": {
    "scrolled": true
   },
   "outputs": [
    {
     "name": "stdout",
     "output_type": "stream",
     "text": [
      "(13084, 3)\n"
     ]
    },
    {
     "data": {
      "text/html": [
       "<div>\n",
       "<style scoped>\n",
       "    .dataframe tbody tr th:only-of-type {\n",
       "        vertical-align: middle;\n",
       "    }\n",
       "\n",
       "    .dataframe tbody tr th {\n",
       "        vertical-align: top;\n",
       "    }\n",
       "\n",
       "    .dataframe thead th {\n",
       "        text-align: right;\n",
       "    }\n",
       "</style>\n",
       "<table border=\"1\" class=\"dataframe\">\n",
       "  <thead>\n",
       "    <tr style=\"text-align: right;\">\n",
       "      <th></th>\n",
       "      <th>Word 0</th>\n",
       "      <th>Word 1</th>\n",
       "      <th>Word 2</th>\n",
       "      <th>Word 3</th>\n",
       "      <th>Word 4</th>\n",
       "      <th>Word 5</th>\n",
       "      <th>Word 6</th>\n",
       "      <th>Word 7</th>\n",
       "      <th>Word 8</th>\n",
       "      <th>Word 9</th>\n",
       "      <th>Word 10</th>\n",
       "      <th>Word 11</th>\n",
       "      <th>Word 12</th>\n",
       "      <th>Word 13</th>\n",
       "      <th>Word 14</th>\n",
       "      <th>Word 15</th>\n",
       "      <th>Word 16</th>\n",
       "      <th>Word 17</th>\n",
       "      <th>Word 18</th>\n",
       "      <th>Word 19</th>\n",
       "    </tr>\n",
       "  </thead>\n",
       "  <tbody>\n",
       "    <tr>\n",
       "      <th>Topic 0</th>\n",
       "      <td>amp</td>\n",
       "      <td>obama</td>\n",
       "      <td>sen</td>\n",
       "      <td>presid</td>\n",
       "      <td>job</td>\n",
       "      <td>today</td>\n",
       "      <td>need</td>\n",
       "      <td>senat</td>\n",
       "      <td>talk</td>\n",
       "      <td>join</td>\n",
       "      <td>watch</td>\n",
       "      <td>live</td>\n",
       "      <td>vt</td>\n",
       "      <td>sander</td>\n",
       "      <td>news</td>\n",
       "      <td>bill</td>\n",
       "      <td>act</td>\n",
       "      <td>economi</td>\n",
       "      <td>energi</td>\n",
       "      <td>busi</td>\n",
       "    </tr>\n",
       "    <tr>\n",
       "      <th>Topic 1</th>\n",
       "      <td>tax</td>\n",
       "      <td>senat</td>\n",
       "      <td>would</td>\n",
       "      <td>new</td>\n",
       "      <td>amp</td>\n",
       "      <td>job</td>\n",
       "      <td>budget</td>\n",
       "      <td>read</td>\n",
       "      <td>cut</td>\n",
       "      <td>must</td>\n",
       "      <td>health</td>\n",
       "      <td>help</td>\n",
       "      <td>romney</td>\n",
       "      <td>call</td>\n",
       "      <td>today</td>\n",
       "      <td>million</td>\n",
       "      <td>american</td>\n",
       "      <td>offic</td>\n",
       "      <td>plan</td>\n",
       "      <td>report</td>\n",
       "    </tr>\n",
       "    <tr>\n",
       "      <th>Topic 2</th>\n",
       "      <td>great</td>\n",
       "      <td>today</td>\n",
       "      <td>day</td>\n",
       "      <td>thank</td>\n",
       "      <td>make</td>\n",
       "      <td>go</td>\n",
       "      <td>honor</td>\n",
       "      <td>proud</td>\n",
       "      <td>year</td>\n",
       "      <td>congrat</td>\n",
       "      <td>amp</td>\n",
       "      <td>good</td>\n",
       "      <td>vote</td>\n",
       "      <td>th</td>\n",
       "      <td>presid</td>\n",
       "      <td>famili</td>\n",
       "      <td>obama</td>\n",
       "      <td>win</td>\n",
       "      <td>work</td>\n",
       "      <td>happi</td>\n",
       "    </tr>\n",
       "  </tbody>\n",
       "</table>\n",
       "</div>"
      ],
      "text/plain": [
       "        Word 0 Word 1 Word 2  Word 3 Word 4 Word 5  Word 6 Word 7 Word 8  \\\n",
       "Topic 0    amp  obama    sen  presid    job  today    need  senat   talk   \n",
       "Topic 1    tax  senat  would     new    amp    job  budget   read    cut   \n",
       "Topic 2  great  today    day   thank   make     go   honor  proud   year   \n",
       "\n",
       "          Word 9 Word 10 Word 11 Word 12 Word 13 Word 14  Word 15   Word 16  \\\n",
       "Topic 0     join   watch    live      vt  sander    news     bill       act   \n",
       "Topic 1     must  health    help  romney    call   today  million  american   \n",
       "Topic 2  congrat     amp    good    vote      th  presid   famili     obama   \n",
       "\n",
       "         Word 17 Word 18 Word 19  \n",
       "Topic 0  economi  energi    busi  \n",
       "Topic 1    offic    plan  report  \n",
       "Topic 2      win    work   happi  "
      ]
     },
     "execution_count": 247,
     "metadata": {},
     "output_type": "execute_result"
    }
   ],
   "source": [
    "# Fit/Transform the best LDA model for 2012\n",
    "lda_mod2012 = LDA(n_components = lda_n_comp_arr[log2012.index(max(log2012))], random_state = 123)\n",
    "lda_out2012 = lda_mod2012.fit_transform(mx2012)\n",
    "print(lda_out2012.shape)\n",
    "\n",
    "# Find the top 20 words in each topic \n",
    "keyword_df2012 = topic_keywords(vec, lda_mod2012, n_words = 20)\n",
    "keyword_df2012"
   ]
  },
  {
   "cell_type": "markdown",
   "metadata": {},
   "source": [
    "### 2016"
   ]
  },
  {
   "cell_type": "code",
   "execution_count": 248,
   "metadata": {},
   "outputs": [
    {
     "name": "stdout",
     "output_type": "stream",
     "text": [
      "(29659, 3)\n"
     ]
    },
    {
     "data": {
      "text/html": [
       "<div>\n",
       "<style scoped>\n",
       "    .dataframe tbody tr th:only-of-type {\n",
       "        vertical-align: middle;\n",
       "    }\n",
       "\n",
       "    .dataframe tbody tr th {\n",
       "        vertical-align: top;\n",
       "    }\n",
       "\n",
       "    .dataframe thead th {\n",
       "        text-align: right;\n",
       "    }\n",
       "</style>\n",
       "<table border=\"1\" class=\"dataframe\">\n",
       "  <thead>\n",
       "    <tr style=\"text-align: right;\">\n",
       "      <th></th>\n",
       "      <th>Word 0</th>\n",
       "      <th>Word 1</th>\n",
       "      <th>Word 2</th>\n",
       "      <th>Word 3</th>\n",
       "      <th>Word 4</th>\n",
       "      <th>Word 5</th>\n",
       "      <th>Word 6</th>\n",
       "      <th>Word 7</th>\n",
       "      <th>Word 8</th>\n",
       "      <th>Word 9</th>\n",
       "      <th>Word 10</th>\n",
       "      <th>Word 11</th>\n",
       "      <th>Word 12</th>\n",
       "      <th>Word 13</th>\n",
       "      <th>Word 14</th>\n",
       "      <th>Word 15</th>\n",
       "      <th>Word 16</th>\n",
       "      <th>Word 17</th>\n",
       "      <th>Word 18</th>\n",
       "      <th>Word 19</th>\n",
       "    </tr>\n",
       "  </thead>\n",
       "  <tbody>\n",
       "    <tr>\n",
       "      <th>Topic 0</th>\n",
       "      <td>amp</td>\n",
       "      <td>work</td>\n",
       "      <td>hillari</td>\n",
       "      <td>trump</td>\n",
       "      <td>american</td>\n",
       "      <td>make</td>\n",
       "      <td>help</td>\n",
       "      <td>need</td>\n",
       "      <td>peopl</td>\n",
       "      <td>famili</td>\n",
       "      <td>happi</td>\n",
       "      <td>america</td>\n",
       "      <td>protect</td>\n",
       "      <td>woman</td>\n",
       "      <td>support</td>\n",
       "      <td>job</td>\n",
       "      <td>countri</td>\n",
       "      <td>bill</td>\n",
       "      <td>right</td>\n",
       "      <td>must</td>\n",
       "    </tr>\n",
       "    <tr>\n",
       "      <th>Topic 1</th>\n",
       "      <td>amp</td>\n",
       "      <td>senat</td>\n",
       "      <td>help</td>\n",
       "      <td>new</td>\n",
       "      <td>fund</td>\n",
       "      <td>stop</td>\n",
       "      <td>today</td>\n",
       "      <td>zika</td>\n",
       "      <td>offic</td>\n",
       "      <td>via</td>\n",
       "      <td>join</td>\n",
       "      <td>counti</td>\n",
       "      <td>read</td>\n",
       "      <td>staff</td>\n",
       "      <td>state</td>\n",
       "      <td>obama</td>\n",
       "      <td>call</td>\n",
       "      <td>must</td>\n",
       "      <td>drug</td>\n",
       "      <td>feder</td>\n",
       "    </tr>\n",
       "    <tr>\n",
       "      <th>Topic 2</th>\n",
       "      <td>thank</td>\n",
       "      <td>great</td>\n",
       "      <td>today</td>\n",
       "      <td>honor</td>\n",
       "      <td>visit</td>\n",
       "      <td>meet</td>\n",
       "      <td>join</td>\n",
       "      <td>de</td>\n",
       "      <td>year</td>\n",
       "      <td>famili</td>\n",
       "      <td>amp</td>\n",
       "      <td>morn</td>\n",
       "      <td>servic</td>\n",
       "      <td>see</td>\n",
       "      <td>congrat</td>\n",
       "      <td>florida</td>\n",
       "      <td>day</td>\n",
       "      <td>enjoy</td>\n",
       "      <td>last</td>\n",
       "      <td>commun</td>\n",
       "    </tr>\n",
       "  </tbody>\n",
       "</table>\n",
       "</div>"
      ],
      "text/plain": [
       "        Word 0 Word 1   Word 2 Word 3    Word 4 Word 5 Word 6 Word 7 Word 8  \\\n",
       "Topic 0    amp   work  hillari  trump  american   make   help   need  peopl   \n",
       "Topic 1    amp  senat     help    new      fund   stop  today   zika  offic   \n",
       "Topic 2  thank  great    today  honor     visit   meet   join     de   year   \n",
       "\n",
       "         Word 9 Word 10  Word 11  Word 12 Word 13  Word 14  Word 15  Word 16  \\\n",
       "Topic 0  famili   happi  america  protect   woman  support      job  countri   \n",
       "Topic 1     via    join   counti     read   staff    state    obama     call   \n",
       "Topic 2  famili     amp     morn   servic     see  congrat  florida      day   \n",
       "\n",
       "        Word 17 Word 18 Word 19  \n",
       "Topic 0    bill   right    must  \n",
       "Topic 1    must    drug   feder  \n",
       "Topic 2   enjoy    last  commun  "
      ]
     },
     "execution_count": 248,
     "metadata": {},
     "output_type": "execute_result"
    }
   ],
   "source": [
    "# Fit/Transform the best LDA model for 2012\n",
    "lda_mod2016 = LDA(n_components = lda_n_comp_arr[log2016.index(max(log2016))], random_state = 123)\n",
    "lda_out2016 = lda_mod2016.fit_transform(mx2016)\n",
    "print(lda_out2016.shape)\n",
    "\n",
    "# Find the top 20 words in each topic \n",
    "keyword_df2016 = topic_keywords(vec, lda_mod2016, n_words = 20)\n",
    "keyword_df2016"
   ]
  },
  {
   "cell_type": "markdown",
   "metadata": {},
   "source": [
    "### 2020"
   ]
  },
  {
   "cell_type": "code",
   "execution_count": 256,
   "metadata": {},
   "outputs": [
    {
     "name": "stdout",
     "output_type": "stream",
     "text": [
      "(55459, 18)\n"
     ]
    },
    {
     "data": {
      "text/html": [
       "<div>\n",
       "<style scoped>\n",
       "    .dataframe tbody tr th:only-of-type {\n",
       "        vertical-align: middle;\n",
       "    }\n",
       "\n",
       "    .dataframe tbody tr th {\n",
       "        vertical-align: top;\n",
       "    }\n",
       "\n",
       "    .dataframe thead th {\n",
       "        text-align: right;\n",
       "    }\n",
       "</style>\n",
       "<table border=\"1\" class=\"dataframe\">\n",
       "  <thead>\n",
       "    <tr style=\"text-align: right;\">\n",
       "      <th></th>\n",
       "      <th>Word 0</th>\n",
       "      <th>Word 1</th>\n",
       "      <th>Word 2</th>\n",
       "      <th>Word 3</th>\n",
       "      <th>Word 4</th>\n",
       "      <th>Word 5</th>\n",
       "      <th>Word 6</th>\n",
       "      <th>Word 7</th>\n",
       "      <th>Word 8</th>\n",
       "      <th>Word 9</th>\n",
       "      <th>Word 10</th>\n",
       "      <th>Word 11</th>\n",
       "      <th>Word 12</th>\n",
       "      <th>Word 13</th>\n",
       "      <th>Word 14</th>\n",
       "      <th>Word 15</th>\n",
       "      <th>Word 16</th>\n",
       "      <th>Word 17</th>\n",
       "      <th>Word 18</th>\n",
       "      <th>Word 19</th>\n",
       "    </tr>\n",
       "  </thead>\n",
       "  <tbody>\n",
       "    <tr>\n",
       "      <th>Topic 0</th>\n",
       "      <td>busi</td>\n",
       "      <td>small</td>\n",
       "      <td>need</td>\n",
       "      <td>help</td>\n",
       "      <td>relief</td>\n",
       "      <td>provid</td>\n",
       "      <td>worker</td>\n",
       "      <td>fund</td>\n",
       "      <td>support</td>\n",
       "      <td>covid</td>\n",
       "      <td>amp</td>\n",
       "      <td>program</td>\n",
       "      <td>famili</td>\n",
       "      <td>loan</td>\n",
       "      <td>act</td>\n",
       "      <td>bill</td>\n",
       "      <td>rural</td>\n",
       "      <td>care</td>\n",
       "      <td>work</td>\n",
       "      <td>senat</td>\n",
       "    </tr>\n",
       "    <tr>\n",
       "      <th>Topic 1</th>\n",
       "      <td>drug</td>\n",
       "      <td>cost</td>\n",
       "      <td>act</td>\n",
       "      <td>american</td>\n",
       "      <td>compani</td>\n",
       "      <td>price</td>\n",
       "      <td>bill</td>\n",
       "      <td>climat</td>\n",
       "      <td>would</td>\n",
       "      <td>legisl</td>\n",
       "      <td>fund</td>\n",
       "      <td>introduc</td>\n",
       "      <td>water</td>\n",
       "      <td>feder</td>\n",
       "      <td>law</td>\n",
       "      <td>must</td>\n",
       "      <td>year</td>\n",
       "      <td>bipartisan</td>\n",
       "      <td>lower</td>\n",
       "      <td>air</td>\n",
       "    </tr>\n",
       "    <tr>\n",
       "      <th>Topic 2</th>\n",
       "      <td>thank</td>\n",
       "      <td>child</td>\n",
       "      <td>disast</td>\n",
       "      <td>west</td>\n",
       "      <td>receiv</td>\n",
       "      <td>payment</td>\n",
       "      <td>appli</td>\n",
       "      <td>today</td>\n",
       "      <td>school</td>\n",
       "      <td>program</td>\n",
       "      <td>virginia</td>\n",
       "      <td>file</td>\n",
       "      <td>applic</td>\n",
       "      <td>tax</td>\n",
       "      <td>impact</td>\n",
       "      <td>assist</td>\n",
       "      <td>inform</td>\n",
       "      <td>approv</td>\n",
       "      <td>april</td>\n",
       "      <td>learn</td>\n",
       "    </tr>\n",
       "    <tr>\n",
       "      <th>Topic 3</th>\n",
       "      <td>servic</td>\n",
       "      <td>nation</td>\n",
       "      <td>serv</td>\n",
       "      <td>woman</td>\n",
       "      <td>famili</td>\n",
       "      <td>senat</td>\n",
       "      <td>honor</td>\n",
       "      <td>life</td>\n",
       "      <td>thank</td>\n",
       "      <td>day</td>\n",
       "      <td>men</td>\n",
       "      <td>pass</td>\n",
       "      <td>veteran</td>\n",
       "      <td>gun</td>\n",
       "      <td>american</td>\n",
       "      <td>today</td>\n",
       "      <td>law</td>\n",
       "      <td>year</td>\n",
       "      <td>countri</td>\n",
       "      <td>member</td>\n",
       "    </tr>\n",
       "    <tr>\n",
       "      <th>Topic 4</th>\n",
       "      <td>health</td>\n",
       "      <td>care</td>\n",
       "      <td>covid</td>\n",
       "      <td>coronaviru</td>\n",
       "      <td>need</td>\n",
       "      <td>public</td>\n",
       "      <td>spread</td>\n",
       "      <td>crisi</td>\n",
       "      <td>must</td>\n",
       "      <td>test</td>\n",
       "      <td>pandem</td>\n",
       "      <td>protect</td>\n",
       "      <td>amp</td>\n",
       "      <td>access</td>\n",
       "      <td>take</td>\n",
       "      <td>american</td>\n",
       "      <td>work</td>\n",
       "      <td>home</td>\n",
       "      <td>life</td>\n",
       "      <td>safe</td>\n",
       "    </tr>\n",
       "    <tr>\n",
       "      <th>Topic 5</th>\n",
       "      <td>investig</td>\n",
       "      <td>right</td>\n",
       "      <td>human</td>\n",
       "      <td>amp</td>\n",
       "      <td>report</td>\n",
       "      <td>call</td>\n",
       "      <td>presid</td>\n",
       "      <td>releas</td>\n",
       "      <td>gener</td>\n",
       "      <td>polit</td>\n",
       "      <td>dr</td>\n",
       "      <td>russia</td>\n",
       "      <td>news</td>\n",
       "      <td>fake</td>\n",
       "      <td>corrupt</td>\n",
       "      <td>committe</td>\n",
       "      <td>account</td>\n",
       "      <td>sen</td>\n",
       "      <td>offici</td>\n",
       "      <td>peopl</td>\n",
       "    </tr>\n",
       "    <tr>\n",
       "      <th>Topic 6</th>\n",
       "      <td>de</td>\n",
       "      <td>la</td>\n",
       "      <td>el</td>\n",
       "      <td>lo</td>\n",
       "      <td>en</td>\n",
       "      <td>para</td>\n",
       "      <td>que</td>\n",
       "      <td>rubio</td>\n",
       "      <td>su</td>\n",
       "      <td>ed</td>\n",
       "      <td>del</td>\n",
       "      <td>op</td>\n",
       "      <td>al</td>\n",
       "      <td>por</td>\n",
       "      <td>un</td>\n",
       "      <td>con</td>\n",
       "      <td>puerto</td>\n",
       "      <td>ma</td>\n",
       "      <td>rico</td>\n",
       "      <td>sobr</td>\n",
       "    </tr>\n",
       "    <tr>\n",
       "      <th>Topic 7</th>\n",
       "      <td>china</td>\n",
       "      <td>join</td>\n",
       "      <td>live</td>\n",
       "      <td>coronaviru</td>\n",
       "      <td>watch</td>\n",
       "      <td>discu</td>\n",
       "      <td>tune</td>\n",
       "      <td>chines</td>\n",
       "      <td>pm</td>\n",
       "      <td>covid</td>\n",
       "      <td>question</td>\n",
       "      <td>communist</td>\n",
       "      <td>listen</td>\n",
       "      <td>town</td>\n",
       "      <td>hall</td>\n",
       "      <td>world</td>\n",
       "      <td>pandem</td>\n",
       "      <td>today</td>\n",
       "      <td>global</td>\n",
       "      <td>talk</td>\n",
       "    </tr>\n",
       "    <tr>\n",
       "      <th>Topic 8</th>\n",
       "      <td>new</td>\n",
       "      <td>help</td>\n",
       "      <td>student</td>\n",
       "      <td>school</td>\n",
       "      <td>offic</td>\n",
       "      <td>learn</td>\n",
       "      <td>find</td>\n",
       "      <td>educ</td>\n",
       "      <td>state</td>\n",
       "      <td>visit</td>\n",
       "      <td>pleas</td>\n",
       "      <td>work</td>\n",
       "      <td>teacher</td>\n",
       "      <td>donat</td>\n",
       "      <td>challeng</td>\n",
       "      <td>covid</td>\n",
       "      <td>resourc</td>\n",
       "      <td>home</td>\n",
       "      <td>team</td>\n",
       "      <td>connect</td>\n",
       "    </tr>\n",
       "    <tr>\n",
       "      <th>Topic 9</th>\n",
       "      <td>coronaviru</td>\n",
       "      <td>state</td>\n",
       "      <td>covid</td>\n",
       "      <td>feder</td>\n",
       "      <td>amp</td>\n",
       "      <td>fund</td>\n",
       "      <td>help</td>\n",
       "      <td>resourc</td>\n",
       "      <td>local</td>\n",
       "      <td>need</td>\n",
       "      <td>receiv</td>\n",
       "      <td>govern</td>\n",
       "      <td>ensur</td>\n",
       "      <td>respons</td>\n",
       "      <td>inform</td>\n",
       "      <td>support</td>\n",
       "      <td>provid</td>\n",
       "      <td>work</td>\n",
       "      <td>pandem</td>\n",
       "      <td>commun</td>\n",
       "    </tr>\n",
       "    <tr>\n",
       "      <th>Topic 10</th>\n",
       "      <td>presid</td>\n",
       "      <td>trump</td>\n",
       "      <td>senat</td>\n",
       "      <td>impeach</td>\n",
       "      <td>hous</td>\n",
       "      <td>trial</td>\n",
       "      <td>wit</td>\n",
       "      <td>american</td>\n",
       "      <td>war</td>\n",
       "      <td>vote</td>\n",
       "      <td>iran</td>\n",
       "      <td>republican</td>\n",
       "      <td>congress</td>\n",
       "      <td>power</td>\n",
       "      <td>democrat</td>\n",
       "      <td>want</td>\n",
       "      <td>peopl</td>\n",
       "      <td>document</td>\n",
       "      <td>constitut</td>\n",
       "      <td>fair</td>\n",
       "    </tr>\n",
       "    <tr>\n",
       "      <th>Topic 11</th>\n",
       "      <td>vote</td>\n",
       "      <td>elect</td>\n",
       "      <td>south</td>\n",
       "      <td>win</td>\n",
       "      <td>student</td>\n",
       "      <td>carolina</td>\n",
       "      <td>berni</td>\n",
       "      <td>colleg</td>\n",
       "      <td>voter</td>\n",
       "      <td>rule</td>\n",
       "      <td>campaign</td>\n",
       "      <td>tuesday</td>\n",
       "      <td>borrow</td>\n",
       "      <td>tulsi</td>\n",
       "      <td>new</td>\n",
       "      <td>north</td>\n",
       "      <td>stand</td>\n",
       "      <td>hong</td>\n",
       "      <td>ye</td>\n",
       "      <td>make</td>\n",
       "    </tr>\n",
       "    <tr>\n",
       "      <th>Topic 12</th>\n",
       "      <td>worker</td>\n",
       "      <td>protect</td>\n",
       "      <td>need</td>\n",
       "      <td>suppli</td>\n",
       "      <td>amp</td>\n",
       "      <td>medic</td>\n",
       "      <td>act</td>\n",
       "      <td>equip</td>\n",
       "      <td>covid</td>\n",
       "      <td>mask</td>\n",
       "      <td>must</td>\n",
       "      <td>letter</td>\n",
       "      <td>product</td>\n",
       "      <td>nation</td>\n",
       "      <td>essenti</td>\n",
       "      <td>urg</td>\n",
       "      <td>pandem</td>\n",
       "      <td>use</td>\n",
       "      <td>trump</td>\n",
       "      <td>ensur</td>\n",
       "    </tr>\n",
       "    <tr>\n",
       "      <th>Topic 13</th>\n",
       "      <td>american</td>\n",
       "      <td>get</td>\n",
       "      <td>time</td>\n",
       "      <td>go</td>\n",
       "      <td>need</td>\n",
       "      <td>peopl</td>\n",
       "      <td>let</td>\n",
       "      <td>work</td>\n",
       "      <td>vote</td>\n",
       "      <td>job</td>\n",
       "      <td>democrat</td>\n",
       "      <td>trump</td>\n",
       "      <td>back</td>\n",
       "      <td>look</td>\n",
       "      <td>forward</td>\n",
       "      <td>done</td>\n",
       "      <td>togeth</td>\n",
       "      <td>one</td>\n",
       "      <td>year</td>\n",
       "      <td>make</td>\n",
       "    </tr>\n",
       "    <tr>\n",
       "      <th>Topic 14</th>\n",
       "      <td>work</td>\n",
       "      <td>thank</td>\n",
       "      <td>great</td>\n",
       "      <td>make</td>\n",
       "      <td>time</td>\n",
       "      <td>get</td>\n",
       "      <td>help</td>\n",
       "      <td>togeth</td>\n",
       "      <td>keep</td>\n",
       "      <td>safe</td>\n",
       "      <td>commun</td>\n",
       "      <td>good</td>\n",
       "      <td>famili</td>\n",
       "      <td>see</td>\n",
       "      <td>sure</td>\n",
       "      <td>one</td>\n",
       "      <td>state</td>\n",
       "      <td>back</td>\n",
       "      <td>hard</td>\n",
       "      <td>way</td>\n",
       "    </tr>\n",
       "    <tr>\n",
       "      <th>Topic 15</th>\n",
       "      <td>today</td>\n",
       "      <td>year</td>\n",
       "      <td>happi</td>\n",
       "      <td>honor</td>\n",
       "      <td>celebr</td>\n",
       "      <td>life</td>\n",
       "      <td>day</td>\n",
       "      <td>nation</td>\n",
       "      <td>amp</td>\n",
       "      <td>fight</td>\n",
       "      <td>world</td>\n",
       "      <td>proud</td>\n",
       "      <td>one</td>\n",
       "      <td>th</td>\n",
       "      <td>woman</td>\n",
       "      <td>wish</td>\n",
       "      <td>american</td>\n",
       "      <td>countri</td>\n",
       "      <td>commun</td>\n",
       "      <td>love</td>\n",
       "    </tr>\n",
       "    <tr>\n",
       "      <th>Topic 16</th>\n",
       "      <td>amp</td>\n",
       "      <td>test</td>\n",
       "      <td>economi</td>\n",
       "      <td>trade</td>\n",
       "      <td>farmer</td>\n",
       "      <td>work</td>\n",
       "      <td>job</td>\n",
       "      <td>produc</td>\n",
       "      <td>new</td>\n",
       "      <td>support</td>\n",
       "      <td>great</td>\n",
       "      <td>industri</td>\n",
       "      <td>secur</td>\n",
       "      <td>nation</td>\n",
       "      <td>help</td>\n",
       "      <td>import</td>\n",
       "      <td>state</td>\n",
       "      <td>develop</td>\n",
       "      <td>usmca</td>\n",
       "      <td>today</td>\n",
       "    </tr>\n",
       "    <tr>\n",
       "      <th>Topic 17</th>\n",
       "      <td>american</td>\n",
       "      <td>peopl</td>\n",
       "      <td>trump</td>\n",
       "      <td>right</td>\n",
       "      <td>protect</td>\n",
       "      <td>presid</td>\n",
       "      <td>million</td>\n",
       "      <td>famili</td>\n",
       "      <td>corpor</td>\n",
       "      <td>republican</td>\n",
       "      <td>would</td>\n",
       "      <td>money</td>\n",
       "      <td>cut</td>\n",
       "      <td>tax</td>\n",
       "      <td>bill</td>\n",
       "      <td>pre</td>\n",
       "      <td>care</td>\n",
       "      <td>work</td>\n",
       "      <td>pay</td>\n",
       "      <td>fight</td>\n",
       "    </tr>\n",
       "  </tbody>\n",
       "</table>\n",
       "</div>"
      ],
      "text/plain": [
       "              Word 0   Word 1   Word 2      Word 3   Word 4    Word 5  \\\n",
       "Topic 0         busi    small     need        help   relief    provid   \n",
       "Topic 1         drug     cost      act    american  compani     price   \n",
       "Topic 2        thank    child   disast        west   receiv   payment   \n",
       "Topic 3       servic   nation     serv       woman   famili     senat   \n",
       "Topic 4       health     care    covid  coronaviru     need    public   \n",
       "Topic 5     investig    right    human         amp   report      call   \n",
       "Topic 6           de       la       el          lo       en      para   \n",
       "Topic 7        china     join     live  coronaviru    watch     discu   \n",
       "Topic 8          new     help  student      school    offic     learn   \n",
       "Topic 9   coronaviru    state    covid       feder      amp      fund   \n",
       "Topic 10      presid    trump    senat     impeach     hous     trial   \n",
       "Topic 11        vote    elect    south         win  student  carolina   \n",
       "Topic 12      worker  protect     need      suppli      amp     medic   \n",
       "Topic 13    american      get     time          go     need     peopl   \n",
       "Topic 14        work    thank    great        make     time       get   \n",
       "Topic 15       today     year    happi       honor   celebr      life   \n",
       "Topic 16         amp     test  economi       trade   farmer      work   \n",
       "Topic 17    american    peopl    trump       right  protect    presid   \n",
       "\n",
       "           Word 6    Word 7   Word 8      Word 9   Word 10     Word 11  \\\n",
       "Topic 0    worker      fund  support       covid       amp     program   \n",
       "Topic 1      bill    climat    would      legisl      fund    introduc   \n",
       "Topic 2     appli     today   school     program  virginia        file   \n",
       "Topic 3     honor      life    thank         day       men        pass   \n",
       "Topic 4    spread     crisi     must        test    pandem     protect   \n",
       "Topic 5    presid    releas    gener       polit        dr      russia   \n",
       "Topic 6       que     rubio       su          ed       del          op   \n",
       "Topic 7      tune    chines       pm       covid  question   communist   \n",
       "Topic 8      find      educ    state       visit     pleas        work   \n",
       "Topic 9      help   resourc    local        need    receiv      govern   \n",
       "Topic 10      wit  american      war        vote      iran  republican   \n",
       "Topic 11    berni    colleg    voter        rule  campaign     tuesday   \n",
       "Topic 12      act     equip    covid        mask      must      letter   \n",
       "Topic 13      let      work     vote         job  democrat       trump   \n",
       "Topic 14     help    togeth     keep        safe    commun        good   \n",
       "Topic 15      day    nation      amp       fight     world       proud   \n",
       "Topic 16      job    produc      new     support     great    industri   \n",
       "Topic 17  million    famili   corpor  republican     would       money   \n",
       "\n",
       "           Word 12  Word 13   Word 14   Word 15   Word 16     Word 17  \\\n",
       "Topic 0     famili     loan       act      bill     rural        care   \n",
       "Topic 1      water    feder       law      must      year  bipartisan   \n",
       "Topic 2     applic      tax    impact    assist    inform      approv   \n",
       "Topic 3    veteran      gun  american     today       law        year   \n",
       "Topic 4        amp   access      take  american      work        home   \n",
       "Topic 5       news     fake   corrupt  committe   account         sen   \n",
       "Topic 6         al      por        un       con    puerto          ma   \n",
       "Topic 7     listen     town      hall     world    pandem       today   \n",
       "Topic 8    teacher    donat  challeng     covid   resourc        home   \n",
       "Topic 9      ensur  respons    inform   support    provid        work   \n",
       "Topic 10  congress    power  democrat      want     peopl    document   \n",
       "Topic 11    borrow    tulsi       new     north     stand        hong   \n",
       "Topic 12   product   nation   essenti       urg    pandem         use   \n",
       "Topic 13      back     look   forward      done    togeth         one   \n",
       "Topic 14    famili      see      sure       one     state        back   \n",
       "Topic 15       one       th     woman      wish  american     countri   \n",
       "Topic 16     secur   nation      help    import     state     develop   \n",
       "Topic 17       cut      tax      bill       pre      care        work   \n",
       "\n",
       "            Word 18  Word 19  \n",
       "Topic 0        work    senat  \n",
       "Topic 1       lower      air  \n",
       "Topic 2       april    learn  \n",
       "Topic 3     countri   member  \n",
       "Topic 4        life     safe  \n",
       "Topic 5      offici    peopl  \n",
       "Topic 6        rico     sobr  \n",
       "Topic 7      global     talk  \n",
       "Topic 8        team  connect  \n",
       "Topic 9      pandem   commun  \n",
       "Topic 10  constitut     fair  \n",
       "Topic 11         ye     make  \n",
       "Topic 12      trump    ensur  \n",
       "Topic 13       year     make  \n",
       "Topic 14       hard      way  \n",
       "Topic 15     commun     love  \n",
       "Topic 16      usmca    today  \n",
       "Topic 17        pay    fight  "
      ]
     },
     "execution_count": 256,
     "metadata": {},
     "output_type": "execute_result"
    }
   ],
   "source": [
    "# Fit/Transform the best LDA model for 2012\n",
    "lda_mod2020 = LDA(n_components = lda_n_comp_arr[log2020.index(max(log2020))], random_state = 123)\n",
    "lda_out2020 = lda_mod2020.fit_transform(mx2020)\n",
    "print(lda_out2020.shape)\n",
    "\n",
    "# Find the top 20 words in each topic \n",
    "keyword_df2020 = topic_keywords(vec, lda_mod2020, n_words = 20)\n",
    "keyword_df2020"
   ]
  },
  {
   "cell_type": "markdown",
   "metadata": {},
   "source": [
    "## Assign each topic to original dataframe "
   ]
  },
  {
   "cell_type": "markdown",
   "metadata": {},
   "source": [
    "### 2012"
   ]
  },
  {
   "cell_type": "code",
   "execution_count": 251,
   "metadata": {
    "scrolled": true
   },
   "outputs": [
    {
     "data": {
      "text/html": [
       "<div>\n",
       "<style scoped>\n",
       "    .dataframe tbody tr th:only-of-type {\n",
       "        vertical-align: middle;\n",
       "    }\n",
       "\n",
       "    .dataframe tbody tr th {\n",
       "        vertical-align: top;\n",
       "    }\n",
       "\n",
       "    .dataframe thead th {\n",
       "        text-align: right;\n",
       "    }\n",
       "</style>\n",
       "<table border=\"1\" class=\"dataframe\">\n",
       "  <thead>\n",
       "    <tr style=\"text-align: right;\">\n",
       "      <th></th>\n",
       "      <th>Text</th>\n",
       "      <th>username</th>\n",
       "      <th>Party</th>\n",
       "      <th>Polarity</th>\n",
       "      <th>Topic</th>\n",
       "    </tr>\n",
       "  </thead>\n",
       "  <tbody>\n",
       "    <tr>\n",
       "      <th>0</th>\n",
       "      <td>californian pleas join take strong stand human...</td>\n",
       "      <td>BarbaraBoxer</td>\n",
       "      <td>D</td>\n",
       "      <td>0.433333</td>\n",
       "      <td>0</td>\n",
       "    </tr>\n",
       "    <tr>\n",
       "      <th>1</th>\n",
       "      <td>vote ye prop consum right know food</td>\n",
       "      <td>BarbaraBoxer</td>\n",
       "      <td>D</td>\n",
       "      <td>0.285714</td>\n",
       "      <td>0</td>\n",
       "    </tr>\n",
       "    <tr>\n",
       "      <th>2</th>\n",
       "      <td>let vote school kid commun vote</td>\n",
       "      <td>BarbaraBoxer</td>\n",
       "      <td>D</td>\n",
       "      <td>0.000000</td>\n",
       "      <td>2</td>\n",
       "    </tr>\n",
       "    <tr>\n",
       "      <th>3</th>\n",
       "      <td>prop sham brought u special interest vote</td>\n",
       "      <td>BarbaraBoxer</td>\n",
       "      <td>D</td>\n",
       "      <td>0.078571</td>\n",
       "      <td>2</td>\n",
       "    </tr>\n",
       "    <tr>\n",
       "      <th>4</th>\n",
       "      <td>romney ship load job china peddl load lie ohio...</td>\n",
       "      <td>BarbaraBoxer</td>\n",
       "      <td>D</td>\n",
       "      <td>0.000000</td>\n",
       "      <td>0</td>\n",
       "    </tr>\n",
       "  </tbody>\n",
       "</table>\n",
       "</div>"
      ],
      "text/plain": [
       "                                                Text      username Party  \\\n",
       "0  californian pleas join take strong stand human...  BarbaraBoxer     D   \n",
       "1                vote ye prop consum right know food  BarbaraBoxer     D   \n",
       "2                    let vote school kid commun vote  BarbaraBoxer     D   \n",
       "3          prop sham brought u special interest vote  BarbaraBoxer     D   \n",
       "4  romney ship load job china peddl load lie ohio...  BarbaraBoxer     D   \n",
       "\n",
       "   Polarity  Topic  \n",
       "0  0.433333      0  \n",
       "1  0.285714      0  \n",
       "2  0.000000      2  \n",
       "3  0.078571      2  \n",
       "4  0.000000      0  "
      ]
     },
     "execution_count": 251,
     "metadata": {},
     "output_type": "execute_result"
    }
   ],
   "source": [
    "final2012 = dataall.iloc[ind2012][['Text', 'username','Party','Polarity']]\n",
    "final2012['Topic'] = list(np.argmax(lda_out2012, axis = 1))\n",
    "final2012.head()"
   ]
  },
  {
   "cell_type": "markdown",
   "metadata": {},
   "source": [
    "### 2016"
   ]
  },
  {
   "cell_type": "code",
   "execution_count": 257,
   "metadata": {},
   "outputs": [
    {
     "data": {
      "text/html": [
       "<div>\n",
       "<style scoped>\n",
       "    .dataframe tbody tr th:only-of-type {\n",
       "        vertical-align: middle;\n",
       "    }\n",
       "\n",
       "    .dataframe tbody tr th {\n",
       "        vertical-align: top;\n",
       "    }\n",
       "\n",
       "    .dataframe thead th {\n",
       "        text-align: right;\n",
       "    }\n",
       "</style>\n",
       "<table border=\"1\" class=\"dataframe\">\n",
       "  <thead>\n",
       "    <tr style=\"text-align: right;\">\n",
       "      <th></th>\n",
       "      <th>Text</th>\n",
       "      <th>username</th>\n",
       "      <th>Party</th>\n",
       "      <th>Polarity</th>\n",
       "      <th>Topic</th>\n",
       "    </tr>\n",
       "  </thead>\n",
       "  <tbody>\n",
       "    <tr>\n",
       "      <th>13084</th>\n",
       "      <td>per constitut pen phone theori govern</td>\n",
       "      <td>SenSasse</td>\n",
       "      <td>R</td>\n",
       "      <td>0.000</td>\n",
       "      <td>1</td>\n",
       "    </tr>\n",
       "    <tr>\n",
       "      <th>13085</th>\n",
       "      <td>senior member congress go execut branch ask le...</td>\n",
       "      <td>SenSasse</td>\n",
       "      <td>R</td>\n",
       "      <td>0.700</td>\n",
       "      <td>0</td>\n",
       "    </tr>\n",
       "    <tr>\n",
       "      <th>13086</th>\n",
       "      <td>peopl know basi govern rule limit govern freed...</td>\n",
       "      <td>SenSasse</td>\n",
       "      <td>R</td>\n",
       "      <td>0.000</td>\n",
       "      <td>0</td>\n",
       "    </tr>\n",
       "    <tr>\n",
       "      <th>13087</th>\n",
       "      <td>spin solv time white hous admit obamacar work</td>\n",
       "      <td>SenSasse</td>\n",
       "      <td>R</td>\n",
       "      <td>0.000</td>\n",
       "      <td>0</td>\n",
       "    </tr>\n",
       "    <tr>\n",
       "      <th>13088</th>\n",
       "      <td>safe space movement colleg campu understand fi...</td>\n",
       "      <td>SenSasse</td>\n",
       "      <td>R</td>\n",
       "      <td>0.375</td>\n",
       "      <td>0</td>\n",
       "    </tr>\n",
       "  </tbody>\n",
       "</table>\n",
       "</div>"
      ],
      "text/plain": [
       "                                                    Text  username Party  \\\n",
       "13084              per constitut pen phone theori govern  SenSasse     R   \n",
       "13085  senior member congress go execut branch ask le...  SenSasse     R   \n",
       "13086  peopl know basi govern rule limit govern freed...  SenSasse     R   \n",
       "13087      spin solv time white hous admit obamacar work  SenSasse     R   \n",
       "13088  safe space movement colleg campu understand fi...  SenSasse     R   \n",
       "\n",
       "       Polarity  Topic  \n",
       "13084     0.000      1  \n",
       "13085     0.700      0  \n",
       "13086     0.000      0  \n",
       "13087     0.000      0  \n",
       "13088     0.375      0  "
      ]
     },
     "execution_count": 257,
     "metadata": {},
     "output_type": "execute_result"
    }
   ],
   "source": [
    "final2016 = dataall.iloc[ind2016][['Text', 'username','Party','Polarity']]\n",
    "final2016['Topic'] = list(np.argmax(lda_out2016, axis = 1))\n",
    "final2016.head()"
   ]
  },
  {
   "cell_type": "markdown",
   "metadata": {},
   "source": [
    "### 2020"
   ]
  },
  {
   "cell_type": "code",
   "execution_count": 258,
   "metadata": {},
   "outputs": [
    {
     "data": {
      "text/html": [
       "<div>\n",
       "<style scoped>\n",
       "    .dataframe tbody tr th:only-of-type {\n",
       "        vertical-align: middle;\n",
       "    }\n",
       "\n",
       "    .dataframe tbody tr th {\n",
       "        vertical-align: top;\n",
       "    }\n",
       "\n",
       "    .dataframe thead th {\n",
       "        text-align: right;\n",
       "    }\n",
       "</style>\n",
       "<table border=\"1\" class=\"dataframe\">\n",
       "  <thead>\n",
       "    <tr style=\"text-align: right;\">\n",
       "      <th></th>\n",
       "      <th>Text</th>\n",
       "      <th>username</th>\n",
       "      <th>Party</th>\n",
       "      <th>Polarity</th>\n",
       "      <th>Topic</th>\n",
       "    </tr>\n",
       "  </thead>\n",
       "  <tbody>\n",
       "    <tr>\n",
       "      <th>42743</th>\n",
       "      <td>memori day honor whose spirit duti never waver...</td>\n",
       "      <td>SenAmyKlobuchar</td>\n",
       "      <td>D</td>\n",
       "      <td>0.000000</td>\n",
       "      <td>3</td>\n",
       "    </tr>\n",
       "    <tr>\n",
       "      <th>42744</th>\n",
       "      <td>sen klobuchar join introduc legisl creat new j...</td>\n",
       "      <td>SenAmyKlobuchar</td>\n",
       "      <td>D</td>\n",
       "      <td>0.136364</td>\n",
       "      <td>16</td>\n",
       "    </tr>\n",
       "    <tr>\n",
       "      <th>42745</th>\n",
       "      <td>time mani farmer rural commun feel disproporti...</td>\n",
       "      <td>SenAmyKlobuchar</td>\n",
       "      <td>D</td>\n",
       "      <td>0.216667</td>\n",
       "      <td>14</td>\n",
       "    </tr>\n",
       "    <tr>\n",
       "      <th>42746</th>\n",
       "      <td>sen ami klobuchar jerri moran introduc biparti...</td>\n",
       "      <td>SenAmyKlobuchar</td>\n",
       "      <td>D</td>\n",
       "      <td>0.000000</td>\n",
       "      <td>1</td>\n",
       "    </tr>\n",
       "    <tr>\n",
       "      <th>42747</th>\n",
       "      <td>today mental health awar month senat klobuchar...</td>\n",
       "      <td>SenAmyKlobuchar</td>\n",
       "      <td>D</td>\n",
       "      <td>-0.100000</td>\n",
       "      <td>3</td>\n",
       "    </tr>\n",
       "  </tbody>\n",
       "</table>\n",
       "</div>"
      ],
      "text/plain": [
       "                                                    Text         username  \\\n",
       "42743  memori day honor whose spirit duti never waver...  SenAmyKlobuchar   \n",
       "42744  sen klobuchar join introduc legisl creat new j...  SenAmyKlobuchar   \n",
       "42745  time mani farmer rural commun feel disproporti...  SenAmyKlobuchar   \n",
       "42746  sen ami klobuchar jerri moran introduc biparti...  SenAmyKlobuchar   \n",
       "42747  today mental health awar month senat klobuchar...  SenAmyKlobuchar   \n",
       "\n",
       "      Party  Polarity  Topic  \n",
       "42743     D  0.000000      3  \n",
       "42744     D  0.136364     16  \n",
       "42745     D  0.216667     14  \n",
       "42746     D  0.000000      1  \n",
       "42747     D -0.100000      3  "
      ]
     },
     "execution_count": 258,
     "metadata": {},
     "output_type": "execute_result"
    }
   ],
   "source": [
    "final2020 = dataall.iloc[ind2020][['Text', 'username','Party','Polarity']]\n",
    "final2020['Topic'] = list(np.argmax(lda_out2020, axis = 1))\n",
    "final2020.head()"
   ]
  },
  {
   "cell_type": "code",
   "execution_count": 254,
   "metadata": {},
   "outputs": [],
   "source": [
    "def summary_df(keyword_df, final):\n",
    "\n",
    "    # Create a reporting dataframe\n",
    "    report_df = keyword_df.copy()\n",
    "\n",
    "    # Calculate the number of tweets classified in each topic\n",
    "    report_df['NumTweet'] = final.groupby(['Topic']).count()['Text'].values\n",
    "\n",
    "    # Calculate the number of Democratic and Republican composition in each topic \n",
    "    report_df['D'] = final.groupby(['Topic','Party']).count()[['Text']].unstack()['Text']['D'].values\n",
    "    report_df['R'] = final.groupby(['Topic','Party']).count()[['Text']].unstack()['Text']['R'].values\n",
    "    report_df['D%'] = np.round(report_df['D']*100/(report_df['D']+report_df['R']),1)\n",
    "    report_df['R%'] = np.round(report_df['R']*100/(report_df['D']+report_df['R']),1)\n",
    "\n",
    "    # Calculate the average polarity in each topic\n",
    "    report_df['PolarityMean'] = final.groupby('Topic').mean()['Polarity'].values\n",
    "\n",
    "    return(report_df)"
   ]
  },
  {
   "cell_type": "code",
   "execution_count": 264,
   "metadata": {
    "scrolled": true
   },
   "outputs": [
    {
     "data": {
      "text/html": [
       "<div>\n",
       "<style scoped>\n",
       "    .dataframe tbody tr th:only-of-type {\n",
       "        vertical-align: middle;\n",
       "    }\n",
       "\n",
       "    .dataframe tbody tr th {\n",
       "        vertical-align: top;\n",
       "    }\n",
       "\n",
       "    .dataframe thead th {\n",
       "        text-align: right;\n",
       "    }\n",
       "</style>\n",
       "<table border=\"1\" class=\"dataframe\">\n",
       "  <thead>\n",
       "    <tr style=\"text-align: right;\">\n",
       "      <th></th>\n",
       "      <th>Word 0</th>\n",
       "      <th>Word 1</th>\n",
       "      <th>Word 2</th>\n",
       "      <th>Word 3</th>\n",
       "      <th>Word 4</th>\n",
       "      <th>Word 5</th>\n",
       "      <th>Word 6</th>\n",
       "      <th>Word 7</th>\n",
       "      <th>Word 8</th>\n",
       "      <th>Word 9</th>\n",
       "      <th>Word 10</th>\n",
       "      <th>Word 11</th>\n",
       "      <th>Word 12</th>\n",
       "      <th>Word 13</th>\n",
       "      <th>Word 14</th>\n",
       "      <th>Word 15</th>\n",
       "      <th>Word 16</th>\n",
       "      <th>Word 17</th>\n",
       "      <th>Word 18</th>\n",
       "      <th>Word 19</th>\n",
       "      <th>NumTweet</th>\n",
       "      <th>D</th>\n",
       "      <th>R</th>\n",
       "      <th>D%</th>\n",
       "      <th>R%</th>\n",
       "      <th>PolarityMean</th>\n",
       "    </tr>\n",
       "  </thead>\n",
       "  <tbody>\n",
       "    <tr>\n",
       "      <th>Topic 0</th>\n",
       "      <td>amp</td>\n",
       "      <td>obama</td>\n",
       "      <td>sen</td>\n",
       "      <td>presid</td>\n",
       "      <td>job</td>\n",
       "      <td>today</td>\n",
       "      <td>need</td>\n",
       "      <td>senat</td>\n",
       "      <td>talk</td>\n",
       "      <td>join</td>\n",
       "      <td>watch</td>\n",
       "      <td>live</td>\n",
       "      <td>vt</td>\n",
       "      <td>sander</td>\n",
       "      <td>news</td>\n",
       "      <td>bill</td>\n",
       "      <td>act</td>\n",
       "      <td>economi</td>\n",
       "      <td>energi</td>\n",
       "      <td>busi</td>\n",
       "      <td>4415</td>\n",
       "      <td>2594</td>\n",
       "      <td>1821</td>\n",
       "      <td>58.8</td>\n",
       "      <td>41.2</td>\n",
       "      <td>0.092880</td>\n",
       "    </tr>\n",
       "    <tr>\n",
       "      <th>Topic 1</th>\n",
       "      <td>tax</td>\n",
       "      <td>senat</td>\n",
       "      <td>would</td>\n",
       "      <td>new</td>\n",
       "      <td>amp</td>\n",
       "      <td>job</td>\n",
       "      <td>budget</td>\n",
       "      <td>read</td>\n",
       "      <td>cut</td>\n",
       "      <td>must</td>\n",
       "      <td>health</td>\n",
       "      <td>help</td>\n",
       "      <td>romney</td>\n",
       "      <td>call</td>\n",
       "      <td>today</td>\n",
       "      <td>million</td>\n",
       "      <td>american</td>\n",
       "      <td>offic</td>\n",
       "      <td>plan</td>\n",
       "      <td>report</td>\n",
       "      <td>3935</td>\n",
       "      <td>1963</td>\n",
       "      <td>1972</td>\n",
       "      <td>49.9</td>\n",
       "      <td>50.1</td>\n",
       "      <td>0.069748</td>\n",
       "    </tr>\n",
       "    <tr>\n",
       "      <th>Topic 2</th>\n",
       "      <td>great</td>\n",
       "      <td>today</td>\n",
       "      <td>day</td>\n",
       "      <td>thank</td>\n",
       "      <td>make</td>\n",
       "      <td>go</td>\n",
       "      <td>honor</td>\n",
       "      <td>proud</td>\n",
       "      <td>year</td>\n",
       "      <td>congrat</td>\n",
       "      <td>amp</td>\n",
       "      <td>good</td>\n",
       "      <td>vote</td>\n",
       "      <td>th</td>\n",
       "      <td>presid</td>\n",
       "      <td>famili</td>\n",
       "      <td>obama</td>\n",
       "      <td>win</td>\n",
       "      <td>work</td>\n",
       "      <td>happi</td>\n",
       "      <td>4734</td>\n",
       "      <td>2368</td>\n",
       "      <td>2366</td>\n",
       "      <td>50.0</td>\n",
       "      <td>50.0</td>\n",
       "      <td>0.200102</td>\n",
       "    </tr>\n",
       "  </tbody>\n",
       "</table>\n",
       "</div>"
      ],
      "text/plain": [
       "        Word 0 Word 1 Word 2  Word 3 Word 4 Word 5  Word 6 Word 7 Word 8  \\\n",
       "Topic 0    amp  obama    sen  presid    job  today    need  senat   talk   \n",
       "Topic 1    tax  senat  would     new    amp    job  budget   read    cut   \n",
       "Topic 2  great  today    day   thank   make     go   honor  proud   year   \n",
       "\n",
       "          Word 9 Word 10 Word 11 Word 12 Word 13 Word 14  Word 15   Word 16  \\\n",
       "Topic 0     join   watch    live      vt  sander    news     bill       act   \n",
       "Topic 1     must  health    help  romney    call   today  million  american   \n",
       "Topic 2  congrat     amp    good    vote      th  presid   famili     obama   \n",
       "\n",
       "         Word 17 Word 18 Word 19  NumTweet     D     R    D%    R%  \\\n",
       "Topic 0  economi  energi    busi      4415  2594  1821  58.8  41.2   \n",
       "Topic 1    offic    plan  report      3935  1963  1972  49.9  50.1   \n",
       "Topic 2      win    work   happi      4734  2368  2366  50.0  50.0   \n",
       "\n",
       "         PolarityMean  \n",
       "Topic 0      0.092880  \n",
       "Topic 1      0.069748  \n",
       "Topic 2      0.200102  "
      ]
     },
     "execution_count": 264,
     "metadata": {},
     "output_type": "execute_result"
    }
   ],
   "source": [
    "pd.set_option('display.max_columns', None)\n",
    "report2012 = summary_df(keyword_df2012, final2012)\n",
    "report2012"
   ]
  },
  {
   "cell_type": "code",
   "execution_count": 265,
   "metadata": {},
   "outputs": [
    {
     "data": {
      "text/html": [
       "<div>\n",
       "<style scoped>\n",
       "    .dataframe tbody tr th:only-of-type {\n",
       "        vertical-align: middle;\n",
       "    }\n",
       "\n",
       "    .dataframe tbody tr th {\n",
       "        vertical-align: top;\n",
       "    }\n",
       "\n",
       "    .dataframe thead th {\n",
       "        text-align: right;\n",
       "    }\n",
       "</style>\n",
       "<table border=\"1\" class=\"dataframe\">\n",
       "  <thead>\n",
       "    <tr style=\"text-align: right;\">\n",
       "      <th></th>\n",
       "      <th>Word 0</th>\n",
       "      <th>Word 1</th>\n",
       "      <th>Word 2</th>\n",
       "      <th>Word 3</th>\n",
       "      <th>Word 4</th>\n",
       "      <th>Word 5</th>\n",
       "      <th>Word 6</th>\n",
       "      <th>Word 7</th>\n",
       "      <th>Word 8</th>\n",
       "      <th>Word 9</th>\n",
       "      <th>Word 10</th>\n",
       "      <th>Word 11</th>\n",
       "      <th>Word 12</th>\n",
       "      <th>Word 13</th>\n",
       "      <th>Word 14</th>\n",
       "      <th>Word 15</th>\n",
       "      <th>Word 16</th>\n",
       "      <th>Word 17</th>\n",
       "      <th>Word 18</th>\n",
       "      <th>Word 19</th>\n",
       "      <th>NumTweet</th>\n",
       "      <th>D</th>\n",
       "      <th>R</th>\n",
       "      <th>D%</th>\n",
       "      <th>R%</th>\n",
       "      <th>PolarityMean</th>\n",
       "    </tr>\n",
       "  </thead>\n",
       "  <tbody>\n",
       "    <tr>\n",
       "      <th>Topic 0</th>\n",
       "      <td>amp</td>\n",
       "      <td>work</td>\n",
       "      <td>hillari</td>\n",
       "      <td>trump</td>\n",
       "      <td>american</td>\n",
       "      <td>make</td>\n",
       "      <td>help</td>\n",
       "      <td>need</td>\n",
       "      <td>peopl</td>\n",
       "      <td>famili</td>\n",
       "      <td>happi</td>\n",
       "      <td>america</td>\n",
       "      <td>protect</td>\n",
       "      <td>woman</td>\n",
       "      <td>support</td>\n",
       "      <td>job</td>\n",
       "      <td>countri</td>\n",
       "      <td>bill</td>\n",
       "      <td>right</td>\n",
       "      <td>must</td>\n",
       "      <td>11729</td>\n",
       "      <td>7396</td>\n",
       "      <td>4333</td>\n",
       "      <td>63.1</td>\n",
       "      <td>36.9</td>\n",
       "      <td>0.112967</td>\n",
       "    </tr>\n",
       "    <tr>\n",
       "      <th>Topic 1</th>\n",
       "      <td>amp</td>\n",
       "      <td>senat</td>\n",
       "      <td>help</td>\n",
       "      <td>new</td>\n",
       "      <td>fund</td>\n",
       "      <td>stop</td>\n",
       "      <td>today</td>\n",
       "      <td>zika</td>\n",
       "      <td>offic</td>\n",
       "      <td>via</td>\n",
       "      <td>join</td>\n",
       "      <td>counti</td>\n",
       "      <td>read</td>\n",
       "      <td>staff</td>\n",
       "      <td>state</td>\n",
       "      <td>obama</td>\n",
       "      <td>call</td>\n",
       "      <td>must</td>\n",
       "      <td>drug</td>\n",
       "      <td>feder</td>\n",
       "      <td>8264</td>\n",
       "      <td>3453</td>\n",
       "      <td>4811</td>\n",
       "      <td>41.8</td>\n",
       "      <td>58.2</td>\n",
       "      <td>0.054773</td>\n",
       "    </tr>\n",
       "    <tr>\n",
       "      <th>Topic 2</th>\n",
       "      <td>thank</td>\n",
       "      <td>great</td>\n",
       "      <td>today</td>\n",
       "      <td>honor</td>\n",
       "      <td>visit</td>\n",
       "      <td>meet</td>\n",
       "      <td>join</td>\n",
       "      <td>de</td>\n",
       "      <td>year</td>\n",
       "      <td>famili</td>\n",
       "      <td>amp</td>\n",
       "      <td>morn</td>\n",
       "      <td>servic</td>\n",
       "      <td>see</td>\n",
       "      <td>congrat</td>\n",
       "      <td>florida</td>\n",
       "      <td>day</td>\n",
       "      <td>enjoy</td>\n",
       "      <td>last</td>\n",
       "      <td>commun</td>\n",
       "      <td>9666</td>\n",
       "      <td>3679</td>\n",
       "      <td>5987</td>\n",
       "      <td>38.1</td>\n",
       "      <td>61.9</td>\n",
       "      <td>0.186427</td>\n",
       "    </tr>\n",
       "  </tbody>\n",
       "</table>\n",
       "</div>"
      ],
      "text/plain": [
       "        Word 0 Word 1   Word 2 Word 3    Word 4 Word 5 Word 6 Word 7 Word 8  \\\n",
       "Topic 0    amp   work  hillari  trump  american   make   help   need  peopl   \n",
       "Topic 1    amp  senat     help    new      fund   stop  today   zika  offic   \n",
       "Topic 2  thank  great    today  honor     visit   meet   join     de   year   \n",
       "\n",
       "         Word 9 Word 10  Word 11  Word 12 Word 13  Word 14  Word 15  Word 16  \\\n",
       "Topic 0  famili   happi  america  protect   woman  support      job  countri   \n",
       "Topic 1     via    join   counti     read   staff    state    obama     call   \n",
       "Topic 2  famili     amp     morn   servic     see  congrat  florida      day   \n",
       "\n",
       "        Word 17 Word 18 Word 19  NumTweet     D     R    D%    R%  \\\n",
       "Topic 0    bill   right    must     11729  7396  4333  63.1  36.9   \n",
       "Topic 1    must    drug   feder      8264  3453  4811  41.8  58.2   \n",
       "Topic 2   enjoy    last  commun      9666  3679  5987  38.1  61.9   \n",
       "\n",
       "         PolarityMean  \n",
       "Topic 0      0.112967  \n",
       "Topic 1      0.054773  \n",
       "Topic 2      0.186427  "
      ]
     },
     "execution_count": 265,
     "metadata": {},
     "output_type": "execute_result"
    }
   ],
   "source": [
    "report2016 = summary_df(keyword_df2016, final2016)\n",
    "report2016"
   ]
  },
  {
   "cell_type": "code",
   "execution_count": 266,
   "metadata": {},
   "outputs": [
    {
     "data": {
      "text/html": [
       "<div>\n",
       "<style scoped>\n",
       "    .dataframe tbody tr th:only-of-type {\n",
       "        vertical-align: middle;\n",
       "    }\n",
       "\n",
       "    .dataframe tbody tr th {\n",
       "        vertical-align: top;\n",
       "    }\n",
       "\n",
       "    .dataframe thead th {\n",
       "        text-align: right;\n",
       "    }\n",
       "</style>\n",
       "<table border=\"1\" class=\"dataframe\">\n",
       "  <thead>\n",
       "    <tr style=\"text-align: right;\">\n",
       "      <th></th>\n",
       "      <th>Word 0</th>\n",
       "      <th>Word 1</th>\n",
       "      <th>Word 2</th>\n",
       "      <th>Word 3</th>\n",
       "      <th>Word 4</th>\n",
       "      <th>Word 5</th>\n",
       "      <th>Word 6</th>\n",
       "      <th>Word 7</th>\n",
       "      <th>Word 8</th>\n",
       "      <th>Word 9</th>\n",
       "      <th>Word 10</th>\n",
       "      <th>Word 11</th>\n",
       "      <th>Word 12</th>\n",
       "      <th>Word 13</th>\n",
       "      <th>Word 14</th>\n",
       "      <th>Word 15</th>\n",
       "      <th>Word 16</th>\n",
       "      <th>Word 17</th>\n",
       "      <th>Word 18</th>\n",
       "      <th>Word 19</th>\n",
       "      <th>NumTweet</th>\n",
       "      <th>D</th>\n",
       "      <th>R</th>\n",
       "      <th>D%</th>\n",
       "      <th>R%</th>\n",
       "      <th>PolarityMean</th>\n",
       "    </tr>\n",
       "  </thead>\n",
       "  <tbody>\n",
       "    <tr>\n",
       "      <th>Topic 0</th>\n",
       "      <td>busi</td>\n",
       "      <td>small</td>\n",
       "      <td>need</td>\n",
       "      <td>help</td>\n",
       "      <td>relief</td>\n",
       "      <td>provid</td>\n",
       "      <td>worker</td>\n",
       "      <td>fund</td>\n",
       "      <td>support</td>\n",
       "      <td>covid</td>\n",
       "      <td>amp</td>\n",
       "      <td>program</td>\n",
       "      <td>famili</td>\n",
       "      <td>loan</td>\n",
       "      <td>act</td>\n",
       "      <td>bill</td>\n",
       "      <td>rural</td>\n",
       "      <td>care</td>\n",
       "      <td>work</td>\n",
       "      <td>senat</td>\n",
       "      <td>4761</td>\n",
       "      <td>2243</td>\n",
       "      <td>2518</td>\n",
       "      <td>47.1</td>\n",
       "      <td>52.9</td>\n",
       "      <td>0.014994</td>\n",
       "    </tr>\n",
       "    <tr>\n",
       "      <th>Topic 1</th>\n",
       "      <td>drug</td>\n",
       "      <td>cost</td>\n",
       "      <td>act</td>\n",
       "      <td>american</td>\n",
       "      <td>compani</td>\n",
       "      <td>price</td>\n",
       "      <td>bill</td>\n",
       "      <td>climat</td>\n",
       "      <td>would</td>\n",
       "      <td>legisl</td>\n",
       "      <td>fund</td>\n",
       "      <td>introduc</td>\n",
       "      <td>water</td>\n",
       "      <td>feder</td>\n",
       "      <td>law</td>\n",
       "      <td>must</td>\n",
       "      <td>year</td>\n",
       "      <td>bipartisan</td>\n",
       "      <td>lower</td>\n",
       "      <td>air</td>\n",
       "      <td>2299</td>\n",
       "      <td>1301</td>\n",
       "      <td>998</td>\n",
       "      <td>56.6</td>\n",
       "      <td>43.4</td>\n",
       "      <td>0.056736</td>\n",
       "    </tr>\n",
       "    <tr>\n",
       "      <th>Topic 2</th>\n",
       "      <td>thank</td>\n",
       "      <td>child</td>\n",
       "      <td>disast</td>\n",
       "      <td>west</td>\n",
       "      <td>receiv</td>\n",
       "      <td>payment</td>\n",
       "      <td>appli</td>\n",
       "      <td>today</td>\n",
       "      <td>school</td>\n",
       "      <td>program</td>\n",
       "      <td>virginia</td>\n",
       "      <td>file</td>\n",
       "      <td>applic</td>\n",
       "      <td>tax</td>\n",
       "      <td>impact</td>\n",
       "      <td>assist</td>\n",
       "      <td>inform</td>\n",
       "      <td>approv</td>\n",
       "      <td>april</td>\n",
       "      <td>learn</td>\n",
       "      <td>1633</td>\n",
       "      <td>850</td>\n",
       "      <td>783</td>\n",
       "      <td>52.1</td>\n",
       "      <td>47.9</td>\n",
       "      <td>0.080683</td>\n",
       "    </tr>\n",
       "    <tr>\n",
       "      <th>Topic 3</th>\n",
       "      <td>servic</td>\n",
       "      <td>nation</td>\n",
       "      <td>serv</td>\n",
       "      <td>woman</td>\n",
       "      <td>famili</td>\n",
       "      <td>senat</td>\n",
       "      <td>honor</td>\n",
       "      <td>life</td>\n",
       "      <td>thank</td>\n",
       "      <td>day</td>\n",
       "      <td>men</td>\n",
       "      <td>pass</td>\n",
       "      <td>veteran</td>\n",
       "      <td>gun</td>\n",
       "      <td>american</td>\n",
       "      <td>today</td>\n",
       "      <td>law</td>\n",
       "      <td>year</td>\n",
       "      <td>countri</td>\n",
       "      <td>member</td>\n",
       "      <td>2481</td>\n",
       "      <td>1166</td>\n",
       "      <td>1315</td>\n",
       "      <td>47.0</td>\n",
       "      <td>53.0</td>\n",
       "      <td>0.160366</td>\n",
       "    </tr>\n",
       "    <tr>\n",
       "      <th>Topic 4</th>\n",
       "      <td>health</td>\n",
       "      <td>care</td>\n",
       "      <td>covid</td>\n",
       "      <td>coronaviru</td>\n",
       "      <td>need</td>\n",
       "      <td>public</td>\n",
       "      <td>spread</td>\n",
       "      <td>crisi</td>\n",
       "      <td>must</td>\n",
       "      <td>test</td>\n",
       "      <td>pandem</td>\n",
       "      <td>protect</td>\n",
       "      <td>amp</td>\n",
       "      <td>access</td>\n",
       "      <td>take</td>\n",
       "      <td>american</td>\n",
       "      <td>work</td>\n",
       "      <td>home</td>\n",
       "      <td>life</td>\n",
       "      <td>safe</td>\n",
       "      <td>4604</td>\n",
       "      <td>3121</td>\n",
       "      <td>1483</td>\n",
       "      <td>67.8</td>\n",
       "      <td>32.2</td>\n",
       "      <td>0.065852</td>\n",
       "    </tr>\n",
       "    <tr>\n",
       "      <th>Topic 5</th>\n",
       "      <td>investig</td>\n",
       "      <td>right</td>\n",
       "      <td>human</td>\n",
       "      <td>amp</td>\n",
       "      <td>report</td>\n",
       "      <td>call</td>\n",
       "      <td>presid</td>\n",
       "      <td>releas</td>\n",
       "      <td>gener</td>\n",
       "      <td>polit</td>\n",
       "      <td>dr</td>\n",
       "      <td>russia</td>\n",
       "      <td>news</td>\n",
       "      <td>fake</td>\n",
       "      <td>corrupt</td>\n",
       "      <td>committe</td>\n",
       "      <td>account</td>\n",
       "      <td>sen</td>\n",
       "      <td>offici</td>\n",
       "      <td>peopl</td>\n",
       "      <td>2548</td>\n",
       "      <td>1070</td>\n",
       "      <td>1478</td>\n",
       "      <td>42.0</td>\n",
       "      <td>58.0</td>\n",
       "      <td>0.025862</td>\n",
       "    </tr>\n",
       "    <tr>\n",
       "      <th>Topic 6</th>\n",
       "      <td>de</td>\n",
       "      <td>la</td>\n",
       "      <td>el</td>\n",
       "      <td>lo</td>\n",
       "      <td>en</td>\n",
       "      <td>para</td>\n",
       "      <td>que</td>\n",
       "      <td>rubio</td>\n",
       "      <td>su</td>\n",
       "      <td>ed</td>\n",
       "      <td>del</td>\n",
       "      <td>op</td>\n",
       "      <td>al</td>\n",
       "      <td>por</td>\n",
       "      <td>un</td>\n",
       "      <td>con</td>\n",
       "      <td>puerto</td>\n",
       "      <td>ma</td>\n",
       "      <td>rico</td>\n",
       "      <td>sobr</td>\n",
       "      <td>625</td>\n",
       "      <td>301</td>\n",
       "      <td>324</td>\n",
       "      <td>48.2</td>\n",
       "      <td>51.8</td>\n",
       "      <td>0.029792</td>\n",
       "    </tr>\n",
       "    <tr>\n",
       "      <th>Topic 7</th>\n",
       "      <td>china</td>\n",
       "      <td>join</td>\n",
       "      <td>live</td>\n",
       "      <td>coronaviru</td>\n",
       "      <td>watch</td>\n",
       "      <td>discu</td>\n",
       "      <td>tune</td>\n",
       "      <td>chines</td>\n",
       "      <td>pm</td>\n",
       "      <td>covid</td>\n",
       "      <td>question</td>\n",
       "      <td>communist</td>\n",
       "      <td>listen</td>\n",
       "      <td>town</td>\n",
       "      <td>hall</td>\n",
       "      <td>world</td>\n",
       "      <td>pandem</td>\n",
       "      <td>today</td>\n",
       "      <td>global</td>\n",
       "      <td>talk</td>\n",
       "      <td>2675</td>\n",
       "      <td>684</td>\n",
       "      <td>1991</td>\n",
       "      <td>25.6</td>\n",
       "      <td>74.4</td>\n",
       "      <td>0.098167</td>\n",
       "    </tr>\n",
       "    <tr>\n",
       "      <th>Topic 8</th>\n",
       "      <td>new</td>\n",
       "      <td>help</td>\n",
       "      <td>student</td>\n",
       "      <td>school</td>\n",
       "      <td>offic</td>\n",
       "      <td>learn</td>\n",
       "      <td>find</td>\n",
       "      <td>educ</td>\n",
       "      <td>state</td>\n",
       "      <td>visit</td>\n",
       "      <td>pleas</td>\n",
       "      <td>work</td>\n",
       "      <td>teacher</td>\n",
       "      <td>donat</td>\n",
       "      <td>challeng</td>\n",
       "      <td>covid</td>\n",
       "      <td>resourc</td>\n",
       "      <td>home</td>\n",
       "      <td>team</td>\n",
       "      <td>connect</td>\n",
       "      <td>1961</td>\n",
       "      <td>1081</td>\n",
       "      <td>880</td>\n",
       "      <td>55.1</td>\n",
       "      <td>44.9</td>\n",
       "      <td>0.133927</td>\n",
       "    </tr>\n",
       "    <tr>\n",
       "      <th>Topic 9</th>\n",
       "      <td>coronaviru</td>\n",
       "      <td>state</td>\n",
       "      <td>covid</td>\n",
       "      <td>feder</td>\n",
       "      <td>amp</td>\n",
       "      <td>fund</td>\n",
       "      <td>help</td>\n",
       "      <td>resourc</td>\n",
       "      <td>local</td>\n",
       "      <td>need</td>\n",
       "      <td>receiv</td>\n",
       "      <td>govern</td>\n",
       "      <td>ensur</td>\n",
       "      <td>respons</td>\n",
       "      <td>inform</td>\n",
       "      <td>support</td>\n",
       "      <td>provid</td>\n",
       "      <td>work</td>\n",
       "      <td>pandem</td>\n",
       "      <td>commun</td>\n",
       "      <td>3754</td>\n",
       "      <td>1877</td>\n",
       "      <td>1877</td>\n",
       "      <td>50.0</td>\n",
       "      <td>50.0</td>\n",
       "      <td>0.097906</td>\n",
       "    </tr>\n",
       "    <tr>\n",
       "      <th>Topic 10</th>\n",
       "      <td>presid</td>\n",
       "      <td>trump</td>\n",
       "      <td>senat</td>\n",
       "      <td>impeach</td>\n",
       "      <td>hous</td>\n",
       "      <td>trial</td>\n",
       "      <td>wit</td>\n",
       "      <td>american</td>\n",
       "      <td>war</td>\n",
       "      <td>vote</td>\n",
       "      <td>iran</td>\n",
       "      <td>republican</td>\n",
       "      <td>congress</td>\n",
       "      <td>power</td>\n",
       "      <td>democrat</td>\n",
       "      <td>want</td>\n",
       "      <td>peopl</td>\n",
       "      <td>document</td>\n",
       "      <td>constitut</td>\n",
       "      <td>fair</td>\n",
       "      <td>4836</td>\n",
       "      <td>3117</td>\n",
       "      <td>1719</td>\n",
       "      <td>64.5</td>\n",
       "      <td>35.5</td>\n",
       "      <td>0.064715</td>\n",
       "    </tr>\n",
       "    <tr>\n",
       "      <th>Topic 11</th>\n",
       "      <td>vote</td>\n",
       "      <td>elect</td>\n",
       "      <td>south</td>\n",
       "      <td>win</td>\n",
       "      <td>student</td>\n",
       "      <td>carolina</td>\n",
       "      <td>berni</td>\n",
       "      <td>colleg</td>\n",
       "      <td>voter</td>\n",
       "      <td>rule</td>\n",
       "      <td>campaign</td>\n",
       "      <td>tuesday</td>\n",
       "      <td>borrow</td>\n",
       "      <td>tulsi</td>\n",
       "      <td>new</td>\n",
       "      <td>north</td>\n",
       "      <td>stand</td>\n",
       "      <td>hong</td>\n",
       "      <td>ye</td>\n",
       "      <td>make</td>\n",
       "      <td>1015</td>\n",
       "      <td>636</td>\n",
       "      <td>379</td>\n",
       "      <td>62.7</td>\n",
       "      <td>37.3</td>\n",
       "      <td>0.164744</td>\n",
       "    </tr>\n",
       "    <tr>\n",
       "      <th>Topic 12</th>\n",
       "      <td>worker</td>\n",
       "      <td>protect</td>\n",
       "      <td>need</td>\n",
       "      <td>suppli</td>\n",
       "      <td>amp</td>\n",
       "      <td>medic</td>\n",
       "      <td>act</td>\n",
       "      <td>equip</td>\n",
       "      <td>covid</td>\n",
       "      <td>mask</td>\n",
       "      <td>must</td>\n",
       "      <td>letter</td>\n",
       "      <td>product</td>\n",
       "      <td>nation</td>\n",
       "      <td>essenti</td>\n",
       "      <td>urg</td>\n",
       "      <td>pandem</td>\n",
       "      <td>use</td>\n",
       "      <td>trump</td>\n",
       "      <td>ensur</td>\n",
       "      <td>2630</td>\n",
       "      <td>1626</td>\n",
       "      <td>1004</td>\n",
       "      <td>61.8</td>\n",
       "      <td>38.2</td>\n",
       "      <td>0.104330</td>\n",
       "    </tr>\n",
       "    <tr>\n",
       "      <th>Topic 13</th>\n",
       "      <td>american</td>\n",
       "      <td>get</td>\n",
       "      <td>time</td>\n",
       "      <td>go</td>\n",
       "      <td>need</td>\n",
       "      <td>peopl</td>\n",
       "      <td>let</td>\n",
       "      <td>work</td>\n",
       "      <td>vote</td>\n",
       "      <td>job</td>\n",
       "      <td>democrat</td>\n",
       "      <td>trump</td>\n",
       "      <td>back</td>\n",
       "      <td>look</td>\n",
       "      <td>forward</td>\n",
       "      <td>done</td>\n",
       "      <td>togeth</td>\n",
       "      <td>one</td>\n",
       "      <td>year</td>\n",
       "      <td>make</td>\n",
       "      <td>3992</td>\n",
       "      <td>2490</td>\n",
       "      <td>1502</td>\n",
       "      <td>62.4</td>\n",
       "      <td>37.6</td>\n",
       "      <td>0.126249</td>\n",
       "    </tr>\n",
       "    <tr>\n",
       "      <th>Topic 14</th>\n",
       "      <td>work</td>\n",
       "      <td>thank</td>\n",
       "      <td>great</td>\n",
       "      <td>make</td>\n",
       "      <td>time</td>\n",
       "      <td>get</td>\n",
       "      <td>help</td>\n",
       "      <td>togeth</td>\n",
       "      <td>keep</td>\n",
       "      <td>safe</td>\n",
       "      <td>commun</td>\n",
       "      <td>good</td>\n",
       "      <td>famili</td>\n",
       "      <td>see</td>\n",
       "      <td>sure</td>\n",
       "      <td>one</td>\n",
       "      <td>state</td>\n",
       "      <td>back</td>\n",
       "      <td>hard</td>\n",
       "      <td>way</td>\n",
       "      <td>4207</td>\n",
       "      <td>2091</td>\n",
       "      <td>2116</td>\n",
       "      <td>49.7</td>\n",
       "      <td>50.3</td>\n",
       "      <td>0.236009</td>\n",
       "    </tr>\n",
       "    <tr>\n",
       "      <th>Topic 15</th>\n",
       "      <td>today</td>\n",
       "      <td>year</td>\n",
       "      <td>happi</td>\n",
       "      <td>honor</td>\n",
       "      <td>celebr</td>\n",
       "      <td>life</td>\n",
       "      <td>day</td>\n",
       "      <td>nation</td>\n",
       "      <td>amp</td>\n",
       "      <td>fight</td>\n",
       "      <td>world</td>\n",
       "      <td>proud</td>\n",
       "      <td>one</td>\n",
       "      <td>th</td>\n",
       "      <td>woman</td>\n",
       "      <td>wish</td>\n",
       "      <td>american</td>\n",
       "      <td>countri</td>\n",
       "      <td>commun</td>\n",
       "      <td>love</td>\n",
       "      <td>4341</td>\n",
       "      <td>2363</td>\n",
       "      <td>1978</td>\n",
       "      <td>54.4</td>\n",
       "      <td>45.6</td>\n",
       "      <td>0.169667</td>\n",
       "    </tr>\n",
       "    <tr>\n",
       "      <th>Topic 16</th>\n",
       "      <td>amp</td>\n",
       "      <td>test</td>\n",
       "      <td>economi</td>\n",
       "      <td>trade</td>\n",
       "      <td>farmer</td>\n",
       "      <td>work</td>\n",
       "      <td>job</td>\n",
       "      <td>produc</td>\n",
       "      <td>new</td>\n",
       "      <td>support</td>\n",
       "      <td>great</td>\n",
       "      <td>industri</td>\n",
       "      <td>secur</td>\n",
       "      <td>nation</td>\n",
       "      <td>help</td>\n",
       "      <td>import</td>\n",
       "      <td>state</td>\n",
       "      <td>develop</td>\n",
       "      <td>usmca</td>\n",
       "      <td>today</td>\n",
       "      <td>3503</td>\n",
       "      <td>985</td>\n",
       "      <td>2518</td>\n",
       "      <td>28.1</td>\n",
       "      <td>71.9</td>\n",
       "      <td>0.180266</td>\n",
       "    </tr>\n",
       "    <tr>\n",
       "      <th>Topic 17</th>\n",
       "      <td>american</td>\n",
       "      <td>peopl</td>\n",
       "      <td>trump</td>\n",
       "      <td>right</td>\n",
       "      <td>protect</td>\n",
       "      <td>presid</td>\n",
       "      <td>million</td>\n",
       "      <td>famili</td>\n",
       "      <td>corpor</td>\n",
       "      <td>republican</td>\n",
       "      <td>would</td>\n",
       "      <td>money</td>\n",
       "      <td>cut</td>\n",
       "      <td>tax</td>\n",
       "      <td>bill</td>\n",
       "      <td>pre</td>\n",
       "      <td>care</td>\n",
       "      <td>work</td>\n",
       "      <td>pay</td>\n",
       "      <td>fight</td>\n",
       "      <td>3594</td>\n",
       "      <td>3041</td>\n",
       "      <td>553</td>\n",
       "      <td>84.6</td>\n",
       "      <td>15.4</td>\n",
       "      <td>0.061371</td>\n",
       "    </tr>\n",
       "  </tbody>\n",
       "</table>\n",
       "</div>"
      ],
      "text/plain": [
       "              Word 0   Word 1   Word 2      Word 3   Word 4    Word 5  \\\n",
       "Topic 0         busi    small     need        help   relief    provid   \n",
       "Topic 1         drug     cost      act    american  compani     price   \n",
       "Topic 2        thank    child   disast        west   receiv   payment   \n",
       "Topic 3       servic   nation     serv       woman   famili     senat   \n",
       "Topic 4       health     care    covid  coronaviru     need    public   \n",
       "Topic 5     investig    right    human         amp   report      call   \n",
       "Topic 6           de       la       el          lo       en      para   \n",
       "Topic 7        china     join     live  coronaviru    watch     discu   \n",
       "Topic 8          new     help  student      school    offic     learn   \n",
       "Topic 9   coronaviru    state    covid       feder      amp      fund   \n",
       "Topic 10      presid    trump    senat     impeach     hous     trial   \n",
       "Topic 11        vote    elect    south         win  student  carolina   \n",
       "Topic 12      worker  protect     need      suppli      amp     medic   \n",
       "Topic 13    american      get     time          go     need     peopl   \n",
       "Topic 14        work    thank    great        make     time       get   \n",
       "Topic 15       today     year    happi       honor   celebr      life   \n",
       "Topic 16         amp     test  economi       trade   farmer      work   \n",
       "Topic 17    american    peopl    trump       right  protect    presid   \n",
       "\n",
       "           Word 6    Word 7   Word 8      Word 9   Word 10     Word 11  \\\n",
       "Topic 0    worker      fund  support       covid       amp     program   \n",
       "Topic 1      bill    climat    would      legisl      fund    introduc   \n",
       "Topic 2     appli     today   school     program  virginia        file   \n",
       "Topic 3     honor      life    thank         day       men        pass   \n",
       "Topic 4    spread     crisi     must        test    pandem     protect   \n",
       "Topic 5    presid    releas    gener       polit        dr      russia   \n",
       "Topic 6       que     rubio       su          ed       del          op   \n",
       "Topic 7      tune    chines       pm       covid  question   communist   \n",
       "Topic 8      find      educ    state       visit     pleas        work   \n",
       "Topic 9      help   resourc    local        need    receiv      govern   \n",
       "Topic 10      wit  american      war        vote      iran  republican   \n",
       "Topic 11    berni    colleg    voter        rule  campaign     tuesday   \n",
       "Topic 12      act     equip    covid        mask      must      letter   \n",
       "Topic 13      let      work     vote         job  democrat       trump   \n",
       "Topic 14     help    togeth     keep        safe    commun        good   \n",
       "Topic 15      day    nation      amp       fight     world       proud   \n",
       "Topic 16      job    produc      new     support     great    industri   \n",
       "Topic 17  million    famili   corpor  republican     would       money   \n",
       "\n",
       "           Word 12  Word 13   Word 14   Word 15   Word 16     Word 17  \\\n",
       "Topic 0     famili     loan       act      bill     rural        care   \n",
       "Topic 1      water    feder       law      must      year  bipartisan   \n",
       "Topic 2     applic      tax    impact    assist    inform      approv   \n",
       "Topic 3    veteran      gun  american     today       law        year   \n",
       "Topic 4        amp   access      take  american      work        home   \n",
       "Topic 5       news     fake   corrupt  committe   account         sen   \n",
       "Topic 6         al      por        un       con    puerto          ma   \n",
       "Topic 7     listen     town      hall     world    pandem       today   \n",
       "Topic 8    teacher    donat  challeng     covid   resourc        home   \n",
       "Topic 9      ensur  respons    inform   support    provid        work   \n",
       "Topic 10  congress    power  democrat      want     peopl    document   \n",
       "Topic 11    borrow    tulsi       new     north     stand        hong   \n",
       "Topic 12   product   nation   essenti       urg    pandem         use   \n",
       "Topic 13      back     look   forward      done    togeth         one   \n",
       "Topic 14    famili      see      sure       one     state        back   \n",
       "Topic 15       one       th     woman      wish  american     countri   \n",
       "Topic 16     secur   nation      help    import     state     develop   \n",
       "Topic 17       cut      tax      bill       pre      care        work   \n",
       "\n",
       "            Word 18  Word 19  NumTweet     D     R    D%    R%  PolarityMean  \n",
       "Topic 0        work    senat      4761  2243  2518  47.1  52.9      0.014994  \n",
       "Topic 1       lower      air      2299  1301   998  56.6  43.4      0.056736  \n",
       "Topic 2       april    learn      1633   850   783  52.1  47.9      0.080683  \n",
       "Topic 3     countri   member      2481  1166  1315  47.0  53.0      0.160366  \n",
       "Topic 4        life     safe      4604  3121  1483  67.8  32.2      0.065852  \n",
       "Topic 5      offici    peopl      2548  1070  1478  42.0  58.0      0.025862  \n",
       "Topic 6        rico     sobr       625   301   324  48.2  51.8      0.029792  \n",
       "Topic 7      global     talk      2675   684  1991  25.6  74.4      0.098167  \n",
       "Topic 8        team  connect      1961  1081   880  55.1  44.9      0.133927  \n",
       "Topic 9      pandem   commun      3754  1877  1877  50.0  50.0      0.097906  \n",
       "Topic 10  constitut     fair      4836  3117  1719  64.5  35.5      0.064715  \n",
       "Topic 11         ye     make      1015   636   379  62.7  37.3      0.164744  \n",
       "Topic 12      trump    ensur      2630  1626  1004  61.8  38.2      0.104330  \n",
       "Topic 13       year     make      3992  2490  1502  62.4  37.6      0.126249  \n",
       "Topic 14       hard      way      4207  2091  2116  49.7  50.3      0.236009  \n",
       "Topic 15     commun     love      4341  2363  1978  54.4  45.6      0.169667  \n",
       "Topic 16      usmca    today      3503   985  2518  28.1  71.9      0.180266  \n",
       "Topic 17        pay    fight      3594  3041   553  84.6  15.4      0.061371  "
      ]
     },
     "execution_count": 266,
     "metadata": {},
     "output_type": "execute_result"
    }
   ],
   "source": [
    "report2020 = summary_df(keyword_df2020, final2020)\n",
    "report2020"
   ]
  },
  {
   "cell_type": "code",
   "execution_count": 284,
   "metadata": {},
   "outputs": [
    {
     "data": {
      "image/png": "[encoded data removed]",
      "text/plain": [
       "<Figure size 1080x288 with 3 Axes>"
      ]
     },
     "metadata": {
      "needs_background": "light"
     },
     "output_type": "display_data"
    }
   ],
   "source": [
    "# Plot party distribution in each topic by year\n",
    "fig, (ax1, ax2, ax3) = plt.subplots(1, 3, sharey = True, figsize = (15, 4))\n",
    "fig.suptitle('Democratic and Republican tweets Composition in each Topic by each Year', fontsize = 15)\n",
    "\n",
    "# 2012\n",
    "tix = np.arange(3)\n",
    "ax1.bar(tix, report2012['D%'].values, color = 'blue')\n",
    "ax1.bar(tix, report2012['R%'].values, bottom = report2012['D%'].values, color = 'red')\n",
    "ax1.set_title('2012')\n",
    "ax1.set_xticks(tix)\n",
    "ax1.set_xlabel('Topic')\n",
    "ax1.set_ylabel('Percentage')\n",
    "\n",
    "# 2012\n",
    "tix = np.arange(3)\n",
    "ax2.bar(tix, report2016['D%'].values, color = 'blue')\n",
    "ax2.bar(tix, report2016['R%'].values, bottom = report2016['D%'].values, color = 'red')\n",
    "ax2.set_title('2016')\n",
    "ax2.set_xticks(tix)\n",
    "ax2.set_xlabel('Topic')\n",
    "\n",
    "# 2020\n",
    "tix = np.arange(18)\n",
    "ax3.bar(tix, report2020['D%'].values, color = 'blue')\n",
    "ax3.bar(tix, report2020['R%'].values, bottom = report2020['D%'].values, color = 'red')\n",
    "ax3.set_title('2020')\n",
    "ax3.set_xticks(tix)\n",
    "ax3.set_xlabel('Topic')\n",
    "\n",
    "plt.show()"
   ]
  },
  {
   "cell_type": "code",
   "execution_count": 302,
   "metadata": {},
   "outputs": [
    {
     "data": {
      "image/png": "[encoded data removed]",
      "text/plain": [
       "<Figure size 1080x360 with 3 Axes>"
      ]
     },
     "metadata": {
      "needs_background": "light"
     },
     "output_type": "display_data"
    }
   ],
   "source": [
    "# Plot average polarity in each topic by year\n",
    "fig, (ax1, ax2, ax3) = plt.subplots(1, 3, sharey = True, figsize = (15, 5))\n",
    "fig.suptitle('Average Polarity in each Topic by each Year', fontsize = 20)\n",
    "\n",
    "# 2012\n",
    "tix = np.arange(3)\n",
    "ax1.bar(tix, report2012['PolarityMean'].values, color = 'white', edgecolor = 'k',\n",
    "        tick_label = report2012.index.values)\n",
    "ax1.set_title('2012')\n",
    "ax1.set_ylabel('Average Polarity')\n",
    "\n",
    "# 2012\n",
    "tix = np.arange(3)\n",
    "ax2.bar(tix, report2016['PolarityMean'].values, color = 'white', edgecolor = 'k',\n",
    "        tick_label = report2016.index.values)\n",
    "ax2.set_title('2016')\n",
    "\n",
    "# 2020\n",
    "tix = np.arange(18)\n",
    "ax3.bar(tix, report2020['PolarityMean'].values, color = 'white', edgecolor = 'k')\n",
    "ax3.set_title('2020')\n",
    "ax3.set_xticks(tix)\n",
    "ax3.set_xlabel('Topic')\n",
    "\n",
    "plt.show()"
   ]
  },
  {
   "cell_type": "markdown",
   "metadata": {},
   "source": [
    "## LDA visualization by pyLDAvis"
   ]
  },
  {
   "cell_type": "code",
   "execution_count": 295,
   "metadata": {},
   "outputs": [],
   "source": [
    "pyLDAvis2012 = pyLDAvis.sklearn.prepare(lda_mod2012, vec_counts[ind2012] , vec)"
   ]
  },
  {
   "cell_type": "code",
   "execution_count": 298,
   "metadata": {},
   "outputs": [],
   "source": [
    "pyLDAvis2016 = pyLDAvis.sklearn.prepare(lda_mod2016, vec_counts[ind2016] , vec)"
   ]
  },
  {
   "cell_type": "code",
   "execution_count": 299,
   "metadata": {},
   "outputs": [],
   "source": [
    "pyLDAvis2020 = pyLDAvis.sklearn.prepare(lda_mod2020, vec_counts[ind2020] , vec) "
   ]
  },
  {
   "cell_type": "code",
   "execution_count": 296,
   "metadata": {},
   "outputs": [],
   "source": [
    "pyLDAvis.enable_notebook()"
   ]
  },
  {
   "cell_type": "code",
   "execution_count": 297,
   "metadata": {},
   "outputs": [
    {
     "data": {
      "text/html": [
       "\n",
       "<link rel=\"stylesheet\" type=\"text/css\" href=\"https://cdn.rawgit.com/bmabey/pyLDAvis/files/ldavis.v1.0.0.css\">\n",
       "\n",
       "\n",
       "<div id=\"ldavis_el6940851793232164831587576\"></div>\n",
       "<script type=\"text/javascript\">\n",
       "\n",
       "var ldavis_el6940851793232164831587576_data = {\"mdsDat\": {\"x\": [-0.2081984120318489, 0.07979086440056851, 0.12840754763128046], \"y\": [0.022233932208530035, -0.15394044987851854, 0.13170651766998845], \"topics\": [1, 2, 3], \"cluster\": [1, 1, 1], \"Freq\": [34.15563739115507, 33.83295443600281, 32.01140817284211]}, \"tinfo\": {\"Term\": [\"tax\", \"sen\", \"great\", \"day\", \"talk\", \"would\", \"presid\", \"live\", \"senat\", \"job\", \"vt\", \"sander\", \"watch\", \"obama\", \"cut\", \"congrat\", \"need\", \"honor\", \"news\", \"budget\", \"health\", \"win\", \"read\", \"th\", \"tune\", \"happi\", \"friend\", \"proud\", \"energi\", \"amp\", \"congrat\", \"win\", \"team\", \"olymp\", \"congratul\", \"luck\", \"gold\", \"prayer\", \"london\", \"netd\", \"medal\", \"teamusa\", \"birthday\", \"thought\", \"ranger\", \"hero\", \"repres\", \"wish\", \"rememb\", \"honor\", \"uni\", \"game\", \"love\", \"nativ\", \"unipanth\", \"volunt\", \"regist\", \"earli\", \"happi\", \"weekend\", \"friend\", \"inspir\", \"th\", \"masen\", \"night\", \"day\", \"celebr\", \"great\", \"proud\", \"thank\", \"go\", \"make\", \"st\", \"good\", \"last\", \"today\", \"famili\", \"year\", \"one\", \"vote\", \"visit\", \"tour\", \"nation\", \"presid\", \"state\", \"rt\", \"work\", \"obama\", \"amp\", \"look\", \"help\", \"woman\", \"live\", \"vt\", \"sander\", \"tune\", \"vermont\", \"berni\", \"disclos\", \"listen\", \"talk\", \"et\", \"farmer\", \"ptc\", \"polici\", \"cybersecur\", \"realvawa\", \"action\", \"violenc\", \"resourc\", \"biz\", \"cojob\", \"vawa\", \"ff\", \"gaspric\", \"btv\", \"sec\", \"owner\", \"corker\", \"lunch\", \"cyber\", \"capafdisclos\", \"sen\", \"news\", \"floor\", \"small\", \"watch\", \"murray\", \"drought\", \"strong\", \"energi\", \"speak\", \"debat\", \"pm\", \"need\", \"join\", \"obama\", \"pa\", \"presid\", \"economi\", \"amp\", \"creat\", \"libya\", \"job\", \"act\", \"enjoy\", \"busi\", \"bill\", \"today\", \"senat\", \"help\", \"work\", \"support\", \"tax\", \"cut\", \"debt\", \"deficit\", \"feder\", \"trillion\", \"inouy\", \"harkin\", \"op\", \"feel\", \"rate\", \"incom\", \"input\", \"fiscalcliff\", \"free\", \"stopthetaxhik\", \"benefit\", \"emerg\", \"social\", \"letter\", \"drug\", \"countymeet\", \"health\", \"control\", \"usda\", \"fund\", \"train\", \"obamacar\", \"loom\", \"column\", \"includ\", \"would\", \"ed\", \"care\", \"pay\", \"unemploy\", \"budget\", \"read\", \"cost\", \"million\", \"report\", \"ryan\", \"fact\", \"new\", \"announc\", \"senat\", \"must\", \"offic\", \"issu\", \"call\", \"romney\", \"plan\", \"job\", \"staff\", \"like\", \"amp\", \"help\", \"american\", \"today\", \"bill\", \"year\"], \"Freq\": [537.0, 565.0, 742.0, 525.0, 349.0, 363.0, 766.0, 315.0, 831.0, 835.0, 294.0, 283.0, 331.0, 855.0, 251.0, 261.0, 540.0, 266.0, 269.0, 273.0, 230.0, 229.0, 273.0, 256.0, 194.0, 204.0, 201.0, 306.0, 236.0, 1447.0, 261.08240415101375, 228.83776964668354, 158.66123283935883, 145.3956195698366, 133.0642588232672, 115.05855126917157, 112.21279691304096, 112.19082216786796, 108.41519428902693, 109.3227371205684, 98.934693896017, 96.08843896625537, 91.34424591231029, 128.9696209802937, 82.81558716351631, 78.03103419110646, 71.42297621535872, 71.4094907217022, 91.07629343496218, 263.7411247278763, 60.99778723112848, 130.4165608366856, 57.18572742770275, 55.298470640946626, 53.4163967631986, 83.39340825099761, 53.40128793578457, 52.4303154563822, 202.21528811072946, 53.34328477866038, 198.8254700538531, 76.72298707359255, 248.8742271256126, 143.31866157898855, 162.2710752067142, 471.6073073756746, 132.44671463433616, 601.126461030782, 261.3224122609973, 443.7918341796832, 294.74612743834444, 302.3439534088537, 143.68646829419757, 250.96311968903456, 199.27015539498603, 591.6235114573916, 246.21495523505848, 261.256301078358, 191.00829546790445, 249.85791878126835, 196.24268088716954, 144.11877161730445, 196.3659930041803, 247.9411724389359, 178.09629441285912, 184.23897743140697, 204.16026590269098, 229.0751615165125, 260.4951151380417, 162.18792334913664, 177.36213042785303, 164.6431142717229, 314.5513680569559, 293.98172777824965, 282.7703996923704, 193.90675632908244, 160.2434438039593, 134.99040308341955, 135.90298277924902, 135.8999237286422, 347.5219233090972, 91.02431964256999, 87.23375234493238, 71.35751778415055, 181.63497253130856, 66.70247933263764, 61.09093244805351, 68.45771639090776, 66.57182175256641, 59.14875091828043, 59.12031135603992, 51.654134819109416, 45.177813917958176, 45.14363953044992, 41.45515057526241, 40.521242917962766, 67.17087879240819, 67.16246393070446, 79.11139447825605, 41.342309413042145, 37.65058291397261, 34.88915827088514, 551.7696244911016, 263.48992720748083, 175.59890410481788, 175.17367694917496, 317.71924550273405, 73.11486952967923, 63.22116478832928, 82.73157043186824, 221.47760283910728, 214.4234818349232, 159.58770851307452, 175.77170095393402, 403.6078552463815, 319.28605535041197, 592.2342405828025, 161.87635628335292, 517.7058290888406, 242.38845355220164, 859.3940870627689, 184.16238296060314, 133.8874214147923, 503.21683769297204, 249.97918905456183, 166.8232163114445, 217.4407024115299, 259.7868185586035, 496.4059784556413, 348.4904897121108, 214.71467836781372, 200.75970105241672, 174.35957699253626, 536.179626851583, 250.3239260966485, 172.37316970976985, 156.21663974781913, 161.81871995322155, 102.04467873976012, 91.57346163031715, 91.56995857203896, 100.99474999257129, 78.25590646087693, 76.36927834854878, 69.70369783612152, 65.9167975071828, 64.92341373557933, 144.84965663386114, 54.47285309829593, 68.55182902619308, 55.399066162591204, 58.20746903228767, 60.99610795738934, 47.83295829385928, 46.883706094184895, 226.7874222578226, 45.854339331337194, 40.22139712029163, 141.16673793395543, 53.28151463895201, 131.68569127030534, 35.463776148731235, 33.57006646436397, 51.141465727991125, 347.79206060118184, 113.31993787838454, 160.40040408267166, 134.3856157888207, 88.43731229667915, 255.76715168246616, 251.26763942951263, 96.93007324349766, 186.62823580452948, 176.7441186358214, 122.0533761315699, 107.46856434562218, 344.28006673993866, 130.20926452849832, 476.47560300728463, 240.9470567974609, 181.3460858604745, 154.84117064555252, 208.12059630887566, 210.43113494737892, 178.43081167186799, 325.3873664531924, 152.65752690605723, 164.64266358620313, 327.5509967332392, 225.737096152647, 186.3724464234823, 189.5955635162985, 154.88649722409042, 141.77781087826673], \"Total\": [537.0, 565.0, 742.0, 525.0, 349.0, 363.0, 766.0, 315.0, 831.0, 835.0, 294.0, 283.0, 331.0, 855.0, 251.0, 261.0, 540.0, 266.0, 269.0, 273.0, 230.0, 229.0, 273.0, 256.0, 194.0, 204.0, 201.0, 306.0, 236.0, 1447.0, 261.7306452813303, 229.4879867882177, 159.3128525859147, 146.0365481675012, 133.7084785189255, 115.6905918699128, 112.84566727405614, 112.84539860931787, 109.05237447694891, 110.00046427981069, 99.56930062396698, 96.72432707591696, 91.98278852116016, 129.911256681116, 83.44798760279409, 78.70636690524488, 72.0681773080854, 72.06814903922576, 91.97941810597263, 266.4436950354037, 61.63682175160265, 131.80146698424755, 57.843380442836, 55.94693474556526, 54.05030820723048, 84.39719060614254, 54.0502409994505, 53.10183636037684, 204.83683511066403, 54.04954986229254, 201.95555878877397, 77.75504558495574, 256.93078319867294, 146.99279741865635, 170.6930176817181, 525.6750419828321, 141.28253769123012, 742.8288312751678, 306.63014012780394, 623.5927985801878, 383.88371186094486, 417.19374418361855, 166.922739522297, 359.8261578969217, 270.41829429515366, 1277.6250534293313, 366.7429610364328, 403.4039401717915, 260.0150685633909, 430.758685453865, 290.52825454443354, 185.5289050584168, 363.9846773576169, 766.636613141503, 331.6697903025572, 381.8663501015226, 538.1037885239089, 855.7802460838484, 1447.4401989340497, 261.31550560522, 617.8139049483137, 329.6858761605183, 315.2142521508366, 294.6370142811375, 283.4129314344728, 194.5572238941805, 160.885432524607, 135.63166086761518, 136.5673395597622, 136.56738102621117, 349.8478789276191, 91.671506696055, 87.93100034014985, 72.03010824433917, 183.3506041014535, 67.35313285244493, 61.74118202441264, 69.22558525413469, 67.35503791824009, 59.87158953153125, 59.87217218703663, 52.38910863817127, 45.84086030384222, 45.841311915261954, 42.099268114453665, 41.1639252440047, 68.29507660078316, 68.29520485955692, 80.4590078647895, 42.100873538953806, 38.359003411129315, 35.552277018329015, 565.1533540519707, 269.4560658642825, 179.6474686595392, 179.64987256284033, 331.29162703110916, 74.85346340883069, 64.55767708364182, 85.14852939178897, 236.88753770620798, 236.04772895807122, 176.10493907778442, 197.65413304769925, 540.9828478954697, 413.8214594071005, 855.7802460838484, 191.2815387677366, 766.636613141503, 312.6057484209918, 1447.4401989340497, 228.94892326100643, 155.61743427212627, 835.977321305844, 350.51516427551246, 206.31382087003288, 305.3722702878955, 415.0094352874225, 1277.6250534293313, 831.8887036958338, 617.8139049483137, 538.1037885239089, 384.78699880143904, 537.209801477839, 251.01381508006156, 173.04580039320962, 156.88141055780386, 162.58579683220233, 102.68420730072047, 92.22485885011535, 92.22481623464564, 101.7318897028638, 78.91321921016642, 77.01158507896503, 70.35572546100427, 66.55239682774459, 65.60093669229376, 146.41991780299543, 55.14188378016577, 69.40395888108759, 56.09241935726197, 58.944243577853776, 61.79583978063023, 48.48637090470733, 47.53561614385777, 230.0527935404796, 46.583525116573036, 40.87952225026888, 143.54194834773708, 54.1906546744721, 134.0335125600316, 36.12527741858198, 34.22388063990311, 52.28620582344587, 363.93099552367966, 116.89829469565713, 167.23834727005283, 139.70453187009133, 91.26427704203152, 273.550385755889, 273.47733455046523, 101.66543662332347, 204.37708118847863, 195.56799879555055, 133.08319125003584, 115.87112540452588, 516.271186453538, 155.5223749180325, 831.8887036958338, 356.55412144430016, 247.03800091240333, 202.69013159600647, 336.8284034428542, 347.7688121819163, 278.8360914387803, 835.977321305844, 216.55984159072773, 255.036955657497, 1447.4401989340497, 617.8139049483137, 512.1462548646765, 1277.6250534293313, 415.0094352874225, 403.4039401717915], \"Category\": [\"Default\", \"Default\", \"Default\", \"Default\", \"Default\", \"Default\", \"Default\", \"Default\", \"Default\", \"Default\", \"Default\", \"Default\", \"Default\", \"Default\", \"Default\", \"Default\", \"Default\", \"Default\", \"Default\", \"Default\", \"Default\", \"Default\", \"Default\", \"Default\", \"Default\", \"Default\", \"Default\", \"Default\", \"Default\", \"Default\", \"Topic1\", \"Topic1\", \"Topic1\", \"Topic1\", \"Topic1\", \"Topic1\", \"Topic1\", \"Topic1\", \"Topic1\", \"Topic1\", \"Topic1\", \"Topic1\", \"Topic1\", \"Topic1\", \"Topic1\", \"Topic1\", \"Topic1\", \"Topic1\", \"Topic1\", \"Topic1\", \"Topic1\", \"Topic1\", \"Topic1\", \"Topic1\", \"Topic1\", \"Topic1\", \"Topic1\", \"Topic1\", \"Topic1\", \"Topic1\", \"Topic1\", \"Topic1\", \"Topic1\", \"Topic1\", \"Topic1\", \"Topic1\", \"Topic1\", \"Topic1\", \"Topic1\", \"Topic1\", \"Topic1\", \"Topic1\", \"Topic1\", \"Topic1\", \"Topic1\", \"Topic1\", \"Topic1\", \"Topic1\", \"Topic1\", \"Topic1\", \"Topic1\", \"Topic1\", \"Topic1\", \"Topic1\", \"Topic1\", \"Topic1\", \"Topic1\", \"Topic1\", \"Topic1\", \"Topic1\", \"Topic1\", \"Topic1\", \"Topic2\", \"Topic2\", \"Topic2\", \"Topic2\", \"Topic2\", \"Topic2\", \"Topic2\", \"Topic2\", \"Topic2\", \"Topic2\", \"Topic2\", \"Topic2\", \"Topic2\", \"Topic2\", \"Topic2\", \"Topic2\", \"Topic2\", \"Topic2\", \"Topic2\", \"Topic2\", \"Topic2\", \"Topic2\", \"Topic2\", \"Topic2\", \"Topic2\", \"Topic2\", \"Topic2\", \"Topic2\", \"Topic2\", \"Topic2\", \"Topic2\", \"Topic2\", \"Topic2\", \"Topic2\", \"Topic2\", \"Topic2\", \"Topic2\", \"Topic2\", \"Topic2\", \"Topic2\", \"Topic2\", \"Topic2\", \"Topic2\", \"Topic2\", \"Topic2\", \"Topic2\", \"Topic2\", \"Topic2\", \"Topic2\", \"Topic2\", \"Topic2\", \"Topic2\", \"Topic2\", \"Topic2\", \"Topic2\", \"Topic2\", \"Topic2\", \"Topic2\", \"Topic2\", \"Topic2\", \"Topic2\", \"Topic3\", \"Topic3\", \"Topic3\", \"Topic3\", \"Topic3\", \"Topic3\", \"Topic3\", \"Topic3\", \"Topic3\", \"Topic3\", \"Topic3\", \"Topic3\", \"Topic3\", \"Topic3\", \"Topic3\", \"Topic3\", \"Topic3\", \"Topic3\", \"Topic3\", \"Topic3\", \"Topic3\", \"Topic3\", \"Topic3\", \"Topic3\", \"Topic3\", \"Topic3\", \"Topic3\", \"Topic3\", \"Topic3\", \"Topic3\", \"Topic3\", \"Topic3\", \"Topic3\", \"Topic3\", \"Topic3\", \"Topic3\", \"Topic3\", \"Topic3\", \"Topic3\", \"Topic3\", \"Topic3\", \"Topic3\", \"Topic3\", \"Topic3\", \"Topic3\", \"Topic3\", \"Topic3\", \"Topic3\", \"Topic3\", \"Topic3\", \"Topic3\", \"Topic3\", \"Topic3\", \"Topic3\", \"Topic3\", \"Topic3\", \"Topic3\", \"Topic3\", \"Topic3\", \"Topic3\", \"Topic3\"], \"logprob\": [30.0, 29.0, 28.0, 27.0, 26.0, 25.0, 24.0, 23.0, 22.0, 21.0, 20.0, 19.0, 18.0, 17.0, 16.0, 15.0, 14.0, 13.0, 12.0, 11.0, 10.0, 9.0, 8.0, 7.0, 6.0, 5.0, 4.0, 3.0, 2.0, 1.0, -5.0814, -5.2132, -5.5794, -5.6668, -5.7554, -5.9008, -5.9258, -5.926, -5.9602, -5.9519, -6.0518, -6.0809, -6.1316, -5.7866, -6.2296, -6.2891, -6.3776, -6.3778, -6.1345, -5.0712, -6.5354, -5.7755, -6.5999, -6.6335, -6.6681, -6.2226, -6.6684, -6.6867, -5.3369, -6.6695, -5.3538, -6.306, -5.1293, -5.6811, -5.5569, -4.4901, -5.76, -4.2474, -5.0805, -4.5509, -4.9601, -4.9347, -5.6786, -5.1209, -5.3516, -4.2633, -5.14, -5.0807, -5.3939, -5.1253, -5.3669, -5.6756, -5.3662, -5.133, -5.4639, -5.43, -5.3273, -5.2122, -5.0836, -5.5575, -5.468, -5.5424, -4.8856, -4.9532, -4.9921, -5.3693, -5.56, -5.7315, -5.7248, -5.7248, -4.7859, -6.1256, -6.1681, -6.369, -5.4347, -6.4365, -6.5244, -6.4105, -6.4384, -6.5567, -6.5572, -6.6922, -6.8261, -6.8269, -6.9121, -6.9349, -6.4295, -6.4296, -6.2659, -6.9148, -7.0084, -7.0845, -4.3236, -5.0627, -5.4685, -5.4709, -4.8756, -6.3447, -6.4901, -6.2211, -5.2364, -5.2688, -5.5641, -5.4675, -4.6363, -4.8706, -4.2528, -5.5499, -4.3873, -5.1462, -3.8805, -5.4209, -5.7397, -4.4157, -5.1153, -5.5198, -5.2548, -5.0769, -4.4293, -4.7831, -5.2674, -5.3346, -5.4756, -4.2969, -5.0586, -5.4317, -5.5301, -5.4949, -5.956, -6.0642, -6.0643, -5.9663, -6.2214, -6.2458, -6.3371, -6.393, -6.4082, -5.6057, -6.5837, -6.3538, -6.5668, -6.5174, -6.4706, -6.7137, -6.7337, -5.1574, -6.7559, -6.887, -5.6314, -6.6058, -5.701, -7.0129, -7.0677, -6.6468, -4.7298, -5.8512, -5.5037, -5.6807, -6.0991, -5.0371, -5.0549, -6.0074, -5.3523, -5.4067, -5.7769, -5.9042, -4.7399, -5.7122, -4.415, -5.0968, -5.381, -5.539, -5.2433, -5.2322, -5.3972, -4.7964, -5.5532, -5.4776, -4.7897, -5.162, -5.3536, -5.3365, -5.5387, -5.6271], \"loglift\": [30.0, 29.0, 28.0, 27.0, 26.0, 25.0, 24.0, 23.0, 22.0, 21.0, 20.0, 19.0, 18.0, 17.0, 16.0, 15.0, 14.0, 13.0, 12.0, 11.0, 10.0, 9.0, 8.0, 7.0, 6.0, 5.0, 4.0, 3.0, 2.0, 1.0, 1.0718, 1.0714, 1.0701, 1.0698, 1.0694, 1.0688, 1.0686, 1.0684, 1.0684, 1.0681, 1.0678, 1.0676, 1.0673, 1.067, 1.0666, 1.0656, 1.0652, 1.0651, 1.0644, 1.064, 1.0638, 1.0637, 1.0628, 1.0626, 1.0624, 1.0623, 1.0622, 1.0615, 1.0614, 1.0611, 1.0586, 1.0609, 1.0424, 1.0489, 1.0236, 0.9657, 1.0097, 0.8626, 0.9144, 0.7341, 0.81, 0.7523, 0.9243, 0.7139, 0.7689, 0.3044, 0.6758, 0.6398, 0.7658, 0.5296, 0.6819, 0.8217, 0.4571, -0.0546, 0.4524, 0.3454, 0.1051, -0.2437, -0.6407, 0.5973, -0.1738, 0.3799, 1.0816, 1.0815, 1.0815, 1.0804, 1.0797, 1.079, 1.0789, 1.0788, 1.0771, 1.0766, 1.0758, 1.0744, 1.0743, 1.074, 1.0731, 1.0726, 1.072, 1.0716, 1.0711, 1.0696, 1.0692, 1.0684, 1.0683, 1.068, 1.0671, 1.067, 1.0668, 1.0656, 1.0651, 1.0649, 1.0598, 1.0613, 1.0609, 1.0585, 1.0419, 1.0602, 1.0628, 1.0549, 1.0165, 0.9877, 0.9852, 0.9664, 0.7908, 0.8244, 0.7156, 0.9168, 0.6911, 0.8293, 0.5624, 0.8661, 0.9333, 0.5762, 0.7457, 0.8713, 0.7441, 0.6153, 0.1384, 0.2136, 0.0269, 0.0978, 0.2922, 1.1372, 1.1363, 1.1352, 1.1348, 1.1343, 1.1328, 1.132, 1.132, 1.1318, 1.1307, 1.1307, 1.1298, 1.1295, 1.1287, 1.1283, 1.1269, 1.1267, 1.1266, 1.1265, 1.1261, 1.1255, 1.1253, 1.1248, 1.1233, 1.1228, 1.1224, 1.1222, 1.1214, 1.1206, 1.1198, 1.1169, 1.0937, 1.108, 1.0973, 1.1003, 1.1076, 1.0719, 1.0544, 1.0914, 1.0482, 1.0379, 1.0526, 1.0638, 0.7339, 0.9614, 0.5818, 0.7472, 0.8299, 0.8698, 0.6576, 0.6367, 0.6927, 0.1955, 0.7894, 0.7014, -0.3468, 0.1323, 0.1282, -0.7688, 0.1535, 0.0934]}, \"token.table\": {\"Topic\": [2, 3, 2, 1, 2, 3, 1, 2, 3, 2, 3, 1, 3, 2, 2, 3, 1, 2, 2, 2, 3, 1, 2, 3, 1, 2, 3, 2, 2, 3, 1, 2, 3, 2, 3, 1, 1, 3, 2, 3, 2, 3, 3, 2, 3, 3, 2, 2, 1, 2, 3, 1, 2, 3, 3, 3, 2, 1, 2, 3, 3, 1, 1, 2, 3, 2, 3, 3, 2, 3, 1, 2, 3, 2, 1, 2, 3, 1, 2, 3, 2, 3, 3, 2, 3, 2, 3, 1, 3, 1, 2, 3, 2, 3, 1, 2, 2, 1, 2, 3, 1, 1, 2, 3, 1, 2, 3, 1, 3, 3, 2, 3, 1, 2, 3, 1, 1, 2, 1, 3, 3, 3, 3, 1, 2, 2, 3, 1, 2, 3, 1, 2, 3, 1, 2, 3, 3, 2, 3, 1, 2, 3, 2, 2, 1, 1, 2, 3, 3, 1, 1, 2, 1, 2, 3, 1, 3, 1, 1, 3, 2, 3, 2, 3, 1, 2, 3, 1, 1, 2, 3, 1, 1, 2, 3, 1, 2, 1, 2, 3, 1, 2, 3, 2, 3, 1, 3, 1, 1, 3, 3, 1, 2, 1, 2, 3, 1, 2, 3, 2, 3, 1, 2, 2, 3, 1, 1, 2, 3, 1, 2, 2, 1, 3, 2, 3, 2, 1, 1, 2, 1, 2, 3, 1, 2, 1, 2, 3, 1, 2, 3, 1, 3, 2, 1, 2, 2, 3, 1, 2, 3, 1, 2, 3, 3, 1, 2, 3, 1, 2, 3, 1, 2, 3, 1, 2, 3, 3, 1, 2, 1, 2, 3, 1, 2, 3, 2, 3, 1, 1, 1, 2, 3, 1, 2, 3, 1, 2, 1, 2, 3, 1, 2, 3, 1, 3, 3, 2, 1, 2, 3, 1, 1, 3, 2, 2, 2, 1, 2, 3, 1, 3, 1, 2, 3, 2, 1, 2, 1, 1, 1, 1, 2, 3, 1, 2, 3, 1, 2, 3, 1, 3], \"Freq\": [0.7132359038352322, 0.2852943615340929, 0.9822957761984181, 0.3085056241243979, 0.32803129653733454, 0.36317750688062034, 0.17962745555324078, 0.5934614781547455, 0.22660694392870376, 0.1607485740439352, 0.8358925850284631, 0.014408399983541827, 0.994179598864386, 0.9953428214063402, 0.6264917804096, 0.37348548447495383, 0.9893155172075038, 0.985432761912963, 0.9960177450757426, 0.06214577235204657, 0.935842218948466, 0.05239506516068305, 0.7106080712417638, 0.2357777932230737, 0.09797273526428935, 0.28204272273052994, 0.6175251192415813, 0.9844657764664613, 0.04185642894865824, 0.9567183759693314, 0.9342980537940443, 0.01415603111809158, 0.04246809335427474, 0.9925727188668416, 0.9934583502596115, 0.9972084075957367, 0.9947013194168894, 0.9874735732190126, 0.981866444746108, 0.012428689174001367, 0.03934473831868976, 0.9541099042282266, 0.9887323193153355, 0.8036727029733014, 0.1921826028849199, 0.9959611183960604, 0.9906409609425578, 0.9947569944041272, 0.897893113242791, 0.08940884814070164, 0.013316211425210884, 0.011356864892452636, 0.9085491913962108, 0.07949805424716845, 0.9939565109882282, 0.9943816762313015, 0.99584571566239, 0.01549002450482204, 0.9758715438037885, 0.01549002450482204, 0.9899689150655714, 0.9792505036379683, 0.003198917502480735, 0.7741380356003378, 0.2207253076711707, 0.025663334164201905, 0.9666522535182718, 0.9805246525327395, 0.9329321505890614, 0.06332118669156526, 0.1890324159357603, 0.8094464990069736, 0.004846985023993854, 0.9926748591764566, 0.008630277789301082, 0.06904222231440865, 0.9234397234552157, 0.6707695201696372, 0.09543468782901343, 0.23449666152271872, 0.9894121488832335, 0.9963969987316487, 0.9884275509311783, 0.981647298471363, 0.9908395104918624, 0.9796965207093915, 0.022265830016122534, 0.006829671912160725, 0.9903024272633052, 0.9853653011261493, 0.014854753283308783, 0.004951584427769594, 0.01393320923271089, 0.9822912509061178, 0.9863319656035174, 0.0075871689661809035, 0.9738886644901967, 0.7684618828184577, 0.06512388837444558, 0.16671715423858066, 0.9925059836634901, 0.697559069821442, 0.2973658186091406, 0.005558239600170852, 0.809069296581153, 0.16019841313337307, 0.029616513352388296, 0.986150756971365, 0.009763868880904603, 0.9975623021674161, 0.01304048498533936, 0.986730030557345, 0.28649403741537316, 0.3480012318887301, 0.36580594607838607, 0.9910252888931428, 0.9908284749050676, 0.007506276325038391, 0.019125503261351314, 0.975400666328917, 0.9949439017411392, 0.9975618412115892, 0.991699820681525, 0.9902894329329308, 0.012860901726401698, 0.23681468664528574, 0.7647140922920685, 0.008373432892970831, 0.601690963594904, 0.38876652717364574, 0.18365408142170397, 0.770863841756889, 0.045913520355425994, 0.7358969574107191, 0.007395949320710745, 0.2551602515645207, 0.9871214666965382, 0.8610860385069443, 0.1349463194675062, 0.21565502088984503, 0.14115601367335312, 0.6469650626695351, 0.9958454132901453, 0.9993202967525273, 0.9903498251918269, 0.6199402504830311, 0.3788523752951857, 0.00382679166964834, 0.9688506912889985, 0.9854195858475202, 0.994030699828303, 0.9738515273813684, 0.7238842964698948, 0.05273329312032347, 0.22291801182682192, 0.972836781877929, 0.020409163256180328, 0.9942823679547876, 0.08317958110147598, 0.9149753921162358, 0.9752387755432566, 0.013359435281414473, 0.32253168055993137, 0.6759142175212475, 0.5384842060464786, 0.258252629430454, 0.20055789306833133, 0.983074412389674, 0.0036969748815149973, 0.7467889260660294, 0.24954580450226233, 0.990904908571424, 0.1278397898851938, 0.20531845042167485, 0.6663164806137373, 0.022267080834699162, 0.9760403765876466, 0.9490722127959125, 0.011716940898714969, 0.04100929314550239, 0.26759206121890644, 0.6917663766008412, 0.03972982568315642, 0.014921641325368013, 0.9848283274742888, 0.2631174141627231, 0.7326807994377367, 0.9929021318258475, 0.7345728117039292, 0.2653692356417336, 0.9928057003069393, 0.014642316426993844, 0.9810352006085875, 0.010455792089943912, 0.8469191592854568, 0.14638108925921475, 0.007157963930117039, 0.028631855720468155, 0.9591671666356831, 0.3586336312634602, 0.6383678636489591, 0.11130553993875154, 0.8904443195100123, 0.9926337624679645, 0.005454031661911893, 0.9925083466429613, 0.3234909417954254, 0.6756786606856063, 0.001304398958852522, 0.8511883400999484, 0.14675661036206006, 0.9856989213337726, 0.9946315349756968, 0.9868645077499991, 0.08044542351622307, 0.9178091501169087, 0.987995337955798, 0.9805691708301323, 0.9893517688398049, 0.010871997459778076, 0.005113311002611494, 0.09203959804700688, 0.9050560474622344, 0.985178238884563, 0.9854423519009424, 0.02875473489776031, 0.36518513320155593, 0.6038494328529666, 0.4818439748647189, 0.28020274625285285, 0.23568455292296034, 0.08265506632864905, 0.9167198265541078, 0.9985430042574883, 0.014642343925396999, 0.9810370430015989, 0.976726044430834, 0.023002606118842105, 0.008414587154388663, 0.4183251899610364, 0.5721919264984291, 0.0111327660380077, 0.9741170283256737, 0.0111327660380077, 0.9839807329683243, 0.012709294062019488, 0.9065963097573901, 0.08049219572612343, 0.8626745547796676, 0.017972386557909743, 0.1258067059053682, 0.27705967809762644, 0.01847064520650843, 0.7065021791489474, 0.5366783626498636, 0.11758683226598135, 0.343715355854407, 0.9792918975217074, 0.02348836808205479, 0.9747672754052737, 0.2572852001454623, 0.4521982305586913, 0.29107012541708865, 0.0028583852017776347, 0.9947180502186168, 0.005716770403555269, 0.0018614701318722159, 0.9977479906835077, 0.9980362376240424, 0.9925114281193349, 0.9691326080124061, 0.019460494136795303, 0.011676296482077181, 0.7120030908164922, 0.0849913599398065, 0.2036585417425552, 0.9929855448681189, 0.007697562363318751, 0.46335973015790977, 0.38822031445662714, 0.1487134269087886, 0.7761593804192358, 0.1455298838286067, 0.07545993976298125, 0.018453366286255178, 0.9780284131715244, 0.9933367815878764, 0.9971359382960584, 0.021914379479266628, 0.010957189739633314, 0.9642326970877316, 0.9896681604679577, 0.9805679515609131, 0.9784850164127569, 0.9816569693878162, 0.9944965028174841, 0.9947288587578103, 0.6746331791630396, 0.17898431283917376, 0.14800625869393216, 0.9834450578732788, 0.011848735637027456, 0.5803713504617783, 0.16946843433483927, 0.25072042339948825, 0.9978379692629872, 0.039240351820842324, 0.9598793753098352, 0.9805817094690598, 0.9978735846043739, 0.9851786253224795, 0.5004763986906869, 0.13952675357437333, 0.3609496451163136, 0.3791090201382887, 0.3735338874891962, 0.24716421410976663, 0.005495547300449344, 0.03846883110314541, 0.9562252302781858, 0.6469941763306821, 0.35200449440213355], \"Term\": [\"act\", \"act\", \"action\", \"american\", \"american\", \"american\", \"amp\", \"amp\", \"amp\", \"announc\", \"announc\", \"benefit\", \"benefit\", \"berni\", \"bill\", \"bill\", \"birthday\", \"biz\", \"btv\", \"budget\", \"budget\", \"busi\", \"busi\", \"busi\", \"call\", \"call\", \"call\", \"capafdisclos\", \"care\", \"care\", \"celebr\", \"celebr\", \"celebr\", \"cojob\", \"column\", \"congrat\", \"congratul\", \"control\", \"corker\", \"corker\", \"cost\", \"cost\", \"countymeet\", \"creat\", \"creat\", \"cut\", \"cyber\", \"cybersecur\", \"day\", \"day\", \"day\", \"debat\", \"debat\", \"debat\", \"debt\", \"deficit\", \"disclos\", \"drought\", \"drought\", \"drought\", \"drug\", \"earli\", \"economi\", \"economi\", \"economi\", \"ed\", \"ed\", \"emerg\", \"energi\", \"energi\", \"enjoy\", \"enjoy\", \"enjoy\", \"et\", \"fact\", \"fact\", \"fact\", \"famili\", \"famili\", \"famili\", \"farmer\", \"feder\", \"feel\", \"ff\", \"fiscalcliff\", \"floor\", \"floor\", \"free\", \"free\", \"friend\", \"friend\", \"friend\", \"fund\", \"fund\", \"game\", \"game\", \"gaspric\", \"go\", \"go\", \"go\", \"gold\", \"good\", \"good\", \"good\", \"great\", \"great\", \"great\", \"happi\", \"happi\", \"harkin\", \"health\", \"health\", \"help\", \"help\", \"help\", \"hero\", \"honor\", \"honor\", \"includ\", \"includ\", \"incom\", \"inouy\", \"input\", \"inspir\", \"inspir\", \"issu\", \"issu\", \"job\", \"job\", \"job\", \"join\", \"join\", \"join\", \"last\", \"last\", \"last\", \"letter\", \"libya\", \"libya\", \"like\", \"like\", \"like\", \"listen\", \"live\", \"london\", \"look\", \"look\", \"look\", \"loom\", \"love\", \"luck\", \"lunch\", \"make\", \"make\", \"make\", \"masen\", \"masen\", \"medal\", \"million\", \"million\", \"murray\", \"murray\", \"must\", \"must\", \"nation\", \"nation\", \"nation\", \"nativ\", \"need\", \"need\", \"need\", \"netd\", \"new\", \"new\", \"new\", \"news\", \"news\", \"night\", \"night\", \"night\", \"obama\", \"obama\", \"obama\", \"obamacar\", \"obamacar\", \"offic\", \"offic\", \"olymp\", \"one\", \"one\", \"op\", \"owner\", \"owner\", \"pa\", \"pa\", \"pa\", \"pay\", \"pay\", \"pay\", \"plan\", \"plan\", \"pm\", \"pm\", \"polici\", \"polici\", \"prayer\", \"presid\", \"presid\", \"presid\", \"proud\", \"proud\", \"ptc\", \"ranger\", \"rate\", \"read\", \"read\", \"realvawa\", \"regist\", \"rememb\", \"rememb\", \"report\", \"report\", \"report\", \"repres\", \"resourc\", \"romney\", \"romney\", \"romney\", \"rt\", \"rt\", \"rt\", \"ryan\", \"ryan\", \"sander\", \"sec\", \"sec\", \"sen\", \"sen\", \"senat\", \"senat\", \"senat\", \"small\", \"small\", \"small\", \"social\", \"speak\", \"speak\", \"speak\", \"st\", \"st\", \"st\", \"staff\", \"staff\", \"staff\", \"state\", \"state\", \"state\", \"stopthetaxhik\", \"strong\", \"strong\", \"support\", \"support\", \"support\", \"talk\", \"talk\", \"talk\", \"tax\", \"tax\", \"team\", \"teamusa\", \"th\", \"th\", \"th\", \"thank\", \"thank\", \"thank\", \"thought\", \"thought\", \"today\", \"today\", \"today\", \"tour\", \"tour\", \"tour\", \"train\", \"train\", \"trillion\", \"tune\", \"unemploy\", \"unemploy\", \"unemploy\", \"uni\", \"unipanth\", \"usda\", \"vawa\", \"vermont\", \"violenc\", \"visit\", \"visit\", \"visit\", \"volunt\", \"volunt\", \"vote\", \"vote\", \"vote\", \"vt\", \"watch\", \"watch\", \"weekend\", \"win\", \"wish\", \"woman\", \"woman\", \"woman\", \"work\", \"work\", \"work\", \"would\", \"would\", \"would\", \"year\", \"year\"]}, \"R\": 30, \"lambda.step\": 0.01, \"plot.opts\": {\"xlab\": \"PC1\", \"ylab\": \"PC2\"}, \"topic.order\": [3, 1, 2]};\n",
       "\n",
       "function LDAvis_load_lib(url, callback){\n",
       "  var s = document.createElement('script');\n",
       "  s.src = url;\n",
       "  s.async = true;\n",
       "  s.onreadystatechange = s.onload = callback;\n",
       "  s.onerror = function(){console.warn(\"failed to load library \" + url);};\n",
       "  document.getElementsByTagName(\"head\")[0].appendChild(s);\n",
       "}\n",
       "\n",
       "if(typeof(LDAvis) !== \"undefined\"){\n",
       "   // already loaded: just create the visualization\n",
       "   !function(LDAvis){\n",
       "       new LDAvis(\"#\" + \"ldavis_el6940851793232164831587576\", ldavis_el6940851793232164831587576_data);\n",
       "   }(LDAvis);\n",
       "}else if(typeof define === \"function\" && define.amd){\n",
       "   // require.js is available: use it to load d3/LDAvis\n",
       "   require.config({paths: {d3: \"https://cdnjs.cloudflare.com/ajax/libs/d3/3.5.5/d3.min\"}});\n",
       "   require([\"d3\"], function(d3){\n",
       "      window.d3 = d3;\n",
       "      LDAvis_load_lib(\"https://cdn.rawgit.com/bmabey/pyLDAvis/files/ldavis.v1.0.0.js\", function(){\n",
       "        new LDAvis(\"#\" + \"ldavis_el6940851793232164831587576\", ldavis_el6940851793232164831587576_data);\n",
       "      });\n",
       "    });\n",
       "}else{\n",
       "    // require.js not available: dynamically load d3 & LDAvis\n",
       "    LDAvis_load_lib(\"https://cdnjs.cloudflare.com/ajax/libs/d3/3.5.5/d3.min.js\", function(){\n",
       "         LDAvis_load_lib(\"https://cdn.rawgit.com/bmabey/pyLDAvis/files/ldavis.v1.0.0.js\", function(){\n",
       "                 new LDAvis(\"#\" + \"ldavis_el6940851793232164831587576\", ldavis_el6940851793232164831587576_data);\n",
       "            })\n",
       "         });\n",
       "}\n",
       "</script>"
      ],
      "text/plain": [
       "<IPython.core.display.HTML object>"
      ]
     },
     "execution_count": 297,
     "metadata": {},
     "output_type": "execute_result"
    }
   ],
   "source": [
    "pyLDAvis.display(pyLDAvis2012)"
   ]
  },
  {
   "cell_type": "code",
   "execution_count": 300,
   "metadata": {},
   "outputs": [
    {
     "data": {
      "text/html": [
       "\n",
       "<link rel=\"stylesheet\" type=\"text/css\" href=\"https://cdn.rawgit.com/bmabey/pyLDAvis/files/ldavis.v1.0.0.css\">\n",
       "\n",
       "\n",
       "<div id=\"ldavis_el6940852056758561757776213\"></div>\n",
       "<script type=\"text/javascript\">\n",
       "\n",
       "var ldavis_el6940852056758561757776213_data = {\"mdsDat\": {\"x\": [-0.09639387658986935, -0.12788081374608073, 0.22427469033595004], \"y\": [0.1647060272389911, -0.149979327616783, -0.014726699622208074], \"topics\": [1, 2, 3], \"cluster\": [1, 1, 1], \"Freq\": [39.10187870714884, 30.625888029073046, 30.27223326377811]}, \"tinfo\": {\"Term\": [\"thank\", \"great\", \"senat\", \"trump\", \"honor\", \"fund\", \"meet\", \"visit\", \"hillari\", \"happi\", \"de\", \"zika\", \"stop\", \"work\", \"staff\", \"american\", \"america\", \"protect\", \"countri\", \"right\", \"morn\", \"make\", \"today\", \"offic\", \"need\", \"florida\", \"congrat\", \"birthday\", \"enjoy\", \"famili\", \"happi\", \"birthday\", \"donald\", \"trump\", \"better\", \"worker\", \"improv\", \"bipartisan\", \"expand\", \"child\", \"equal\", \"care\", \"togeth\", \"fix\", \"small\", \"debatenight\", \"poverti\", \"believ\", \"promis\", \"wall\", \"infrastructur\", \"social\", \"wage\", \"broadband\", \"taxpay\", \"intro\", \"qualiti\", \"stronger\", \"penni\", \"healthcar\", \"economi\", \"right\", \"countri\", \"america\", \"want\", \"protect\", \"done\", \"woman\", \"access\", \"say\", \"reform\", \"hillari\", \"would\", \"kid\", \"make\", \"work\", \"thing\", \"american\", \"creat\", \"presid\", \"peopl\", \"need\", \"job\", \"everi\", \"like\", \"amp\", \"support\", \"keep\", \"famili\", \"help\", \"bill\", \"get\", \"must\", \"proud\", \"act\", \"go\", \"nation\", \"doyourjob\", \"mobil\", \"gop\", \"iran\", \"staff\", \"hold\", \"scotu\", \"terror\", \"op\", \"epidem\", \"attack\", \"letter\", \"hassan\", \"payment\", \"hour\", \"garland\", \"heroin\", \"block\", \"confirm\", \"governor\", \"forc\", \"air\", \"manufactur\", \"actonclim\", \"free\", \"dem\", \"overdos\", \"ransom\", \"ppl\", \"request\", \"fund\", \"opioid\", \"statement\", \"drug\", \"research\", \"insur\", \"senat\", \"zika\", \"feder\", \"releas\", \"floor\", \"court\", \"stop\", \"announc\", \"combat\", \"ed\", \"offic\", \"new\", \"via\", \"counti\", \"obama\", \"read\", \"help\", \"urg\", \"amp\", \"call\", \"join\", \"state\", \"today\", \"week\", \"must\", \"bill\", \"fight\", \"congress\", \"need\", \"time\", \"de\", \"la\", \"congratul\", \"miss\", \"en\", \"hurrican\", \"el\", \"rio\", \"matthew\", \"para\", \"que\", \"lo\", \"luck\", \"gold\", \"storm\", \"medal\", \"regist\", \"poll\", \"academi\", \"olymp\", \"word\", \"newslett\", \"prepar\", \"teamusa\", \"volunt\", \"hermin\", \"memori\", \"carolina\", \"appli\", \"al\", \"enjoy\", \"award\", \"meet\", \"thank\", \"florida\", \"win\", \"congrat\", \"lost\", \"tonight\", \"morn\", \"honor\", \"night\", \"visit\", \"dedic\", \"great\", \"welcom\", \"team\", \"school\", \"servic\", \"today\", \"friend\", \"tour\", \"join\", \"last\", \"year\", \"look\", \"see\", \"good\", \"famili\", \"commun\", \"day\", \"state\", \"watch\", \"amp\", \"student\"], \"Freq\": [1951.0, 1699.0, 1019.0, 1017.0, 798.0, 659.0, 621.0, 702.0, 1138.0, 694.0, 534.0, 586.0, 707.0, 1552.0, 426.0, 1117.0, 679.0, 643.0, 577.0, 570.0, 439.0, 1069.0, 2157.0, 761.0, 1103.0, 401.0, 404.0, 457.0, 376.0, 1176.0, 693.8496773415803, 456.7697023491545, 397.461025350513, 1014.6241723813522, 276.5900286021161, 209.79235490011635, 229.68625289401402, 242.0546787518325, 163.89224052398347, 295.36323949862174, 133.32720357480724, 415.18226564466755, 385.64533752295586, 123.71596180898055, 184.5895788587989, 114.17796001452804, 112.26119612762477, 165.51592908268893, 114.14162845306255, 112.19153642019997, 94.04893183949812, 90.24509435804487, 94.98926209509409, 95.93741593506536, 100.66859405301959, 89.2710681801072, 85.45356005663858, 81.62952019602176, 81.62742994111238, 84.43689768931107, 330.03577852022005, 559.3473373668519, 564.4943554052154, 652.3585126024882, 342.52683676238615, 614.3812779841528, 165.47780826413725, 591.8339816204913, 282.71443115877776, 330.8929468275939, 188.78129306679222, 1019.0881595465415, 518.7454484613897, 190.40663450192105, 900.7397633501054, 1250.9997822127884, 217.19213012166196, 914.208778734835, 255.67545228479815, 543.1760971651204, 744.3473916381164, 822.2867831399808, 571.8821313083989, 361.79382861106683, 442.0619955462961, 1725.9123306987653, 589.6154767927877, 410.013404453246, 694.6008732646485, 868.9491898355742, 562.8786877814156, 530.6187280636185, 545.8965065837141, 500.16071896130927, 440.6368333150776, 438.0351712729487, 416.02915079604645, 295.2945747856348, 251.05042185917932, 255.9525474305148, 301.0601715185229, 425.4791827544282, 235.24292653832987, 168.4557404267176, 170.3666758620507, 168.38122132075995, 180.1103477324659, 264.22575729135394, 143.8510429914422, 142.86862925934577, 137.91190732869737, 170.169500758434, 118.31535421249727, 114.3718355600515, 142.70118944959137, 109.44055020224863, 139.7263468915695, 191.50040230987366, 111.35002417093649, 152.35626055231168, 105.46556918020137, 178.57899961533653, 116.10061548478505, 85.84388756475946, 80.94415088212182, 77.9648510516223, 76.98994014887329, 649.8844872000833, 273.6030140172509, 296.21858409967456, 329.98132676766636, 209.9008380211383, 134.209455172575, 938.383241900107, 550.2235433393979, 324.1478371236739, 177.65468186903928, 158.20138019410763, 174.57285565582907, 624.0328402797272, 273.7197487539301, 201.19104890657383, 181.22540440601975, 542.3512554254295, 665.9829805499744, 488.0403288483981, 443.1456419228506, 361.6290342836682, 431.9413278703778, 754.8799920362515, 216.96103025262158, 1049.578913079346, 354.9389450152725, 486.51785544162385, 423.6027767993377, 606.1514473567563, 315.06521530260784, 346.33071097886307, 319.9214930862642, 295.8525635703873, 278.4820885344653, 280.44069813868276, 274.5903302223907, 533.939475809666, 331.7314255963389, 262.66897485068375, 245.84394813774654, 198.5841019408989, 197.57841776777482, 192.66079413683119, 187.68751886766697, 177.85103908986687, 165.04908449457182, 143.349099248713, 140.38776599190294, 139.39918182872842, 125.57971754148528, 128.51884499616972, 120.6542371803279, 124.5475626131143, 124.49842271465894, 106.82356718561327, 106.820515604248, 157.73460203499155, 100.91130651420626, 142.0475296949876, 92.045400533396, 98.89229777561492, 89.08785698292041, 117.46616172604847, 87.09100742677536, 87.07069353511324, 82.15633163739271, 370.68504717576633, 216.53574624772642, 606.4320349600456, 1880.5960340781742, 392.2082712992066, 290.10186469504396, 393.2114741983608, 176.02823162713005, 333.78309896108027, 425.7007310384912, 754.3398606000618, 268.8697346994579, 652.5527027395115, 148.09939486233432, 1454.040381969465, 188.39236074169105, 215.3819144434809, 283.831764082134, 414.2492428662711, 1187.4682834461019, 252.68422513738318, 303.91103849130496, 589.9724139814889, 368.29727996004715, 496.898535471642, 317.38782409799484, 398.04247342011826, 349.16519156107296, 477.4455315198049, 367.4063632013094, 391.1873267950819, 354.21745141781054, 315.9741330760891, 464.6856005086681, 308.90084813774405], \"Total\": [1951.0, 1699.0, 1019.0, 1017.0, 798.0, 659.0, 621.0, 702.0, 1138.0, 694.0, 534.0, 586.0, 707.0, 1552.0, 426.0, 1117.0, 679.0, 643.0, 577.0, 570.0, 439.0, 1069.0, 2157.0, 761.0, 1103.0, 401.0, 404.0, 457.0, 376.0, 1176.0, 694.8097064618248, 457.4659304301719, 398.131135362826, 1017.3720520285302, 277.55787263282514, 210.56194809559722, 230.66430687688717, 243.10728088456776, 164.62470040966272, 296.70883570796116, 133.99904567390797, 417.3101285294285, 387.64355446649967, 124.43017130540693, 185.68976583361814, 114.85931204463574, 112.94537017772568, 166.5470999359738, 114.86033647312973, 112.94735382483876, 94.76320511943558, 90.93449404131532, 95.72079177352556, 96.67792660247527, 101.4643384652909, 89.97795469505772, 86.14973489781724, 82.32158945271102, 82.32167744906326, 85.19436911320082, 334.1066237041775, 570.6881757936723, 577.4205580764778, 679.2940386355192, 354.4123854614851, 643.8942502717795, 169.50779466591396, 631.8318521788909, 295.08790354674966, 347.88287621852066, 194.42292084124213, 1138.5497647478903, 563.9256465660865, 197.346819074648, 1069.1309767011046, 1552.4147679236041, 228.08937178529803, 1117.480606895142, 273.2149996604939, 643.203412588841, 921.6563415713936, 1103.277412204552, 743.4088945827575, 422.73215378700036, 549.3684165365895, 3240.176844286779, 844.3918066889662, 517.0148153878531, 1176.1156388445631, 1721.7664543999012, 883.2629282537196, 802.1001020975169, 892.5784675993851, 810.153252296164, 678.1638970442244, 706.5079593977857, 888.0377128250018, 295.9595107846526, 251.7121379803268, 256.6281638517279, 301.8592806596681, 426.73794030810444, 235.9775961219294, 169.1163792558521, 171.08182217338273, 169.1144663889893, 180.91192412196656, 265.4627175129873, 144.53425713928084, 143.55107138395613, 138.6345739615125, 171.0832155989714, 118.96921354506262, 115.03599178352715, 143.54605729415007, 110.11917962118568, 140.600819081078, 192.70114206194813, 112.08573309730069, 153.3756510408694, 106.18505406568853, 179.91439207288212, 116.99626678859325, 86.52031569055491, 81.60434325122344, 78.65411285895472, 77.6714299941322, 659.5273288261861, 276.2397704380469, 299.9021410472683, 335.1667347656259, 213.29161213974476, 135.66317007641211, 1019.4207450771314, 586.1372576589438, 338.2622877999508, 181.80355553092363, 161.18682736494426, 178.85068610976353, 707.4719613673874, 292.5125274521113, 209.22862875479782, 186.68403997439157, 761.731789223571, 1067.3227049036016, 751.002619921591, 661.4347329963389, 530.4638381683654, 700.7879961406867, 1721.7664543999012, 249.8486439802127, 3240.176844286779, 553.4949055406487, 1183.745974081231, 926.2284596764648, 2157.8968283015106, 591.6422202415658, 892.5784675993851, 883.2629282537196, 638.5852748380527, 499.3515648989325, 1103.277412204552, 902.3684465487961, 534.5926211634918, 332.39008046914097, 263.3451351485639, 246.57548026098905, 199.23254940040817, 198.24596995637617, 193.31432833242545, 188.38129941971224, 178.51891616988456, 165.69654471509696, 143.99676657249086, 141.03767656354, 140.05124735894577, 126.24217842247225, 129.2010585764873, 121.31046691520771, 125.25455027153541, 125.25366131565161, 107.50145570256873, 107.500971128742, 158.78012925898096, 101.58328169728001, 143.0021761821058, 92.70603208532734, 99.61012012903178, 89.74720861216129, 118.34527034548405, 87.77404861178364, 87.77383815090441, 82.8420962694294, 376.6342230598957, 218.92165077371234, 621.2762782709957, 1951.792330428004, 401.40779978495766, 295.74278126441794, 404.35011736118025, 178.47431885945986, 342.9876310159832, 439.75559645070985, 798.6878380798001, 276.14444146974853, 702.0622829221086, 149.8931088413247, 1699.636214375692, 195.2258857048395, 226.70634135348675, 334.34301095114813, 554.1190366531605, 2157.8968283015106, 300.3713050869668, 393.2664435132916, 1183.745974081231, 571.5142441343429, 966.2780309453462, 481.48325841460405, 770.1752421923604, 606.9024319050484, 1176.1156388445631, 805.8888186940835, 1004.0510223601736, 926.2284596764648, 640.6317130995046, 3240.176844286779, 593.14330883209], \"Category\": [\"Default\", \"Default\", \"Default\", \"Default\", \"Default\", \"Default\", \"Default\", \"Default\", \"Default\", \"Default\", \"Default\", \"Default\", \"Default\", \"Default\", \"Default\", \"Default\", \"Default\", \"Default\", \"Default\", \"Default\", \"Default\", \"Default\", \"Default\", \"Default\", \"Default\", \"Default\", \"Default\", \"Default\", \"Default\", \"Default\", \"Topic1\", \"Topic1\", \"Topic1\", \"Topic1\", \"Topic1\", \"Topic1\", \"Topic1\", \"Topic1\", \"Topic1\", \"Topic1\", \"Topic1\", \"Topic1\", \"Topic1\", \"Topic1\", \"Topic1\", \"Topic1\", \"Topic1\", \"Topic1\", \"Topic1\", \"Topic1\", \"Topic1\", \"Topic1\", \"Topic1\", \"Topic1\", \"Topic1\", \"Topic1\", \"Topic1\", \"Topic1\", \"Topic1\", \"Topic1\", \"Topic1\", \"Topic1\", \"Topic1\", \"Topic1\", \"Topic1\", \"Topic1\", \"Topic1\", \"Topic1\", \"Topic1\", \"Topic1\", \"Topic1\", \"Topic1\", \"Topic1\", \"Topic1\", \"Topic1\", \"Topic1\", \"Topic1\", \"Topic1\", \"Topic1\", \"Topic1\", \"Topic1\", \"Topic1\", \"Topic1\", \"Topic1\", \"Topic1\", \"Topic1\", \"Topic1\", \"Topic1\", \"Topic1\", \"Topic1\", \"Topic1\", \"Topic1\", \"Topic1\", \"Topic1\", \"Topic1\", \"Topic1\", \"Topic1\", \"Topic2\", \"Topic2\", \"Topic2\", \"Topic2\", \"Topic2\", \"Topic2\", \"Topic2\", \"Topic2\", \"Topic2\", \"Topic2\", \"Topic2\", \"Topic2\", \"Topic2\", \"Topic2\", \"Topic2\", \"Topic2\", \"Topic2\", \"Topic2\", \"Topic2\", \"Topic2\", \"Topic2\", \"Topic2\", \"Topic2\", \"Topic2\", \"Topic2\", \"Topic2\", \"Topic2\", \"Topic2\", \"Topic2\", \"Topic2\", \"Topic2\", \"Topic2\", \"Topic2\", \"Topic2\", \"Topic2\", \"Topic2\", \"Topic2\", \"Topic2\", \"Topic2\", \"Topic2\", \"Topic2\", \"Topic2\", \"Topic2\", \"Topic2\", \"Topic2\", \"Topic2\", \"Topic2\", \"Topic2\", \"Topic2\", \"Topic2\", \"Topic2\", \"Topic2\", \"Topic2\", \"Topic2\", \"Topic2\", \"Topic2\", \"Topic2\", \"Topic2\", \"Topic2\", \"Topic2\", \"Topic2\", \"Topic2\", \"Topic2\", \"Topic2\", \"Topic2\", \"Topic2\", \"Topic3\", \"Topic3\", \"Topic3\", \"Topic3\", \"Topic3\", \"Topic3\", \"Topic3\", \"Topic3\", \"Topic3\", \"Topic3\", \"Topic3\", \"Topic3\", \"Topic3\", \"Topic3\", \"Topic3\", \"Topic3\", \"Topic3\", \"Topic3\", \"Topic3\", \"Topic3\", \"Topic3\", \"Topic3\", \"Topic3\", \"Topic3\", \"Topic3\", \"Topic3\", \"Topic3\", \"Topic3\", \"Topic3\", \"Topic3\", \"Topic3\", \"Topic3\", \"Topic3\", \"Topic3\", \"Topic3\", \"Topic3\", \"Topic3\", \"Topic3\", \"Topic3\", \"Topic3\", \"Topic3\", \"Topic3\", \"Topic3\", \"Topic3\", \"Topic3\", \"Topic3\", \"Topic3\", \"Topic3\", \"Topic3\", \"Topic3\", \"Topic3\", \"Topic3\", \"Topic3\", \"Topic3\", \"Topic3\", \"Topic3\", \"Topic3\", \"Topic3\", \"Topic3\", \"Topic3\", \"Topic3\", \"Topic3\", \"Topic3\", \"Topic3\", \"Topic3\"], \"logprob\": [30.0, 29.0, 28.0, 27.0, 26.0, 25.0, 24.0, 23.0, 22.0, 21.0, 20.0, 19.0, 18.0, 17.0, 16.0, 15.0, 14.0, 13.0, 12.0, 11.0, 10.0, 9.0, 8.0, 7.0, 6.0, 5.0, 4.0, 3.0, 2.0, 1.0, -5.0148, -5.4329, -5.5719, -4.6348, -5.9345, -6.2109, -6.1203, -6.0679, -6.4578, -5.8688, -6.6642, -5.5283, -5.6021, -6.739, -6.3389, -6.8193, -6.8362, -6.448, -6.8196, -6.8368, -7.0132, -7.0545, -7.0033, -6.9933, -6.9452, -7.0654, -7.1091, -7.1548, -7.1549, -7.121, -5.7578, -5.2303, -5.2211, -5.0764, -5.7207, -5.1364, -6.4482, -5.1738, -5.9126, -5.7552, -6.3164, -4.6304, -5.3056, -6.3079, -4.7538, -4.4253, -6.1763, -4.739, -6.0131, -5.2596, -4.9445, -4.8449, -5.2081, -5.666, -5.4656, -4.1035, -5.1776, -5.5408, -5.0137, -4.7897, -5.224, -5.283, -5.2546, -5.3421, -5.4688, -5.4747, -5.5263, -5.6247, -5.7871, -5.7677, -5.6054, -5.2595, -5.8521, -6.186, -6.1748, -6.1865, -6.1191, -5.7359, -6.3439, -6.3508, -6.3861, -6.1759, -6.5394, -6.5733, -6.352, -6.6173, -6.373, -6.0578, -6.6, -6.2865, -6.6543, -6.1277, -6.5583, -6.8602, -6.9189, -6.9565, -6.969, -4.8359, -5.701, -5.6216, -5.5137, -5.9661, -6.4133, -4.4686, -5.0024, -5.5315, -6.1329, -6.2488, -6.1504, -4.8765, -5.7006, -6.0085, -6.113, -5.0168, -4.8114, -5.1223, -5.2188, -5.4221, -5.2444, -4.6862, -5.933, -4.3566, -5.4408, -5.1254, -5.2639, -4.9056, -5.5599, -5.4653, -5.5446, -5.6228, -5.6834, -5.6763, -5.6974, -5.0208, -5.4968, -5.7302, -5.7964, -6.0099, -6.015, -6.0402, -6.0663, -6.1201, -6.1949, -6.3358, -6.3567, -6.3638, -6.4682, -6.445, -6.5082, -6.4764, -6.4768, -6.6299, -6.6299, -6.2402, -6.6869, -6.3449, -6.7788, -6.7071, -6.8115, -6.5349, -6.8341, -6.8344, -6.8925, -5.3857, -5.9233, -4.8935, -3.7618, -5.3293, -5.6309, -5.3267, -6.1304, -5.4906, -5.2474, -4.6753, -5.7069, -4.8202, -6.3032, -4.019, -6.0626, -5.9287, -5.6527, -5.2746, -4.2215, -5.769, -5.5844, -4.921, -5.3922, -5.0927, -5.541, -5.3145, -5.4455, -5.1326, -5.3946, -5.3319, -5.4312, -5.5454, -5.1597, -5.5681], \"loglift\": [30.0, 29.0, 28.0, 27.0, 26.0, 25.0, 24.0, 23.0, 22.0, 21.0, 20.0, 19.0, 18.0, 17.0, 16.0, 15.0, 14.0, 13.0, 12.0, 11.0, 10.0, 9.0, 8.0, 7.0, 6.0, 5.0, 4.0, 3.0, 2.0, 1.0, 0.9376, 0.9375, 0.9373, 0.9363, 0.9355, 0.9353, 0.9348, 0.9347, 0.9345, 0.9345, 0.934, 0.9339, 0.9338, 0.9332, 0.9331, 0.933, 0.9329, 0.9328, 0.9327, 0.9323, 0.9314, 0.9314, 0.9313, 0.9313, 0.9311, 0.9311, 0.9309, 0.9306, 0.9305, 0.9301, 0.9267, 0.9189, 0.9164, 0.8985, 0.9049, 0.8921, 0.9149, 0.8736, 0.8962, 0.8889, 0.9096, 0.8282, 0.8555, 0.9032, 0.7676, 0.7231, 0.89, 0.7382, 0.8726, 0.77, 0.7253, 0.645, 0.6767, 0.7833, 0.7217, 0.3091, 0.5799, 0.7071, 0.4124, 0.2552, 0.4884, 0.5258, 0.4473, 0.4567, 0.5078, 0.461, 0.1807, 1.1811, 1.1807, 1.1807, 1.1807, 1.1804, 1.1802, 1.1794, 1.1791, 1.179, 1.1789, 1.1787, 1.1786, 1.1786, 1.1781, 1.178, 1.1778, 1.1775, 1.1774, 1.1771, 1.1771, 1.1771, 1.1767, 1.1767, 1.1765, 1.1759, 1.1756, 1.1755, 1.1752, 1.1745, 1.1745, 1.1686, 1.1737, 1.171, 1.1677, 1.1673, 1.1726, 1.1005, 1.1201, 1.1407, 1.1602, 1.1646, 1.1591, 1.0578, 1.1169, 1.1442, 1.1536, 0.8436, 0.7117, 0.7523, 0.7828, 0.8002, 0.6994, 0.3588, 1.0422, 0.0561, 0.739, 0.2942, 0.401, -0.0864, 0.5532, 0.2366, 0.1678, 0.4139, 0.5994, -0.1864, -0.0064, 1.1937, 1.193, 1.1924, 1.192, 1.1917, 1.1916, 1.1916, 1.1912, 1.1912, 1.191, 1.1904, 1.1903, 1.1903, 1.1897, 1.1896, 1.1895, 1.1893, 1.1889, 1.1886, 1.1886, 1.1883, 1.1883, 1.1882, 1.1878, 1.1877, 1.1876, 1.1875, 1.1871, 1.1869, 1.1866, 1.179, 1.184, 1.1708, 1.1578, 1.1718, 1.1757, 1.167, 1.1811, 1.1677, 1.1625, 1.1378, 1.1682, 1.1218, 1.1829, 1.0389, 1.1593, 1.1437, 1.0312, 0.904, 0.5976, 1.0221, 0.9372, 0.4986, 0.7555, 0.5299, 0.7782, 0.5349, 0.6421, 0.2934, 0.4095, 0.2523, 0.2337, 0.4881, -0.7471, 0.5425]}, \"token.table\": {\"Topic\": [3, 1, 2, 1, 2, 2, 2, 3, 1, 2, 3, 1, 2, 3, 1, 2, 3, 1, 2, 3, 1, 2, 1, 2, 3, 1, 2, 1, 3, 1, 2, 1, 2, 1, 1, 2, 1, 1, 2, 3, 1, 2, 3, 1, 3, 1, 2, 1, 2, 3, 2, 1, 2, 3, 3, 1, 2, 2, 3, 1, 2, 3, 1, 2, 1, 2, 1, 2, 3, 3, 1, 1, 2, 3, 1, 2, 1, 1, 3, 2, 1, 2, 1, 2, 3, 1, 2, 3, 3, 1, 2, 3, 2, 1, 1, 2, 3, 1, 1, 2, 3, 1, 2, 3, 1, 2, 1, 1, 2, 2, 3, 1, 2, 1, 2, 1, 3, 1, 2, 2, 1, 2, 3, 1, 2, 3, 3, 1, 2, 3, 2, 2, 3, 1, 2, 3, 1, 3, 2, 1, 1, 2, 3, 3, 2, 1, 2, 3, 2, 1, 2, 3, 2, 3, 3, 1, 2, 1, 1, 2, 1, 2, 1, 2, 3, 1, 2, 3, 1, 2, 3, 1, 2, 3, 3, 1, 2, 3, 2, 1, 2, 3, 3, 1, 2, 3, 1, 2, 3, 3, 1, 2, 3, 1, 2, 3, 3, 1, 2, 3, 1, 3, 3, 2, 1, 2, 3, 1, 2, 1, 2, 3, 1, 2, 3, 1, 2, 3, 3, 2, 3, 1, 2, 3, 2, 3, 3, 2, 1, 2, 2, 3, 2, 1, 1, 2, 3, 3, 1, 2, 1, 3, 1, 2, 3, 1, 1, 2, 1, 2, 3, 1, 3, 2, 1, 2, 3, 1, 2, 3, 1, 2, 2, 1, 2, 1, 2, 3, 3, 1, 2, 3, 1, 2, 3, 2, 1, 2, 3, 1, 2, 3, 1, 2, 3, 1, 3, 1, 2, 3, 1, 2, 3, 2, 3, 1, 2, 3, 3, 1, 1, 2, 3, 1, 2, 3, 1, 1, 2, 3, 3, 2, 1, 3, 1, 3, 1, 2, 3, 1, 2, 3, 1, 3, 1, 2, 3, 2, 3, 1, 3, 1, 2, 1, 2, 3, 1, 2, 3, 3, 1, 1, 1, 2, 3, 1, 2, 3, 1, 2, 3, 1, 2, 3, 1, 3, 1, 2, 3, 1, 3, 1, 2, 3, 1, 1, 2, 3, 1, 2, 3, 2, 3], \"Freq\": [0.9953353589559183, 0.9590362620715335, 0.040665848568404245, 0.6502852804788007, 0.3494730418899677, 0.9888397281885318, 0.9903133693530989, 0.9898349232171693, 0.9598199938713667, 0.010304815885122035, 0.029442331100348672, 0.8179112857622634, 0.17807915302701358, 0.003579480462854544, 0.5326869744913332, 0.3240563865677288, 0.14351068547999415, 0.06153582602696177, 0.936712018410418, 0.9911837266410295, 0.0037670073197795723, 0.994489932421807, 0.009135688466314799, 0.004567844233157399, 0.9912221985951556, 0.9967150437552854, 0.006004307492501719, 0.9979900673415121, 0.0036028522286697187, 0.6374092945495804, 0.3622930270974524, 0.9954452993734337, 0.004113410327989396, 0.998981496983319, 0.006966405200184853, 0.996195943626434, 0.9929877829790166, 0.2746186071062891, 0.6413789837021884, 0.08491496403944465, 0.9944642404497365, 0.004792598749155356, 0.9911813500228617, 0.9942406982795648, 0.003370307451795135, 0.03823568527696787, 0.9606715925838178, 0.3809458487058841, 0.1637943062839632, 0.45539780610768554, 0.9898366512987501, 0.0024731042654966354, 0.024731042654966354, 0.9719299763401777, 0.9986894189316647, 0.4425739609822387, 0.556721996167703, 0.6697561798624991, 0.32958656255084606, 0.9767577411493888, 0.020782079598923166, 0.0017318399665769307, 0.022365024630350793, 0.9784698275778473, 0.9369910155669131, 0.06222205962749032, 0.39639419823948874, 0.2141325442751007, 0.38942244098402035, 0.9988914527809942, 0.9925185687660936, 0.006671420772642655, 0.006671420772642655, 0.9873702743511129, 0.008547281271862743, 0.9914846275360781, 0.9971588874560259, 0.9734065641358944, 0.023597734888142895, 0.9967579660403252, 0.014917948237006219, 0.9845845836424104, 0.9877086432509236, 0.008979169484099304, 0.005986112989399537, 0.02678322153669846, 0.9695526196284842, 0.9983740039595775, 0.9988327740567089, 0.013275479746313058, 0.0026550959492626118, 0.9850405971764289, 0.9949592923385648, 0.9925443821716523, 0.856334198279128, 0.12537489643313202, 0.018924512669152, 0.9962053057159213, 0.5909282871901783, 0.0034010261133247672, 0.40557236401397845, 0.0029562858056213543, 0.9578366010213188, 0.03843171547307761, 0.5355588571733545, 0.46352462492196767, 0.9965428697807456, 0.018611942731571223, 0.9802289838627511, 0.022421088989355673, 0.9765629870919359, 0.0051893828407022485, 0.9963615054148318, 0.00555819903276502, 0.9949176268649386, 0.15647300259387975, 0.8422908437500335, 0.013646136568772706, 0.9855543077446954, 0.9918532407151242, 0.6620121336618937, 0.11843908229355915, 0.21942398403859378, 0.6199505528194517, 0.042462366631469295, 0.3368681086096564, 0.9980816362209641, 0.4069846931156207, 0.018124824389764486, 0.5750512465479822, 0.9975522411792229, 0.9957267739618819, 0.007112334099727728, 0.127674380061211, 0.01647411355628529, 0.8554771825299576, 0.9988346356501724, 0.0014392429908503925, 0.9961611475369475, 0.9859806566368979, 0.5047142124178964, 0.43850314197412166, 0.05691828862710454, 0.9916742969088842, 0.9909941943606948, 0.8949982087305931, 0.0026349309383628845, 0.1027623065961525, 0.9958572502729273, 0.05008214485419952, 0.005008214485419952, 0.9440484305016609, 0.9936684870273276, 0.0058451087472195734, 0.998759268819284, 0.997120027429117, 0.004335304467083118, 0.9919461871464387, 0.007371197351770205, 0.9877404451372076, 0.9891311744263127, 0.9971533733937539, 0.7694285125832914, 0.22195053247594945, 0.00941608319594937, 0.09039101491605786, 0.41140583424411387, 0.49841774579882375, 0.7930140255118745, 0.050288694300753015, 0.15666862455234593, 0.9627720420876457, 0.005067221274145503, 0.03040332764487302, 0.9988264376945594, 0.12073189900019451, 0.2344648473337111, 0.6439034613343708, 0.9963035950794281, 0.8045602672001468, 0.16382448879640998, 0.032764897759282, 0.9926425577276685, 0.32192188885315276, 0.018692238707602418, 0.6583821855899963, 0.011206094035158673, 0.005603047017579336, 0.9861362750939632, 0.9924938379431104, 0.8427405244398707, 0.01964212099138433, 0.13749484693969033, 0.006519939724549459, 0.9910308381315178, 0.9970932146518818, 0.9974407244230235, 0.0048287695907993835, 0.019315078363197534, 0.9754114573414755, 0.008449851836754532, 0.9886326649002801, 0.9976661091346961, 0.9971708238385292, 0.009095961557474667, 0.02273990389368667, 0.9687199058710521, 0.6117109249436438, 0.3876409890668511, 0.4684485737397705, 0.26237624442636187, 0.26913271423991625, 0.745052867852603, 0.2537892980519816, 0.0009063903501856485, 0.17520474280258982, 0.6239912230295446, 0.20143860803506317, 0.9942580935806129, 0.02534905270134451, 0.9741278823802391, 0.30539310758555865, 0.6824216354689644, 0.011310855836502173, 0.7115365377522942, 0.2875027707892111, 0.9953398455522598, 0.9934099878455941, 0.007240087105591285, 0.9918919334660061, 0.9939862021260318, 0.9957962628834861, 0.9954226861065071, 0.9960924332565709, 0.8072423162970969, 0.15298543897565947, 0.04014511519219433, 0.9899910206018468, 0.9916298456834655, 0.9916836788925749, 0.006992900574649663, 0.9929918816002521, 0.8442119388242507, 0.0031094362387633547, 0.15236237569940436, 0.9925097165867087, 0.9535727330083139, 0.0450384515590246, 0.6171671823607237, 0.033327027847479075, 0.3493166252161696, 0.9866542259337078, 0.9930778544809264, 0.9925942268861483, 0.14412347322759186, 0.616448915191284, 0.2397301336854993, 0.9721076053287449, 0.02571713241610436, 0.9979677363338612, 0.022001769923138965, 0.9790787615796839, 0.9913555087863978, 0.014065250714287138, 0.9845675500000997, 0.9795191554872901, 0.012265892823633329, 0.0070090816135047595, 0.9979759168193085, 0.9514696543789761, 0.014372653389410515, 0.034494368134585236, 0.09271915064654815, 0.0568278665253037, 0.8494270575361185, 0.993398751435169, 0.27785884078905637, 0.205148116096593, 0.5167655076357216, 0.07847593879791709, 0.9201303824055779, 0.0009809492349739635, 0.2436299622828163, 0.009023331936400604, 0.74713188433397, 0.9962853858395395, 0.005385326409943457, 0.9897234371712593, 0.9959273827238102, 0.0023433585475854356, 0.1597877915041576, 0.4577704297146137, 0.38219512292210667, 0.9869886189086817, 0.010003263029479882, 0.08056856400334447, 0.882013753299771, 0.03816405663316317, 0.9984438318176142, 0.9960934980137166, 0.4079958357390938, 0.07249512783793816, 0.5209533605098347, 0.6987277651514778, 0.22146117302258703, 0.0805313356445771, 0.9954236289092868, 0.017643970504394008, 0.030876948382689517, 0.948363414611178, 0.9923841839689839, 0.9936765802489153, 0.03637682088054448, 0.9637295785394955, 0.9513814620185963, 0.048226710056242204, 0.4377369371798398, 0.3047535638593821, 0.258209383197222, 0.16868276333975887, 0.28082899610959855, 0.5500726375942137, 0.9957601398306193, 0.00515937896285295, 0.026240013301181118, 0.0029155570334645684, 0.9737960491771659, 0.2263096724065957, 0.7730128136135404, 0.9976684517489933, 0.0019658491660078685, 0.12807754122745732, 0.868525826448695, 0.0026631065550860684, 0.6497979994410007, 0.3475354054387319, 0.0028487501018793415, 0.06694562739416453, 0.930116908263605, 0.9938749182488541, 0.9924698515320376, 0.9916124301034274, 0.9677991347660583, 0.028215718214753886, 0.0028215718214753887, 0.30594801348767564, 0.2013637435709702, 0.4932631237862526, 0.010141264086173933, 0.5324163645241314, 0.45804709455885595, 0.010244543098264051, 0.02561135774566013, 0.9629870512368208, 0.01690658341219019, 0.980581837907031, 0.9369581447318149, 0.01107889698162619, 0.052229085770523466, 0.0062980172938953425, 0.9950867324354641, 0.8058413420488428, 0.04187025358367289, 0.15202122839610463, 0.9973311982498277, 0.9203340957453304, 0.07979775396635813, 0.0017732834214746252, 0.25458511124311595, 0.23181733706690233, 0.5143447166171895, 0.9383467657332047, 0.06141906102980977], \"Term\": [\"academi\", \"access\", \"access\", \"act\", \"act\", \"actonclim\", \"air\", \"al\", \"america\", \"america\", \"america\", \"american\", \"american\", \"american\", \"amp\", \"amp\", \"amp\", \"announc\", \"announc\", \"appli\", \"attack\", \"attack\", \"award\", \"award\", \"award\", \"believ\", \"believ\", \"better\", \"better\", \"bill\", \"bill\", \"bipartisan\", \"bipartisan\", \"birthday\", \"block\", \"block\", \"broadband\", \"call\", \"call\", \"call\", \"care\", \"care\", \"carolina\", \"child\", \"child\", \"combat\", \"combat\", \"commun\", \"commun\", \"commun\", \"confirm\", \"congrat\", \"congrat\", \"congrat\", \"congratul\", \"congress\", \"congress\", \"counti\", \"counti\", \"countri\", \"countri\", \"countri\", \"court\", \"court\", \"creat\", \"creat\", \"day\", \"day\", \"day\", \"de\", \"debatenight\", \"dedic\", \"dedic\", \"dedic\", \"dem\", \"dem\", \"donald\", \"done\", \"done\", \"doyourjob\", \"drug\", \"drug\", \"economi\", \"economi\", \"economi\", \"ed\", \"ed\", \"el\", \"en\", \"enjoy\", \"enjoy\", \"enjoy\", \"epidem\", \"equal\", \"everi\", \"everi\", \"everi\", \"expand\", \"famili\", \"famili\", \"famili\", \"feder\", \"feder\", \"feder\", \"fight\", \"fight\", \"fix\", \"floor\", \"floor\", \"florida\", \"florida\", \"forc\", \"forc\", \"free\", \"free\", \"friend\", \"friend\", \"fund\", \"fund\", \"garland\", \"get\", \"get\", \"get\", \"go\", \"go\", \"go\", \"gold\", \"good\", \"good\", \"good\", \"gop\", \"governor\", \"governor\", \"great\", \"great\", \"great\", \"happi\", \"happi\", \"hassan\", \"healthcar\", \"help\", \"help\", \"help\", \"hermin\", \"heroin\", \"hillari\", \"hillari\", \"hillari\", \"hold\", \"honor\", \"honor\", \"honor\", \"hour\", \"hour\", \"hurrican\", \"improv\", \"improv\", \"infrastructur\", \"insur\", \"insur\", \"intro\", \"iran\", \"job\", \"job\", \"job\", \"join\", \"join\", \"join\", \"keep\", \"keep\", \"keep\", \"kid\", \"kid\", \"kid\", \"la\", \"last\", \"last\", \"last\", \"letter\", \"like\", \"like\", \"like\", \"lo\", \"look\", \"look\", \"look\", \"lost\", \"lost\", \"lost\", \"luck\", \"make\", \"make\", \"make\", \"manufactur\", \"manufactur\", \"matthew\", \"medal\", \"meet\", \"meet\", \"meet\", \"memori\", \"memori\", \"miss\", \"mobil\", \"morn\", \"morn\", \"morn\", \"must\", \"must\", \"nation\", \"nation\", \"nation\", \"need\", \"need\", \"need\", \"new\", \"new\", \"new\", \"newslett\", \"night\", \"night\", \"obama\", \"obama\", \"obama\", \"offic\", \"offic\", \"olymp\", \"op\", \"opioid\", \"opioid\", \"overdos\", \"para\", \"payment\", \"penni\", \"peopl\", \"peopl\", \"peopl\", \"poll\", \"poverti\", \"ppl\", \"prepar\", \"prepar\", \"presid\", \"presid\", \"presid\", \"promis\", \"protect\", \"protect\", \"proud\", \"proud\", \"proud\", \"qualiti\", \"que\", \"ransom\", \"read\", \"read\", \"read\", \"reform\", \"reform\", \"regist\", \"releas\", \"releas\", \"request\", \"research\", \"research\", \"right\", \"right\", \"right\", \"rio\", \"say\", \"say\", \"say\", \"school\", \"school\", \"school\", \"scotu\", \"see\", \"see\", \"see\", \"senat\", \"senat\", \"senat\", \"servic\", \"servic\", \"servic\", \"small\", \"small\", \"social\", \"staff\", \"staff\", \"state\", \"state\", \"state\", \"statement\", \"statement\", \"stop\", \"stop\", \"stop\", \"storm\", \"stronger\", \"student\", \"student\", \"student\", \"support\", \"support\", \"support\", \"taxpay\", \"team\", \"team\", \"team\", \"teamusa\", \"terror\", \"thank\", \"thank\", \"thing\", \"thing\", \"time\", \"time\", \"time\", \"today\", \"today\", \"today\", \"togeth\", \"togeth\", \"tonight\", \"tonight\", \"tonight\", \"tour\", \"tour\", \"trump\", \"trump\", \"urg\", \"urg\", \"via\", \"via\", \"via\", \"visit\", \"visit\", \"visit\", \"volunt\", \"wage\", \"wall\", \"want\", \"want\", \"want\", \"watch\", \"watch\", \"watch\", \"week\", \"week\", \"week\", \"welcom\", \"welcom\", \"welcom\", \"win\", \"win\", \"woman\", \"woman\", \"woman\", \"word\", \"word\", \"work\", \"work\", \"work\", \"worker\", \"would\", \"would\", \"would\", \"year\", \"year\", \"year\", \"zika\", \"zika\"]}, \"R\": 30, \"lambda.step\": 0.01, \"plot.opts\": {\"xlab\": \"PC1\", \"ylab\": \"PC2\"}, \"topic.order\": [1, 2, 3]};\n",
       "\n",
       "function LDAvis_load_lib(url, callback){\n",
       "  var s = document.createElement('script');\n",
       "  s.src = url;\n",
       "  s.async = true;\n",
       "  s.onreadystatechange = s.onload = callback;\n",
       "  s.onerror = function(){console.warn(\"failed to load library \" + url);};\n",
       "  document.getElementsByTagName(\"head\")[0].appendChild(s);\n",
       "}\n",
       "\n",
       "if(typeof(LDAvis) !== \"undefined\"){\n",
       "   // already loaded: just create the visualization\n",
       "   !function(LDAvis){\n",
       "       new LDAvis(\"#\" + \"ldavis_el6940852056758561757776213\", ldavis_el6940852056758561757776213_data);\n",
       "   }(LDAvis);\n",
       "}else if(typeof define === \"function\" && define.amd){\n",
       "   // require.js is available: use it to load d3/LDAvis\n",
       "   require.config({paths: {d3: \"https://cdnjs.cloudflare.com/ajax/libs/d3/3.5.5/d3.min\"}});\n",
       "   require([\"d3\"], function(d3){\n",
       "      window.d3 = d3;\n",
       "      LDAvis_load_lib(\"https://cdn.rawgit.com/bmabey/pyLDAvis/files/ldavis.v1.0.0.js\", function(){\n",
       "        new LDAvis(\"#\" + \"ldavis_el6940852056758561757776213\", ldavis_el6940852056758561757776213_data);\n",
       "      });\n",
       "    });\n",
       "}else{\n",
       "    // require.js not available: dynamically load d3 & LDAvis\n",
       "    LDAvis_load_lib(\"https://cdnjs.cloudflare.com/ajax/libs/d3/3.5.5/d3.min.js\", function(){\n",
       "         LDAvis_load_lib(\"https://cdn.rawgit.com/bmabey/pyLDAvis/files/ldavis.v1.0.0.js\", function(){\n",
       "                 new LDAvis(\"#\" + \"ldavis_el6940852056758561757776213\", ldavis_el6940852056758561757776213_data);\n",
       "            })\n",
       "         });\n",
       "}\n",
       "</script>"
      ],
      "text/plain": [
       "<IPython.core.display.HTML object>"
      ]
     },
     "execution_count": 300,
     "metadata": {},
     "output_type": "execute_result"
    }
   ],
   "source": [
    "pyLDAvis.display(pyLDAvis2016)"
   ]
  },
  {
   "cell_type": "code",
   "execution_count": 301,
   "metadata": {},
   "outputs": [
    {
     "data": {
      "text/html": [
       "\n",
       "<link rel=\"stylesheet\" type=\"text/css\" href=\"https://cdn.rawgit.com/bmabey/pyLDAvis/files/ldavis.v1.0.0.css\">\n",
       "\n",
       "\n",
       "<div id=\"ldavis_el6940852379962406999446372\"></div>\n",
       "<script type=\"text/javascript\">\n",
       "\n",
       "var ldavis_el6940852379962406999446372_data = {\"mdsDat\": {\"x\": [0.08816280612274069, 0.08679786671280965, 0.0363364503499874, 0.08241666557630464, 0.04740220492102752, 0.012192457308109576, 0.03558324790270578, 0.05279173058265412, 0.06971683255514141, 0.08707550634880744, 0.03985360403402858, 0.051146586321102375, -0.019637493060094345, -0.025116147746371623, -0.0033644945039125553, -0.07976431431560659, -0.05199794365988684, -0.5095955654495465], \"y\": [0.09833057592691549, 0.16719482552863796, -0.21717946175210157, -0.12033786783644988, 0.1926606679720379, -0.07986961976156731, 0.05687265427543787, 0.10342491784478901, -0.12319273893671844, 0.07691777738944053, -0.04063115815538798, -0.054611994844942405, -0.16887235675085643, -0.006277400230386603, 0.13298468341247627, 0.14373397110365518, -0.19316643484404594, 0.032018959659065996], \"topics\": [1, 2, 3, 4, 5, 6, 7, 8, 9, 10, 11, 12, 13, 14, 15, 16, 17, 18], \"cluster\": [1, 1, 1, 1, 1, 1, 1, 1, 1, 1, 1, 1, 1, 1, 1, 1, 1, 1], \"Freq\": [8.565856613558674, 8.458157317331974, 7.917859012897699, 6.834739956958701, 6.818117610251566, 6.773386674830932, 6.532354997927113, 6.411436270291013, 6.33482834751226, 5.423680372535051, 4.953143583430889, 4.616238093065313, 4.584186819162294, 4.401547633434435, 4.181190749407078, 3.0866976507484836, 2.2676336907085193, 1.8389446059480083]}, \"tinfo\": {\"Term\": [\"health\", \"busi\", \"thank\", \"small\", \"care\", \"trump\", \"coronaviru\", \"de\", \"worker\", \"presid\", \"relief\", \"vote\", \"china\", \"new\", \"help\", \"covid\", \"test\", \"fund\", \"work\", \"la\", \"student\", \"impeach\", \"senat\", \"protect\", \"provid\", \"need\", \"el\", \"live\", \"honor\", \"famili\", \"mental\", \"sick\", \"precaut\", \"matern\", \"hygien\", \"wash\", \"fundmentalhealth\", \"roevwad\", \"dispar\", \"chronic\", \"timeact\", \"worldhealthday\", \"sneez\", \"equalpayday\", \"cm\", \"presumpt\", \"slow\", \"repatri\", \"handshak\", \"interpret\", \"saveusp\", \"fairmont\", \"physician\", \"lgbtqia\", \"mcdonald\", \"flattenthecurv\", \"familyact\", \"elbow\", \"payer\", \"audio\", \"stayhom\", \"infect\", \"telehealth\", \"health\", \"reproduct\", \"patient\", \"roe\", \"cough\", \"spread\", \"ill\", \"distanc\", \"diseas\", \"care\", \"public\", \"leav\", \"treatment\", \"expert\", \"paid\", \"doctor\", \"viru\", \"qualiti\", \"profession\", \"cdc\", \"treat\", \"advic\", \"risk\", \"access\", \"coronaviru\", \"test\", \"covid\", \"nurs\", \"crisi\", \"home\", \"need\", \"stay\", \"must\", \"pandem\", \"medic\", \"take\", \"safe\", \"protect\", \"prevent\", \"life\", \"amp\", \"american\", \"work\", \"ensur\", \"commun\", \"help\", \"worker\", \"provid\", \"peopl\", \"small\", \"payrol\", \"paycheck\", \"smallbiz\", \"forgiv\", \"afloat\", \"paycheckprotectionprogram\", \"replenish\", \"rehir\", \"busi\", \"slush\", \"ppploan\", \"forgiven\", \"liquid\", \"sba\", \"chc\", \"retent\", \"homework\", \"banker\", \"biz\", \"eidl\", \"ppp\", \"owner\", \"workersfirst\", \"restartamerica\", \"supercharg\", \"restoreourpark\", \"carranza\", \"rural\", \"gig\", \"loan\", \"lifelin\", \"broadband\", \"nonprofit\", \"relief\", \"employ\", \"packag\", \"underserv\", \"employe\", \"own\", \"program\", \"provid\", \"hospit\", \"fund\", \"worker\", \"financi\", \"help\", \"struggl\", \"need\", \"bipartisan\", \"support\", \"bill\", \"econom\", \"assist\", \"famili\", \"act\", \"covid\", \"amp\", \"care\", \"congress\", \"crisi\", \"senat\", \"get\", \"commun\", \"work\", \"coronaviru\", \"keep\", \"impeach\", \"trial\", \"wit\", \"document\", \"articl\", \"argument\", \"escal\", \"imparti\", \"acquit\", \"obstruct\", \"theori\", \"conspiraci\", \"preced\", \"bolton\", \"dismiss\", \"hostil\", \"watchdog\", \"qasem\", \"acquitt\", \"assert\", \"tension\", \"gao\", \"juror\", \"justifi\", \"judgment\", \"nowarwithiran\", \"pretend\", \"oval\", \"subpoena\", \"oath\", \"sham\", \"relev\", \"lawyer\", \"iran\", \"evid\", \"proceed\", \"testimoni\", \"soleimani\", \"war\", \"constitut\", \"compel\", \"truth\", \"presid\", \"trump\", \"fair\", \"white\", \"present\", \"hous\", \"senat\", \"fact\", \"manag\", \"power\", \"republican\", \"floor\", \"donald\", \"vote\", \"case\", \"clear\", \"democrat\", \"congress\", \"want\", \"american\", \"polit\", \"peopl\", \"administr\", \"would\", \"need\", \"today\", \"lawsuit\", \"protectourcar\", \"repeal\", \"wealthi\", \"evict\", \"billionair\", \"deficit\", \"preexist\", \"asylum\", \"forthepeopl\", \"pantri\", \"aca\", \"greed\", \"wealthiest\", \"foreclosur\", \"brasher\", \"throw\", \"blank\", \"exist\", \"seeker\", \"ruin\", \"dropthelawsuit\", \"stunt\", \"eranow\", \"nobanact\", \"seiz\", \"handout\", \"amicu\", \"nationalagday\", \"gayl\", \"corpor\", \"lobbyist\", \"rip\", \"tabl\", \"condit\", \"dismantl\", \"broken\", \"hunger\", \"pre\", \"bailout\", \"giveaway\", \"medicaid\", \"cut\", \"mitch\", \"wall\", \"money\", \"budget\", \"mcconnel\", \"stock\", \"promis\", \"away\", \"wealth\", \"afford\", \"court\", \"tax\", \"ten\", \"amend\", \"peopl\", \"american\", \"trump\", \"pay\", \"republican\", \"right\", \"million\", \"end\", \"protect\", \"put\", \"would\", \"presid\", \"famili\", \"bill\", \"fight\", \"hous\", \"care\", \"go\", \"work\", \"act\", \"time\", \"must\", \"supplement\", \"newslett\", \"weekli\", \"gi\", \"subscrib\", \"webpag\", \"endow\", \"hoosierhighlight\", \"survey\", \"compil\", \"cannabi\", \"floridiansstuckabroad\", \"tribal\", \"debit\", \"pkg\", \"bezo\", \"strait\", \"interrupt\", \"caseworksenategov\", \"archiv\", \"gaynor\", \"garnish\", \"summari\", \"overburden\", \"automat\", \"entiti\", \"boil\", \"tribe\", \"tva\", \"jami\", \"rebat\", \"revenu\", \"tele\", \"updat\", \"local\", \"feder\", \"va\", \"monitor\", \"resourc\", \"arizonan\", \"receiv\", \"disabl\", \"older\", \"vermont\", \"govern\", \"inform\", \"stimulu\", \"date\", \"senior\", \"fund\", \"coronaviru\", \"outbreak\", \"state\", \"agenc\", \"check\", \"respons\", \"veteran\", \"benefit\", \"covid\", \"emerg\", \"ensur\", \"amp\", \"help\", \"relief\", \"assist\", \"provid\", \"pandem\", \"need\", \"support\", \"respond\", \"commun\", \"continu\", \"work\", \"act\", \"care\", \"bill\", \"get\", \"senat\", \"happi\", \"celebr\", \"birthday\", \"anniversari\", \"legaci\", \"holocaust\", \"semit\", \"easter\", \"luther\", \"jewish\", \"mlkday\", \"joy\", \"auschwitz\", \"passov\", \"astronaut\", \"katherin\", \"jr\", \"neveragain\", \"trailblaz\", \"ramadan\", \"werememb\", \"earthday\", \"internationalwomensday\", \"holocaustremembranceday\", \"holi\", \"mothersday\", \"jew\", \"sameach\", \"marchforlif\", \"chag\", \"martin\", \"lincoln\", \"blackhistorymonth\", \"king\", \"wish\", \"inspir\", \"mom\", \"congrat\", \"reflect\", \"congratul\", \"religi\", \"bless\", \"faith\", \"th\", \"mother\", \"honor\", \"mark\", \"black\", \"year\", \"histori\", \"world\", \"rememb\", \"today\", \"life\", \"love\", \"day\", \"proud\", \"nation\", \"woman\", \"peac\", \"stand\", \"fight\", \"dr\", \"one\", \"amp\", \"countri\", \"commun\", \"hope\", \"american\", \"great\", \"thank\", \"state\", \"continu\", \"right\", \"neighbor\", \"combatcovid\", \"combatcovidchalleng\", \"bryant\", \"kobe\", \"cincinnati\", \"oregonian\", \"teletour\", \"texastogeth\", \"yuma\", \"frack\", \"nashvil\", \"wichita\", \"unnot\", \"funer\", \"steward\", \"aloha\", \"brighten\", \"conni\", \"adventur\", \"brad\", \"hello\", \"transdayofvis\", \"egg\", \"soulsaturday\", \"congresswoman\", \"toledo\", \"craig\", \"repatriar\", \"stranger\", \"mayor\", \"oregonway\", \"texan\", \"heartwarm\", \"oregon\", \"nice\", \"tough\", \"folk\", \"minnesotan\", \"utah\", \"difficult\", \"great\", \"friend\", \"good\", \"togeth\", \"hard\", \"thank\", \"sure\", \"appreci\", \"work\", \"feel\", \"kind\", \"volunt\", \"safe\", \"citi\", \"amaz\", \"stori\", \"make\", \"alway\", \"keep\", \"see\", \"time\", \"stay\", \"get\", \"back\", \"home\", \"commun\", \"know\", \"way\", \"help\", \"famili\", \"across\", \"one\", \"go\", \"state\", \"love\", \"countri\", \"peopl\", \"support\", \"need\", \"river\", \"aviat\", \"canada\", \"port\", \"beef\", \"inmat\", \"biofuel\", \"fisheri\", \"usmca\", \"fisherman\", \"rail\", \"bop\", \"apprenticeship\", \"transfer\", \"northdakota\", \"ethanol\", \"swamp\", \"korea\", \"seafood\", \"trade\", \"ndag\", \"shark\", \"waterway\", \"upgrad\", \"fleet\", \"gulf\", \"ui\", \"export\", \"amtrak\", \"icebreak\", \"cattl\", \"fish\", \"arctic\", \"rancher\", \"infrastructur\", \"ag\", \"project\", \"agricultur\", \"farmer\", \"technolog\", \"passeng\", \"hbcu\", \"agreement\", \"produc\", \"sector\", \"test\", \"develop\", \"flood\", \"energi\", \"region\", \"market\", \"invest\", \"industri\", \"trace\", \"economi\", \"innov\", \"manufactur\", \"amp\", \"reopen\", \"job\", \"improv\", \"news\", \"deal\", \"secur\", \"creat\", \"import\", \"great\", \"new\", \"work\", \"good\", \"support\", \"nation\", \"expand\", \"econom\", \"state\", \"help\", \"today\", \"continu\", \"million\", \"count\", \"votebymail\", \"novemb\", \"mini\", \"boom\", \"knock\", \"absente\", \"getcount\", \"pin\", \"fundrais\", \"realsotu\", \"peteonfox\", \"chip\", \"reynold\", \"jobsreport\", \"tsai\", \"shelley\", \"hottest\", \"greennewd\", \"crumbl\", \"turnout\", \"passthebil\", \"votesaf\", \"caucus\", \"pundit\", \"grassroot\", \"collar\", \"rebuilt\", \"earlyvot\", \"canva\", \"defeat\", \"lowest\", \"censu\", \"sotu\", \"demdeb\", \"censusday\", \"nanci\", \"caucu\", \"pelosi\", \"beat\", \"momentum\", \"ballot\", \"speaker\", \"mail\", \"bigger\", \"yanggang\", \"tonight\", \"done\", \"iowa\", \"rebuild\", \"readi\", \"forward\", \"mike\", \"let\", \"go\", \"democrat\", \"campaign\", \"bold\", \"look\", \"job\", \"turn\", \"vote\", \"get\", \"american\", \"back\", \"time\", \"donald\", \"togeth\", \"come\", \"peopl\", \"economi\", \"need\", \"year\", \"one\", \"work\", \"everi\", \"day\", \"trump\", \"make\", \"last\", \"presid\", \"countri\", \"america\", \"take\", \"suppli\", \"ppe\", \"chain\", \"ventil\", \"equip\", \"meat\", \"gear\", \"hazard\", \"stockpil\", \"vehicl\", \"gown\", \"dpa\", \"respir\", \"plastic\", \"glove\", \"greenhous\", \"meatpack\", \"surgic\", \"sew\", \"bargain\", \"grid\", \"guardsman\", \"recycl\", \"energyinnov\", \"warehous\", \"printer\", \"breakfreefromplast\", \"osha\", \"meth\", \"cleaneconomi\", \"domest\", \"mask\", \"bonu\", \"shortag\", \"amazon\", \"bed\", \"driver\", \"miner\", \"workplac\", \"groceri\", \"sexual\", \"product\", \"shield\", \"medic\", \"essenti\", \"store\", \"frontlin\", \"letter\", \"plant\", \"worker\", \"protect\", \"urg\", \"defens\", \"abort\", \"need\", \"food\", \"deliveri\", \"manufactur\", \"act\", \"amp\", \"demand\", \"use\", \"line\", \"respond\", \"safeti\", \"must\", \"critic\", \"covid\", \"nation\", \"administr\", \"pandem\", \"ensur\", \"trump\", \"life\", \"call\", \"keep\", \"gun\", \"uniform\", \"memorialday\", \"servant\", \"selfless\", \"walker\", \"coburn\", \"justin\", \"nationalpoliceweek\", \"sacrific\", \"injur\", \"lawenforcementappreciationday\", \"sgt\", \"iwo\", \"jima\", \"revel\", \"armedforcesday\", \"endgunviol\", \"cemeteri\", \"transmit\", \"militaryappreciationmonth\", \"capt\", \"contradict\", \"gratitud\", \"fred\", \"salut\", \"men\", \"ugli\", \"fallen\", \"heroism\", \"brave\", \"sadden\", \"shoot\", \"indigen\", \"serv\", \"soldier\", \"deepest\", \"violenc\", \"condol\", \"background\", \"fisa\", \"woman\", \"reauthor\", \"enforc\", \"owe\", \"marin\", \"ultim\", \"servic\", \"honor\", \"hero\", \"pray\", \"resolut\", \"veteran\", \"member\", \"pass\", \"polic\", \"militari\", \"dedic\", \"nation\", \"recogn\", \"life\", \"offic\", \"famili\", \"law\", \"grate\", \"day\", \"senat\", \"thank\", \"line\", \"year\", \"countri\", \"today\", \"american\", \"commun\", \"everi\", \"support\", \"drug\", \"prescript\", \"fossil\", \"cigarett\", \"pollut\", \"flavor\", \"lwcf\", \"pfa\", \"vape\", \"ted\", \"tobacco\", \"hurricanemichael\", \"epa\", \"chemic\", \"rx\", \"subsidi\", \"sanctuari\", \"refineri\", \"insulin\", \"pharma\", \"rollback\", \"mortal\", \"regul\", \"ligado\", \"sicken\", \"cig\", \"fundlwcf\", \"buck\", \"nepa\", \"unilater\", \"backlog\", \"reduct\", \"lower\", \"fentanyl\", \"price\", \"fuel\", \"studi\", \"cost\", \"land\", \"cruz\", \"perman\", \"ban\", \"environment\", \"clean\", \"water\", \"air\", \"asian\", \"climat\", \"compani\", \"introduc\", \"fda\", \"legisl\", \"hawley\", \"act\", \"immigr\", \"bill\", \"oil\", \"would\", \"decis\", \"law\", \"chang\", \"fund\", \"american\", \"feder\", \"bipartisan\", \"use\", \"year\", \"must\", \"public\", \"like\", \"protect\", \"fake\", \"fauci\", \"fbi\", \"flynn\", \"detain\", \"mulvaney\", \"hunter\", \"venezuelan\", \"oppress\", \"imprison\", \"resign\", \"transcript\", \"whistleblow\", \"ukrainian\", \"robocal\", \"cuban\", \"turkey\", \"burisma\", \"lamestream\", \"yemen\", \"ratcliff\", \"traffick\", \"unmask\", \"mick\", \"barr\", \"perpetr\", \"retali\", \"horrifi\", \"msdnc\", \"li\", \"russian\", \"roger\", \"sentenc\", \"stone\", \"doj\", \"russia\", \"inspector\", \"investig\", \"biden\", \"caught\", \"prison\", \"human\", \"vice\", \"journalist\", \"attorney\", \"regim\", \"violat\", \"interfer\", \"medium\", \"releas\", \"corrupt\", \"report\", \"obama\", \"sanction\", \"committe\", \"dr\", \"ukrain\", \"crime\", \"gener\", \"right\", \"call\", \"polit\", \"foreign\", \"abus\", \"sen\", \"account\", \"amp\", \"offici\", \"presid\", \"news\", \"said\", \"elect\", \"peopl\", \"like\", \"senat\", \"must\", \"read\", \"tune\", \"telephon\", \"facebook\", \"townhal\", \"steal\", \"huawei\", \"chines\", \"communist\", \"wuhan\", \"tv\", \"drone\", \"zoom\", \"livestream\", \"espionag\", \"shortli\", \"teletown\", \"spectrum\", \"intellectu\", \"ip\", \"british\", \"edt\", \"conceal\", \"topic\", \"alert\", \"breach\", \"instagram\", \"confuciu\", \"hid\", \"stream\", \"scari\", \"pm\", \"et\", \"roundtabl\", \"town\", \"ccp\", \"hall\", \"china\", \"discu\", \"ct\", \"listen\", \"live\", \"privaci\", \"propaganda\", \"watch\", \"interview\", \"host\", \"join\", \"question\", \"data\", \"global\", \"virtual\", \"latest\", \"talk\", \"world\", \"coronaviru\", \"answer\", \"parti\", \"discuss\", \"hold\", \"covid\", \"speak\", \"morn\", \"pandem\", \"account\", \"today\", \"respons\", \"hear\", \"tonight\", \"call\", \"flatten\", \"wow\", \"wotu\", \"curv\", \"orang\", \"eric\", \"dm\", \"teacherappreciationweek\", \"english\", \"opportunityzon\", \"granitestatersgiveback\", \"alik\", \"pitch\", \"spanish\", \"casework\", \"dave\", \"baseless\", \"qaeda\", \"distilleri\", \"workshop\", \"nearest\", \"brightest\", \"blood\", \"legion\", \"tournament\", \"ribbon\", \"swing\", \"takeaway\", \"yorker\", \"albuquerqu\", \"teacher\", \"york\", \"grade\", \"granit\", \"donat\", \"hampshir\", \"stater\", \"salari\", \"student\", \"definit\", \"find\", \"school\", \"new\", \"educ\", \"connect\", \"offic\", \"academi\", \"internet\", \"learn\", \"locat\", \"visit\", \"staff\", \"creativ\", \"drive\", \"pleas\", \"nevada\", \"high\", \"team\", \"challeng\", \"help\", \"contact\", \"reach\", \"parent\", \"resourc\", \"state\", \"home\", \"kid\", \"work\", \"mani\", \"covid\", \"see\", \"way\", \"need\", \"across\", \"time\", \"today\", \"deposit\", \"summer\", \"filer\", \"tornado\", \"spous\", \"richard\", \"childhood\", \"internship\", \"noon\", \"applic\", \"ahmaud\", \"charter\", \"speedi\", \"virginia\", \"arberi\", \"drill\", \"kyle\", \"portal\", \"yang\", \"programm\", \"sixth\", \"chattanooga\", \"putnam\", \"militaryspouseappreciationday\", \"vicki\", \"cte\", \"hot\", \"alex\", \"monro\", \"ashley\", \"resum\", \"rsvp\", \"west\", \"disast\", \"april\", \"juli\", \"david\", \"deadlin\", \"comput\", \"appli\", \"stem\", \"meal\", \"virginian\", \"player\", \"file\", \"ir\", \"payment\", \"per\", \"accept\", \"thank\", \"regist\", \"child\", \"qualifi\", \"elig\", \"declar\", \"receiv\", \"approv\", \"school\", \"miss\", \"request\", \"tax\", \"impact\", \"program\", \"assist\", \"counti\", \"today\", \"inform\", \"learn\", \"check\", \"may\", \"student\", \"direct\", \"visit\", \"educ\", \"econom\", \"carolina\", \"berni\", \"tulsi\", \"hong\", \"kong\", \"devo\", \"episod\", \"hongkong\", \"defraud\", \"betsi\", \"autonomi\", \"gabbard\", \"studentsfirst\", \"sander\", \"tulsigabbard\", \"bet\", \"charli\", \"witch\", \"stick\", \"iowacaucus\", \"tyranni\", \"movi\", \"coalit\", \"hk\", \"yangspeak\", \"tuition\", \"elizabeth\", \"moor\", \"lean\", \"nashua\", \"borrow\", \"tuesday\", \"ye\", \"sc\", \"editori\", \"super\", \"poll\", \"south\", \"ami\", \"warren\", \"hunt\", \"voter\", \"colleg\", \"primari\", \"candid\", \"win\", \"vote\", \"elect\", \"dakota\", \"north\", \"student\", \"rule\", \"campaign\", \"endors\", \"race\", \"stand\", \"new\", \"texa\", \"parti\", \"make\", \"democrat\", \"support\", \"de\", \"la\", \"el\", \"lo\", \"en\", \"para\", \"que\", \"del\", \"op\", \"por\", \"con\", \"puerto\", \"ma\", \"rico\", \"sobr\", \"daca\", \"ed\", \"una\", \"aqui\", \"esta\", \"se\", \"senador\", \"como\", \"todo\", \"earthquak\", \"si\", \"informacion\", \"nuestro\", \"regimen\", \"ha\", \"dreamer\", \"su\", \"un\", \"al\", \"island\", \"rubio\", \"marco\", \"coronaviru\", \"sen\"], \"Freq\": [6096.0, 3825.0, 4415.0, 2533.0, 4691.0, 5102.0, 5417.0, 1348.0, 3705.0, 4462.0, 2302.0, 2279.0, 1645.0, 3133.0, 6846.0, 6473.0, 2450.0, 3129.0, 7097.0, 913.0, 1569.0, 1355.0, 5068.0, 4382.0, 3391.0, 8262.0, 776.0, 1415.0, 1402.0, 3875.0, 393.7048308319497, 504.44245316575075, 122.00478021491857, 52.213319435586996, 38.435563948931566, 158.61397721324155, 33.514936992678784, 32.53080885448496, 138.42415300097048, 24.657808427422857, 21.705432273982574, 20.72130687572901, 20.704825031811314, 19.737181471899532, 18.753056049417086, 16.784805254907223, 240.1772704863513, 15.800679847237465, 14.816554513763299, 13.83242898159714, 12.848303705491741, 12.848303626852475, 48.44030503298573, 11.864178310732665, 11.864178261753377, 80.22357207180052, 10.880052946282497, 10.880052940663937, 10.880052923407312, 10.880052911137653, 31.70106919112587, 166.12375418930898, 146.46911837382987, 5233.303938060765, 76.72419407161117, 493.0654996803393, 36.702853818283586, 38.392000725648096, 993.0339432207248, 113.58397420427875, 378.98657421631435, 294.21397990907235, 2936.1108297870614, 1476.8396346213465, 421.2004617232115, 302.1289739523947, 286.8033418964272, 351.12039289195116, 311.7116431899066, 559.9675177860188, 235.6097020909199, 302.28428094181453, 147.44580660310513, 239.69842955541748, 108.1199051375342, 523.4220828130658, 763.9651359053975, 1609.960767962339, 885.2956869788027, 1713.5988123306402, 297.06582680580766, 926.6679926076104, 593.4808530289081, 1504.688673429912, 468.1135337544157, 925.4378072025563, 801.6132244731946, 487.9669349243717, 701.7725745869284, 579.3857507919714, 794.2845695290989, 412.1155281112091, 590.1124194241394, 782.279010823694, 685.7634118993534, 677.4817963053199, 509.8909724192487, 522.7277567820532, 559.9603583172615, 518.1511572353161, 495.04813353142305, 495.5814240220776, 2532.3778962235333, 274.60853313618463, 500.3236485374652, 215.21909657655243, 132.4633243199616, 129.5253173414426, 393.0609426573652, 61.390719924647875, 42.89237083098375, 3738.696324768299, 35.10359223825271, 33.09108891172794, 29.262008341723515, 28.2884109724945, 155.52338046289725, 23.42042441059, 23.42042440833376, 22.43576975786981, 21.473229740783463, 123.95796651538107, 39.143641889260955, 398.1792777596839, 360.9411153709333, 19.526034878038807, 20.451916405429568, 15.631645849506954, 15.631645799187579, 14.658048523048473, 794.253594005579, 70.39335826373005, 855.5035068100859, 121.74144166290152, 279.2089898180466, 153.51432566133522, 1771.866033921365, 391.1602913858055, 682.989214694523, 59.737754303271366, 418.789829811626, 129.0403279880379, 976.6001193085197, 1638.4148947825315, 590.9787265230078, 1277.5288197762975, 1386.9890160153657, 282.18650036161586, 1808.3903789046756, 258.411284868325, 1982.2684322811676, 624.6370005480118, 1112.33654735791, 823.1108604985461, 575.0040553176349, 508.17551959774926, 948.3160081772866, 846.9829082412963, 1068.974991763334, 998.1845204808792, 770.2326804464661, 572.6419150245769, 653.54649761742, 721.6439958194268, 684.3624346657592, 656.7262032737655, 731.0507995596017, 602.3287715596476, 560.3635149382819, 1354.802226978244, 1106.0105856164469, 798.9084029900837, 461.67910750843583, 236.193559124119, 162.35166368468222, 127.34704454461439, 106.95664973909713, 105.01296503969375, 91.4071721266367, 76.82953687128979, 70.99848277357965, 63.22374397071312, 198.02522646074146, 55.44900516989983, 39.89952754633936, 42.73791186969809, 37.95584288123488, 36.98400053842586, 36.012158177969994, 34.06847344773321, 32.124788782276994, 31.152946434457103, 31.15294642478885, 31.152946422919587, 30.181104084429094, 30.181086533260217, 29.20926170640337, 89.47836382519138, 141.24082630382722, 75.34823987770599, 152.7206553211445, 183.1029833543305, 643.1954336734514, 418.03547891516484, 93.7436604172772, 115.38645713368183, 193.38431338879965, 716.0515253431169, 448.2592760561308, 65.63822852979627, 410.5652352725493, 2563.561741585904, 2433.0638546362047, 435.68806963967813, 392.34939246728936, 212.92792935087894, 1114.911815355445, 2083.44170460894, 354.336000179395, 277.74801211535475, 501.3054926140003, 602.9830716989887, 235.7066130204, 374.4255949499899, 712.0313860345576, 409.4579259891014, 378.8377358333351, 495.07377191539064, 503.123228291009, 466.99995455041676, 788.8958992611018, 330.98310286621347, 463.77339025163167, 360.0823866198294, 367.38362840783776, 417.5211447797333, 383.42087099415676, 172.18308252103955, 124.42507825838372, 92.58640872619603, 105.20656990563188, 82.47686041912426, 62.7229461940543, 53.7829618371645, 40.848570771201054, 38.85865392147036, 37.8636955082401, 37.863695455360876, 239.56444453543094, 35.87377865692866, 34.87882023917337, 32.888903380870126, 30.898880767110438, 44.39837715010067, 27.914108681515167, 391.02166184089026, 26.91915283896379, 26.919152838350048, 24.929236024440705, 24.929235989340015, 22.939319174154246, 22.939319170925593, 23.867471705301035, 28.580533946722507, 19.95444387984056, 19.954443833559647, 19.954443720389108, 534.9912450874571, 40.7062188193284, 109.24765018329755, 176.44359898194125, 379.96367311506987, 54.14511456404472, 94.65420960880378, 52.21212230007076, 445.8689045152528, 152.1567280882357, 56.632153544402506, 226.1817616545734, 489.73085175556986, 179.10823777723462, 191.14586412933545, 493.3408466124058, 234.49110579980575, 377.7014600502813, 117.89538140555644, 252.3097022573277, 334.1818075698853, 69.81038092301962, 403.9128027724106, 321.9346158603852, 477.2838881429967, 112.10237547201284, 179.33183056859983, 1341.0188097875475, 1657.435825629486, 1326.5031512079954, 431.4149240499904, 520.807781787754, 803.0439122834184, 645.9721437380115, 395.4899680790711, 749.1343451608986, 419.7957438092641, 502.92446251014695, 672.0241121124606, 579.3213504805301, 456.45193971237813, 427.10358648709786, 387.11977592198514, 445.7790386212848, 365.41935321580314, 435.27344851196415, 384.7992629161707, 377.7665829419511, 374.6866728090721, 80.33717684559863, 69.567535000067, 47.048988191677324, 34.32143437674539, 26.48896757614283, 21.593675812863935, 20.61461746243086, 16.69838407292555, 30.557659779543634, 15.719325718549067, 15.698072849380493, 13.761209029596493, 245.03358199729803, 12.782150658626042, 12.782150653266909, 12.782150551094434, 11.803092305848576, 11.803092294037109, 11.80309225574482, 10.8240339528163, 10.824033935185994, 10.824033921003352, 12.548091316798004, 8.865917237251569, 93.06357981734101, 41.8811644176636, 6.90780049290512, 110.0743474231832, 12.782150661397269, 5.918628049703057, 56.70578838744889, 91.38787186005682, 67.43716953978948, 511.59970452184945, 907.1616695717206, 1293.7883147531384, 195.95654402176496, 119.80730885603546, 999.6604199799268, 123.50141313036598, 827.1737002402563, 180.2829321010396, 74.48724098632766, 54.320789586431474, 768.3479103548124, 667.1491395686211, 187.25770362216076, 113.16927599623737, 306.58196350584035, 1121.8363652493817, 1666.771164905063, 352.4576114234577, 1402.5143030223007, 207.01572190033227, 373.7153137256706, 671.9071288253165, 429.2092389891415, 373.8120322283545, 1391.4260616651704, 437.3040898515779, 680.8516370614035, 1174.7306658895127, 1088.7825779763052, 512.3017959136299, 369.91271559717273, 613.2937144926468, 559.5140843871161, 865.7147181370175, 617.3143876042126, 312.6538220217627, 523.890814839065, 466.33755489999305, 585.175414909917, 462.0586862330248, 424.6849226914424, 395.3612167694169, 402.3199606343742, 396.2564059500506, 756.8033822190766, 729.6686132746767, 278.75438920212093, 204.24067830125279, 270.5758543860525, 124.88841776388983, 160.4076609654619, 120.04986519150849, 97.79252341587535, 84.24457624790155, 80.37373420271778, 80.37373419181034, 66.82578703561802, 64.89036601087716, 56.14556676353327, 53.27783985848455, 125.6148109377624, 48.43928730105682, 46.503866270625096, 45.53615576150608, 43.60073473723017, 93.77790720723536, 41.6653137063358, 37.79447166969871, 37.79447166464285, 36.826761156688995, 37.765749078174444, 35.85905064520569, 35.85905063788261, 34.8913401331986, 105.28865636376938, 49.955852397869, 188.11974391557635, 201.6391741253894, 413.1870180563074, 374.7001472190928, 142.60439641723949, 137.98808048726215, 172.3474488946344, 361.29902634022756, 100.71745143426432, 162.18346381285565, 188.42196090823728, 461.8187882862429, 152.13976907869244, 751.5115417576601, 222.45012174856643, 267.43740648911006, 968.5582059838443, 352.5266727330305, 515.4397831164536, 306.6092568688399, 1146.1271838846767, 718.8575107327465, 387.829690398849, 712.2643873615386, 478.8990183988796, 663.4726153017741, 417.65760260905824, 195.9232512343846, 344.6674174888193, 517.0564824548424, 251.94483104223718, 462.69258263624187, 549.1608179782411, 396.7719982308409, 388.3925819122505, 278.8442318048792, 408.0586939309949, 339.7618559371539, 367.7589339817181, 343.3641913038418, 316.1610391517282, 298.1365960450021, 253.37291610664764, 93.06872634519198, 56.55087063606692, 25.883657825681066, 24.89026031389027, 19.923246037211168, 53.04672762837341, 18.92984321680684, 18.92984319306808, 16.943037489719032, 16.94303739840005, 20.64390065843541, 15.949634607675998, 14.95623179006636, 13.96282889813808, 14.875011455531764, 25.070414897217507, 12.96942610063447, 12.969426100319872, 12.96942607913927, 12.969425865225197, 16.632886364438438, 11.976023244002185, 11.97602320545539, 11.973480031622216, 11.909161814212622, 10.982620380472282, 10.982620377271774, 10.982619426530318, 11.831880457984774, 285.35169757276526, 40.16875319232469, 148.64247870121554, 19.661791282702165, 105.45481440303091, 76.8051215541699, 162.48807941717575, 403.16039770886545, 40.20687632615425, 84.29156708701954, 251.4002875634732, 1307.2428525427542, 464.0327531794423, 750.6173588626788, 887.0060658882524, 507.5959921919969, 1785.31515668175, 596.4545474355856, 248.26935907595345, 2344.6072401821807, 209.69405994857794, 166.59716184640814, 164.890731924871, 804.4416578247251, 265.2476911264786, 123.70483363580412, 261.6372616275773, 1171.8335418496217, 296.78715895499425, 850.8906950308507, 606.1698147933779, 1031.085623600624, 412.662089823396, 996.0680495083168, 530.4927379420596, 488.62557990494923, 795.3293465528992, 476.5431078789077, 504.7022379393925, 971.1498396464995, 654.6467823740331, 483.00635869915476, 546.7783839650341, 474.44472053097695, 545.8920162547296, 329.2483456676502, 453.72330921974316, 492.52584943907937, 484.8344919036444, 428.64876419832683, 123.60414181425, 109.74360439352529, 105.76061806390823, 84.0683878851802, 72.97756211882796, 50.46299700625793, 45.52102778755953, 42.555846240329565, 382.8176504159107, 37.61387699463761, 35.63708930673827, 35.63708929560524, 35.63708233228541, 46.220586023116766, 34.64869543785524, 32.67190776001208, 31.68351384968612, 64.14052097767718, 28.718332362658472, 642.4386696160527, 25.753150824556492, 25.753150800763205, 24.764756959087183, 42.80652897765601, 23.776363100224376, 21.79957542614718, 21.799575376219334, 73.84127029844224, 21.7761480153235, 20.811181585330655, 80.1421803160596, 56.551686547371865, 42.49845234766876, 207.60368105694525, 368.79882740474375, 240.18258474519877, 322.93080590829555, 200.9217821080555, 616.9347537761055, 218.88254080359275, 68.95469719428066, 71.18093022252026, 283.62049689904416, 496.936361602601, 130.07277489300097, 1272.388285716687, 385.6677287449542, 164.72591115096233, 329.67559674700243, 211.7326333822204, 272.6844134637576, 318.07091213868455, 406.1651320475986, 123.12343041093501, 665.0557134051512, 206.3126950477585, 245.11484624337288, 1336.4573818898098, 235.87566551463777, 512.7933882656511, 236.71763886688757, 353.8763459971484, 260.1314025531406, 400.65448695563407, 269.4825905357255, 394.3018452519605, 422.73125899479356, 449.0997822282203, 586.5562422154887, 335.44147977502104, 447.1712844786928, 399.1165844140051, 287.359956700786, 316.0163640319861, 390.4200847884672, 396.68683864531613, 371.0629785896699, 338.1132224335129, 309.99457324774295, 293.55716582878796, 106.07848669007511, 220.5346880738576, 59.068324423040465, 48.04239172705041, 37.063567620706834, 37.06356761369228, 39.950020363998924, 32.06248645027005, 28.061621661850758, 26.061189233315833, 24.06075679500243, 181.12180641626665, 23.060540541084148, 22.060324354021866, 21.06010812101569, 19.059675678487377, 18.05945948995137, 18.05890249626882, 17.059243259862676, 17.05924324900727, 16.059027054034548, 16.059026091528793, 15.058810836788703, 15.05881081492843, 38.54260550376054, 27.256692111455088, 14.058594588342757, 13.05837839857981, 13.058378381110492, 257.078984711968, 39.7451007384351, 392.3841653920642, 289.1882711897608, 184.32561394108936, 35.87241091572317, 84.11216970652673, 170.6593229483918, 163.41709815450145, 202.5708928019743, 51.40485219902002, 147.82855376055105, 110.11053777109002, 191.16333502226152, 61.26886299947367, 84.09370158163289, 381.47231633444056, 473.82961033908094, 370.04777644616524, 128.59330617955564, 256.22432318773343, 478.70577948449284, 108.96251592902648, 613.0564509930513, 777.2684683712988, 527.6258439431836, 289.9484279701587, 117.29526382772174, 483.0194051779981, 589.3262933843981, 219.0690653063127, 607.8641387271178, 955.2984068448029, 1134.9329416650075, 503.8517968441995, 833.2687864973672, 288.7432587562726, 465.3263768082454, 415.7583841728264, 671.4289079239594, 403.53072468168847, 718.7744672769446, 459.6557947979555, 460.1470752245007, 608.3590308868486, 397.796546211108, 435.71544193149026, 506.5994706925265, 449.63030432766243, 343.7634357649635, 406.4964000817559, 370.67684144272795, 348.0315631962885, 358.6039079023062, 1018.1169439517178, 318.03962460178735, 268.5086764075112, 220.61330528323424, 587.8376921767502, 81.2847799710511, 78.31295999266871, 73.35992619527447, 63.45385971781908, 60.48204004004162, 58.500826758449364, 51.56658012693095, 51.51101310993454, 46.61354679983157, 45.622940149972884, 33.73566019040842, 32.74505353743162, 31.754446882835616, 30.763840203508025, 26.80141354239835, 24.820200214019327, 21.8090357340957, 20.857773561461578, 24.605329214716363, 19.86716692944228, 19.86716690929327, 18.87656025000448, 16.895346951332158, 16.895346935376317, 15.904740276184903, 238.25925669309862, 529.168585029251, 35.87751790422401, 226.31517913343316, 68.65710678291454, 50.29026821991023, 106.15161208730864, 51.39807962026532, 69.92749572488985, 155.28253247292534, 86.11177003956585, 446.3364901681758, 61.751540180935095, 753.1176464332724, 417.0785524205596, 150.2340790620214, 326.87721694807624, 454.81074623635226, 123.90873380654591, 1438.0897247652154, 1279.0486337957843, 404.2791028747991, 228.37720562145128, 136.54691739691302, 1178.031925611777, 302.1568344623305, 99.54737959784677, 195.7342276761875, 609.5794433234331, 877.2803803570388, 215.69114671019648, 360.44870289567865, 293.35142373333656, 275.3742288645251, 251.63970442612703, 474.776607681227, 316.12889105676805, 562.9814182206686, 429.144450423901, 315.77892049711016, 360.7435291223072, 339.4189045869659, 353.8057282632152, 308.1490584171814, 277.41350942173057, 278.3158874746702, 427.8121175456804, 109.89009039831888, 95.00149683184365, 93.99967950419055, 65.01855801846531, 54.02481378808737, 46.02936344281016, 44.030500855029665, 41.0322069910045, 367.1627141617929, 51.51192635633997, 32.0373253500946, 32.03571487143609, 29.039031466464753, 29.039031466464753, 26.040737559104667, 23.042443708580507, 21.043581116465596, 21.043581110222227, 21.043581018086183, 20.044149826553223, 20.044149802204455, 18.045287139589682, 107.0603791581181, 17.045855917463555, 60.473010390435064, 477.2620002285465, 17.004715933877, 69.78554647714866, 25.472021367515843, 367.4200712748971, 88.01568019456991, 92.1614448284372, 44.13140333062579, 837.6043816393386, 98.53660265981027, 54.54918532317575, 372.2359504750488, 80.9128599293447, 99.54190172972616, 92.25444015998927, 813.156840305044, 74.08433436459343, 289.0793662986224, 112.92648745053658, 75.74616593453588, 120.31869575656464, 868.9624257228488, 649.8301515466247, 323.80447599955914, 172.62030120109566, 261.3506036088827, 439.6964457812736, 410.7928647341761, 447.6029958571956, 152.5868382619934, 343.33636880916004, 213.88311648715668, 847.5009130772808, 208.42593232605603, 595.8425137772062, 381.913168082297, 694.8868662533835, 419.79890848388044, 252.8807135316691, 541.7281227000236, 661.255209337268, 551.4026041714629, 283.49466588573654, 416.9273908533404, 410.8327427175291, 425.9426797791514, 426.03016393283997, 351.22095807837525, 306.42126347880446, 328.62047716572494, 533.434290490405, 176.50647738202753, 137.97139262874052, 66.98570266871474, 206.75411933648533, 58.87305238416675, 57.85897109958845, 62.77619747549646, 53.80264596179107, 88.52413609365142, 47.71815824667134, 44.67591439518992, 116.89607522130909, 38.59142666720838, 36.5632640978342, 34.53510152394019, 33.521020257064514, 32.506938647941084, 31.49285768396584, 31.492857676221796, 31.492818594235224, 29.461438256136113, 187.81685961685218, 21.35204482410266, 22.290200702563126, 20.33796355090565, 20.337963544242534, 22.272151567149347, 19.323882242643776, 18.309800949736264, 65.83344841471965, 37.97933133503389, 246.40191316078509, 58.0614088709176, 404.71868654371, 221.7640824691526, 142.08305854145064, 496.86663218883393, 218.66259484972412, 139.82465576021832, 138.06644406828443, 221.8660767981092, 139.84589486052067, 233.19773050399942, 292.43331749366416, 243.04626406379765, 97.98718733147666, 389.1882773295758, 406.0889760698755, 326.8120570200782, 76.57289669097226, 348.64879202168987, 123.45594130997672, 468.78331958238124, 170.72315475568524, 400.7833957746718, 139.6766577098773, 364.3463777907594, 221.29712814321573, 279.7266616033819, 232.07631380360306, 339.91108109844816, 409.7591436973882, 283.7433505184848, 255.67481056864816, 239.89137345365432, 272.3958245305788, 274.58996991659876, 236.1106824084897, 214.93073688348338, 206.75913520011284, 228.42951105117143, 106.22946079290409, 94.14250878823047, 86.19666567861171, 75.17346964631251, 66.16387053613968, 56.14747298962704, 45.12943567227597, 44.12779590831854, 41.12287664070583, 46.00199370491997, 37.11631762195819, 127.7241617028711, 35.11303811245361, 48.74985380533455, 34.11139835874195, 34.11139808735559, 33.10975860113277, 33.109758599352354, 32.10811883693684, 35.9822963707399, 138.06874626936005, 30.104839334328595, 29.10319956167427, 180.3180495459883, 28.1015598008976, 62.961528097208635, 28.039203814482132, 25.09664054879949, 25.096560238884503, 105.46266615407534, 54.9842634673288, 54.85413158412961, 66.12045218561353, 168.8445104867717, 263.05713745855064, 113.9188390243594, 480.5580060109441, 202.8685716637554, 56.87800349063342, 167.0440292574272, 472.99005466576773, 74.67722081127519, 108.31893287039424, 144.350942668642, 196.82475378156863, 153.62490363572533, 144.39217892369848, 199.23212159173548, 304.6430776663569, 227.8336517614343, 439.23181821078197, 158.34559286020277, 98.53031295003973, 225.10481744887807, 276.1908165505667, 144.8414104572575, 154.45509780631247, 303.6020329102524, 476.48767509830293, 407.5978818091985, 280.1525740474574, 183.49243231571953, 186.48749150417737, 219.52672507010192, 223.51863560213366, 449.7899492363619, 213.47085875078747, 341.38766224214817, 236.89478286654406, 185.7195966870177, 199.40764191472226, 213.19516292202562, 197.63952892745195, 199.19004093230402, 192.14141849596217, 183.63618522523782, 681.9876760595104, 202.07245020844448, 127.17808231103436, 104.51268149626478, 99.5854204376489, 93.6727072042561, 673.8291566186044, 516.5841196097155, 92.73865607246069, 136.95552908906012, 40.458287885668526, 34.545574646050376, 38.37876780452292, 30.603765794973555, 68.73549325550663, 39.08874902597141, 27.64740912961399, 69.49422271759798, 23.70560035139016, 22.72014811002736, 21.73469591992769, 21.73469589630566, 70.78712938790255, 120.76758104094247, 18.778339294907507, 36.54833325918126, 16.807434894143682, 15.821982670447895, 34.27206686639046, 13.851078196957635, 654.6259568545146, 144.9492327713358, 56.051645258192764, 486.1619472497755, 149.92441830156167, 464.390345148151, 1392.338685854214, 704.1593335681231, 157.9813178977695, 491.5888499834258, 1039.080980990734, 108.8074891914605, 93.0131219010508, 706.1318403676567, 130.40285264461036, 262.59338728435506, 1121.1465295037344, 563.3440318725493, 238.49020709919182, 355.9724685486564, 200.9844234283987, 266.7538218337227, 349.31865887618494, 446.83728442032, 914.9892067248608, 316.11163480645797, 278.46556484536796, 221.1855994557457, 259.2688961955841, 635.4102406863992, 246.83956339573118, 241.96797697303458, 435.02315874574225, 260.3165170332058, 398.7166978502838, 313.53493142149324, 276.7024056435573, 245.30655112401521, 257.42017298675813, 66.7755414612771, 58.68834008521881, 39.4812494799953, 79.91705984846018, 36.4485503781209, 30.38304960158512, 29.372252469536566, 29.372252432045688, 28.36135274418367, 26.33955334477782, 29.2656086114414, 25.258334242991484, 26.231440162250205, 22.295954535756543, 21.285054844777612, 21.285054805826, 19.263255367763005, 17.241455999486035, 16.23055633149396, 16.23055633057738, 16.23055632712281, 16.230556304597613, 189.97485733332846, 15.2196566013327, 15.219656589353113, 13.197857207637371, 13.197857190056329, 14.090429444814223, 52.475024648444666, 12.18695751388714, 309.90536634802913, 211.14724631879932, 35.095286559127544, 93.99530019850405, 300.26188624083403, 169.0802101747884, 68.24288966854591, 33.89566009606444, 940.031966066903, 51.78072673768057, 488.6829608765089, 582.2656915370968, 1403.7360552322555, 423.26216687784716, 224.4538924747632, 576.6998992188754, 81.8337161264062, 124.53145471097024, 496.9413351115871, 104.98037820467823, 358.75919725174606, 217.68877483370943, 69.81365840879614, 123.28319474741359, 343.4539380163464, 190.3068385466157, 224.2991587235327, 240.6574828025558, 282.03947488813435, 1009.7201569714031, 168.88954378870054, 165.59744968055261, 116.34282157353569, 273.4730911807198, 403.0182973729279, 257.7727502905614, 139.93794995824376, 337.03219314328936, 208.43257483980423, 275.0839109697268, 196.96701465247006, 194.6808318643093, 220.7305669980402, 192.95204463013584, 194.93679976450406, 195.2974097041237, 71.90627314979427, 85.70582651339397, 53.69076689706439, 73.24328989706105, 41.54709602572488, 38.5111782980383, 35.475260616891504, 32.43934292801024, 31.427370332959395, 257.39033614598577, 25.355534913517616, 24.343562350729773, 26.22404769558962, 276.9912757387041, 20.29567207287881, 19.261439993808505, 18.271726327626002, 37.4992057794575, 15.23580922587951, 14.223836663367992, 14.2238366248014, 13.211864095920811, 13.211864088582884, 12.19989150947383, 12.199891502042352, 12.199891435102534, 40.03140060116866, 26.113762642643408, 11.187918937442559, 11.187918932249104, 50.34748160444208, 26.007394233403485, 415.3929516210508, 420.9958798483936, 204.12022200424698, 93.63259986068547, 50.49390838921548, 163.99697955985067, 29.991454557830963, 385.96795377289794, 138.10629432110835, 156.5395246384111, 137.61300272370045, 41.14409600656383, 265.9701500855409, 144.32850097196675, 413.35670925578785, 122.4780417649717, 118.19172635309886, 1169.7256519060365, 96.63523501890288, 433.7658784166182, 99.48215805784322, 170.76586163154465, 149.07692132685648, 413.6465314338466, 209.35976750824344, 323.128889379889, 146.53423472429438, 193.00257121043225, 255.80094810754258, 244.52498573032858, 292.14844244126783, 240.51096399833622, 174.27465013658608, 350.3781291886936, 214.94836803427285, 203.55752875696854, 185.37213183066382, 188.1063482043035, 202.123396906129, 171.91829740855252, 178.07588190349784, 166.89647674927724, 164.6910508036733, 264.9784832512175, 221.00409138440716, 164.15914580625946, 145.92586136570665, 129.83766921746334, 108.3867463564886, 74.0652697546802, 72.99271853694117, 68.70253905606486, 55.83198534028851, 50.46925461943893, 42.96143162420169, 40.81633933795826, 104.50863756451136, 34.381062479309335, 30.0908778801935, 29.01833173626592, 31.08695561596112, 27.92326104267464, 26.873239452790003, 28.923352092102633, 37.98300545718416, 83.04457274427598, 21.510508750446405, 21.510508746882692, 21.51048917963873, 50.10370211460329, 20.43796259147052, 20.437962589145656, 18.292870308574095, 166.36653990703655, 169.14792215028484, 143.550862380494, 41.23595566408342, 40.232807464668845, 104.9181161508336, 128.88515776530872, 312.66935112491035, 56.347674289511325, 46.00347423627259, 50.12734846234625, 200.75609887131696, 217.86536130921448, 101.19288416687503, 120.04111749988779, 270.251680781638, 574.9187884615696, 333.1436473819259, 114.93855648473459, 155.06386360091025, 269.09895758946755, 193.19606247342688, 172.9164809018047, 90.54753565576311, 98.62546193986343, 150.39443702167264, 161.9376511134941, 103.35321521372263, 113.37893261435345, 131.90041881555018, 106.77392506286331, 106.09634984238636, 1347.7417612698516, 912.183936823564, 775.8643123839439, 550.8815175685525, 517.632828681832, 447.8105820157233, 432.2945272008454, 272.700820532828, 250.53502791489183, 229.47752497892736, 191.7956775624615, 182.92936052477594, 168.5215953487789, 165.19672645077463, 137.48948571982257, 137.48870549698682, 280.3517055956783, 120.86514127536097, 116.43198275692245, 110.89053460870353, 94.26619015262956, 89.83303164583661, 84.29158349759832, 80.96671460875984, 77.64184570255752, 73.20868719959265, 72.10039757184704, 65.45065979394569, 64.34237016353985, 63.23408053250174, 79.55897901395245, 292.02476187544227, 210.74321735508943, 234.64790232096138, 136.4978566253365, 296.16999109136634, 86.97336045033923, 123.42964822566005, 90.88731877881557], \"Total\": [6096.0, 3825.0, 4415.0, 2533.0, 4691.0, 5102.0, 5417.0, 1348.0, 3705.0, 4462.0, 2302.0, 2279.0, 1645.0, 3133.0, 6846.0, 6473.0, 2450.0, 3129.0, 7097.0, 913.0, 1569.0, 1355.0, 5068.0, 4382.0, 3391.0, 8262.0, 776.0, 1415.0, 1402.0, 3875.0, 394.6528363837834, 505.86416346423346, 123.03380855801765, 53.16132497506464, 39.383569471255925, 162.7572125551735, 34.46294250559344, 33.478817067113916, 142.803558786637, 25.60581396816698, 22.653437788311038, 21.66931239522665, 21.671391862650506, 20.685187002145245, 19.701061609782098, 17.73281082330667, 254.12423254015022, 16.748685431040684, 15.764560036657695, 14.780434646417246, 13.796309250563096, 13.796309251845484, 52.220574600506446, 12.812183857347264, 12.812183858062557, 86.75678382046583, 11.828058464136335, 11.828058464098849, 11.828058464378753, 11.828058464866807, 34.480352309436334, 184.3280788155888, 163.21256375065425, 6096.797005503877, 85.28057210994852, 578.9445917604655, 41.392559596284144, 43.42837990829086, 1336.2971475527847, 136.40939330925585, 499.15350802841823, 384.5717141402375, 4691.7047036967115, 2266.397804048226, 608.3691024191972, 422.2347470408052, 402.12407913160155, 512.6344088665787, 449.8962601910009, 903.0120347983543, 337.1361962777756, 457.3440490166962, 201.4152016858109, 362.33513031394693, 141.13838413377306, 1044.2302964983749, 1794.59752290502, 5417.024706396248, 2450.027061497473, 6473.39439041537, 547.5345163157365, 3135.975080423534, 1648.635916038341, 8262.072344800568, 1165.3629221734393, 3783.938946613495, 3184.5887932498767, 1296.3647483103052, 2869.1957191149627, 2063.1955161090846, 4382.51623241316, 1015.3697967618104, 2714.927095218575, 7097.166161292033, 6730.590005635465, 7097.943615624079, 2575.5294448004793, 3871.416408877568, 6846.9762173817335, 3705.086538040483, 3391.4503503377396, 4410.526601869711, 2533.3293674729575, 275.5571235512294, 502.4175516908722, 216.16768699434104, 133.41191474303378, 130.4914729791419, 398.39675481250134, 62.33931033840862, 43.84096124701083, 3825.0443118708254, 36.052182682997284, 34.10686912175499, 30.210598758862822, 29.23700143944677, 160.83821301197258, 24.36901483465839, 24.369014834948754, 23.39571091557836, 22.421820194837903, 129.5876019936348, 40.952803195922314, 416.9471474844336, 378.40375170759927, 20.47462555931559, 21.449193543043204, 16.58023626997006, 16.580236271804694, 15.606638949733115, 847.5364246955376, 76.03697819148506, 942.8287308703431, 133.64715688038598, 314.3083717979759, 174.0727267476094, 2302.08142694865, 477.3362579931112, 893.9916648034708, 67.30761713524392, 581.372615898006, 168.92987423031036, 1818.8464998458055, 3391.4503503377396, 1124.1395043094403, 3129.826436762642, 3705.086538040483, 509.98462604044477, 6846.9762173817335, 465.86599189552294, 8262.072344800568, 1653.5258171191092, 4182.384470579429, 2773.815608714388, 1587.2372754867758, 1306.4737782521138, 3875.7971340164954, 3598.055990691284, 6473.39439041537, 7097.166161292033, 4691.7047036967115, 2114.744875366669, 3135.975080423534, 5068.990723297159, 4613.550567004381, 3871.416408877568, 7097.943615624079, 5417.024706396248, 2964.1431810907497, 1355.7509151537097, 1106.9592735263582, 799.8570909024436, 462.6277954263176, 237.1611185673915, 163.3003516033235, 128.31592270764077, 107.90533764878968, 105.96165294840488, 92.35586004762077, 77.7782247965348, 71.94717069608247, 64.17243189546335, 201.2705242431913, 56.39769309501315, 40.848215494248194, 43.76593249454761, 38.90453079320113, 37.93268844298585, 36.96084609311856, 35.01716139720739, 33.07347669267227, 32.10163434277034, 32.10163434281674, 32.10163434296706, 31.129791992559053, 31.12979249063152, 30.157949643369356, 92.41499873869317, 145.90988891447373, 77.92710880862242, 160.66167318050756, 194.71657297365715, 714.4706603031464, 461.0570784672028, 99.26499370216952, 123.67310961058055, 212.400171122701, 871.319171324498, 552.5536528822921, 70.05756792056208, 506.9946263052791, 4462.197608786449, 5102.156538588114, 672.4260347642637, 593.5619230453892, 284.2986588239054, 2288.1469409726387, 5068.990723297159, 546.8474779663039, 430.62831450478467, 1023.3462491485436, 1342.5933263014717, 350.80463708267223, 758.7386358707118, 2279.402840663334, 911.116056674032, 875.7128405364177, 1472.4846146599923, 2114.744875366669, 1820.5679743281776, 6730.590005635465, 1100.0282306659262, 4410.526601869711, 1838.7801293209059, 2317.441930519995, 8262.072344800568, 5182.099369596271, 173.13048621069416, 125.37248193660838, 93.53381242081946, 106.46993280149835, 83.58144211218845, 63.685137482897574, 54.73043430964014, 41.79597445734418, 39.80605761266855, 38.81109919013067, 38.81109919041877, 245.74211250786033, 36.82118234535537, 35.82622392293616, 33.83630707815185, 31.8463877769696, 45.77273316732474, 28.861514910672255, 404.70054254637904, 27.86655654412932, 27.866556543879117, 25.87663969924104, 25.87663969919645, 23.886722854443196, 23.886722854436577, 24.886890853900518, 29.85820951536152, 20.901847587277945, 20.901847586749263, 20.901847587182264, 570.5026706074016, 42.86283139445116, 117.55153819112198, 191.94702355163278, 433.61674297097363, 58.77979991491868, 107.24123967782748, 56.99802699652016, 588.7627846195717, 183.65164444215543, 63.088625988447845, 292.85843267201193, 693.8658326704217, 226.95770803505525, 250.54332921404279, 751.8609622025086, 335.52442176035703, 594.7399226662498, 153.18297994328185, 390.8217534651454, 557.3900830848762, 81.44382821968999, 770.912712141963, 595.7394008691087, 1006.3595491972283, 151.99765889206188, 284.781451393416, 4410.526601869711, 6730.590005635465, 5102.156538588114, 1004.2042746466003, 1342.5933263014717, 2869.290422355592, 2195.5038595367737, 1086.4760789611664, 4382.51623241316, 1550.78690999476, 2317.441930519995, 4462.197608786449, 3875.7971340164954, 2773.815608714388, 2683.189538650786, 2288.1469409726387, 4691.7047036967115, 2494.5166457473474, 7097.943615624079, 3598.055990691284, 4243.571877162828, 3783.938946613495, 81.28546387450736, 70.51582201990142, 47.99748661852705, 35.26972140514644, 27.437254601656075, 22.541962849891117, 21.562904499403935, 17.646671097351202, 32.335530319016634, 16.667612747111068, 16.667494202366033, 14.70949604599814, 262.86760942751, 13.730437695872114, 13.730437695728316, 13.7304376967479, 12.751379345209923, 12.751379345569312, 12.751379354119976, 11.772320995238974, 11.77232099575438, 11.772320997366819, 13.735836136875239, 9.814204294197882, 103.12102113120315, 47.37285645607823, 7.856087593788961, 126.38489688557699, 14.71588990502622, 6.8772625222676655, 65.90550647684294, 109.91338862404608, 82.32394643219915, 718.5733068214187, 1417.9628786016099, 2157.5678315645096, 275.63994952690973, 161.33070452039917, 1804.263934073771, 175.75859897088608, 1551.4128452455218, 284.57244339158837, 104.02314419779704, 72.82858681615818, 1597.2510257387305, 1369.6771005484682, 317.31527105752366, 175.08568159532993, 584.378928855695, 3129.826436762642, 5417.024706396248, 760.08315095686, 4681.519582969737, 393.4238559367883, 866.9091873551487, 1915.4314341843574, 1100.3563472739052, 941.6909342211451, 6473.39439041537, 1275.6150732817307, 2575.5294448004793, 7097.166161292033, 6846.9762173817335, 2302.08142694865, 1306.4737782521138, 3391.4503503377396, 3184.5887932498767, 8262.072344800568, 4182.384470579429, 995.0854481985451, 3871.416408877568, 3240.5784334723085, 7097.943615624079, 3598.055990691284, 4691.7047036967115, 2773.815608714388, 4613.550567004381, 5068.990723297159, 757.752299689574, 730.6576796262384, 279.7033066569886, 205.18959725788343, 271.9759421786269, 125.83733521530051, 161.65265331932673, 120.99878265465505, 98.74144087381231, 85.19349370264148, 81.32265165396647, 81.32265165396356, 67.77470448251509, 65.83928345811096, 57.13088573981938, 54.2267573117783, 127.94839147819191, 49.38820475063117, 47.452783726440074, 46.4850732142342, 44.54965218965012, 95.85869698605434, 42.614231165554095, 38.74338911618425, 38.74338911632594, 37.775678603994265, 38.74650073917485, 36.80796809176047, 36.8079680920957, 35.840257579543795, 108.65481871485537, 51.33769527997348, 196.93252926287647, 212.00360132776726, 470.16932632774933, 461.95103501627625, 164.7381536668594, 160.6493641291973, 211.7970683423848, 496.15180419375497, 115.62348859605343, 203.56990543953927, 243.1398432955666, 705.6377678507833, 190.48943736245823, 1402.5569928227712, 308.28545708718923, 399.36412775978346, 2864.218392153058, 699.5764319201782, 1378.0865537597026, 620.7366302481247, 5182.099369596271, 2714.927095218575, 961.0702898878078, 2886.4773589164847, 1746.0429064023251, 3749.7361914098137, 1483.6127335214128, 321.3788635284789, 1087.8359068485738, 2683.189538650786, 572.6819801892673, 3051.7859844874083, 7097.166161292033, 3166.704928921312, 3871.416408877568, 964.8833225370059, 6730.590005635465, 2627.825466587958, 4415.915799941635, 4681.519582969737, 3240.5784334723085, 2869.290422355592, 254.32040622762972, 94.38505968532766, 57.62752149484417, 26.831153374030322, 25.83775042300898, 20.870736166417, 55.62446742000839, 19.877333315046563, 19.877333315641167, 17.89052761284244, 17.89052761490103, 21.857084940777963, 16.89712476069131, 15.90372191044175, 14.91031905842462, 15.904278968120886, 26.83608845254837, 13.916916207176099, 13.916916207149646, 13.916916206932928, 13.916916205368704, 17.893099264517755, 12.92351335564931, 12.923513356295965, 12.923530798868079, 12.921788999628106, 11.93011050501364, 11.93011050435892, 11.93011061799666, 12.919785396572298, 330.5380122524353, 44.77574395760922, 177.784862407873, 21.831684684115704, 131.93785461906748, 94.62968484242448, 212.51268393342988, 568.2602283149063, 48.609316177530545, 111.72973123386895, 395.4408941377543, 2627.825466587958, 851.1698943595202, 1513.622765557552, 1844.5519609523258, 989.7785930746186, 4415.915799941635, 1292.7729824969986, 453.12435033546296, 7097.943615624079, 375.6689433260483, 283.496429477186, 281.6219845448649, 2063.1955161090846, 527.992596773766, 201.46834777386053, 545.5118856322665, 4163.77934980021, 677.4724743533538, 2964.1431810907497, 1893.0253872579901, 4243.571877162828, 1165.3629221734393, 4613.550567004381, 1785.6917933732552, 1648.635916038341, 3871.416408877568, 1700.6610841517277, 1888.8596178369532, 6846.9762173817335, 3875.7971340164954, 2088.2013633283077, 3051.7859844874083, 2494.5166457473474, 4681.519582969737, 961.0702898878078, 3166.704928921312, 4410.526601869711, 4182.384470579429, 8262.072344800568, 124.55191021783287, 110.71635657194034, 106.76201488251782, 85.01615627281343, 74.14879906124017, 51.41076542001047, 46.468796176562364, 43.503614630912075, 391.50978632874916, 38.56164538745731, 36.584857690365915, 36.58485769019243, 36.58485777376285, 47.45783666968669, 35.596463842053055, 33.61967614463756, 32.63128229673009, 66.24971952830128, 29.666100750159345, 664.3799838454402, 26.700919204080336, 26.7009192046906, 25.712525355966893, 44.493660040532255, 24.724131507603573, 22.74734380989117, 22.74734380998355, 77.10210084218131, 22.747122549322288, 21.7589499609367, 84.03433959351219, 59.327132078992506, 44.50451734844967, 233.2670115923026, 437.13336621145214, 279.71807884256003, 383.16700710728946, 235.45090802179035, 776.6575784588457, 269.0741775511349, 76.14853743186124, 79.90791807832093, 378.265899303889, 723.9664071535162, 161.8204110967908, 2450.027061497473, 597.8156949180262, 222.24954093930086, 557.6648561438175, 321.5156730970872, 444.14524244471113, 552.9550026838523, 765.2609122705603, 167.1341307473163, 1641.4453603476027, 340.05468832633073, 472.6994384313304, 7097.166161292033, 478.48133413317106, 2011.824188700664, 528.8696400715947, 1288.5070430082633, 714.6214429161921, 1884.5673979865226, 797.5299504688062, 2058.7020170720893, 2627.825466587958, 3133.357669788863, 7097.943615624079, 1513.622765557552, 4182.384470579429, 3749.7361914098137, 1047.5299350350874, 1587.2372754867758, 4681.519582969737, 6846.9762173817335, 5182.099369596271, 3240.5784334723085, 2195.5038595367737, 296.0334181435103, 107.02559827433251, 223.16413179036022, 60.01543601729614, 49.012897166337716, 38.01067921510422, 38.01067921597659, 41.008912250111074, 33.0095981225186, 29.008733250941535, 27.008300814314406, 25.007868377816806, 188.4751315418393, 24.007652159211453, 23.007435941191456, 22.007219723457805, 20.006787286426565, 19.006571068423415, 19.006570631485936, 18.006354850126122, 18.006354850545165, 17.006138631796205, 17.00613862344913, 16.005922413692375, 16.005922413457515, 40.98043823358901, 28.999237238445346, 15.005706195516753, 14.005489977042608, 14.005489977883938, 282.71030395031704, 42.989475298191316, 446.9408039921404, 328.25976627217204, 207.6618239116207, 39.095429066124524, 95.03601365627357, 206.31079711289289, 210.7700747489311, 279.5336987111291, 61.62097484488858, 206.80957056288432, 148.10837342347872, 285.0402368494532, 75.85014864843356, 112.76133615785527, 713.5375469618275, 935.1053895038177, 695.456856233409, 191.075344437644, 482.89627748424067, 1107.1430241632977, 164.21396460508134, 1646.0128093332178, 2494.5166457473474, 1472.4846146599923, 659.4620358707325, 187.43405308352763, 1478.8419032112613, 2011.824188700664, 463.8142114247831, 2279.402840663334, 4613.550567004381, 6730.590005635465, 1785.6917933732552, 4243.571877162828, 758.7386358707118, 1844.5519609523258, 1628.7023284097345, 4410.526601869711, 1641.4453603476027, 8262.072344800568, 2864.218392153058, 3051.7859844874083, 7097.943615624079, 2124.945150349159, 2886.4773589164847, 5102.156538588114, 4163.77934980021, 1561.718488051238, 4462.197608786449, 3166.704928921312, 1785.146561942185, 2869.1957191149627, 1019.3455199178303, 318.98741670547173, 269.45708286349856, 221.90894430470465, 592.3709866885467, 82.23242543177732, 79.26060544535997, 74.30757213171779, 64.40150552203413, 61.42968552818711, 59.44847220342577, 52.514225568763464, 52.51327144806157, 47.56119225858368, 46.57058559621699, 34.68330565139471, 33.692698989109196, 32.702092326929105, 31.711485665498966, 27.74905901658814, 25.767845693036872, 22.795768286179417, 21.805419044091323, 25.769759829748388, 20.814812381877356, 20.814812382185572, 19.824205720105308, 17.842992395551693, 17.842992395730064, 16.85238573356321, 254.73509317206828, 571.320751105176, 38.662022011308494, 267.2805100451576, 77.36362989778928, 56.59520836846015, 128.0864595139061, 58.34921230664213, 82.19662865820398, 204.062286492845, 104.81120114430416, 681.7396085689251, 71.89148704708671, 1296.3647483103052, 681.0651964320753, 206.13123831403107, 543.2825854096624, 816.2333206428998, 169.02174577088869, 3705.086538040483, 4382.51623241316, 1070.8152191528889, 494.4450439713885, 230.73866307412837, 8262.072344800568, 948.8073710073061, 144.52825560285228, 472.6994384313304, 3598.055990691284, 7097.166161292033, 566.0678309260848, 1533.0903431348277, 1094.3829938052359, 995.0854481985451, 891.4663101263677, 3783.938946613495, 1505.8580244119269, 6473.39439041537, 3749.7361914098137, 1838.7801293209059, 3184.5887932498767, 2575.5294448004793, 5102.156538588114, 2714.927095218575, 2473.6623861685966, 2964.1431810907497, 428.7592727456066, 110.93921306446894, 95.94865202000197, 94.94914501256228, 65.96571321541866, 54.97196898726618, 46.9765186393353, 44.97765605257863, 41.97936217221667, 377.48109543755123, 52.979609121246945, 32.984480530980335, 32.98442941647668, 29.98618665059573, 29.98618665059573, 26.98789276972843, 23.989598889707043, 21.99073630274027, 21.990736302756186, 21.990736301820693, 20.99130500926596, 20.991305009814898, 18.992442421434312, 112.89544102004704, 17.993011129056192, 63.88602182166776, 504.8424636753365, 17.992827009723403, 73.85869595613354, 26.969842382422186, 389.53991198291385, 96.821835059557, 104.62138975676577, 48.89310213660825, 1169.7794951973221, 117.42935683822299, 61.928951888750525, 511.93309815914506, 97.85047686053447, 123.93954244408592, 114.84056782293061, 1483.6127335214128, 89.64792938114464, 449.8015710501534, 148.83429415942112, 92.7984706660752, 162.5674216058831, 1939.3579681932124, 1402.5569928227712, 580.0891935213933, 268.6051919011459, 483.0869922934603, 1100.3563472739052, 1013.332522753275, 1201.439404417212, 248.4551583799137, 820.0033539920909, 420.9644574045264, 3749.7361914098137, 418.97697878434786, 2714.927095218575, 1278.7020324347138, 3875.7971340164954, 1589.1616827773896, 651.0977841712469, 2886.4773589164847, 5068.990723297159, 4415.915799941635, 1094.3829938052359, 2864.218392153058, 3166.704928921312, 5182.099369596271, 6730.590005635465, 3871.416408877568, 2124.945150349159, 4182.384470579429, 534.4085843254206, 177.45282265053774, 138.91773393219438, 67.93204396558407, 209.85242825083284, 59.819393683627204, 58.8053123983878, 63.873839493837224, 54.74898725749589, 90.20970344836599, 48.66449954603377, 45.62225569033703, 119.60834198986484, 39.53776797854305, 37.509605408175744, 35.481442837363716, 34.46736155269573, 33.45328025990289, 32.43919898217575, 32.43919898204641, 32.43919807770479, 30.410944465698485, 194.66118363798262, 22.298386129737327, 23.310709843651523, 21.28430484461903, 21.284304844409988, 23.311182543678424, 20.27022355886821, 19.256142273779346, 69.92953129438852, 40.52881710197476, 290.26444184356865, 63.80539339618464, 510.66208055212365, 283.38731878372363, 175.60373413455048, 747.0153610661301, 294.1915725772762, 177.67053580003304, 176.63464920073704, 316.55206574881316, 184.88004758210715, 344.3117888496968, 471.18330728313725, 384.6673806359883, 127.63655570005281, 744.4567816371165, 826.6988470266309, 956.8958504127867, 98.81510406119733, 1480.3660177295747, 252.47957235192155, 3598.055990691284, 479.8258060277804, 2773.815608714388, 322.9383842641718, 2317.441930519995, 853.4842189895461, 1589.1616827773896, 1123.2089282228103, 3129.826436762642, 6730.590005635465, 2157.5678315645096, 1653.5258171191092, 1533.0903431348277, 2864.218392153058, 3783.938946613495, 2266.397804048226, 2600.2963171696415, 4382.51623241316, 229.37654355691706, 107.17649329839188, 95.15666576201619, 87.14369817430787, 76.12557065231881, 67.11090304937247, 57.094505487867, 46.076468169582924, 45.074828413303614, 42.06990914456454, 47.07426792203733, 38.06335011983584, 131.14014751104676, 36.06007060724709, 50.07776883567677, 35.05843085128239, 35.05843084327815, 34.05679109487699, 34.056791095006155, 33.05515133860474, 37.05777219600584, 142.27385737982445, 31.05187182631048, 30.050232069622346, 186.18698089861738, 29.048592313704436, 65.18096168385924, 29.04758457604239, 26.043673045329996, 26.04367174952137, 110.13986701729439, 57.1065824187266, 57.11057029007986, 69.05056412209528, 180.3619203938526, 289.1779817890161, 125.04570657789189, 590.3809093961819, 234.27054150433403, 61.00360916910867, 196.9361853235934, 637.6807797119739, 83.05438447026263, 126.3946264948968, 174.69785468106207, 251.01369619031402, 193.57074075537025, 182.17255050421642, 275.0855670854095, 522.8186842225275, 367.9491505713146, 878.2317633091616, 232.45094170522955, 123.7120600930575, 418.0871151331411, 572.6819801892673, 220.08701599297578, 268.9801068790611, 1008.4566875014004, 2869.290422355592, 2473.6623861685966, 1100.0282306659262, 433.33325457433415, 470.9757510740516, 732.2650279445631, 771.2858864090276, 7097.166161292033, 813.0188905362038, 4462.197608786449, 1288.5070430082633, 621.4602285231127, 1061.872854403095, 4410.526601869711, 2600.2963171696415, 5068.990723297159, 3783.938946613495, 1242.2763847455033, 682.9356078694656, 203.0203820150732, 128.12601411998742, 105.46061330976772, 100.53335226426424, 94.62063900896673, 682.363798717219, 523.6346374418822, 94.64777479483406, 139.92315824834307, 41.40621971514013, 35.49350646041027, 39.43823835062063, 31.55169762405287, 71.00440435404877, 40.41909737178239, 28.59534099771342, 71.97670197336514, 24.653532159682143, 23.66807995181814, 22.682627741582433, 22.68262774127965, 73.91196135703906, 126.27458754999235, 19.726271114022026, 38.45755672970915, 17.755366695590993, 16.7699144863669, 36.51125861976445, 14.799010068419168, 702.8837116066937, 154.9710186337545, 60.3441266880429, 550.0218364286447, 164.72606355351604, 528.4071413805374, 1645.8371657606547, 838.2415052734054, 183.65247879360535, 631.176525253995, 1415.1062278483462, 125.31835168349085, 105.64951103867513, 1060.276536020849, 160.340631002268, 384.91980631106037, 2736.0196355824296, 1165.085670146154, 383.72348092051675, 679.8972553984593, 311.6195656826028, 510.26123541778, 883.4408631734407, 1378.0865537597026, 5417.024706396248, 791.4839973741974, 637.8525192047355, 476.9416714646586, 701.0881806701819, 6473.39439041537, 632.2263044718634, 612.6765931876556, 3184.5887932498767, 771.2858864090276, 5182.099369596271, 1915.4314341843574, 1378.9022240874458, 713.5375469618275, 2473.6623861685966, 67.72205952749954, 59.634861870848546, 40.427767550849204, 81.84787634998656, 37.395068442394205, 31.32966928543626, 30.318770522514278, 30.31877052168246, 29.307870819125476, 27.286071413575257, 30.31871530860292, 26.27216741873829, 27.284366533980034, 23.24247260207411, 22.231572899691916, 22.231572900083812, 20.20977349211274, 18.18797408778152, 17.177074385383797, 17.177074385428117, 17.177074385357916, 17.177074384857146, 201.1930466834311, 16.16617468202953, 16.166174682782618, 14.14437527666904, 14.144375276315714, 15.152619041403653, 56.46627552041651, 13.133475573870923, 340.61905663089215, 232.60052243115405, 38.33210078873519, 109.33030874576266, 372.56293848784514, 210.5672549528412, 80.87614564218158, 38.30087633528801, 1569.037384625881, 62.5290093168972, 834.9006397509995, 1105.9464901892095, 3133.357669788863, 819.606194528658, 391.4331826897663, 1278.7020324347138, 114.0183642262636, 194.22638906699936, 1181.0382102481153, 168.4662732188553, 912.227071155964, 470.77735834664134, 100.55730544937292, 224.3985159355947, 1023.3477396419975, 443.1574034724077, 597.9949083032128, 682.7896315108952, 893.2999368789527, 6846.9762173817335, 398.0818033777647, 450.8859481839638, 243.22280116491865, 1804.263934073771, 4681.519582969737, 1648.635916038341, 386.0888640747269, 7097.943615624079, 1962.0346907779626, 6473.39439041537, 1893.0253872579901, 1888.8596178369532, 8262.072344800568, 2088.2013633283077, 4243.571877162828, 5182.099369596271, 72.85273159839423, 87.04237867376266, 54.637225341427325, 74.86404540203952, 42.49355450278483, 39.457636792784676, 36.4217190837779, 33.38580137475971, 32.37382880434629, 265.8436045029397, 26.301993385118582, 25.29002081568045, 27.31001826882757, 288.96866114961233, 21.24213053619435, 20.22924043125831, 19.218185370324047, 39.55395385273706, 16.18226768750415, 15.170295117767381, 15.170295116515693, 14.158322547634233, 14.158322547581175, 13.146349977767184, 13.146349977200998, 13.146349976219247, 43.40193767442056, 28.313014832618286, 12.134377407570195, 12.134377407527172, 54.83734413885573, 28.41141319575861, 467.10912792151544, 480.40016807940236, 238.0411960204044, 107.13032142211202, 56.5727755731959, 203.82518916539857, 33.48869644627274, 515.0923539796092, 171.85129865697607, 206.76784215478364, 190.7794829961143, 48.40751143473573, 442.451766704758, 216.83880992881, 791.113466692318, 186.42534994200653, 190.610927718796, 4415.915799941635, 153.0233873921587, 1272.7397181195709, 163.69728534684376, 374.4278341495238, 313.07154189348654, 1551.4128452455218, 552.7010018568601, 1105.9464901892095, 326.6368502456239, 540.3831108564156, 1006.3595491972283, 1154.4563204667966, 1818.8464998458055, 1306.4737782521138, 649.1690209556101, 5182.099369596271, 1369.6771005484682, 1181.0382102481153, 866.9091873551487, 946.163560183744, 1569.037384625881, 677.0470686736788, 912.227071155964, 819.606194528658, 1587.2372754867758, 265.9215765119359, 221.9471846409788, 165.10223905129743, 146.86895461624127, 130.78076246804818, 109.32983960406938, 75.00836301974843, 73.93581646453255, 69.64563230504038, 56.77507858675063, 51.41234787027722, 43.90452486833396, 41.7594325819254, 107.02203046299668, 35.32415572270243, 31.033971147925843, 29.961425004605644, 32.099337498465225, 28.887249401219204, 27.816332718480336, 29.95455420033591, 39.55938293216416, 86.61403512109496, 22.45360200334778, 22.453602003151257, 22.453600297596942, 52.37877656404353, 21.381055858939387, 21.38105585861665, 19.235963572878017, 176.99009937874285, 183.59841653534943, 158.30862049249527, 43.78690479744361, 42.88013926339074, 119.02850398272192, 154.72212510947014, 437.903221190041, 63.76695128738806, 52.07622032098478, 58.356490500961506, 331.59580899294775, 373.6786505911627, 150.58879789098086, 193.11225947306986, 665.3162627056989, 2279.402840663334, 1061.872854403095, 222.5685920136844, 429.90242368216013, 1569.037384625881, 805.2508254196242, 659.4620358707325, 177.3478761376629, 241.9074624857132, 1087.8359068485738, 3133.357669788863, 369.9106261074032, 637.8525192047355, 4163.77934980021, 1472.4846146599923, 4182.384470579429, 1348.6828687673858, 913.1250443232753, 776.8054198794698, 551.8226250648486, 518.5739361762309, 448.75168950970334, 433.2356346948995, 273.64192802829723, 251.47613543304809, 230.41863247294728, 192.73678506468025, 183.8704680275471, 169.46270284333448, 166.13783395350325, 138.43059321380522, 138.43049715695327, 282.3735325098546, 121.80624876938423, 117.37309025087391, 111.83164210273056, 95.20729765715939, 90.77413913979463, 85.2326909916537, 81.9078221027717, 78.5829532120832, 74.14979469519179, 73.04150506575061, 66.3917672879696, 65.28347765829005, 64.17518802847313, 80.76266612975837, 308.451578788406, 252.65569478155356, 294.2632707174132, 160.63798998382848, 589.7404466925203, 103.47810871412537, 5417.024706396248, 732.2650279445631], \"Category\": [\"Default\", \"Default\", \"Default\", \"Default\", \"Default\", \"Default\", \"Default\", \"Default\", \"Default\", \"Default\", \"Default\", \"Default\", \"Default\", \"Default\", \"Default\", \"Default\", \"Default\", \"Default\", \"Default\", \"Default\", \"Default\", \"Default\", \"Default\", \"Default\", \"Default\", \"Default\", \"Default\", \"Default\", \"Default\", \"Default\", \"Topic1\", \"Topic1\", \"Topic1\", \"Topic1\", \"Topic1\", \"Topic1\", \"Topic1\", \"Topic1\", \"Topic1\", \"Topic1\", \"Topic1\", \"Topic1\", \"Topic1\", \"Topic1\", \"Topic1\", \"Topic1\", \"Topic1\", \"Topic1\", \"Topic1\", \"Topic1\", \"Topic1\", \"Topic1\", \"Topic1\", \"Topic1\", \"Topic1\", \"Topic1\", \"Topic1\", \"Topic1\", \"Topic1\", \"Topic1\", \"Topic1\", \"Topic1\", \"Topic1\", \"Topic1\", \"Topic1\", \"Topic1\", \"Topic1\", \"Topic1\", \"Topic1\", \"Topic1\", \"Topic1\", \"Topic1\", \"Topic1\", \"Topic1\", \"Topic1\", \"Topic1\", \"Topic1\", \"Topic1\", \"Topic1\", \"Topic1\", \"Topic1\", \"Topic1\", \"Topic1\", \"Topic1\", \"Topic1\", \"Topic1\", \"Topic1\", \"Topic1\", \"Topic1\", \"Topic1\", \"Topic1\", \"Topic1\", \"Topic1\", \"Topic1\", \"Topic1\", \"Topic1\", \"Topic1\", \"Topic1\", \"Topic1\", \"Topic1\", \"Topic1\", \"Topic1\", \"Topic1\", \"Topic1\", \"Topic1\", \"Topic1\", \"Topic1\", \"Topic1\", \"Topic1\", \"Topic1\", \"Topic1\", \"Topic1\", \"Topic2\", \"Topic2\", \"Topic2\", \"Topic2\", \"Topic2\", \"Topic2\", \"Topic2\", \"Topic2\", \"Topic2\", \"Topic2\", \"Topic2\", \"Topic2\", \"Topic2\", \"Topic2\", \"Topic2\", \"Topic2\", \"Topic2\", \"Topic2\", \"Topic2\", \"Topic2\", \"Topic2\", \"Topic2\", \"Topic2\", \"Topic2\", \"Topic2\", \"Topic2\", \"Topic2\", \"Topic2\", \"Topic2\", \"Topic2\", \"Topic2\", \"Topic2\", \"Topic2\", \"Topic2\", \"Topic2\", \"Topic2\", \"Topic2\", \"Topic2\", \"Topic2\", \"Topic2\", \"Topic2\", \"Topic2\", \"Topic2\", \"Topic2\", \"Topic2\", \"Topic2\", \"Topic2\", \"Topic2\", \"Topic2\", \"Topic2\", \"Topic2\", \"Topic2\", \"Topic2\", \"Topic2\", \"Topic2\", \"Topic2\", \"Topic2\", \"Topic2\", \"Topic2\", \"Topic2\", \"Topic2\", \"Topic2\", \"Topic2\", \"Topic2\", \"Topic2\", \"Topic2\", \"Topic2\", \"Topic3\", \"Topic3\", \"Topic3\", \"Topic3\", \"Topic3\", \"Topic3\", \"Topic3\", \"Topic3\", \"Topic3\", \"Topic3\", \"Topic3\", \"Topic3\", \"Topic3\", \"Topic3\", \"Topic3\", \"Topic3\", \"Topic3\", \"Topic3\", \"Topic3\", \"Topic3\", \"Topic3\", \"Topic3\", \"Topic3\", \"Topic3\", \"Topic3\", \"Topic3\", \"Topic3\", \"Topic3\", \"Topic3\", \"Topic3\", \"Topic3\", \"Topic3\", \"Topic3\", \"Topic3\", \"Topic3\", \"Topic3\", \"Topic3\", \"Topic3\", \"Topic3\", \"Topic3\", \"Topic3\", \"Topic3\", \"Topic3\", \"Topic3\", \"Topic3\", \"Topic3\", \"Topic3\", \"Topic3\", \"Topic3\", \"Topic3\", \"Topic3\", \"Topic3\", \"Topic3\", \"Topic3\", \"Topic3\", \"Topic3\", \"Topic3\", \"Topic3\", \"Topic3\", \"Topic3\", \"Topic3\", \"Topic3\", \"Topic3\", \"Topic3\", \"Topic3\", \"Topic3\", \"Topic3\", \"Topic3\", \"Topic4\", \"Topic4\", \"Topic4\", \"Topic4\", \"Topic4\", \"Topic4\", \"Topic4\", \"Topic4\", \"Topic4\", \"Topic4\", \"Topic4\", \"Topic4\", \"Topic4\", \"Topic4\", \"Topic4\", \"Topic4\", \"Topic4\", \"Topic4\", \"Topic4\", \"Topic4\", \"Topic4\", \"Topic4\", \"Topic4\", \"Topic4\", \"Topic4\", \"Topic4\", \"Topic4\", \"Topic4\", \"Topic4\", \"Topic4\", \"Topic4\", \"Topic4\", \"Topic4\", \"Topic4\", \"Topic4\", \"Topic4\", \"Topic4\", \"Topic4\", \"Topic4\", \"Topic4\", \"Topic4\", \"Topic4\", \"Topic4\", \"Topic4\", \"Topic4\", \"Topic4\", \"Topic4\", \"Topic4\", \"Topic4\", \"Topic4\", \"Topic4\", \"Topic4\", \"Topic4\", \"Topic4\", \"Topic4\", \"Topic4\", \"Topic4\", \"Topic4\", \"Topic4\", \"Topic4\", \"Topic4\", \"Topic4\", \"Topic4\", \"Topic4\", \"Topic4\", \"Topic4\", \"Topic4\", \"Topic4\", \"Topic4\", \"Topic4\", \"Topic4\", \"Topic4\", \"Topic4\", \"Topic4\", \"Topic4\", \"Topic4\", \"Topic4\", \"Topic4\", \"Topic4\", \"Topic5\", \"Topic5\", \"Topic5\", \"Topic5\", \"Topic5\", \"Topic5\", \"Topic5\", \"Topic5\", \"Topic5\", \"Topic5\", \"Topic5\", \"Topic5\", \"Topic5\", \"Topic5\", \"Topic5\", \"Topic5\", \"Topic5\", \"Topic5\", \"Topic5\", \"Topic5\", \"Topic5\", \"Topic5\", \"Topic5\", \"Topic5\", \"Topic5\", \"Topic5\", \"Topic5\", \"Topic5\", \"Topic5\", \"Topic5\", \"Topic5\", \"Topic5\", \"Topic5\", \"Topic5\", \"Topic5\", \"Topic5\", \"Topic5\", \"Topic5\", \"Topic5\", \"Topic5\", \"Topic5\", \"Topic5\", \"Topic5\", \"Topic5\", \"Topic5\", \"Topic5\", \"Topic5\", \"Topic5\", \"Topic5\", \"Topic5\", \"Topic5\", \"Topic5\", \"Topic5\", \"Topic5\", \"Topic5\", \"Topic5\", \"Topic5\", \"Topic5\", \"Topic5\", \"Topic5\", \"Topic5\", \"Topic5\", \"Topic5\", \"Topic5\", \"Topic5\", \"Topic5\", \"Topic5\", \"Topic5\", \"Topic5\", \"Topic5\", \"Topic5\", \"Topic5\", \"Topic5\", \"Topic5\", \"Topic5\", \"Topic5\", \"Topic5\", \"Topic5\", \"Topic6\", \"Topic6\", \"Topic6\", \"Topic6\", \"Topic6\", \"Topic6\", \"Topic6\", \"Topic6\", \"Topic6\", \"Topic6\", \"Topic6\", \"Topic6\", \"Topic6\", \"Topic6\", \"Topic6\", \"Topic6\", \"Topic6\", \"Topic6\", \"Topic6\", \"Topic6\", \"Topic6\", \"Topic6\", \"Topic6\", \"Topic6\", \"Topic6\", \"Topic6\", \"Topic6\", \"Topic6\", \"Topic6\", \"Topic6\", \"Topic6\", \"Topic6\", \"Topic6\", \"Topic6\", \"Topic6\", \"Topic6\", \"Topic6\", \"Topic6\", \"Topic6\", \"Topic6\", \"Topic6\", \"Topic6\", \"Topic6\", \"Topic6\", \"Topic6\", \"Topic6\", \"Topic6\", \"Topic6\", \"Topic6\", \"Topic6\", \"Topic6\", \"Topic6\", \"Topic6\", \"Topic6\", \"Topic6\", \"Topic6\", \"Topic6\", \"Topic6\", \"Topic6\", \"Topic6\", \"Topic6\", \"Topic6\", \"Topic6\", \"Topic6\", \"Topic6\", \"Topic6\", \"Topic6\", \"Topic6\", \"Topic6\", \"Topic6\", \"Topic6\", \"Topic6\", \"Topic6\", \"Topic6\", \"Topic7\", \"Topic7\", \"Topic7\", \"Topic7\", \"Topic7\", \"Topic7\", \"Topic7\", \"Topic7\", \"Topic7\", \"Topic7\", \"Topic7\", \"Topic7\", \"Topic7\", \"Topic7\", \"Topic7\", \"Topic7\", \"Topic7\", \"Topic7\", \"Topic7\", \"Topic7\", \"Topic7\", \"Topic7\", \"Topic7\", \"Topic7\", \"Topic7\", \"Topic7\", \"Topic7\", \"Topic7\", \"Topic7\", \"Topic7\", \"Topic7\", \"Topic7\", \"Topic7\", \"Topic7\", \"Topic7\", \"Topic7\", \"Topic7\", \"Topic7\", \"Topic7\", \"Topic7\", \"Topic7\", \"Topic7\", \"Topic7\", \"Topic7\", \"Topic7\", \"Topic7\", \"Topic7\", \"Topic7\", \"Topic7\", \"Topic7\", \"Topic7\", \"Topic7\", \"Topic7\", \"Topic7\", \"Topic7\", \"Topic7\", \"Topic7\", \"Topic7\", \"Topic7\", \"Topic7\", \"Topic7\", \"Topic7\", \"Topic7\", \"Topic7\", \"Topic7\", \"Topic7\", \"Topic7\", \"Topic7\", \"Topic7\", \"Topic7\", \"Topic7\", \"Topic7\", \"Topic7\", \"Topic7\", \"Topic7\", \"Topic7\", \"Topic7\", \"Topic7\", \"Topic7\", \"Topic7\", \"Topic8\", \"Topic8\", \"Topic8\", \"Topic8\", \"Topic8\", \"Topic8\", \"Topic8\", \"Topic8\", \"Topic8\", \"Topic8\", \"Topic8\", \"Topic8\", \"Topic8\", \"Topic8\", \"Topic8\", \"Topic8\", \"Topic8\", \"Topic8\", \"Topic8\", \"Topic8\", \"Topic8\", \"Topic8\", \"Topic8\", \"Topic8\", \"Topic8\", \"Topic8\", \"Topic8\", \"Topic8\", \"Topic8\", \"Topic8\", \"Topic8\", \"Topic8\", \"Topic8\", \"Topic8\", \"Topic8\", \"Topic8\", \"Topic8\", \"Topic8\", \"Topic8\", \"Topic8\", \"Topic8\", \"Topic8\", \"Topic8\", \"Topic8\", \"Topic8\", \"Topic8\", \"Topic8\", \"Topic8\", \"Topic8\", \"Topic8\", \"Topic8\", \"Topic8\", \"Topic8\", \"Topic8\", \"Topic8\", \"Topic8\", \"Topic8\", \"Topic8\", \"Topic8\", \"Topic8\", \"Topic8\", \"Topic8\", \"Topic8\", \"Topic8\", \"Topic8\", \"Topic8\", \"Topic8\", \"Topic8\", \"Topic8\", \"Topic8\", \"Topic8\", \"Topic8\", \"Topic8\", \"Topic8\", \"Topic8\", \"Topic8\", \"Topic8\", \"Topic8\", \"Topic8\", \"Topic9\", \"Topic9\", \"Topic9\", \"Topic9\", \"Topic9\", \"Topic9\", \"Topic9\", \"Topic9\", \"Topic9\", \"Topic9\", \"Topic9\", \"Topic9\", \"Topic9\", \"Topic9\", \"Topic9\", \"Topic9\", \"Topic9\", \"Topic9\", \"Topic9\", \"Topic9\", \"Topic9\", \"Topic9\", \"Topic9\", \"Topic9\", \"Topic9\", \"Topic9\", \"Topic9\", \"Topic9\", \"Topic9\", \"Topic9\", \"Topic9\", \"Topic9\", \"Topic9\", \"Topic9\", \"Topic9\", \"Topic9\", \"Topic9\", \"Topic9\", \"Topic9\", \"Topic9\", \"Topic9\", \"Topic9\", \"Topic9\", \"Topic9\", \"Topic9\", \"Topic9\", \"Topic9\", \"Topic9\", \"Topic9\", \"Topic9\", \"Topic9\", \"Topic9\", \"Topic9\", \"Topic9\", \"Topic9\", \"Topic9\", \"Topic9\", \"Topic9\", \"Topic9\", \"Topic9\", \"Topic9\", \"Topic9\", \"Topic9\", \"Topic9\", \"Topic9\", \"Topic9\", \"Topic9\", \"Topic9\", \"Topic9\", \"Topic9\", \"Topic9\", \"Topic9\", \"Topic9\", \"Topic9\", \"Topic9\", \"Topic9\", \"Topic9\", \"Topic9\", \"Topic9\", \"Topic9\", \"Topic9\", \"Topic9\", \"Topic9\", \"Topic9\", \"Topic10\", \"Topic10\", \"Topic10\", \"Topic10\", \"Topic10\", \"Topic10\", \"Topic10\", \"Topic10\", \"Topic10\", \"Topic10\", \"Topic10\", \"Topic10\", \"Topic10\", \"Topic10\", \"Topic10\", \"Topic10\", \"Topic10\", \"Topic10\", \"Topic10\", \"Topic10\", \"Topic10\", \"Topic10\", \"Topic10\", \"Topic10\", \"Topic10\", \"Topic10\", \"Topic10\", \"Topic10\", \"Topic10\", \"Topic10\", \"Topic10\", \"Topic10\", \"Topic10\", \"Topic10\", \"Topic10\", \"Topic10\", \"Topic10\", \"Topic10\", \"Topic10\", \"Topic10\", \"Topic10\", \"Topic10\", \"Topic10\", \"Topic10\", \"Topic10\", \"Topic10\", \"Topic10\", \"Topic10\", \"Topic10\", \"Topic10\", \"Topic10\", \"Topic10\", \"Topic10\", \"Topic10\", \"Topic10\", \"Topic10\", \"Topic10\", \"Topic10\", \"Topic10\", \"Topic10\", \"Topic10\", \"Topic10\", \"Topic10\", \"Topic10\", \"Topic10\", \"Topic10\", \"Topic10\", \"Topic10\", \"Topic10\", \"Topic10\", \"Topic10\", \"Topic10\", \"Topic10\", \"Topic10\", \"Topic10\", \"Topic10\", \"Topic11\", \"Topic11\", \"Topic11\", \"Topic11\", \"Topic11\", \"Topic11\", \"Topic11\", \"Topic11\", \"Topic11\", \"Topic11\", \"Topic11\", \"Topic11\", \"Topic11\", \"Topic11\", \"Topic11\", \"Topic11\", \"Topic11\", \"Topic11\", \"Topic11\", \"Topic11\", \"Topic11\", \"Topic11\", \"Topic11\", \"Topic11\", \"Topic11\", \"Topic11\", \"Topic11\", \"Topic11\", \"Topic11\", \"Topic11\", \"Topic11\", \"Topic11\", \"Topic11\", \"Topic11\", \"Topic11\", \"Topic11\", \"Topic11\", \"Topic11\", \"Topic11\", \"Topic11\", \"Topic11\", \"Topic11\", \"Topic11\", \"Topic11\", \"Topic11\", \"Topic11\", \"Topic11\", \"Topic11\", \"Topic11\", \"Topic11\", \"Topic11\", \"Topic11\", \"Topic11\", \"Topic11\", \"Topic11\", \"Topic11\", \"Topic11\", \"Topic11\", \"Topic11\", \"Topic11\", \"Topic11\", \"Topic11\", \"Topic11\", \"Topic11\", \"Topic11\", \"Topic11\", \"Topic11\", \"Topic11\", \"Topic11\", \"Topic11\", \"Topic11\", \"Topic11\", \"Topic11\", \"Topic11\", \"Topic11\", \"Topic11\", \"Topic12\", \"Topic12\", \"Topic12\", \"Topic12\", \"Topic12\", \"Topic12\", \"Topic12\", \"Topic12\", \"Topic12\", \"Topic12\", \"Topic12\", \"Topic12\", \"Topic12\", \"Topic12\", \"Topic12\", \"Topic12\", \"Topic12\", \"Topic12\", \"Topic12\", \"Topic12\", \"Topic12\", \"Topic12\", \"Topic12\", \"Topic12\", \"Topic12\", \"Topic12\", \"Topic12\", \"Topic12\", \"Topic12\", \"Topic12\", \"Topic12\", \"Topic12\", \"Topic12\", \"Topic12\", \"Topic12\", \"Topic12\", \"Topic12\", \"Topic12\", \"Topic12\", \"Topic12\", \"Topic12\", \"Topic12\", \"Topic12\", \"Topic12\", \"Topic12\", \"Topic12\", \"Topic12\", \"Topic12\", \"Topic12\", \"Topic12\", \"Topic12\", \"Topic12\", \"Topic12\", \"Topic12\", \"Topic12\", \"Topic12\", \"Topic12\", \"Topic12\", \"Topic12\", \"Topic12\", \"Topic12\", \"Topic12\", \"Topic12\", \"Topic12\", \"Topic12\", \"Topic12\", \"Topic12\", \"Topic12\", \"Topic12\", \"Topic12\", \"Topic12\", \"Topic13\", \"Topic13\", \"Topic13\", \"Topic13\", \"Topic13\", \"Topic13\", \"Topic13\", \"Topic13\", \"Topic13\", \"Topic13\", \"Topic13\", \"Topic13\", \"Topic13\", \"Topic13\", \"Topic13\", \"Topic13\", \"Topic13\", \"Topic13\", \"Topic13\", \"Topic13\", \"Topic13\", \"Topic13\", \"Topic13\", \"Topic13\", \"Topic13\", \"Topic13\", \"Topic13\", \"Topic13\", \"Topic13\", \"Topic13\", \"Topic13\", \"Topic13\", \"Topic13\", \"Topic13\", \"Topic13\", \"Topic13\", \"Topic13\", \"Topic13\", \"Topic13\", \"Topic13\", \"Topic13\", \"Topic13\", \"Topic13\", \"Topic13\", \"Topic13\", \"Topic13\", \"Topic13\", \"Topic13\", \"Topic13\", \"Topic13\", \"Topic13\", \"Topic13\", \"Topic13\", \"Topic13\", \"Topic13\", \"Topic13\", \"Topic13\", \"Topic13\", \"Topic13\", \"Topic13\", \"Topic13\", \"Topic13\", \"Topic13\", \"Topic13\", \"Topic13\", \"Topic13\", \"Topic13\", \"Topic13\", \"Topic13\", \"Topic13\", \"Topic13\", \"Topic13\", \"Topic13\", \"Topic13\", \"Topic13\", \"Topic13\", \"Topic13\", \"Topic14\", \"Topic14\", \"Topic14\", \"Topic14\", \"Topic14\", \"Topic14\", \"Topic14\", \"Topic14\", \"Topic14\", \"Topic14\", \"Topic14\", \"Topic14\", \"Topic14\", \"Topic14\", \"Topic14\", \"Topic14\", \"Topic14\", \"Topic14\", \"Topic14\", \"Topic14\", \"Topic14\", \"Topic14\", \"Topic14\", \"Topic14\", \"Topic14\", \"Topic14\", \"Topic14\", \"Topic14\", \"Topic14\", \"Topic14\", \"Topic14\", \"Topic14\", \"Topic14\", \"Topic14\", \"Topic14\", \"Topic14\", \"Topic14\", \"Topic14\", \"Topic14\", \"Topic14\", \"Topic14\", \"Topic14\", \"Topic14\", \"Topic14\", \"Topic14\", \"Topic14\", \"Topic14\", \"Topic14\", \"Topic14\", \"Topic14\", \"Topic14\", \"Topic14\", \"Topic14\", \"Topic14\", \"Topic14\", \"Topic14\", \"Topic14\", \"Topic14\", \"Topic14\", \"Topic14\", \"Topic14\", \"Topic14\", \"Topic14\", \"Topic14\", \"Topic14\", \"Topic14\", \"Topic14\", \"Topic14\", \"Topic14\", \"Topic15\", \"Topic15\", \"Topic15\", \"Topic15\", \"Topic15\", \"Topic15\", \"Topic15\", \"Topic15\", \"Topic15\", \"Topic15\", \"Topic15\", \"Topic15\", \"Topic15\", \"Topic15\", \"Topic15\", \"Topic15\", \"Topic15\", \"Topic15\", \"Topic15\", \"Topic15\", \"Topic15\", \"Topic15\", \"Topic15\", \"Topic15\", \"Topic15\", \"Topic15\", \"Topic15\", \"Topic15\", \"Topic15\", \"Topic15\", \"Topic15\", \"Topic15\", \"Topic15\", \"Topic15\", \"Topic15\", \"Topic15\", \"Topic15\", \"Topic15\", \"Topic15\", \"Topic15\", \"Topic15\", \"Topic15\", \"Topic15\", \"Topic15\", \"Topic15\", \"Topic15\", \"Topic15\", \"Topic15\", \"Topic15\", \"Topic15\", \"Topic15\", \"Topic15\", \"Topic15\", \"Topic15\", \"Topic15\", \"Topic15\", \"Topic15\", \"Topic15\", \"Topic15\", \"Topic15\", \"Topic15\", \"Topic15\", \"Topic15\", \"Topic15\", \"Topic15\", \"Topic15\", \"Topic15\", \"Topic15\", \"Topic15\", \"Topic15\", \"Topic15\", \"Topic15\", \"Topic15\", \"Topic15\", \"Topic15\", \"Topic15\", \"Topic16\", \"Topic16\", \"Topic16\", \"Topic16\", \"Topic16\", \"Topic16\", \"Topic16\", \"Topic16\", \"Topic16\", \"Topic16\", \"Topic16\", \"Topic16\", \"Topic16\", \"Topic16\", \"Topic16\", \"Topic16\", \"Topic16\", \"Topic16\", \"Topic16\", \"Topic16\", \"Topic16\", \"Topic16\", \"Topic16\", \"Topic16\", \"Topic16\", \"Topic16\", \"Topic16\", \"Topic16\", \"Topic16\", \"Topic16\", \"Topic16\", \"Topic16\", \"Topic16\", \"Topic16\", \"Topic16\", \"Topic16\", \"Topic16\", \"Topic16\", \"Topic16\", \"Topic16\", \"Topic16\", \"Topic16\", \"Topic16\", \"Topic16\", \"Topic16\", \"Topic16\", \"Topic16\", \"Topic16\", \"Topic16\", \"Topic16\", \"Topic16\", \"Topic16\", \"Topic16\", \"Topic16\", \"Topic16\", \"Topic16\", \"Topic16\", \"Topic16\", \"Topic16\", \"Topic16\", \"Topic16\", \"Topic16\", \"Topic16\", \"Topic16\", \"Topic16\", \"Topic16\", \"Topic16\", \"Topic16\", \"Topic16\", \"Topic16\", \"Topic16\", \"Topic16\", \"Topic16\", \"Topic16\", \"Topic16\", \"Topic17\", \"Topic17\", \"Topic17\", \"Topic17\", \"Topic17\", \"Topic17\", \"Topic17\", \"Topic17\", \"Topic17\", \"Topic17\", \"Topic17\", \"Topic17\", \"Topic17\", \"Topic17\", \"Topic17\", \"Topic17\", \"Topic17\", \"Topic17\", \"Topic17\", \"Topic17\", \"Topic17\", \"Topic17\", \"Topic17\", \"Topic17\", \"Topic17\", \"Topic17\", \"Topic17\", \"Topic17\", \"Topic17\", \"Topic17\", \"Topic17\", \"Topic17\", \"Topic17\", \"Topic17\", \"Topic17\", \"Topic17\", \"Topic17\", \"Topic17\", \"Topic17\", \"Topic17\", \"Topic17\", \"Topic17\", \"Topic17\", \"Topic17\", \"Topic17\", \"Topic17\", \"Topic17\", \"Topic17\", \"Topic17\", \"Topic17\", \"Topic17\", \"Topic17\", \"Topic17\", \"Topic17\", \"Topic17\", \"Topic17\", \"Topic17\", \"Topic17\", \"Topic17\", \"Topic17\", \"Topic17\", \"Topic17\", \"Topic18\", \"Topic18\", \"Topic18\", \"Topic18\", \"Topic18\", \"Topic18\", \"Topic18\", \"Topic18\", \"Topic18\", \"Topic18\", \"Topic18\", \"Topic18\", \"Topic18\", \"Topic18\", \"Topic18\", \"Topic18\", \"Topic18\", \"Topic18\", \"Topic18\", \"Topic18\", \"Topic18\", \"Topic18\", \"Topic18\", \"Topic18\", \"Topic18\", \"Topic18\", \"Topic18\", \"Topic18\", \"Topic18\", \"Topic18\", \"Topic18\", \"Topic18\", \"Topic18\", \"Topic18\", \"Topic18\", \"Topic18\", \"Topic18\", \"Topic18\", \"Topic18\"], \"logprob\": [30.0, 29.0, 28.0, 27.0, 26.0, 25.0, 24.0, 23.0, 22.0, 21.0, 20.0, 19.0, 18.0, 17.0, 16.0, 15.0, 14.0, 13.0, 12.0, 11.0, 10.0, 9.0, 8.0, 7.0, 6.0, 5.0, 4.0, 3.0, 2.0, 1.0, -5.3378, -5.0899, -6.5093, -7.358, -7.6644, -6.2469, -7.8014, -7.8312, -6.383, -8.1083, -8.2358, -8.2822, -8.283, -8.3309, -8.382, -8.4929, -5.832, -8.5533, -8.6176, -8.6864, -8.7602, -8.7602, -7.433, -8.8398, -8.8398, -6.9286, -8.9264, -8.9264, -8.9264, -8.9264, -7.857, -6.2006, -6.3266, -2.7506, -6.9732, -5.1127, -7.7105, -7.6655, -4.4126, -6.5808, -5.3759, -5.6291, -3.3285, -4.0157, -5.2703, -5.6025, -5.6546, -5.4522, -5.5713, -4.9855, -5.8512, -5.602, -6.3199, -5.834, -6.6301, -5.053, -4.6748, -3.9294, -4.5274, -3.867, -5.6194, -4.4818, -4.9274, -3.997, -5.1647, -4.4831, -4.6267, -5.1231, -4.7598, -4.9514, -4.6359, -5.2921, -4.9331, -4.6512, -4.7828, -4.795, -5.0792, -5.0543, -4.9855, -5.0631, -5.1087, -5.1076, -3.4638, -5.6854, -5.0855, -5.9291, -6.4144, -6.4368, -5.3268, -7.1835, -7.542, -3.0742, -7.7424, -7.8015, -7.9244, -7.9583, -6.2539, -8.1471, -8.1471, -8.1901, -8.2339, -6.4808, -7.6335, -5.3138, -5.412, -8.329, -8.2826, -8.5514, -8.5514, -8.6157, -4.6233, -7.0466, -4.549, -6.4988, -5.6688, -6.2669, -3.8209, -5.3316, -4.7742, -7.2108, -5.2633, -6.4406, -4.4166, -3.8992, -4.9189, -4.148, -4.0658, -5.6581, -3.8005, -5.7462, -3.7087, -4.8635, -4.2865, -4.5876, -4.9463, -5.0699, -4.446, -4.559, -4.3263, -4.3948, -4.654, -4.9505, -4.8183, -4.7192, -4.7722, -4.8134, -4.7062, -4.8999, -4.9721, -4.0233, -4.2262, -4.5515, -5.0998, -5.7701, -6.1449, -6.3878, -6.5623, -6.5806, -6.7194, -6.8931, -6.972, -7.088, -5.9463, -7.2192, -7.5483, -7.4796, -7.5983, -7.6242, -7.6508, -7.7063, -7.7651, -7.7958, -7.7958, -7.7958, -7.8275, -7.8275, -7.8602, -6.7407, -6.2842, -6.9126, -6.2061, -6.0247, -4.7683, -5.1991, -6.6941, -6.4864, -5.97, -4.661, -5.1293, -7.0505, -5.2172, -3.3856, -3.4378, -5.1578, -5.2626, -5.8738, -4.2182, -3.5929, -5.3645, -5.608, -5.0175, -4.8328, -5.7721, -5.3093, -4.6666, -5.2199, -5.2976, -5.03, -5.0139, -5.0884, -4.5641, -5.4326, -5.0953, -5.3484, -5.3283, -5.2004, -5.2856, -5.939, -6.2639, -6.5595, -6.4317, -6.6751, -6.9489, -7.1026, -7.3777, -7.4277, -7.4536, -7.4536, -5.6088, -7.5076, -7.5357, -7.5945, -7.6569, -7.2944, -7.7585, -5.1188, -7.7948, -7.7948, -7.8716, -7.8716, -7.9548, -7.9548, -7.9151, -7.7349, -8.0942, -8.0942, -8.0942, -4.8054, -7.3812, -6.394, -5.9146, -5.1475, -7.0959, -6.5374, -7.1323, -4.9876, -6.0627, -7.051, -5.6663, -4.8937, -5.8996, -5.8346, -4.8864, -5.6302, -5.1535, -6.3178, -5.5569, -5.2759, -6.8418, -5.0864, -5.3133, -4.9195, -6.3682, -5.8984, -3.8864, -3.6746, -3.8973, -5.0205, -4.8322, -4.3992, -4.6168, -5.1075, -4.4687, -5.0478, -4.8672, -4.5773, -4.7257, -4.9641, -5.0306, -5.1289, -4.9878, -5.1866, -5.0116, -5.1349, -5.1533, -5.1615, -6.6989, -6.8429, -7.234, -7.5494, -7.8084, -8.0128, -8.0592, -8.2699, -7.6656, -8.3303, -8.3316, -8.4633, -5.5838, -8.5371, -8.5371, -8.5371, -8.6168, -8.6168, -8.6168, -8.7034, -8.7034, -8.7034, -8.5556, -8.903, -6.5519, -7.3503, -9.1525, -6.384, -8.5371, -9.3071, -7.0473, -6.5701, -6.874, -4.8476, -4.2748, -3.9198, -5.8073, -6.2993, -4.1778, -6.2689, -4.3672, -5.8906, -6.7745, -7.0903, -4.4409, -4.5822, -5.8527, -6.3563, -5.3597, -4.0624, -3.6665, -5.2202, -3.8391, -5.7524, -5.1617, -4.575, -5.0232, -5.1614, -3.8471, -5.0045, -4.5618, -4.0164, -4.0924, -4.8463, -5.1719, -4.6663, -4.7581, -4.3216, -4.6598, -5.3401, -4.8239, -4.9403, -4.7133, -4.9495, -5.0338, -5.1054, -5.0879, -5.1031, -4.4495, -4.486, -5.4483, -5.7593, -5.478, -6.2512, -6.0009, -6.2907, -6.4957, -6.6449, -6.6919, -6.6919, -6.8765, -6.9059, -7.0506, -7.1031, -6.2454, -7.1983, -7.2391, -7.2601, -7.3035, -6.5377, -7.3489, -7.4464, -7.4464, -7.4724, -7.4472, -7.499, -7.499, -7.5263, -6.4219, -7.1674, -5.8415, -5.7721, -5.0547, -5.1525, -6.1185, -6.1514, -5.9291, -5.1889, -6.4663, -5.9899, -5.8399, -4.9434, -6.0538, -4.4565, -5.6739, -5.4897, -4.2028, -5.2135, -4.8336, -5.353, -4.0344, -4.5009, -5.118, -4.5101, -4.9071, -4.5811, -5.0439, -5.8009, -5.236, -4.8304, -5.5494, -4.9415, -4.7702, -5.0952, -5.1166, -5.4479, -5.0672, -5.2503, -5.1712, -5.2398, -5.3223, -5.381, -5.5075, -6.509, -7.0072, -7.7887, -7.8279, -8.0505, -7.0712, -8.1016, -8.1016, -8.2125, -8.2125, -8.0149, -8.2729, -8.3372, -8.406, -8.3427, -7.8207, -8.4798, -8.4798, -8.4798, -8.4798, -8.231, -8.5594, -8.5594, -8.5597, -8.565, -8.646, -8.646, -8.646, -8.5716, -5.3886, -7.3493, -6.0408, -8.0637, -6.3841, -6.7011, -5.9517, -5.043, -7.3483, -6.6081, -5.5153, -3.8667, -4.9024, -4.4215, -4.2545, -4.8127, -3.555, -4.6514, -5.5278, -3.2825, -5.6967, -5.9268, -5.9371, -4.3522, -5.4617, -6.2245, -5.4754, -3.976, -5.3493, -4.2961, -4.6352, -4.104, -5.0197, -4.1385, -4.7685, -4.8508, -4.3636, -4.8758, -4.8184, -4.1639, -4.5583, -4.8623, -4.7383, -4.8802, -4.7399, -5.2455, -4.9249, -4.8428, -4.8585, -4.9817, -6.2066, -6.3255, -6.3625, -6.592, -6.7335, -7.1024, -7.2055, -7.2729, -5.0761, -7.3963, -7.4503, -7.4503, -7.4503, -7.1902, -7.4784, -7.5372, -7.5679, -6.8626, -7.6661, -4.5584, -7.7751, -7.7751, -7.8142, -7.267, -7.855, -7.9418, -7.9418, -6.7218, -7.9429, -7.9882, -6.6399, -6.9885, -7.2742, -5.688, -5.1134, -5.5423, -5.2462, -5.7208, -4.5989, -5.6351, -6.7902, -6.7584, -5.376, -4.8152, -6.1556, -3.875, -5.0687, -5.9194, -5.2256, -5.6683, -5.4154, -5.2614, -5.0169, -6.2105, -4.5238, -5.6943, -5.5219, -3.8259, -5.5604, -4.7838, -5.5568, -5.1547, -5.4625, -5.0306, -5.4272, -5.0466, -4.9769, -4.9164, -4.6494, -5.2082, -4.9207, -5.0344, -5.3629, -5.2679, -5.0564, -5.0405, -5.1073, -5.2003, -5.2871, -5.3296, -6.3475, -5.6156, -6.933, -7.1396, -7.399, -7.399, -7.324, -7.544, -7.6772, -7.7512, -7.8311, -5.8125, -7.8735, -7.9179, -7.9643, -8.0641, -8.118, -8.118, -8.175, -8.175, -8.2354, -8.2354, -8.2997, -8.2997, -7.3599, -7.7063, -8.3684, -8.4422, -8.4422, -5.4623, -7.3292, -5.0394, -5.3446, -5.7949, -7.4317, -6.5795, -5.872, -5.9153, -5.7006, -7.0719, -6.0156, -6.3102, -5.7585, -6.8964, -6.5797, -5.0676, -4.8508, -5.098, -6.155, -5.4656, -4.8406, -6.3206, -4.5932, -4.3559, -4.7433, -5.3419, -6.247, -4.8316, -4.6327, -5.6223, -4.6017, -4.1496, -3.9773, -4.7894, -4.2863, -5.3461, -4.8689, -4.9815, -4.5022, -5.0114, -4.4341, -4.8812, -4.8801, -4.6009, -5.0257, -4.9347, -4.7839, -4.9032, -5.1717, -5.0041, -5.0963, -5.1594, -5.1294, -3.9307, -5.0942, -5.2635, -5.4599, -4.4799, -6.4584, -6.4956, -6.561, -6.706, -6.754, -6.7873, -6.9135, -6.9146, -7.0145, -7.0359, -7.3378, -7.3676, -7.3983, -7.43, -7.5679, -7.6447, -7.774, -7.8186, -7.6534, -7.8673, -7.8673, -7.9184, -8.0293, -8.0293, -8.0897, -5.383, -4.5851, -7.2762, -5.4344, -6.6272, -6.9385, -6.1915, -6.9168, -6.6089, -5.8111, -6.4007, -4.7553, -6.7332, -4.2321, -4.8231, -5.8442, -5.0668, -4.7365, -6.0368, -3.5853, -3.7025, -4.8543, -5.4254, -5.9397, -3.7848, -5.1454, -6.2557, -5.5796, -4.4436, -4.0795, -5.4825, -4.969, -5.175, -5.2382, -5.3284, -4.6935, -5.1002, -4.5231, -4.7946, -5.1013, -4.9682, -5.0291, -4.9876, -5.1258, -5.2309, -5.2276, -4.7069, -6.0661, -6.2117, -6.2223, -6.5909, -6.7762, -6.9363, -6.9807, -7.0513, -4.8598, -6.8238, -7.2987, -7.2988, -7.397, -7.397, -7.5059, -7.6283, -7.719, -7.719, -7.719, -7.7677, -7.7677, -7.8727, -6.0922, -7.9297, -6.6634, -4.5975, -7.9321, -6.5202, -7.528, -4.8591, -6.2881, -6.2421, -6.9784, -4.0351, -6.1752, -6.7665, -4.8461, -6.3722, -6.165, -6.2411, -4.0647, -6.4604, -5.0989, -6.0389, -6.4382, -5.9755, -3.9983, -4.2889, -4.9855, -5.6145, -5.1997, -4.6795, -4.7475, -4.6617, -5.7379, -4.9269, -5.4002, -4.0233, -5.426, -4.3756, -4.8204, -4.2219, -4.7258, -5.2327, -4.4708, -4.2715, -4.4531, -5.1184, -4.7327, -4.7474, -4.7113, -4.7111, -4.9042, -5.0406, -4.9707, -4.4158, -5.5218, -5.7681, -6.4907, -5.3636, -6.6198, -6.6372, -6.5556, -6.7098, -6.2119, -6.8299, -6.8957, -5.9339, -7.0421, -7.0961, -7.1532, -7.183, -7.2137, -7.2454, -7.2454, -7.2454, -7.3121, -5.4597, -7.634, -7.591, -7.6827, -7.6827, -7.5918, -7.7338, -7.7877, -6.508, -7.0581, -5.1882, -6.6337, -4.692, -5.2936, -5.7388, -4.4868, -5.3076, -5.7548, -5.7674, -5.2931, -5.7546, -5.2433, -5.0169, -5.2019, -6.1103, -4.7311, -4.6886, -4.9058, -6.3569, -4.8411, -5.8793, -4.545, -5.5551, -4.7017, -5.7558, -4.7971, -5.2957, -5.0614, -5.2481, -4.8665, -4.6796, -5.0471, -5.1513, -5.215, -5.0879, -5.0799, -5.2309, -5.3248, -5.3636, -5.257, -6.0226, -6.1434, -6.2316, -6.3684, -6.4961, -6.6602, -6.8787, -6.9011, -6.9716, -6.8595, -7.0741, -5.8383, -7.1296, -6.8015, -7.1586, -7.1586, -7.1884, -7.1884, -7.2191, -7.1052, -5.7604, -7.2835, -7.3174, -5.4935, -7.3524, -6.5457, -7.3546, -7.4655, -7.4655, -6.0298, -6.6812, -6.6835, -6.4967, -5.5592, -5.1158, -5.9527, -4.5133, -5.3756, -6.6473, -5.5699, -4.5291, -6.375, -6.0031, -5.716, -5.4059, -5.6537, -5.7157, -5.3937, -4.9691, -5.2596, -4.6032, -5.6234, -6.0978, -5.2716, -5.0671, -5.7126, -5.6483, -4.9725, -4.5218, -4.6779, -5.0529, -5.476, -5.4598, -5.2967, -5.2787, -4.5794, -5.3247, -4.8552, -5.2206, -5.464, -5.3928, -5.326, -5.4018, -5.3939, -5.43, -5.4752, -4.1225, -5.3389, -5.802, -5.9982, -6.0465, -6.1077, -4.1346, -4.4003, -6.1178, -5.7279, -6.9473, -7.1053, -7.0, -7.2264, -6.4173, -6.9817, -7.328, -6.4063, -7.4818, -7.5243, -7.5686, -7.5686, -6.3879, -5.8537, -7.7148, -7.0489, -7.8257, -7.8861, -7.1132, -8.0192, -4.1635, -5.6712, -6.6213, -4.461, -5.6374, -4.5068, -3.4088, -4.0905, -5.5851, -4.4499, -3.7014, -5.958, -6.1148, -4.0877, -5.7769, -5.0769, -3.6254, -4.3137, -5.1732, -4.7727, -5.3443, -5.0612, -4.7916, -4.5453, -3.8286, -4.8914, -5.0182, -5.2485, -5.0897, -4.1933, -5.1388, -5.1587, -4.5721, -5.0856, -4.6593, -4.8996, -5.0246, -5.145, -5.0968, -6.3948, -6.5239, -6.9204, -6.2152, -7.0003, -7.1823, -7.2161, -7.2161, -7.2512, -7.3251, -7.2198, -7.367, -7.3292, -7.4918, -7.5382, -7.5382, -7.638, -7.7489, -7.8093, -7.8093, -7.8093, -7.8093, -5.3493, -7.8736, -7.8736, -8.0161, -8.0161, -7.9507, -6.6358, -8.0958, -4.8599, -5.2436, -7.0381, -6.0529, -4.8915, -5.4658, -6.3731, -7.0729, -3.7503, -6.6492, -4.4045, -4.2293, -3.3493, -4.5482, -5.1825, -4.2389, -6.1915, -5.7716, -4.3877, -5.9424, -4.7135, -5.2131, -6.3504, -5.7817, -4.7571, -5.3475, -5.1832, -5.1128, -4.9541, -3.6788, -5.4669, -5.4866, -5.8396, -4.985, -4.5972, -5.0441, -5.655, -4.776, -5.2566, -4.9791, -5.3131, -5.3248, -5.1992, -5.3337, -5.3235, -5.3217, -6.0173, -5.8418, -6.3094, -5.9989, -6.5659, -6.6417, -6.7239, -6.8133, -6.845, -4.7421, -7.0597, -7.1004, -7.026, -4.6687, -7.2823, -7.3346, -7.3873, -6.6684, -7.569, -7.6378, -7.6378, -7.7116, -7.7116, -7.7913, -7.7913, -7.7913, -6.603, -7.0302, -7.8779, -7.8779, -6.3737, -7.0343, -4.2635, -4.2501, -4.974, -5.7533, -6.3708, -5.1928, -6.8918, -4.3369, -5.3647, -5.2394, -5.3682, -6.5756, -4.7093, -5.3206, -4.2684, -5.4848, -5.5204, -3.2282, -5.7217, -4.2202, -5.6927, -5.1524, -5.2882, -4.2677, -4.9486, -4.5146, -5.3054, -5.03, -4.7483, -4.7934, -4.6154, -4.8099, -5.1321, -4.4337, -4.9223, -4.9767, -5.0703, -5.0557, -4.9838, -5.1457, -5.1105, -5.1753, -5.1886, -4.4047, -4.5861, -4.8835, -5.0012, -5.118, -5.2986, -5.6794, -5.694, -5.7545, -5.962, -6.063, -6.224, -6.2752, -5.3351, -6.4468, -6.5801, -6.6164, -6.5475, -6.6549, -6.6932, -6.6197, -6.3472, -5.5649, -6.9158, -6.9158, -6.9158, -6.0702, -6.9669, -6.9669, -7.0778, -4.8701, -4.8535, -5.0176, -6.265, -6.2896, -5.3311, -5.1254, -4.2392, -5.9528, -6.1556, -6.0698, -4.6822, -4.6004, -5.3673, -5.1965, -4.385, -3.6301, -4.1757, -5.2399, -4.9405, -4.3892, -4.7206, -4.8315, -5.4784, -5.393, -4.9711, -4.8971, -5.3462, -5.2536, -5.1023, -5.3136, -5.32, -2.5686, -2.9589, -3.1208, -3.4633, -3.5255, -3.6704, -3.7057, -4.1664, -4.2512, -4.339, -4.5183, -4.5657, -4.6477, -4.6676, -4.8512, -4.8512, -4.1387, -4.9801, -5.0175, -5.0662, -5.2287, -5.2768, -5.3405, -5.3807, -5.4227, -5.4815, -5.4967, -5.5935, -5.6106, -5.6279, -5.3983, -4.0979, -4.4241, -4.3167, -4.8585, -4.0838, -5.3092, -4.9591, -5.2652], \"loglift\": [30.0, 29.0, 28.0, 27.0, 26.0, 25.0, 24.0, 23.0, 22.0, 21.0, 20.0, 19.0, 18.0, 17.0, 16.0, 15.0, 14.0, 13.0, 12.0, 11.0, 10.0, 9.0, 8.0, 7.0, 6.0, 5.0, 4.0, 3.0, 2.0, 1.0, 2.455, 2.4546, 2.449, 2.4394, 2.433, 2.4316, 2.4295, 2.4287, 2.4262, 2.4197, 2.4146, 2.4127, 2.4118, 2.4105, 2.4081, 2.4024, 2.4009, 2.3991, 2.3954, 2.3911, 2.3862, 2.3862, 2.3822, 2.3805, 2.3805, 2.3791, 2.3738, 2.3738, 2.3738, 2.3738, 2.3733, 2.3534, 2.3491, 2.3047, 2.3517, 2.2968, 2.3371, 2.3341, 2.1605, 2.2743, 2.182, 2.1896, 1.9887, 2.0291, 2.0897, 2.1227, 2.1194, 2.079, 2.0904, 1.9795, 2.0991, 2.0433, 2.1455, 2.0442, 2.1909, 1.7667, 1.6034, 1.244, 1.4395, 1.1283, 1.8459, 1.2383, 1.4357, 0.7543, 1.5453, 1.0491, 1.0779, 1.4803, 1.0492, 1.1873, 0.7494, 1.5557, 0.9312, 0.2521, 0.1735, 0.1082, 0.8378, 0.4551, -0.0463, 0.4902, 0.533, 0.2714, 2.4697, 2.4666, 2.4659, 2.4656, 2.4629, 2.4626, 2.4566, 2.4547, 2.4482, 2.4472, 2.4434, 2.4398, 2.4381, 2.4371, 2.4364, 2.4303, 2.4303, 2.4281, 2.4268, 2.4256, 2.4249, 2.424, 2.4228, 2.4226, 2.4224, 2.4111, 2.4111, 2.4073, 2.4051, 2.3929, 2.3728, 2.3767, 2.3516, 2.3444, 2.2083, 2.2709, 2.2008, 2.3507, 2.142, 2.2007, 1.8482, 1.7425, 1.827, 1.574, 1.4875, 1.8782, 1.1387, 1.8807, 1.0426, 1.4965, 1.1456, 1.2552, 1.4547, 1.5258, 1.0622, 1.0236, 0.669, 0.5085, 0.6632, 1.1636, 0.9018, 0.5207, 0.5618, 0.6959, 0.197, 0.2735, 0.8043, 2.5353, 2.5352, 2.5349, 2.534, 2.532, 2.5302, 2.5285, 2.5272, 2.5271, 2.5257, 2.5238, 2.5228, 2.5212, 2.5198, 2.5191, 2.5126, 2.5123, 2.5114, 2.5107, 2.51, 2.5086, 2.5069, 2.5061, 2.5061, 2.5061, 2.5051, 2.5051, 2.5041, 2.5038, 2.5035, 2.5024, 2.4854, 2.4746, 2.431, 2.4381, 2.4788, 2.4667, 2.4423, 2.3398, 2.3269, 2.4709, 2.3251, 1.9818, 1.7955, 2.1021, 2.1221, 2.247, 1.8171, 1.6469, 2.1021, 2.0975, 1.8224, 1.7356, 2.1384, 1.8298, 1.3725, 1.7362, 1.6981, 1.446, 1.1002, 1.1755, 0.3923, 1.335, 0.2837, 0.9055, 0.6942, -0.449, -0.0678, 2.6777, 2.6756, 2.673, 2.6712, 2.6698, 2.6679, 2.6657, 2.6602, 2.6591, 2.6584, 2.6584, 2.6577, 2.6571, 2.6564, 2.6548, 2.6529, 2.6527, 2.6498, 2.6488, 2.6486, 2.6486, 2.6459, 2.6459, 2.6427, 2.6427, 2.6413, 2.6394, 2.6368, 2.6368, 2.6368, 2.6189, 2.6315, 2.6099, 2.5989, 2.5511, 2.601, 2.5583, 2.5954, 2.4052, 2.495, 2.5752, 2.4248, 2.3347, 2.4464, 2.4126, 2.2618, 2.3249, 2.2291, 2.4213, 2.2456, 2.1716, 2.529, 2.0368, 2.0677, 1.9372, 2.3787, 2.2207, 1.4926, 1.2818, 1.336, 1.8383, 1.7362, 1.4097, 1.4597, 1.6726, 0.9167, 1.3764, 1.1554, 0.79, 0.7825, 0.8787, 0.8454, 0.9064, 0.3294, 0.7623, -0.1084, 0.4477, 0.2643, 0.3707, 2.6739, 2.672, 2.6656, 2.6583, 2.6504, 2.6426, 2.6406, 2.6304, 2.629, 2.627, 2.6257, 2.6189, 2.6153, 2.614, 2.614, 2.614, 2.6083, 2.6083, 2.6083, 2.6016, 2.6016, 2.6016, 2.5951, 2.584, 2.583, 2.5624, 2.5569, 2.5474, 2.5447, 2.5355, 2.5352, 2.501, 2.4861, 2.3459, 2.2389, 2.1742, 2.3444, 2.388, 2.0951, 2.3327, 2.0567, 2.2291, 2.3516, 2.3924, 1.9538, 1.9663, 2.1582, 2.2492, 2.0405, 1.6596, 1.5069, 1.9171, 1.4802, 2.0435, 1.8441, 1.638, 1.7441, 1.7617, 1.1482, 1.615, 1.3551, 0.8869, 0.8468, 1.1829, 1.4238, 0.9754, 0.9466, 0.4297, 0.7723, 1.5279, 0.6855, 0.747, 0.1899, 0.6331, 0.2834, 0.7374, 0.2461, 0.1368, 2.6909, 2.6908, 2.6888, 2.6875, 2.687, 2.6846, 2.6844, 2.6843, 2.6825, 2.681, 2.6804, 2.6804, 2.6781, 2.6777, 2.6748, 2.6745, 2.6738, 2.6728, 2.672, 2.6715, 2.6706, 2.6702, 2.6696, 2.6674, 2.6674, 2.6667, 2.6665, 2.6661, 2.6661, 2.6653, 2.6607, 2.6649, 2.6464, 2.642, 2.563, 2.4828, 2.5479, 2.5401, 2.4861, 2.375, 2.5541, 2.4649, 2.4372, 2.2682, 2.4674, 2.0682, 2.3658, 2.2912, 1.6079, 2.0068, 1.7087, 1.9868, 1.1833, 1.3633, 1.7847, 1.2928, 1.3986, 0.9602, 1.4246, 2.1973, 1.5428, 1.0456, 1.871, 0.8057, 0.1331, 0.6151, 0.3928, 1.4508, -0.1108, 0.6465, 0.2066, 0.0796, 0.3649, 0.4279, 2.7247, 2.7144, 2.7095, 2.6925, 2.691, 2.6819, 2.681, 2.6796, 2.6796, 2.674, 2.674, 2.6713, 2.6707, 2.667, 2.6627, 2.6615, 2.6603, 2.6579, 2.6579, 2.6579, 2.6579, 2.6554, 2.6523, 2.6523, 2.652, 2.6468, 2.6457, 2.6457, 2.6457, 2.6404, 2.5814, 2.6198, 2.5494, 2.6237, 2.5044, 2.5197, 2.46, 2.3852, 2.5386, 2.4466, 2.2754, 2.0302, 2.1217, 2.027, 1.9963, 2.0606, 1.8228, 1.9549, 2.1268, 1.6207, 2.1453, 2.1968, 2.1931, 1.7865, 2.04, 2.2407, 1.9936, 1.4605, 1.903, 1.4803, 1.5896, 1.3136, 1.6902, 1.1955, 1.5146, 1.5123, 1.1458, 1.4562, 1.4086, 0.7753, 0.95, 1.2644, 1.009, 1.0687, 0.5794, 1.6572, 0.7854, 0.5362, 0.5736, -0.2304, 2.7394, 2.7383, 2.7377, 2.7359, 2.7312, 2.7285, 2.7265, 2.7251, 2.7246, 2.7222, 2.7208, 2.7208, 2.7208, 2.7207, 2.7201, 2.7185, 2.7176, 2.7147, 2.7146, 2.7135, 2.7109, 2.7109, 2.7095, 2.7084, 2.708, 2.7045, 2.7045, 2.7039, 2.7035, 2.7026, 2.6997, 2.6992, 2.701, 2.6305, 2.5771, 2.5947, 2.5761, 2.5885, 2.5169, 2.5406, 2.6479, 2.6314, 2.4591, 2.3708, 2.5287, 2.0919, 2.3088, 2.4476, 2.2214, 2.3294, 2.2593, 2.1941, 2.1136, 2.4415, 1.8436, 2.2474, 2.0904, 1.0774, 2.0398, 1.3802, 1.9432, 1.4548, 1.7365, 1.1987, 1.6621, 1.0944, 0.9199, 0.8045, 0.2538, 1.2403, 0.5114, 0.5069, 1.4536, 1.1331, 0.2629, -0.1013, 0.1105, 0.487, 0.7895, 2.7507, 2.7502, 2.7473, 2.7432, 2.7391, 2.7339, 2.7339, 2.7329, 2.73, 2.7259, 2.7234, 2.7205, 2.7193, 2.7189, 2.7171, 2.7151, 2.7106, 2.708, 2.708, 2.7051, 2.7051, 2.7018, 2.7018, 2.6981, 2.6981, 2.6978, 2.6971, 2.6939, 2.6891, 2.6891, 2.6641, 2.6806, 2.6289, 2.6324, 2.6399, 2.6731, 2.637, 2.5694, 2.5046, 2.4371, 2.5778, 2.4234, 2.4626, 2.3596, 2.5456, 2.4658, 2.1329, 2.0793, 2.1282, 2.3631, 2.1254, 1.9207, 2.3489, 1.7715, 1.593, 1.7328, 1.9374, 2.2904, 1.6401, 1.5313, 2.009, 1.4374, 1.1844, 0.979, 1.4938, 1.1313, 1.793, 1.3819, 1.3937, 0.8768, 1.356, 0.3172, 0.9295, 0.8672, 0.3023, 1.0835, 0.8683, 0.4494, 0.5334, 1.2455, 0.3633, 0.614, 1.1241, 0.6795, 2.9132, 2.9114, 2.9109, 2.9085, 2.9067, 2.9028, 2.9024, 2.9016, 2.8996, 2.8988, 2.8983, 2.8962, 2.8951, 2.8943, 2.8938, 2.8867, 2.8859, 2.885, 2.8841, 2.8796, 2.8769, 2.8701, 2.87, 2.8682, 2.8678, 2.8678, 2.8654, 2.8598, 2.8598, 2.8565, 2.8475, 2.8378, 2.8396, 2.748, 2.795, 2.7963, 2.7266, 2.7876, 2.7527, 2.6412, 2.7179, 2.4908, 2.7624, 2.3713, 2.424, 2.5981, 2.4064, 2.3296, 2.6039, 1.968, 1.6829, 1.9403, 2.142, 2.3898, 0.9666, 1.7701, 2.5416, 2.0327, 1.139, 0.8238, 1.9495, 1.4667, 1.5978, 1.6297, 1.6495, 0.8387, 1.3534, 0.4722, 0.7467, 1.1526, 0.7365, 0.8878, 0.2457, 0.7385, 0.7264, 0.5488, 3.0029, 2.9956, 2.9952, 2.9951, 2.9907, 2.9878, 2.9848, 2.9839, 2.9823, 2.9774, 2.9771, 2.976, 2.976, 2.9731, 2.9731, 2.9694, 2.9649, 2.9611, 2.9611, 2.9611, 2.959, 2.959, 2.954, 2.9521, 2.9511, 2.9502, 2.949, 2.9487, 2.9484, 2.948, 2.9467, 2.9098, 2.8783, 2.9027, 2.6711, 2.8297, 2.8783, 2.6865, 2.8151, 2.7859, 2.7862, 2.4038, 2.8145, 2.563, 2.7291, 2.8021, 2.7042, 2.2023, 2.2358, 2.4221, 2.563, 2.3908, 2.0878, 2.1022, 2.0178, 2.5176, 2.1345, 2.328, 1.518, 2.3069, 1.4886, 1.7967, 1.2864, 1.674, 2.0594, 1.3321, 0.9684, 0.9246, 1.6544, 1.078, 0.9629, 0.5065, 0.2452, 0.6052, 1.0686, 0.4614, 3.0738, 3.0702, 3.0688, 3.0616, 3.0607, 3.0596, 3.0594, 3.0583, 3.0582, 3.0567, 3.056, 3.0546, 3.0527, 3.0514, 3.05, 3.0486, 3.0477, 3.0469, 3.046, 3.046, 3.046, 3.0439, 3.0398, 3.0322, 3.0308, 3.0301, 3.0301, 3.03, 3.0278, 3.0252, 3.0152, 3.0106, 2.9118, 2.9813, 2.8431, 2.8304, 2.8638, 2.6678, 2.7789, 2.836, 2.8292, 2.7202, 2.7964, 2.6859, 2.5986, 2.6165, 2.8112, 2.427, 2.3647, 2.0013, 2.8206, 1.6296, 2.3601, 1.0376, 2.0422, 1.141, 2.2375, 1.2255, 1.7258, 1.3384, 1.4987, 0.8555, 0.2767, 1.0469, 1.2088, 1.2207, 0.7228, 0.4523, 0.8139, 0.5825, 0.0218, 3.0784, 3.0737, 3.0718, 3.0716, 3.07, 3.0683, 3.0658, 3.0618, 3.0613, 3.0598, 3.0595, 3.0574, 3.0562, 3.0559, 3.0557, 3.0552, 3.0552, 3.0544, 3.0544, 3.0535, 3.0531, 3.0526, 3.0516, 3.0505, 3.0505, 3.0494, 3.0479, 3.0472, 3.0455, 3.0455, 3.0392, 3.0447, 3.0422, 3.0392, 3.0166, 2.9879, 2.9894, 2.8767, 2.9386, 3.0125, 2.9179, 2.7838, 2.9762, 2.9282, 2.8917, 2.8394, 2.8514, 2.8501, 2.7599, 2.5425, 2.6032, 2.3897, 2.6987, 2.855, 2.4634, 2.3533, 2.6642, 2.5278, 1.8821, 1.2872, 1.2794, 1.7148, 2.2232, 2.1561, 1.8779, 1.844, 0.3239, 1.7453, 0.5122, 1.3889, 1.8747, 1.4101, 0.053, 0.5056, -0.1541, 0.1023, 1.1708, 3.1218, 3.1185, 3.1158, 3.1142, 3.1137, 3.1131, 3.1106, 3.1097, 3.1028, 3.1018, 3.1001, 3.0961, 3.096, 3.0927, 3.0907, 3.0897, 3.0895, 3.0881, 3.084, 3.0823, 3.0805, 3.0805, 3.08, 3.0786, 3.074, 3.0723, 3.0683, 3.065, 3.0599, 3.057, 3.0521, 3.0564, 3.0494, 2.9998, 3.0291, 2.9941, 2.9559, 2.9489, 2.9726, 2.8733, 2.8143, 2.9819, 2.9958, 2.7167, 2.9165, 2.7408, 2.2311, 2.3966, 2.6476, 2.4761, 2.6847, 2.4746, 2.1954, 1.997, 1.3448, 2.2054, 2.2944, 2.3548, 2.1284, 0.802, 2.1827, 2.1942, 1.1325, 2.0371, 0.5585, 1.3134, 1.5171, 2.0555, 0.8605, 3.1605, 3.1586, 3.1509, 3.1507, 3.1489, 3.1439, 3.1429, 3.1429, 3.1417, 3.1393, 3.1392, 3.1352, 3.1352, 3.133, 3.1311, 3.1311, 3.1266, 3.1211, 3.1179, 3.1179, 3.1179, 3.1179, 3.1172, 3.1142, 3.1142, 3.1053, 3.1053, 3.1019, 3.1013, 3.0998, 3.0801, 3.0778, 3.0864, 3.0234, 2.9588, 2.9551, 3.0047, 3.0524, 2.6623, 2.986, 2.639, 2.533, 2.3716, 2.5137, 2.6184, 2.3783, 2.8429, 2.7301, 2.3089, 2.7016, 2.2413, 2.4033, 2.8097, 2.5756, 2.0828, 2.3293, 2.194, 2.1318, 2.0217, 1.2604, 2.3172, 2.1729, 2.4371, 1.2879, 0.7222, 1.3189, 2.1597, 0.1272, 0.9325, 0.0162, 0.9117, 0.9022, -0.4479, 0.793, 0.0941, -0.1039, 3.465, 3.4626, 3.4606, 3.4562, 3.4555, 3.4538, 3.4517, 3.4493, 3.4484, 3.4458, 3.4414, 3.4399, 3.4375, 3.4357, 3.4325, 3.429, 3.4276, 3.4247, 3.4178, 3.4136, 3.4136, 3.4089, 3.4089, 3.4034, 3.4034, 3.4034, 3.3972, 3.3972, 3.3969, 3.3969, 3.3926, 3.3897, 3.3607, 3.3461, 3.3243, 3.3434, 3.3644, 3.2607, 3.3678, 3.1895, 3.2595, 3.1998, 3.1514, 3.3155, 2.9691, 3.071, 2.8289, 3.058, 3.0001, 2.1496, 3.0184, 2.4016, 2.98, 2.693, 2.7361, 2.1562, 2.5073, 2.2477, 2.6765, 2.4485, 2.1084, 1.926, 1.6494, 1.7857, 2.163, 0.7841, 1.6261, 1.7199, 1.9355, 1.8627, 1.4287, 2.1073, 1.8444, 1.8866, 1.2124, 3.7829, 3.7822, 3.7807, 3.78, 3.7792, 3.7778, 3.7738, 3.7736, 3.7728, 3.7697, 3.7679, 3.7647, 3.7636, 3.7627, 3.7594, 3.7556, 3.7545, 3.7544, 3.7525, 3.7519, 3.7514, 3.7458, 3.7443, 3.7435, 3.7435, 3.7435, 3.742, 3.7413, 3.7413, 3.7362, 3.7245, 3.7045, 3.6886, 3.7264, 3.7227, 3.6603, 3.6037, 3.4496, 3.6627, 3.6624, 3.6344, 3.2846, 3.2469, 3.3889, 3.311, 2.8855, 2.409, 2.6272, 3.1256, 2.7667, 2.0233, 2.359, 2.4478, 3.1142, 2.8892, 1.8077, 0.8238, 2.5113, 2.0591, 0.3343, 1.1624, 0.1121, 3.9953, 3.9949, 3.9948, 3.9943, 3.9942, 3.9939, 3.9938, 3.9925, 3.9922, 3.9919, 3.9911, 3.9908, 3.9904, 3.9903, 3.9892, 3.9892, 3.9888, 3.9882, 3.9879, 3.9875, 3.986, 3.9856, 3.9849, 3.9844, 3.9839, 3.9832, 3.983, 3.9817, 3.9815, 3.9812, 3.981, 3.9413, 3.8146, 3.7696, 3.8331, 3.3072, 3.8222, 0.2143, 1.9095]}, \"token.table\": {\"Topic\": [1, 9, 10, 12, 9, 1, 3, 10, 11, 13, 14, 17, 1, 4, 12, 6, 15, 16, 3, 14, 16, 17, 1, 2, 3, 4, 5, 7, 8, 10, 12, 14, 15, 16, 1, 2, 3, 4, 5, 10, 12, 13, 14, 16, 17, 3, 3, 1, 2, 4, 5, 6, 7, 8, 9, 10, 11, 12, 14, 15, 16, 1, 2, 3, 4, 5, 6, 7, 8, 9, 10, 11, 12, 13, 14, 16, 18, 1, 2, 3, 4, 5, 7, 8, 10, 12, 13, 14, 15, 7, 1, 3, 13, 1, 2, 4, 7, 10, 12, 15, 2, 2, 4, 8, 11, 16, 1, 3, 5, 8, 10, 11, 12, 14, 15, 2, 4, 8, 9, 13, 17, 2, 8, 10, 16, 16, 6, 8, 9, 10, 11, 12, 14, 17, 6, 15, 18, 15, 14, 16, 13, 16, 15, 7, 11, 1, 3, 4, 6, 7, 9, 11, 13, 15, 17, 3, 6, 7, 9, 15, 16, 10, 13, 3, 4, 6, 8, 13, 1, 2, 3, 4, 6, 7, 8, 9, 10, 11, 12, 13, 14, 15, 17, 18, 1, 2, 3, 4, 5, 6, 7, 8, 9, 10, 11, 12, 13, 14, 15, 7, 17, 4, 1, 2, 3, 4, 5, 6, 7, 8, 9, 10, 11, 12, 13, 14, 15, 16, 17, 8, 6, 1, 2, 3, 4, 5, 7, 10, 11, 13, 14, 15, 2, 16, 2, 16, 1, 5, 6, 7, 8, 10, 11, 13, 15, 16, 8, 2, 3, 5, 8, 9, 12, 13, 16, 6, 7, 10, 11, 14, 16, 18, 16, 5, 8, 9, 3, 1, 5, 6, 7, 11, 3, 16, 6, 12, 14, 3, 1, 2, 4, 5, 7, 8, 10, 12, 15, 16, 6, 4, 3, 4, 11, 13, 1, 6, 5, 16, 17, 8, 1, 3, 4, 7, 9, 10, 11, 12, 16, 17, 1, 2, 3, 4, 5, 6, 7, 8, 9, 10, 11, 12, 13, 14, 15, 16, 17, 4, 11, 15, 2, 12, 16, 2, 4, 5, 12, 14, 4, 9, 17, 4, 12, 13, 14, 2, 10, 3, 4, 13, 15, 1, 3, 7, 8, 9, 17, 1, 10, 16, 18, 8, 1, 2, 3, 4, 5, 8, 9, 10, 12, 13, 16, 17, 17, 17, 5, 3, 13, 17, 2, 9, 12, 1, 2, 4, 5, 8, 9, 10, 11, 12, 13, 14, 4, 8, 1, 2, 3, 4, 5, 6, 8, 9, 10, 11, 12, 13, 14, 15, 6, 2, 8, 1, 4, 6, 11, 12, 17, 6, 11, 17, 4, 6, 11, 12, 15, 5, 2, 6, 8, 9, 10, 3, 13, 10, 11, 9, 8, 2, 17, 7, 4, 6, 10, 11, 14, 10, 7, 15, 14, 1, 2, 5, 15, 3, 4, 6, 9, 10, 7, 12, 3, 4, 5, 8, 12, 13, 2, 7, 8, 15, 16, 1, 2, 3, 4, 5, 6, 7, 8, 9, 10, 11, 12, 13, 14, 15, 16, 17, 18, 3, 4, 6, 7, 9, 13, 14, 15, 17, 8, 4, 9, 13, 17, 5, 9, 11, 1, 2, 4, 5, 7, 10, 11, 12, 18, 17, 2, 1, 3, 4, 5, 7, 8, 9, 12, 13, 14, 15, 15, 5, 8, 10, 7, 9, 11, 14, 15, 18, 9, 3, 13, 14, 17, 1, 5, 8, 12, 15, 18, 6, 11, 5, 9, 5, 9, 18, 6, 10, 1, 2, 5, 6, 7, 8, 9, 10, 11, 14, 15, 1, 2, 3, 4, 5, 6, 7, 8, 9, 10, 11, 12, 14, 15, 16, 17, 17, 16, 16, 2, 2, 3, 4, 5, 7, 11, 13, 14, 15, 16, 17, 12, 1, 2, 4, 5, 6, 10, 11, 12, 14, 15, 16, 16, 8, 10, 12, 13, 14, 17, 12, 14, 17, 9, 17, 1, 12, 12, 7, 2, 5, 6, 7, 8, 9, 10, 11, 12, 15, 16, 17, 1, 7, 8, 10, 12, 15, 10, 1, 2, 3, 4, 5, 9, 10, 11, 12, 13, 14, 17, 4, 6, 8, 9, 10, 12, 15, 17, 1, 11, 17, 11, 8, 9, 5, 6, 15, 16, 17, 7, 7, 1, 2, 3, 4, 5, 6, 7, 8, 9, 10, 11, 12, 13, 14, 15, 16, 17, 4, 5, 8, 11, 13, 14, 1, 2, 3, 4, 5, 6, 7, 8, 9, 10, 11, 12, 13, 14, 15, 16, 17, 13, 14, 17, 18, 2, 4, 7, 8, 10, 12, 13, 14, 15, 3, 10, 14, 5, 9, 16, 17, 18, 14, 1, 4, 12, 7, 11, 14, 6, 16, 6, 7, 8, 9, 11, 15, 16, 1, 2, 3, 4, 5, 6, 7, 8, 9, 10, 11, 12, 13, 14, 15, 7, 1, 2, 5, 6, 7, 8, 14, 15, 7, 3, 1, 3, 4, 9, 1, 5, 8, 13, 15, 16, 1, 2, 3, 4, 5, 6, 7, 8, 9, 10, 11, 12, 13, 14, 15, 16, 17, 11, 1, 2, 4, 5, 7, 8, 9, 10, 12, 13, 14, 15, 16, 18, 2, 4, 12, 3, 4, 12, 13, 1, 2, 4, 5, 8, 10, 11, 12, 1, 15, 5, 9, 1, 2, 5, 6, 7, 8, 15, 16, 1, 2, 3, 4, 5, 6, 7, 8, 9, 10, 11, 12, 13, 14, 15, 17, 3, 4, 11, 12, 13, 17, 1, 2, 4, 5, 7, 8, 10, 11, 12, 13, 14, 15, 16, 18, 7, 1, 2, 3, 4, 5, 6, 7, 8, 9, 10, 12, 13, 14, 15, 17, 7, 15, 3, 8, 9, 12, 13, 1, 2, 3, 4, 5, 6, 7, 8, 9, 10, 11, 12, 13, 14, 15, 17, 18, 1, 2, 3, 4, 5, 6, 7, 8, 9, 10, 11, 12, 13, 14, 15, 17, 9, 3, 12, 13, 18, 6, 14, 15, 16, 16, 13, 1, 15, 4, 5, 9, 10, 12, 14, 15, 18, 6, 7, 8, 17, 1, 2, 8, 12, 14, 2, 5, 6, 15, 16, 17, 15, 8, 13, 16, 1, 2, 3, 4, 5, 6, 7, 8, 9, 10, 11, 13, 14, 15, 16, 17, 18, 4, 9, 16, 1, 2, 3, 4, 5, 7, 8, 9, 11, 12, 13, 14, 15, 17, 5, 1, 3, 4, 5, 6, 7, 8, 9, 10, 11, 12, 13, 14, 15, 17, 18, 1, 3, 5, 6, 9, 16, 1, 2, 5, 6, 7, 11, 15, 7, 11, 1, 6, 7, 9, 17, 3, 8, 10, 11, 17, 4, 3, 11, 13, 15, 17, 18, 1, 2, 5, 7, 10, 1, 2, 3, 4, 8, 10, 11, 12, 13, 14, 9, 17, 18, 2, 3, 4, 8, 9, 10, 13, 17, 16, 13, 1, 2, 5, 7, 8, 10, 12, 14, 15, 17, 1, 2, 5, 6, 7, 11, 15, 16, 17, 1, 2, 3, 4, 5, 7, 8, 10, 12, 13, 14, 16, 1, 4, 5, 7, 2, 16, 2, 5, 7, 8, 14, 15, 16, 2, 3, 5, 7, 8, 10, 14, 15, 16, 1, 5, 8, 9, 11, 12, 14, 4, 12, 3, 1, 12, 14, 1, 6, 7, 15, 15, 15, 1, 7, 10, 11, 14, 3, 3, 8, 12, 13, 10, 11, 3, 4, 9, 10, 15, 1, 2, 3, 4, 5, 6, 7, 8, 9, 10, 11, 12, 13, 15, 10, 6, 13, 14, 18, 18, 16, 4, 6, 7, 8, 9, 10, 12, 15, 16, 5, 8, 10, 11, 12, 14, 4, 12, 9, 6, 14, 18, 6, 1, 2, 4, 5, 8, 9, 10, 12, 14, 16, 1, 2, 4, 5, 7, 8, 9, 10, 12, 14, 15, 14, 18, 17, 18, 14, 1, 2, 4, 5, 6, 11, 14, 15, 16, 17, 7, 2, 16, 18, 1, 3, 4, 9, 11, 13, 17, 2, 5, 9, 16, 7, 17, 1, 2, 5, 7, 9, 10, 11, 12, 14, 15, 1, 2, 5, 7, 8, 10, 15, 16, 1, 2, 5, 7, 10, 12, 15, 18, 1, 2, 3, 4, 5, 6, 7, 8, 9, 10, 11, 12, 13, 14, 15, 17, 11, 6, 8, 9, 11, 17, 5, 7, 8, 9, 10, 12, 17, 10, 8, 10, 11, 12, 14, 15, 1, 2, 3, 4, 5, 6, 7, 8, 9, 10, 11, 12, 13, 14, 15, 16, 5, 15, 17, 4, 6, 8, 10, 12, 10, 12, 17, 1, 1, 10, 4, 15, 3, 14, 1, 2, 5, 7, 10, 11, 18, 14, 16, 8, 1, 2, 3, 4, 5, 6, 7, 8, 9, 10, 11, 12, 13, 14, 15, 16, 17, 4, 3, 12, 13, 2, 4, 12, 1, 2, 4, 5, 8, 9, 15, 18, 1, 3, 8, 12, 13, 14, 8, 14, 14, 1, 3, 4, 9, 12, 13, 14, 15, 17, 1, 2, 3, 4, 5, 6, 7, 8, 9, 10, 15, 1, 3, 4, 6, 7, 13, 15, 13, 6, 11, 1, 2, 4, 5, 6, 7, 9, 11, 12, 15, 16, 1, 2, 8, 16, 13, 13, 8, 12, 1, 2, 3, 4, 5, 8, 10, 11, 12, 13, 14, 15, 16, 17, 18, 1, 2, 3, 4, 6, 7, 8, 10, 13, 15, 17, 11, 12, 1, 2, 3, 4, 5, 6, 7, 8, 9, 10, 11, 12, 13, 14, 15, 17, 4, 5, 9, 16, 16, 1, 2, 4, 5, 12, 14, 16, 1, 2, 3, 4, 5, 6, 7, 8, 9, 10, 11, 13, 14, 15, 16, 17, 4, 11, 7, 8, 8, 8, 15, 1, 7, 15, 12, 8, 5, 7, 8, 12, 16, 2, 3, 4, 11, 14, 5, 13, 1, 2, 5, 6, 7, 8, 9, 14, 15, 16, 17, 2, 4, 5, 7, 8, 10, 15, 16, 4, 3, 10, 11, 12, 13, 14, 2, 2, 4, 1, 2, 3, 5, 6, 7, 8, 9, 10, 11, 14, 15, 12, 7, 11, 3, 4, 6, 7, 11, 14, 16, 17, 1, 2, 7, 10, 11, 8, 9, 12, 1, 2, 4, 5, 8, 10, 12, 14, 12, 1, 9, 7, 17, 3, 5, 4, 5, 10, 1, 2, 3, 4, 6, 7, 8, 9, 10, 11, 12, 13, 14, 15, 16, 17, 1, 2, 3, 4, 5, 7, 8, 9, 10, 11, 12, 13, 14, 15, 16, 17, 9, 5, 2, 8, 4, 17, 1, 4, 8, 10, 12, 14, 10, 1, 2, 3, 4, 5, 6, 7, 8, 9, 10, 11, 12, 13, 14, 15, 16, 17, 1, 2, 3, 4, 5, 6, 7, 8, 9, 10, 12, 13, 14, 15, 16, 1, 2, 3, 4, 5, 6, 7, 8, 9, 10, 11, 12, 13, 14, 15, 10, 6, 15, 16, 15, 16, 17, 15, 5, 9, 1, 2, 6, 7, 8, 10, 11, 15, 10, 11, 2, 5, 6, 7, 8, 9, 11, 12, 13, 14, 15, 16, 17, 4, 10, 9, 10, 2, 4, 5, 7, 10, 10, 8, 11, 18, 14, 17, 15, 17, 4, 1, 6, 1, 2, 3, 4, 5, 6, 7, 8, 9, 11, 15, 2, 3, 5, 12, 13, 14, 10, 6, 8, 1, 2, 4, 5, 7, 10, 12, 14, 1, 2, 3, 4, 5, 6, 7, 8, 9, 10, 11, 13, 14, 15, 16, 6, 7, 7, 1, 2, 3, 4, 5, 6, 7, 8, 9, 10, 11, 12, 13, 14, 15, 16, 17, 1, 2, 6, 7, 10, 11, 6, 11, 14, 1, 2, 3, 4, 6, 7, 8, 9, 11, 12, 13, 15, 16, 3, 4, 6, 9, 11, 13, 14, 17, 17, 1, 2, 3, 4, 5, 6, 7, 9, 11, 12, 13, 14, 17, 6, 6, 6, 1, 2, 4, 5, 6, 7, 8, 9, 10, 11, 14, 15, 16, 2, 17, 17, 6, 11, 5, 1, 2, 3, 4, 6, 7, 8, 9, 10, 11, 13, 14, 15, 17, 13, 1, 2, 5, 7, 10, 15, 5, 6, 14, 15, 16, 3, 2, 6, 16, 9, 2, 3, 4, 5, 9, 10, 11, 12, 13, 15, 16, 17, 14, 4, 6, 10, 12, 13, 14, 4, 17, 7, 11, 17, 13, 12, 1, 8, 1, 11, 12, 1, 3, 4, 5, 10, 12, 1, 2, 4, 5, 6, 7, 8, 10, 11, 12, 14, 15, 16, 17, 3, 3, 1, 2, 3, 4, 5, 6, 7, 8, 9, 10, 11, 12, 13, 14, 15, 16, 17, 13, 1, 2, 4, 5, 6, 7, 8, 10, 11, 12, 15, 16, 5, 6, 10, 11, 2, 8, 10, 12, 17, 1, 8, 12, 13, 1, 3, 5, 13, 14, 15, 16, 18, 18, 1, 2, 5, 8, 9, 10, 12, 14, 11, 16, 8, 6, 8, 10, 12, 15, 16, 3, 10, 11, 13, 6, 7, 15, 7, 14, 12, 11, 14, 3, 13, 6, 1, 2, 4, 5, 13, 14, 15, 18, 16, 1, 5, 3, 7, 14, 1, 2, 3, 4, 5, 8, 10, 11, 12, 13, 14, 1, 2, 4, 5, 8, 9, 10, 12, 14, 15, 16, 3, 8, 10, 13, 14, 16, 2, 5, 6, 7, 8, 9, 15, 17, 14, 5, 16, 18, 3, 13, 14, 6, 8, 18, 11, 5, 6, 6, 11, 1, 2, 3, 4, 5, 7, 8, 9, 10, 11, 12, 13, 15, 9, 1, 2, 3, 4, 5, 6, 7, 8, 9, 10, 11, 12, 13, 14, 15, 16, 17, 13, 14, 17, 6, 6, 18, 3, 13, 16, 3, 3, 11, 6, 1, 2, 3, 4, 5, 6, 7, 8, 9, 10, 11, 12, 13, 14, 15, 16, 17, 1, 4, 5, 6, 7, 12, 15, 16, 1, 3, 4, 6, 7, 9, 11, 13, 15, 3, 6, 9, 1, 2, 3, 4, 5, 6, 7, 8, 9, 10, 11, 12, 13, 14, 15, 16, 17, 7, 17, 8, 11, 16, 18, 13, 6, 7, 8, 11, 12, 15, 1, 2, 3, 4, 5, 6, 7, 8, 9, 10, 11, 12, 13, 14, 15, 16, 17, 1, 2, 3, 5, 14, 15, 16, 18, 1, 2, 3, 4, 5, 6, 8, 9, 10, 11, 12, 13, 14, 16, 17, 11, 4, 3, 13, 17, 1, 2, 3, 5, 6, 7, 8, 9, 11, 13, 14, 15, 16, 17, 1, 2, 3, 4, 5, 6, 9, 10, 11, 13, 14, 17, 6, 11, 15, 1, 2, 4, 5, 7, 8, 9, 10, 11, 12, 13, 14, 16, 1, 2, 3, 4, 6, 7, 9, 11, 12, 13, 14, 15, 17, 2, 5, 8, 10, 12, 13, 16, 1, 13, 1, 3, 4, 6, 7, 8, 9, 10, 11, 12, 13, 14, 15, 2, 4, 12, 1, 2, 3, 4, 5, 6, 7, 8, 9, 10, 11, 12, 13, 14, 15, 16, 17, 6, 1, 2, 3, 4, 5, 7, 8, 9, 10, 11, 12, 13, 14, 15, 17, 2, 1, 3, 13, 14, 3, 4, 5, 6, 7, 9, 11, 14, 16, 17, 14, 18, 2, 16, 4, 17, 2, 5, 7, 8, 10, 15, 18, 5, 8, 9, 14, 15, 17, 1, 2, 3, 4, 5, 6, 7, 8, 9, 11, 12, 13, 14, 15, 16, 17, 1, 4, 6, 7, 9, 11, 15, 16, 17, 1, 4, 9, 12, 9, 10, 6, 12, 18, 5, 9, 10, 16, 17, 1, 2, 3, 4, 5, 6, 7, 8, 9, 10, 11, 12, 13, 14, 15, 16, 17, 1, 3, 5, 7, 8, 9, 10, 12, 13, 14, 15, 1, 2, 3, 4, 5, 6, 7, 8, 9, 10, 11, 12, 13, 14, 15, 16, 17, 8, 10, 12, 6, 13, 14, 18, 8, 11, 15, 4, 6, 9, 11, 12, 14, 17, 4, 8, 10, 12, 14, 6, 17, 1, 10, 1, 1, 2, 3, 4, 5, 6, 7, 8, 9, 10, 11, 12, 13, 14, 15, 16, 17, 7, 9, 17, 18, 2, 3, 4, 5, 9, 11, 1, 2, 5, 16, 10, 10, 1, 2, 10, 12, 13, 14, 1, 2, 4, 12, 2, 5, 7, 13, 14, 1, 2, 3, 4, 5, 6, 7, 8, 9, 10, 11, 12, 13, 14, 15, 16, 11, 6, 11, 1, 10, 13, 7, 9, 13, 16, 3, 6, 8, 9, 10, 11, 12, 13, 14, 15, 11, 16, 1, 2, 4, 5, 6, 8, 9, 10, 11, 12, 13, 14, 15, 16, 17, 6, 8, 10, 9, 2, 4, 6, 7, 14, 5, 6, 7, 11, 13, 14, 16, 17, 3, 4, 9, 11, 6, 2, 4, 6, 9, 17, 2, 4, 5, 9, 12, 16, 1, 5, 11, 12, 14, 18, 16, 17, 2, 3, 5, 6, 7, 8, 9, 11, 13, 14, 16, 12, 1, 6, 11, 6, 14, 17, 13, 13, 1, 2, 3, 4, 5, 6, 8, 9, 10, 11, 12, 13, 14, 16, 17, 9, 13, 17, 7, 1, 2, 3, 4, 5, 6, 7, 8, 9, 10, 11, 12, 13, 14, 15, 16, 17, 4, 11, 8, 15, 1, 2, 3, 4, 5, 6, 7, 8, 9, 10, 11, 12, 13, 14, 15, 16, 17, 7, 12, 2, 5, 6, 7, 11, 15, 16, 17, 18, 6, 1, 2, 3, 4, 5, 6, 7, 8, 9, 10, 11, 12, 13, 14, 15, 16, 17, 1, 2, 4, 5, 7, 8, 9, 10, 12, 13, 14, 15, 16, 17, 18, 5, 7, 9, 12, 13, 16, 4, 2, 16, 16, 5, 7, 8, 14, 17, 8, 9, 17, 3, 18, 1, 7, 10, 11, 3, 11, 3, 4, 9, 13, 15, 3, 3, 4, 5, 6, 9, 10, 11, 13, 15, 16, 1, 2, 3, 5, 6, 7, 8, 9, 10, 11, 12, 13, 14, 15, 16, 17, 8, 10, 12, 1, 4, 5, 1, 2, 3, 4, 5, 6, 7, 8, 9, 10, 11, 12, 13, 14, 15, 16, 17, 18, 15, 13, 15, 2, 5, 6, 7, 9, 10, 15, 1, 7, 7, 15, 10, 1, 2, 5, 7, 8, 10, 14, 15, 3, 5, 4, 5, 10, 11, 12, 2, 14, 2, 15, 16, 2, 5, 1, 2, 4, 5, 11, 1, 2, 3, 4, 5, 7, 8, 9, 10, 11, 12, 13, 14, 15, 16, 4, 18, 1, 2, 4, 5, 6, 7, 11, 15, 16, 3, 4, 9, 12, 13, 14, 17, 1, 2, 3, 4, 5, 6, 7, 8, 9, 11, 12, 13, 14, 8, 10, 13, 6, 9, 1, 2, 4, 10, 12, 1, 2, 4, 5, 7, 8, 9, 10, 11, 12, 14, 15, 16, 1, 2, 2, 16, 1, 2, 5, 16, 2, 3, 4, 5, 6, 11, 12, 13, 17, 3, 9, 13, 1, 2, 3, 4, 5, 6, 7, 8, 9, 10, 11, 12, 13, 14, 15, 16, 17, 5, 8, 16, 5, 8, 12, 13, 15, 13, 9, 12, 12, 1, 11, 9, 15, 5, 8, 9, 10, 12, 17, 10, 8, 14, 16, 1, 2, 5, 6, 7, 8, 9, 11, 13, 14, 15, 16, 17, 14, 15, 16, 5, 10, 11, 13, 15, 17, 1, 2, 3, 4, 6, 9, 11, 12, 13, 14, 17, 9, 17, 10, 12, 18, 8, 16, 18, 1, 3, 4, 6, 7, 8, 9, 10, 11, 12, 13, 14, 17, 10, 2, 18, 2, 6, 7, 11, 16, 3, 4, 8, 13, 18, 1, 3, 4, 12, 3, 6, 10, 11, 13, 15, 16, 18, 1, 2, 3, 4, 5, 6, 8, 9, 10, 11, 12, 13, 16, 17, 1, 3, 1, 2, 3, 5, 8, 10, 11, 12, 13, 14, 15, 17, 8, 10, 11, 12, 1, 9, 17, 10, 8, 13, 4, 14, 3, 4, 2, 8, 10, 7, 8, 10, 12, 14, 15, 1, 2, 6, 7, 10, 11, 13, 1, 2, 4, 5, 8, 10, 12, 15, 16, 16, 8, 10, 15, 1, 3, 4, 5, 6, 7, 9, 10, 11, 12, 15, 17, 13, 14, 1, 2, 3, 4, 5, 6, 7, 8, 10, 11, 12, 13, 14, 15, 17, 4, 1, 2, 4, 5, 6, 7, 8, 9, 10, 11, 12, 15, 16, 17, 1, 2, 3, 4, 5, 7, 8, 10, 12, 14, 15, 16, 1, 2, 3, 4, 5, 6, 7, 8, 10, 11, 12, 13, 14, 15, 16, 17, 18, 9, 1, 2, 3, 4, 5, 6, 7, 8, 9, 10, 11, 12, 13, 14, 15, 17, 16, 15, 3, 2, 5, 7, 11, 15, 16, 1, 2, 4, 8, 12, 15, 16, 18, 3, 5, 13, 14, 15, 16, 1, 4, 6, 9, 17, 8, 6, 2, 8, 16, 13, 1, 2, 3, 4, 5, 6, 7, 8, 9, 10, 11, 12, 13, 14, 15, 16, 17, 1, 2, 3, 4, 5, 6, 7, 8, 9, 10, 11, 12, 13, 14, 15, 16, 18, 1, 2, 3, 5, 6, 7, 8, 9, 10, 11, 15, 16, 17, 9, 2, 5, 10, 11, 13, 5, 12, 2, 7, 8, 9, 16, 18, 9, 1, 2, 5, 6, 8, 10, 11, 15, 16, 1, 2, 5, 6, 7, 8, 10, 11, 13, 15, 10, 9, 12, 12, 3, 4, 6, 10, 11, 3, 6, 13, 14, 18, 18, 1, 3, 5, 6, 8, 10, 11, 15, 18, 15, 16, 17, 4, 12, 15, 2, 1, 2, 4, 5, 8, 10, 12, 13, 15, 3, 5, 17, 2, 5, 16, 17, 4, 6, 12, 14, 1, 3, 4, 6, 7, 9, 11, 13, 17, 1, 2, 7, 8, 10, 12, 13, 14, 1, 7, 4, 2, 1, 2, 3, 5, 8, 9, 10, 11, 12, 13, 14, 15, 16, 1, 17, 2, 3, 4, 9, 11, 12, 17, 1, 2, 3, 5, 8, 10, 12, 13, 14, 16, 13, 3, 11, 13, 17, 1, 2, 5, 8, 10, 15, 10, 1, 2, 3, 5, 7, 9, 10, 11, 13, 14, 15, 18, 1, 2, 3, 5, 6, 7, 8, 9, 10, 11, 12, 13, 14, 18, 2, 2, 16, 17, 13, 17, 2, 11, 2, 5, 12, 9, 15, 16, 18, 1, 2, 3, 4, 5, 6, 7, 8, 9, 10, 11, 12, 13, 14, 15, 17, 4, 12, 1, 2, 3, 4, 5, 8, 9, 10, 11, 12, 13, 14, 8, 13, 1, 4, 1, 13, 16, 12, 8, 14, 17, 16, 18, 5, 11, 13, 14, 18, 4, 1, 3, 4, 10, 12, 13, 15, 17, 1, 2, 15, 3, 10, 13, 10, 13, 12, 6, 11, 6, 7, 11, 16, 1, 2, 3, 5, 6, 7, 8, 9, 10, 11, 14, 15, 1, 3, 4, 5, 8, 9, 10, 11, 12, 15, 16, 1, 3, 4, 6, 7, 8, 9, 10, 12, 13, 15, 17, 1, 5, 15, 6, 11, 6, 3, 13, 14, 12, 3, 17, 1, 2, 16, 9, 17, 14, 1, 5, 6, 11, 12, 15, 16, 17, 18, 8, 2, 8, 10, 14, 1, 2, 3, 4, 5, 8, 9, 10, 11, 12, 13, 14, 15, 16, 1, 2, 3, 4, 5, 6, 7, 8, 9, 10, 11, 12, 13, 14, 15, 16, 17, 4, 4, 11, 6, 2, 3, 4, 5, 8, 10, 11, 12, 13, 14, 16, 18, 18, 1, 2, 3, 4, 5, 6, 7, 8, 9, 10, 11, 12, 13, 14, 15, 16, 17, 1, 4, 5, 6, 7, 10, 12, 13, 15, 16, 12, 13, 1, 2, 3, 4, 5, 6, 7, 8, 11, 15, 16, 11, 1, 2, 5, 6, 7, 8, 10, 11, 15, 16, 10, 4, 10, 11, 17, 11, 3, 17, 8, 9, 10, 12, 17, 6, 11, 16, 10, 15, 14, 16, 18, 1, 4, 12, 16, 1, 8, 9, 2, 2, 2, 1, 18, 3, 6, 10, 11, 3, 11, 12, 4, 9, 18, 7, 6, 7, 8, 17, 15, 2, 3, 4, 5, 6, 7, 9, 11, 13, 14, 15, 17, 3, 9, 17, 14, 16, 16, 1, 5, 7, 8, 13, 14, 1, 3, 5, 6, 7, 8, 10, 11, 13, 15, 16, 1, 2, 3, 4, 5, 6, 7, 9, 10, 11, 12, 13, 14, 15, 17, 1, 2, 3, 4, 5, 6, 7, 8, 9, 10, 11, 12, 13, 14, 15, 16, 17, 15, 16, 1, 2, 5, 7, 10, 14, 15, 17, 1, 7, 14, 6, 15, 16, 18, 7, 17, 2, 5, 9, 16, 2, 4, 7, 9, 10, 12, 14, 10, 3, 6, 13, 2, 7, 10, 15, 3, 4, 6, 7, 9, 11, 13, 15, 16, 17, 5, 7, 14, 15, 1, 2, 4, 5, 6, 7, 12, 15, 2, 5, 6, 15, 16, 17, 17, 6, 7, 8, 12, 16, 4, 4, 18, 3, 13, 5, 12, 5, 16, 4, 17, 2, 5, 10, 1, 2, 3, 4, 5, 6, 7, 8, 9, 10, 11, 12, 13, 14, 15, 16, 17, 1, 2, 3, 4, 5, 7, 9, 10, 14, 16, 17, 10, 5, 8, 15, 4, 7, 8, 1, 2, 3, 4, 5, 6, 7, 8, 9, 10, 11, 12, 13, 14, 15, 16, 17, 15, 1, 2, 3, 4, 5, 6, 7, 8, 9, 13, 14, 15, 16, 17, 2, 4, 5, 9, 12, 16, 5, 6, 15, 16, 15, 3, 6, 7, 8, 9, 10, 13, 15, 16, 8, 10, 14, 15, 3, 12, 5, 15, 17, 18, 1, 2, 14, 7, 14, 2, 4, 6, 8, 9, 12, 3, 1, 2, 5, 7, 8, 10, 15, 3, 13, 2, 4, 5, 6, 7, 8, 12, 14, 16, 17, 18, 2, 5, 6, 7, 18, 7, 4, 6, 7, 9, 11, 13, 14, 16, 17, 1, 2, 6, 7, 8, 9, 10, 11, 13, 15, 16, 17, 3, 4, 1, 2, 3, 4, 5, 6, 7, 8, 9, 10, 11, 12, 13, 14, 15, 16, 17, 1, 12, 1, 2, 3, 4, 5, 6, 7, 8, 9, 10, 11, 12, 13, 14, 15, 16, 17, 18, 1, 2, 4, 5, 6, 7, 9, 11, 15, 7, 3, 5, 6, 7, 9, 11, 14, 17, 5, 14, 7, 16, 2, 3, 7, 8, 9, 15, 15, 5, 14, 17, 14, 1, 8, 13, 8, 9, 14, 12, 13, 6, 13, 7, 8, 11, 1, 3, 4, 6, 7, 8, 10, 11, 12, 13, 17, 1, 5, 8, 10, 11, 12, 13, 15, 3, 2, 5, 18, 2, 5, 7, 1, 2, 3, 4, 8, 9, 10, 12, 13, 17, 18, 3, 13, 14, 17, 9, 16, 17, 17, 17, 17, 14, 13, 1, 2, 3, 4, 6, 8, 9, 10, 12, 13, 14, 15, 9, 3, 14, 5, 14, 17, 11, 8, 3, 13, 13, 3, 7, 9, 11, 12, 13, 18, 18, 1, 2, 16, 11, 12, 13, 7, 1, 2, 3, 5, 8, 13, 14, 15, 16, 8, 10, 1, 2, 3, 4, 5, 8, 10, 11, 12, 13, 14, 16, 17, 1, 2, 3, 4, 5, 7, 8, 9, 10, 12, 13, 14, 15, 16, 17, 8, 9, 2, 6, 7, 8, 16, 1, 5, 10, 15, 16, 17, 12, 10, 13, 10, 4, 5, 9, 11, 1, 5, 6, 8, 11, 15, 17, 10, 13, 16, 3, 4, 13, 14, 17, 6, 10, 11, 1, 4, 6, 16, 1, 4, 5, 16, 6, 7, 14, 15, 16, 18, 1, 2, 5, 7, 8, 9, 12, 13, 14, 18, 1, 5, 6, 7, 8, 15, 16, 17, 18, 5, 6, 7, 9, 11, 15, 16, 1, 2, 3, 4, 5, 9, 10, 11, 17, 9, 4, 9, 17, 9, 11, 4, 8, 9, 10, 1, 2, 3, 4, 5, 6, 7, 8, 9, 10, 11, 12, 13, 14, 15, 16, 17, 3, 4, 6, 8, 10, 11, 10, 7, 17, 1, 18, 2, 3, 4, 6, 7, 8, 9, 11, 13, 14, 15, 16, 17, 3, 8, 12, 15, 8, 1, 2, 3, 4, 5, 6, 7, 8, 9, 10, 11, 12, 13, 14, 15, 16, 4, 6, 9, 4, 4, 5, 5, 6, 1, 5, 6, 8, 16, 3, 13, 1, 3, 4, 6, 9, 10, 11, 12, 13, 15, 16, 7, 4, 6, 8, 9, 17, 3, 6, 9, 16, 3, 17, 1, 4, 6, 11, 1, 2, 3, 4, 5, 6, 7, 8, 9, 10, 11, 12, 13, 14, 15, 16, 1, 2, 4, 5, 7, 8, 9, 10, 11, 2, 1, 10, 11, 15, 1, 3, 4, 6, 7, 8, 9, 10, 11, 12, 13, 14, 15, 17, 1, 15, 1, 2, 3, 4, 5, 6, 7, 8, 9, 10, 11, 12, 13, 14, 15, 16, 17, 15, 12, 14, 16, 9, 15, 16, 17, 17, 3, 17, 1, 3, 4, 5, 6, 7, 8, 9, 11, 12, 13, 15, 16, 17, 13, 6, 15, 6, 15, 7, 14], \"Freq\": [0.31637524040150833, 0.02166953701380194, 0.5937453141781732, 0.06500861104140583, 0.9734106509848479, 0.03184877345764145, 0.31636448301257175, 0.12102533913903751, 0.09554632037292435, 0.39492479087475396, 0.03609527658532698, 0.0021232515638427633, 0.016277226394690716, 0.976633583681443, 0.004069306598672679, 0.04385258492287923, 0.7191823927352194, 0.22803344159897201, 0.15738866789556957, 0.041970311438818554, 0.6190620937225736, 0.1731275346851265, 0.4257221968986497, 0.22679179860962098, 0.007243964083353987, 0.030090312346239642, 0.14877987771196266, 0.0039005960448829165, 0.05460834462836083, 0.009472876109001369, 0.003343368038471071, 0.0039005960448829165, 0.08302697295536493, 0.002786140032059226, 0.0025930722125769093, 0.029820330444634457, 0.10501942460936482, 0.08816445522761492, 0.003889608318865364, 0.0012965361062884546, 0.10501942460936482, 0.29042408780861384, 0.3370993876349982, 0.020744577700615274, 0.01685496938174991, 0.9909245191855102, 0.9754120131931141, 0.10966375370764306, 0.17862262066790768, 0.009577620411147866, 0.07709984430974032, 0.08715634574144558, 0.23129953292922095, 0.06608558083692027, 0.02921174225400099, 0.030169504295115775, 0.06273341369301852, 0.012929787555049619, 0.012450906534492226, 0.09242403696757691, 0.0009577620411147865, 0.0405774674929251, 0.2354048970308737, 0.014452248696110311, 0.10700222592312442, 0.1284026711077493, 0.006392340769433407, 0.0036130621740275777, 0.016119815853353807, 0.009449547224379818, 0.16953599431975555, 0.07198331562101097, 0.13034816612453337, 0.04141125107154685, 0.016675671572434974, 0.006114412909892824, 0.003057206454946412, 0.10931160109622942, 0.06036610806806699, 0.1957819721126497, 0.17892296895850487, 0.05220852589670659, 0.001087677622848054, 0.05873459163379491, 0.1718530644099925, 0.08592653220499626, 0.08157582171360404, 0.001087677622848054, 0.002719194057120135, 0.9341149868764639, 0.7652064366674057, 0.04251146870374477, 0.184216364382894, 0.3593143499091641, 0.01816029205317075, 0.5240541421057845, 0.0051886548723345, 0.003891491154250875, 0.04799505756909413, 0.040212075260592374, 0.9962336774356095, 0.05720045006102604, 0.04647536567458366, 0.8580067509153906, 0.025025196901698892, 0.010725084386442383, 0.025417879086637563, 0.012708939543318781, 0.5261500970933976, 0.002541787908663756, 0.05846112189926639, 0.020334303269310048, 0.20588482060176425, 0.035585030721292585, 0.11183866798120527, 0.142756722452049, 0.002643643008371278, 0.7507946143774429, 0.03965464512556917, 0.021149144066970223, 0.042298288133940445, 0.05521320817669934, 0.8536811418089667, 0.016988679438984414, 0.06795471775593766, 0.9504983000316912, 0.04159437687060042, 0.22616942423388978, 0.0025996485544125263, 0.0025996485544125263, 0.05459261964266305, 0.6317145987222439, 0.03639507976177537, 0.0025996485544125263, 0.09855120528395564, 0.09855120528395564, 0.7986045945423991, 0.9136956879772195, 0.9582292236915513, 0.03959624891287402, 0.03531944605376112, 0.9183055973977892, 0.9515773708936197, 0.9315813682834237, 0.03726325473133695, 0.007380373652483062, 0.026569345148939025, 0.04575831664539499, 0.29669102082981913, 0.43839419495749393, 0.008856448382979675, 0.0826601849078103, 0.0354257935319187, 0.04428224191489837, 0.013284672574469513, 0.029781353082493828, 0.25314150120119755, 0.6154812970382058, 0.01985423538832922, 0.04963558847082305, 0.029781353082493828, 0.8918919664338517, 0.10340776422421469, 0.21419934374774485, 0.6285521726368251, 0.014045858606409499, 0.13343565676089023, 0.010534393954807124, 0.03585139806692956, 0.07450368660783799, 0.0851470704089577, 0.0851470704089577, 0.15628968844802105, 0.05153638472121124, 0.09579045421007742, 0.19494197698892948, 0.061059412332739406, 0.04985585043682392, 0.05377709710039434, 0.01288409618030281, 0.017365520938669006, 0.005601780947957744, 0.014564630464690134, 0.006722137137549293, 0.10192271397093243, 0.05868727699492465, 0.11722597860505203, 0.24618941260908897, 0.031200830807428297, 0.06061875699728926, 0.010251701551012155, 0.023623486182767137, 0.16863306174491008, 0.013371784631754985, 0.06329311392364026, 0.06091590776688382, 0.011291729244593098, 0.03090368003783374, 0.0016343292327700536, 0.10977473218771355, 0.8781978575017084, 0.9568532119702728, 0.11018482338275105, 0.1406195060562475, 0.009440387681130844, 0.011835709928581954, 0.1655590376914738, 0.07735481846180349, 0.005636052346943788, 0.18824414838792253, 0.006199657581638167, 0.12357044770674255, 0.021698801535733583, 0.010990302076540387, 0.06340558890311762, 0.03423901800768351, 0.018176268818893716, 0.0016908157040831364, 0.010990302076540387, 0.9671552941387505, 0.9942024484974823, 0.0025268988465150747, 0.0025268988465150747, 0.20215190772120598, 0.003790348269772612, 0.12887184117226883, 0.0012634494232575373, 0.08465111135825501, 0.021478640195378138, 0.07959731366522485, 0.39925001774938185, 0.07201661712567964, 0.24849912644027927, 0.7493801781714672, 0.030092881169580803, 0.9667338075727833, 0.004413799431699783, 0.035310395453598264, 0.0772414900547462, 0.5473111295307731, 0.14565538124609284, 0.019862097442649024, 0.1302070832351436, 0.004413799431699783, 0.015448298010949242, 0.017655197726799132, 0.9840136655066544, 0.29310603645686023, 0.09408341910960945, 0.023520854777402362, 0.14655301822843012, 0.012665075649370503, 0.047041709554804724, 0.0018092965213386432, 0.37814297295977645, 0.004200953518626591, 0.029406674630386136, 0.004200953518626591, 0.025205721111759546, 0.07981811685390523, 0.8569945177998246, 0.9883014901632132, 0.9415251434371007, 0.9343951803937965, 0.9437244239985694, 0.02246962914282308, 0.9920370557040673, 0.1479301732730973, 0.7055131340716948, 0.005689622048965281, 0.142240551224132, 0.9587488355158935, 0.9951040938986736, 0.9065154008788702, 0.12535593672395987, 0.7678051124342542, 0.1018516985882174, 0.9740036770073439, 0.0007654191126115562, 0.3888329092066706, 0.025258830716181353, 0.2832050716662758, 0.0015308382252231124, 0.008419610238727119, 0.033678440954908476, 0.0007654191126115562, 0.0734802348107094, 0.18446600613938505, 0.9802053525833722, 0.9797503781833441, 0.09731086870549227, 0.057241687473818983, 0.011448337494763797, 0.8242802996229934, 0.9299920213172423, 0.9885694155595329, 0.9018529779847122, 0.08727609464368183, 0.9725290143558346, 0.9935298035979456, 0.060998573587507966, 0.034087438181254454, 0.5992212817125783, 0.019734832631252575, 0.13276160133751733, 0.008970378468751171, 0.044851892343755854, 0.0017940756937502344, 0.01255852985625164, 0.08611563330001125, 0.038640486704402545, 0.03304041616753261, 0.024080303308540715, 0.15344193271023618, 0.0016800211610609802, 0.022960289201166727, 0.29680373845410646, 0.030800387952784634, 0.28224355505824467, 0.0084001058053049, 0.0016800211610609802, 0.06776085349612619, 0.01176014812742686, 0.007280091697930913, 0.010080126966365881, 0.0016800211610609802, 0.007280091697930913, 0.12102674985077583, 0.8068449990051723, 0.06454759992041377, 0.014300110146458893, 0.9438072696662869, 0.042900330439376674, 0.10890182911647917, 0.8276539012852416, 0.0054450914558239576, 0.02178036582329583, 0.02722545727911979, 0.009670732329052743, 0.715634192349903, 0.2707805052134768, 0.25272303881750907, 0.7013064327185877, 0.015795189926094317, 0.028431341866969773, 0.9365876551286749, 0.9730059669360189, 0.021483779266919214, 0.0053709448167298035, 0.9667700670113647, 0.9401391859940995, 0.1216311312616934, 0.007154772427158436, 0.1180537450481142, 0.007154772427158436, 0.7262094013565812, 0.01788693106789609, 0.05300802111141029, 0.8834670185235048, 0.017669340370470098, 0.017669340370470098, 0.9845068419747248, 0.005309597680406052, 0.1529164131956943, 0.0021238390721624208, 0.2028266313915112, 0.3971579064943727, 0.15079257412353186, 0.0042476781443248415, 0.019114551649461787, 0.013804953969055735, 0.02336222979378663, 0.02760990793811147, 0.995732387223064, 0.9666826026550924, 0.9863482604332051, 0.946801572325629, 0.004268569123452937, 0.8665195320609462, 0.12378850458013517, 0.11865500807012415, 0.8042172769197303, 0.06591944892784675, 0.04073810805772104, 0.2967032117832249, 0.16439448915328136, 0.14240312108672398, 0.013699540762773446, 0.022351882297156678, 0.07606850265645256, 0.07426593150345606, 0.14456620647031979, 0.015502111915769954, 0.00865234153438323, 0.9892417994217008, 0.9899115919684872, 0.0012095366031142731, 0.3779801884732103, 0.02600503696695687, 0.004233378110899955, 0.13123472143789863, 0.0012095366031142731, 0.0695483546790707, 0.023585963760728326, 0.0381004029980996, 0.12881564823167008, 0.15482068519862696, 0.0381004029980996, 0.0048381464124570926, 0.0006047683015571366, 0.9974855261262566, 0.9568816622294681, 0.038583937993123714, 0.12019106540503278, 0.050079610585430326, 0.6685628013154948, 0.02003184423417213, 0.025039805292715163, 0.11267912381721823, 0.9546416770438527, 0.025389406304357785, 0.01523364378261467, 0.9701500453687658, 0.7957954278664946, 0.19649269823864066, 0.04970350697921775, 0.9443666326051372, 0.8910287616362902, 0.25609007120285343, 0.021340839266904454, 0.010670419633452227, 0.6242195485569553, 0.08536335706761781, 0.9837506050352431, 0.00993687479833579, 0.9311463324259175, 0.05173035180143987, 0.9793340686860401, 0.9840136677544268, 0.05650033552781335, 0.9379055697617016, 0.9341149869814559, 0.973422801264083, 0.005134262083233527, 0.0487754897907185, 0.9421370922733522, 0.9631825442414319, 0.9584242752651918, 0.934114986860142, 0.9314741056314675, 0.9717729552554254, 0.03817906577338351, 0.8876632792311666, 0.01590794407224313, 0.05408700984562664, 0.03729908393465741, 0.8858532434481136, 0.03729908393465741, 0.009324770983664353, 0.02797431295099306, 0.9690228234901452, 0.943753066099429, 0.014902044905605025, 0.6974157015823151, 0.08643186045250914, 0.16988331192389727, 0.02980408981121005, 0.9689697396348078, 0.977505015666409, 0.020391920626365315, 0.001568609278951178, 0.0002614348798251963, 0.0002614348798251963, 0.07923474161062871, 0.07883048272486019, 0.06831975169487883, 0.01374480211612947, 0.1459374577624335, 0.01617035543074055, 0.04002162969108287, 0.0117235076872869, 0.0351705230618607, 0.11197971135787832, 0.02223423871726826, 0.04608551297761057, 0.16493762539355364, 0.10389453364250804, 0.039617370805314356, 0.010106472144212845, 0.010914989915749873, 0.0012127766573055414, 0.03639330043967, 0.022745812774793747, 0.00454916255495875, 0.059139113214463745, 0.4397523803126791, 0.13799126416708207, 0.034876912921350416, 0.0015163875183195831, 0.26233504066928787, 0.9928624906212538, 0.02589167572086363, 0.33659178437122717, 0.015535005432518177, 0.621400217300727, 0.9599523363103208, 0.9282074401201452, 0.9527754463406923, 0.6257853350588438, 0.16411945095208097, 0.09506139626575079, 0.09058541123978495, 0.0021314214409361163, 0.014919950086552815, 0.0004262842881872233, 0.0004262842881872233, 0.006607406466901961, 0.996534404902287, 0.9611294301298942, 0.19097457313525493, 0.44890000236965094, 0.006585330108112238, 0.11304816685592677, 0.006585330108112238, 0.017560880288299302, 0.020853545342355423, 0.01536577025226189, 0.12402371703611383, 0.029633985486505074, 0.026341320432448953, 0.9446025296883522, 0.9410746607678012, 0.951991773684104, 0.0356996915131539, 0.004847056062959235, 0.8288465867660291, 0.048470560629592346, 0.029082336377755407, 0.07755289700734776, 0.00969411212591847, 0.9371531119736123, 0.0491774182029734, 0.9343709458564947, 0.9106027107317365, 0.08498958633496206, 0.7298356766005498, 0.13901631935248568, 0.02978921128981836, 0.06950815967624284, 0.01985947419321224, 0.00992973709660612, 0.9990998799512039, 0.9549475611404602, 0.12082136944683532, 0.877073644873323, 0.025578437783829868, 0.9208237602178753, 0.025578437783829868, 0.9765554815648596, 0.9983036895573827, 0.11082503861568622, 0.09963059027066741, 0.035822234704060193, 0.10522781444317682, 0.20821673921734987, 0.06045002106310157, 0.05261390722158841, 0.003358334503505643, 0.005597224172509405, 0.001119444834501881, 0.31568344332953047, 0.03383163990703425, 0.019586738893546146, 0.0792372618875276, 0.05608929774060942, 0.027599495713633206, 0.09704338815438772, 0.018696432580203138, 0.02403827046026118, 0.271543425569617, 0.05519899142726641, 0.006232144193401046, 0.20655106469557755, 0.00267091894002902, 0.03383163990703425, 0.00267091894002902, 0.06588266718738249, 0.9679112390529537, 0.9489909152276931, 0.9181878683906816, 0.9438214944696355, 0.00230704672320038, 0.05882969144160969, 0.1291946164992213, 0.43141773723847104, 0.0795931119504131, 0.06344378488801045, 0.00115352336160019, 0.00461409344640076, 0.00922818689280152, 0.21340182189603515, 0.00461409344640076, 0.9863986257687866, 0.18935529124216316, 0.0730707140478057, 0.08957055270376184, 0.049499515967868384, 0.06207082161050162, 0.0942847923197493, 0.05657087539184958, 0.04242815654388719, 0.0007857066026645775, 0.001571413205329155, 0.3409966655564266, 0.9609650746987632, 0.05468341696999217, 0.0012151870437776039, 0.056506197535658574, 0.04070876596654973, 0.8457701824692122, 0.0006075935218888019, 0.005861975690269078, 0.9877429038103397, 0.005861975690269078, 0.9603388973352174, 0.031834438585697816, 0.9763407650731148, 0.9396595353245131, 0.9862797597249353, 0.9582795662082061, 0.017045693547586456, 0.11553192293364153, 0.10795605913471422, 0.5019009766789345, 0.028409489245977426, 0.0018939659497318284, 0.005681897849195486, 0.0018939659497318284, 0.06250087634115034, 0.07765260393900497, 0.013257761648122798, 0.06628880824061399, 0.002904344354112523, 0.005808688708225046, 0.13359984028917604, 0.14812156205973864, 0.6767122345082178, 0.03194778789523775, 0.9494204709624229, 0.11990231859074063, 0.05481248849862429, 0.4327902737703876, 0.0787929522167724, 0.01941275634326277, 0.10505726962236321, 0.07765102537305107, 0.0011419268437213392, 0.05481248849862429, 0.026264317405590803, 0.018270829499541428, 0.009135414749770714, 0.0013432613210949934, 0.0013432613210949934, 0.009402829247664952, 0.37476990858550313, 0.05776023680708471, 0.5225286539059524, 0.0013432613210949934, 0.02955174906408985, 0.9644150338866002, 0.03463641886451433, 0.9582742552515631, 0.9792126222287229, 0.03448366561428945, 0.9310589715858152, 0.133804807742962, 0.010704384619436961, 0.19000282699500604, 0.08295898080063645, 0.5833889617593143, 0.9853254350853267, 0.9891107325360105, 0.03806711571446995, 0.06385451668233669, 0.09025590338753359, 0.030699286866508024, 0.023945443755876258, 0.09332583207418439, 0.21550899380288632, 0.03376921555315882, 0.25541806672934675, 0.007367828847961925, 0.009209786059952407, 0.011665729009273049, 0.019033557857234974, 0.03622515850247947, 0.054644730622384285, 0.01473565769592385, 0.002455942949320642, 0.004783692028784705, 0.09806568659008644, 0.22004983332409642, 0.09089014854690938, 0.5381653532382793, 0.04544507427345469, 0.1350926753321357, 0.1697053301973483, 0.0005166067890330237, 0.0015498203670990711, 0.13535097872665222, 0.1002217170724066, 0.20535119864062693, 0.040037026150059336, 0.0012915169725825593, 0.024538822479068627, 0.09066449147529566, 0.0304798005529484, 0.004907764495813725, 0.012398562936792569, 0.0413285431226419, 0.0061992814683962845, 0.0005166067890330237, 0.003819457035483025, 0.987329643672362, 0.00763891407096605, 0.985537345151118, 0.0520141042347611, 0.037498540262269626, 0.015725194303532426, 0.08104523217974403, 0.2080564169390444, 0.491109914402628, 0.0036288909931228674, 0.09918968714535838, 0.009677042648327645, 0.9420823753807307, 0.014273975384556525, 0.02854795076911305, 0.9599455088595826, 0.029860821892674746, 0.8958246567802424, 0.05972164378534949, 0.996177247304229, 0.9699052619006153, 0.09224736048229025, 0.8763499245817573, 0.02998039215674433, 0.1635147882090005, 0.8277936153080652, 0.9574569926636004, 0.859013670847883, 0.1307194716507648, 0.7275998937192697, 0.02015512170967506, 0.02821717039354508, 0.07255843815483022, 0.07255843815483022, 0.024186146051610072, 0.05441882861612266, 0.06052739575869949, 0.2709546700760532, 0.23785375052051438, 0.04823276849521366, 0.11112451565073735, 0.0023643513968241987, 0.00047287027936483976, 0.011821756984120994, 0.06383748771425336, 0.05390721184759173, 0.05674443352378077, 0.07282202302218532, 0.003782962234918718, 0.004728702793648397, 0.0009457405587296795, 0.9286639799137228, 0.03832071644239824, 0.12518100704516757, 0.0817508617437829, 0.01788300100645251, 0.12262629261567436, 0.028101858724425374, 0.01277357214746608, 0.5722560322064804, 0.9341149868619176, 0.9868351918926251, 0.0018097790047784288, 0.8107809941407361, 0.16107033142528016, 0.025336906066898004, 0.21101190581245222, 0.0628011624441822, 0.2336203242923578, 0.025120464977672882, 0.4245358581226717, 0.042704790462043896, 0.12312616657528884, 0.09813062899985427, 0.03363597031756011, 0.04567085877980639, 0.14380148777966065, 0.09751345523255958, 0.11016551746210054, 0.10430236667280107, 0.029315753946497342, 0.04659661943074841, 0.035796078503091494, 0.02252684250625585, 0.04999107515086915, 0.025612711342729258, 0.023761190040845214, 0.00678891144024149, 0.003394455720120745, 0.9477454031760406, 0.29721112368178126, 0.11113111581144865, 0.00018460318241104426, 0.30773350507921077, 0.019014127788337557, 0.028059683726478726, 0.00018460318241104426, 0.023629207348613665, 0.009414762302963257, 0.005907301837153416, 0.1689119119061055, 0.004430476377865062, 0.0016614286416993982, 0.022706191436558443, 0.010517041039636034, 0.9377694927008796, 0.049079524851634825, 0.2282924145077471, 0.10871067357511767, 0.04076650259066913, 0.6196508393781707, 0.12851141355780168, 0.05354642231575071, 0.08165829403151982, 0.048191780084175635, 0.020079908368406514, 0.0026773211157875352, 0.0013386605578937676, 0.6653142972732025, 0.8750038587726702, 0.0921056693444916, 0.006755994010887127, 0.9931311196004077, 0.0030808617408389226, 0.030808617408389225, 0.08626412874348983, 0.03388947914922815, 0.3219500519176674, 0.053915080464681145, 0.20025601315452998, 0.26803497145298627, 0.10705133809719208, 0.0577887754329975, 0.0577887754329975, 0.0577887754329975, 0.01705242553760582, 0.12536690626721314, 0.14336668877913042, 0.04894677700609078, 0.11715647915651406, 0.03821006463056119, 0.12978790548066652, 0.021157639092955368, 0.028736494887446843, 0.0221049960672668, 0.017999782511917254, 0.010420926717425779, 0.25682370475545563, 0.5405047904003706, 0.06882203852923974, 0.10071517833547279, 0.008392931527956065, 0.025178794583868198, 0.26477608139213343, 0.1651374743338335, 0.0003089569211110075, 0.2148795386327057, 0.04974206429887221, 0.03460317516443284, 0.08697137329274861, 0.005252267658887128, 0.01730158758221642, 0.0016992630661105412, 0.09809382245274488, 0.04248157665276353, 0.007106009185553173, 0.011431406081107277, 0.9220367234637865, 0.017554199678357512, 0.1191177835317117, 0.020061942489551444, 0.055170341846266464, 0.03385452795111806, 0.06394744168544522, 0.016300328272760546, 0.3372914081055836, 0.14544908304924795, 0.04639324200708771, 0.03385452795111806, 0.0037616142167908955, 0.026331299517536266, 0.07648615574141487, 0.0025077428111939305, 0.29833734969264813, 0.696120482616179, 0.11153241162733497, 0.08179043519337899, 0.003717747054244499, 0.22678257030891444, 0.5725330463536529, 0.2956018387348928, 0.20854757554759426, 0.00573984152883287, 0.05484737460884742, 0.06377601698703189, 0.00031888008493515945, 0.08482210259275241, 0.0006377601698703189, 0.07716898055430858, 0.07844450089404922, 0.02774256738935887, 0.024872646624942436, 0.001594400424675797, 0.05484737460884742, 0.012755203397406377, 0.00031888008493515945, 0.007972002123378986, 0.17929977170685887, 0.18195606462103456, 0.0365240275699157, 0.027891075598844715, 0.10757986302411532, 0.0013281464570878436, 0.006640732285439217, 0.13215057248024042, 0.025898855913212948, 0.20984714021987927, 0.005976659056895295, 0.002656292914175687, 0.033203661427196086, 0.019922196856317652, 0.02722700237030079, 0.0019922196856317653, 0.9441111286263986, 0.12382469552948751, 0.7879753351876477, 0.06754074301608409, 0.016885185754021023, 0.038115467027629, 0.860320541480769, 0.06534080061879258, 0.03267040030939629, 0.9128008931533919, 0.9698095201187913, 0.012217787981742353, 0.9774230385393883, 0.7061883968463747, 0.03603002024726402, 0.0028824016197811215, 0.02450041376813953, 0.1686204947571956, 0.0028824016197811215, 0.057648032395622426, 0.9896663149643148, 0.004492996927160846, 0.058408960053091, 0.4178487142259587, 0.5166946466234973, 0.24496806860633805, 0.010424173132184598, 0.08078734177443063, 0.041696692528738394, 0.6202383013649836, 0.02855744658524587, 0.6453982928265566, 0.017134467951147522, 0.25130552995016364, 0.034268935902295045, 0.017134467951147522, 0.9446025296717009, 0.05302904037505623, 0.05302904037505623, 0.8838173395842704, 0.07102082383107697, 0.011779063464666424, 0.11779063464666426, 0.018361481283156487, 0.0017322152153921213, 0.24666744667183807, 0.10912955856970365, 0.0010393291292352727, 0.151049166782193, 0.012471949550823274, 0.18777212934850596, 0.011086177378509577, 0.0003464430430784243, 0.011432620421588, 0.02840832953243079, 0.02044013954162703, 0.9994936772882643, 0.11774795891652359, 0.07359247432282724, 0.8046110525962445, 0.015392765091279292, 0.1007526442338281, 0.10914869791998044, 0.04757763755486327, 0.03218487246358398, 0.06017171808409178, 0.3638289930666015, 0.1441322549456152, 0.0013993422810253903, 0.03358421474460937, 0.05877237580306639, 0.013993422810253902, 0.004198026843076171, 0.015392765091279292, 0.94680157238602, 0.1769218418341365, 0.26362526101113054, 0.05389672002894225, 0.026948360014471123, 0.0011716678267161358, 0.019918353054174307, 0.007030006960296815, 0.0035150034801484076, 0.02812002784118726, 0.0035150034801484076, 0.25893858970426603, 0.057411723509090656, 0.05624005568237452, 0.010545010440445222, 0.023433356534322717, 0.00820167478701295, 0.09263058476859709, 0.17887285334625644, 0.19484364382360078, 0.028747422859219787, 0.025553264763750923, 0.4759295562248609, 0.009501989846511422, 0.011877487308139279, 0.03563246192441783, 0.213794771546507, 0.18766429946860058, 0.508356456788361, 0.03088146700116212, 0.0968852179313228, 0.8881144977037925, 0.0035371897876624193, 0.03183470808896177, 0.04952065702727387, 0.9090577754292418, 0.0035371897876624193, 0.2447188043955837, 0.0930335950594781, 0.461123036381761, 0.06067408373444224, 0.13955039258921714, 0.9866539646751629, 0.015992577060224913, 0.031985154120449825, 0.09595546236134947, 0.8316140071316954, 0.9907297516919283, 0.9976541313207279, 0.0830287472158709, 0.034595311339946214, 0.013838124535978484, 0.17297655669973105, 0.6919062267989242, 0.010599436449487023, 0.1254266646522631, 0.15722497400072416, 0.09362835530380204, 0.04593089128111043, 0.3815797121815328, 0.003533145483162341, 0.03533145483162341, 0.1324929556185878, 0.015899154674230535, 0.8860559756920415, 0.09149491053341734, 0.019262086428087858, 0.09983126379486376, 0.3361665005337249, 0.080136660733292, 0.0020373727305074236, 0.35857760056930654, 0.0006791242435024745, 0.050255194019183116, 0.07266629405476478, 0.9882951321153616, 0.9852142894605083, 0.1221112135739593, 0.0016727563503282097, 0.09367435561837974, 0.0016727563503282097, 0.645683951226689, 0.048509934159518084, 0.010036538101969259, 0.03680063970722061, 0.040146152407877035, 0.9878364442051201, 0.048047635643321276, 0.04046116685753371, 0.03793234392893785, 0.10115291714383427, 0.63473455507756, 0.05816292735770471, 0.06574939614349228, 0.002528822928595857, 0.00758646878578757, 0.004431006555979835, 0.26438339117346343, 0.10043614860220958, 0.016247024038592725, 0.1949642884631127, 0.002954004370653223, 0.023632034965225784, 0.04431006555979834, 0.05317207867175801, 0.011816017482612892, 0.028063041521205617, 0.2540443758761772, 0.007028087386690083, 0.29166562654763845, 0.6325278648021075, 0.06325278648021075, 0.12073268048984849, 0.8763527325211417, 0.0011929736164446242, 0.0011929736164446242, 0.011929736164446241, 0.13599899227468715, 0.8398534259770154, 0.0023859472328892485, 0.007157841698667745, 0.04612723382387483, 0.00419338489307953, 0.01677353957231812, 0.08177100541505085, 0.241119631352073, 0.012580154679238592, 0.4633690306852881, 0.10064123743390874, 0.029353694251556713, 0.7644868023049409, 0.00780088573780552, 0.07020797164024968, 0.02080236196748139, 0.0026002952459351736, 0.04160472393496278, 0.09101033360773107, 0.9186829502339708, 0.06805058890622007, 0.9752171938547476, 0.9663624714436283, 0.02100787981399192, 0.007002626604663973, 0.759285458088822, 0.0020033917099968918, 0.11018654404982904, 0.12621367772980419, 0.9314741056029084, 0.9565031661974889, 0.6934932063394841, 0.006668203907110423, 0.1822642401276849, 0.0777957122496216, 0.04000922344266254, 0.9986429794480051, 0.0055444075879005975, 0.0055444075879005975, 0.04989966829110538, 0.937004882355201, 0.9343039352620172, 0.06281034858904318, 0.49292336295858424, 0.12520780609910562, 0.3808953259225424, 0.1905718273754607, 0.8052330734174394, 0.012832778138908383, 0.09089884515060104, 0.03849833441672515, 0.008555185425938921, 0.013902176317150747, 0.019249167208362575, 0.20104685750956466, 0.02031856538660494, 0.5068947364868811, 0.023526759921332033, 0.004277592712969461, 0.0010693981782423651, 0.050261714377391166, 0.007485787247696557, 0.9902078805658073, 0.44003479892403075, 0.4819428750120337, 0.071592963317005, 0.003492339674000244, 0.9905566994465855, 0.9392344742040396, 0.04010721711984547, 0.07575807678193033, 0.049019932035366684, 0.1782542983104243, 0.013369072373281823, 0.008912714915521215, 0.07130171932416972, 0.5481319673045547, 0.008912714915521215, 0.015614452984258368, 0.031228905968516737, 0.8275660081656936, 0.015614452984258368, 0.1014939443976794, 0.9660384424172402, 0.9661223516874662, 0.9973642183775946, 0.9282074401759041, 0.9806100328452749, 0.010432021626013562, 0.9925816835807901, 0.99174551484947, 0.08379339501034047, 0.36226467767628395, 0.04536183790033469, 0.11529467133001733, 0.1990880663403578, 0.04158168474197346, 0.0006300255263935374, 0.003150127631967687, 0.04473181237394115, 0.10395421185493366, 0.028024082379604007, 0.1919040423820709, 0.03472549338342235, 0.0006092191821653045, 0.05178363048405088, 0.4051307561399275, 0.246124549594783, 0.010356726096810176, 0.003655315092991827, 0.025587205650942788, 0.0018276575464959135, 0.003541408400113069, 0.9915943520316595, 0.9328327912906365, 0.04664163956453182, 0.9699052618876683, 0.007320588887752979, 0.0012200981479588298, 0.04148333703060021, 0.1268902073877183, 0.06344510369385915, 0.013421079627547128, 0.0012200981479588298, 0.516101516586585, 0.20375639070912457, 0.0244019629591766, 0.9285400702707476, 0.9523157624502551, 0.024418352883339874, 0.9989631639290123, 0.9299920213776237, 0.1553858348632055, 0.050853545955230894, 0.29099529074382124, 0.0009417323325042759, 0.18740473416835088, 0.31359686672392384, 0.26173267866850075, 0.2430374873350364, 0.03739038266692868, 0.45669681686034314, 0.019091702128194995, 0.9545851064097498, 0.24302001951299756, 0.23518066404483634, 0.34257983395864494, 0.0007839355468161212, 0.043116455074886664, 0.07133813476026703, 0.0007839355468161212, 0.05330761718349624, 0.0023518066404483633, 0.006271484374528969, 0.06494373616271024, 0.8191290593425711, 0.008379836924220676, 0.006284877693165507, 0.04818406231426889, 0.04818406231426889, 0.002094959231055169, 0.002094959231055169, 0.0017200672557570833, 0.7207081801622179, 0.00516020176727125, 0.061922421207255, 0.19264753264479334, 0.006880269023028333, 0.008600336278785417, 0.998893241375641, 0.028532611624216, 0.021169357011515098, 0.11505085332345162, 0.36356069650210715, 0.002761220479762839, 0.07547335978018427, 0.011965288745638968, 0.008283661439288516, 0.008283661439288516, 0.008283661439288516, 0.06534888468772052, 0.1629120083060075, 0.09019986900558608, 0.010124475092463742, 0.002761220479762839, 0.02485098431786555, 0.9549475611411513, 0.05074771796541799, 0.2311840485091264, 0.1860749658731993, 0.016915905988472663, 0.5131158149836708, 0.973894773803803, 0.014345533723102074, 0.5917532660779605, 0.0878663940540002, 0.21159662241575558, 0.06276171003857157, 0.03227745087697966, 0.9701293362905236, 0.03779444335934629, 0.06224967141539389, 0.6425055371088869, 0.24232907800992623, 0.01111601275274891, 0.9553747582962595, 0.19801753811419096, 0.1723917390641192, 0.015530787303073801, 0.014754247937920111, 0.26441165383483145, 0.02251964158945701, 0.01786040539853487, 0.08153663334113746, 0.031449844288724445, 0.13162342239355046, 0.017083866033381183, 0.006600584603806366, 0.007765393651536901, 0.0023296180954610704, 0.014754247937920111, 0.0011648090477305352, 0.8865836502584623, 0.021109134529963387, 0.08443653811985355, 0.016226737494037417, 0.1406317249483243, 0.06490694997614967, 0.016226737494037417, 0.7572477497217461, 0.016721241735542763, 0.9781926415292517, 0.9865566587623976, 0.9668754746053693, 0.006752525174064773, 0.9926212005875216, 0.9628780029874104, 0.957558783231256, 0.989744665510928, 0.9825144868391394, 0.19234575586342567, 0.09543873382536389, 0.06754125778410368, 0.0249608996158644, 0.6122761846950268, 0.005873152850791624, 0.9925634454873997, 0.9356588172313742, 0.05807537486263702, 0.9815680513407801, 0.18071054678136197, 0.016941613760752688, 0.06635465389628135, 0.04847183937104241, 0.02635362140561529, 0.1280033039701314, 0.1232973001477001, 0.0018824015289725206, 0.18729895213276582, 0.036706829814964155, 0.14400371696639783, 0.0037648030579450413, 0.0009412007644862603, 0.00047060038224313016, 0.027765422552344682, 0.0018824015289725206, 0.005647204586917562, 0.9810790281643413, 0.9066122602209096, 0.017351430817625062, 0.07374358097490652, 0.029651554021884685, 0.9661464685464094, 0.0024709628351570574, 0.27493247721875685, 0.2548853174215558, 0.09737191901497638, 0.04009431959440204, 0.2739778505617473, 0.04964058616449776, 0.0057277599420574345, 0.0009546266570095724, 0.7137100583973601, 0.0024867946285622305, 0.0024867946285622305, 0.019894357028497844, 0.032328330171309, 0.22629831119916297, 0.9597663253232108, 0.025939630414140834, 0.9912116666726796, 0.049373913363213326, 0.6473468640954636, 0.04571658644741975, 0.00731465383158716, 0.0182866345789679, 0.19932431691075012, 0.01462930766317432, 0.00365732691579358, 0.01280064420527753, 0.004461457238269674, 0.008922914476539348, 0.6483984519618593, 0.16061246057770828, 0.046101724795453304, 0.008922914476539348, 0.0029743048255131163, 0.050563182033722974, 0.05948609651026233, 0.0014871524127565581, 0.008922914476539348, 0.9422809943362959, 0.0534671727339928, 0.012338578323229106, 0.7732175749223573, 0.1192729237912147, 0.03290287552861095, 0.004112859441076369, 0.9939987605725888, 0.040618101378093276, 0.9477556988221764, 0.07611337482317888, 0.2445948451944867, 0.14938862380549348, 0.07920951210412175, 0.07301723754223602, 0.168997493251465, 0.00825636608251432, 0.1793179508546079, 0.0002580114400785725, 0.000516022880157145, 0.020124892326128654, 0.9299920213746763, 0.19828558205224583, 0.7944298969236083, 0.006437843573124865, 0.9890228420226777, 0.9878446165305017, 0.21251811855598976, 0.7792331013719624, 0.0009269696974253398, 0.040786666686714955, 0.0009269696974253398, 0.04959287881225568, 0.5997493942341948, 0.03615181819958825, 0.04495803032512898, 0.0004634848487126699, 0.13162969703439825, 0.009733181822966069, 0.010660151520391408, 0.0431040909302783, 0.027345606074047527, 0.0009269696974253398, 0.0032443939409886892, 0.1570531742060804, 0.01597150924129631, 0.05590028234453708, 0.01597150924129631, 0.005323836413765437, 0.5590028234453709, 0.005323836413765437, 0.06654795517206796, 0.01597150924129631, 0.0718717915858334, 0.03194301848259262, 0.07836328143850899, 0.9090140646867043, 0.17665542935828007, 0.07863775441898121, 0.004472289350842534, 0.15913896273414682, 0.04733172896308348, 0.19268113286546582, 0.09839036571853574, 0.009689960260158823, 0.04211405805376719, 0.09205462247150882, 0.03838715026139841, 0.024597591429633935, 0.0134168680525276, 0.0059630524677900445, 0.001863453896184389, 0.014907631169475112, 0.11752693494090824, 0.2576552035242988, 0.022601333642482353, 0.6011954748900306, 0.988337157726343, 0.001960843423387226, 0.5529578453951978, 0.13333735279033138, 0.21961446341936933, 0.06470783297177846, 0.017647590810485034, 0.00980421711693613, 0.004790989262138976, 0.06467835503887617, 0.0035932419466042317, 0.004790989262138976, 0.11618148960687016, 0.025152693626229624, 0.08863330134957105, 0.001197747315534744, 0.001197747315534744, 0.001197747315534744, 0.001197747315534744, 0.02155945167962539, 0.028745935572833854, 0.5856984372964897, 0.04311890335925078, 0.008384231208743207, 0.191569934014269, 0.8011106331505794, 0.03371138853192925, 0.9607745731599837, 0.9884236141023044, 0.9854351290819143, 0.9893378976874391, 0.9221180924082168, 0.011526476155102711, 0.05763238077551355, 0.9863022068066952, 0.9707115492659115, 0.01349834059193552, 0.10348727787150566, 0.7424087325564536, 0.08548949041559163, 0.05399336236774208, 0.09692004154434083, 0.6727391118960128, 0.025655305114678454, 0.13112711503057878, 0.07126473642966237, 0.9517661214375074, 0.9868757213858401, 0.05983174310970538, 0.08094882891313081, 0.021117085803425428, 0.005279271450856357, 0.7091821315650373, 0.014078057202283618, 0.06863052886113265, 0.01583781435256907, 0.012318300051998167, 0.007039028601141809, 0.005279271450856357, 0.16757879929958475, 0.3088087307847694, 0.011593501838336052, 0.05796750919168026, 0.017917230113792083, 0.3182943231979534, 0.02002513953894409, 0.09590987884441643, 0.9752837366022177, 0.2676923563458048, 0.08538463090340326, 0.002307692727119007, 0.09230770908476027, 0.4223077690627782, 0.12692309999154539, 0.9894168767028546, 0.9599280117376796, 0.9791013599960878, 0.0027096770105806277, 0.0027096770105806277, 0.02258064175483856, 0.0009032256701935425, 0.09845159805109613, 0.0785806333068382, 0.25380641332438547, 0.43264509602270684, 0.0009032256701935425, 0.005419354021161255, 0.0975483723809026, 0.00361290268077417, 0.9933936877156208, 0.950223513019297, 0.9448112868972431, 0.007049121497083517, 0.028196485988334068, 0.26081749539209015, 0.5451320624411253, 0.1351081620274341, 0.0046994143313890116, 0.0011748535828472529, 0.018797657325556046, 0.24848946685490245, 0.09203313587218609, 0.02024728989188094, 0.601896708604097, 0.03497259163143071, 0.2046668857623252, 0.007057478819390524, 0.7833801489523482, 0.006709637235258801, 0.4083293517457499, 0.006390130700246478, 0.3584863322838274, 0.07061094423772357, 0.03929930380651584, 0.10863222190419013, 0.0015975326750616195, 0.9396595353337419, 0.9865669478014449, 0.9652265666957797, 0.9389470436643492, 0.9793979123781307, 0.9675426716505401, 0.9343951802249049, 0.956853211974653, 0.9343951803528876, 0.9840954350742501, 0.000991614228348911, 0.000991614228348911, 0.029748426850467326, 0.03668972644890971, 0.25682808514236793, 0.005949685370093465, 0.08726205209470417, 0.034706497992211885, 0.04263941181900317, 0.06544653907102813, 0.06445492484267921, 0.30145072541806894, 0.010907756511838021, 0.02479035570872277, 0.026773584165420593, 0.012890984968535841, 0.09905602926917394, 0.14825891470484676, 0.049853143833501104, 0.06914414296907327, 0.08713462530898888, 0.2158857880789874, 0.015389448748602515, 0.20699892330866765, 0.03619771747910733, 0.00021675279927609175, 0.005418819981902294, 0.0047685615840740185, 0.0023842807920370092, 0.020374763131952627, 0.020158010332676533, 0.018640740737743893, 0.9753977319867014, 0.9639996757966688, 0.9206047066167984, 0.05260598323524562, 0.9034909083364292, 0.09510430614067676, 0.20150103403448813, 0.07354052337025113, 0.09266105944651644, 0.041182693087340634, 0.06618647103322603, 0.523608526396188, 0.9877479402736274, 0.05010990815118433, 0.051312545946812754, 0.0505107874163938, 0.14632093180145825, 0.013629895017122138, 0.028061548564663225, 0.190016771709291, 0.02244923885173058, 0.3114831890677618, 0.006814947508561069, 0.0028061548564663227, 0.010823740160655815, 0.015233412077960036, 0.04289408137741379, 0.016035170608378987, 0.012828136486703189, 0.028061548564663225, 0.029729996815569818, 0.03171199660327447, 0.019819997877046545, 0.010570665534424824, 0.021141331068849648, 0.03963999575409309, 0.4961606135220652, 0.22132330962701977, 0.06804865937785981, 0.018498664685243443, 0.009909998938523273, 0.019819997877046545, 0.001321333191803103, 0.0033033329795077574, 0.008588665746720169, 0.006886832328007107, 0.002504302664729857, 0.03255593464148814, 0.10205033358774167, 0.4808261116281325, 0.005634680995642178, 0.0018782269985473925, 0.01940834565165639, 0.010643286325101892, 0.02379087531493364, 0.0018782269985473925, 0.08639844193318007, 0.10518071191865398, 0.09641565259209949, 0.02379087531493364, 0.9924561189412715, 0.052175590662845904, 0.9130728365998034, 0.026087795331422952, 0.8597798824348712, 0.1097591339278559, 0.027439783481963975, 0.9565049081011446, 0.02440188643908558, 0.9516735711243377, 0.003071735227214312, 0.003071735227214312, 0.1428356880654655, 0.40393318237868203, 0.013822808522464404, 0.003071735227214312, 0.3885745062426105, 0.04146842556739321, 0.044288768039022416, 0.9477796360350798, 0.0011416283303987017, 0.00038054277679956726, 0.12938454411185288, 0.4973694092770344, 0.16096959458621696, 0.0848610392263035, 0.01522171107198269, 0.015982796625581823, 0.001522171107198269, 0.00038054277679956726, 0.02777962270636841, 0.04832893265354504, 0.01674388217918096, 0.977698099489221, 0.9802987160952107, 0.9470409127978895, 0.9702014013051792, 0.02450232272671959, 0.004900464545343918, 0.01960185818137567, 0.1911181172684128, 0.7595720045283073, 0.9650914030977462, 0.9671458867401387, 0.9982291397670666, 0.9816878132409721, 0.8781107666102606, 0.11922624632854831, 0.802593926761544, 0.1947121360782444, 0.9712571674828665, 0.9515013400386788, 0.9990071957684824, 0.004041307852066713, 0.14649740963741834, 0.016165231408266853, 0.07072288741116747, 0.038392424594633774, 0.07274354133720083, 0.5132460972124725, 0.032330462816533706, 0.05051634815083391, 0.007072288741116747, 0.04950602118781723, 0.15446794224460822, 0.003960716467810467, 0.007921432935620934, 0.48716812554068745, 0.03960716467810467, 0.3010144515535955, 0.9824032451309271, 0.10011523504039839, 0.8885227109835357, 0.8583195397970304, 0.05658708985858503, 0.047401939040959636, 0.007380924764163264, 0.00016402055031473922, 0.017714219433991835, 0.006396801462274829, 0.005740719261015872, 0.012328647893254767, 0.016679935384991743, 0.23569473913575287, 0.0007252145819561627, 0.04568851866323825, 0.0058017166556493015, 0.15809677886644347, 0.07034581444974779, 0.03553551451585197, 0.0014504291639123254, 0.06744495612192314, 0.06454409779409848, 0.20088443920185706, 0.0007252145819561627, 0.08485010608887103, 0.04580498548183869, 0.9160997096367739, 0.9500869440606758, 0.08178792830890577, 0.2640581685401815, 0.0017525984637622664, 0.018402283869503797, 0.15904831058642568, 0.011683989758415109, 0.1418144256927634, 0.05798179917613498, 0.04805040788148214, 0.03578221863514627, 0.0068643439830688765, 0.002190748079702833, 0.00642619436712831, 0.007448543470989632, 0.14751037069999076, 0.008616942446831144, 0.0005841994879207554, 0.09136526001849299, 0.0017238728305376035, 0.1465291905956963, 0.05516393057720331, 0.1448053177651587, 0.5585347970941835, 0.03707845176921605, 0.9269612942304013, 0.9540895401110839, 0.15217520874585527, 0.031772845782101655, 0.015050295370469204, 0.01337804032930596, 0.0484953961937341, 0.00334451008232649, 0.015050295370469204, 0.08528500709932549, 0.010033530246979469, 0.13712491337538607, 0.00334451008232649, 0.37458512922056686, 0.11036883271677417, 0.1743912379454204, 0.05288914593426685, 0.5045910409404378, 0.18582672895823488, 0.04002421854485059, 0.03573590941504517, 0.0042883091298054204, 0.0014294363766018067, 0.9797982522679369, 0.0014263540986300515, 0.03280614426849118, 0.1996895738082072, 0.08986030821369324, 0.002852708197260103, 0.01996895738082072, 0.0042790622958901545, 0.0014263540986300515, 0.03137979016986113, 0.06846499673424247, 0.16545707544108595, 0.36942571154518333, 0.012837186887670464, 0.9808124912847986, 0.9933458920290399, 0.9808124912883858, 0.3596913025072111, 0.0006065620615635938, 0.017590299785344217, 0.03154122720130687, 0.04124622018632437, 0.29660884810459737, 0.010311555046581093, 0.010918117108144687, 0.04306590637101516, 0.026688730708798125, 0.0006065620615635938, 0.1564930118834072, 0.005459058554072344, 0.9403432996494667, 0.9940834697263844, 0.9873428534466585, 0.5361635953819837, 0.4634392779232571, 0.9633544993396365, 0.010363947398019694, 0.024873473755247268, 0.10882144767920679, 0.005181973699009847, 0.28915413240474946, 0.1761871057663348, 0.006218368438811817, 0.2611714744300963, 0.007254763178613786, 0.03212823693386105, 0.01658231583683151, 0.044564973811484686, 0.005181973699009847, 0.012436736877623634, 0.9639355701573064, 0.23662543570462277, 0.5257354605316995, 0.003558277228640944, 0.003558277228640944, 0.2295088812473409, 0.000889569307160236, 0.002597943736862121, 0.03117532484234545, 0.6832592027947378, 0.16367045542231362, 0.11950541189565757, 0.9792349437059832, 0.023040445970442507, 0.046080891940885015, 0.9216178388177003, 0.9470408910265943, 0.07648110218201787, 0.4872938796168567, 0.1691324945396624, 0.05812563765833358, 0.038896103395426235, 0.003933313826503776, 0.05462935870144134, 0.005681453304949899, 0.06380709096328348, 0.03714796391698011, 0.0004370348696115307, 0.004807383565726838, 0.9934407649803768, 0.06586367558227246, 0.1238864374047506, 0.014113644767629814, 0.01881819302350642, 0.7417504416765447, 0.03606820329505397, 0.9123122806193747, 0.07017786773995191, 0.08568027235835263, 0.034272108943341054, 0.8568027235835263, 0.9808299331342909, 0.986360698722119, 0.9648693734511362, 0.9651201017374816, 0.8357195735160909, 0.03665436725947767, 0.12462484868222408, 0.23341804169973207, 0.12712946914003265, 0.21882941409349882, 0.027093165554433186, 0.033345434528533155, 0.3563793315236981, 0.08402223477868674, 0.1663120523454418, 0.002598625817897528, 0.26852466784941126, 0.019056589331248538, 0.09355052944431101, 0.07622635732499415, 0.007795877453692584, 0.002598625817897528, 0.038113178662497076, 0.017324172119316854, 0.008662086059658427, 0.21222110846163145, 0.0017324172119316853, 0.9916098900340188, 0.999446126021147, 0.16272388972370125, 0.052460239075103686, 0.028658834309547385, 0.005828915452789299, 0.13066485473336012, 0.08549075997424305, 0.0714042142966689, 0.19138272403324863, 0.05440321089270012, 0.023801404765556304, 0.025744376583152734, 0.013115059768775921, 0.01651526044956968, 0.035459235671134896, 0.07917610156705464, 0.015543774540771462, 0.007286144315986624, 0.9745683038941677, 0.1002137312945875, 0.12290363271977713, 0.03214402701901863, 0.14748435926373255, 0.00945412559382901, 0.03025320190025283, 0.448125553147495, 0.013235775831360612, 0.03970732749408184, 0.01890825118765802, 0.03970732749408184, 0.001890825118765802, 0.040905565664701785, 0.020452782832350892, 0.020452782832350892, 0.8999224446234393, 0.08363160717317887, 0.5305380080048535, 0.19601157931213797, 0.1842508845534097, 0.00392023158624276, 0.9005681666441869, 0.048825984938540255, 0.04340087550092467, 0.0054251094376155835, 0.02117287351039698, 0.03869525158796689, 0.4869760907391305, 0.06351862053119094, 0.10002357485946159, 0.12922753832207812, 0.1569713036115638, 0.002920396346261652, 0.985740914500419, 0.004575262733507629, 0.009150525467015258, 0.0022876313667538144, 0.8441359743321576, 0.05490315280209155, 0.061766046902352996, 0.0022876313667538144, 0.018301050934030515, 0.9815096951922568, 0.01887518644600494, 0.9725589493078941, 0.03528844157115192, 0.605784913638108, 0.07057688314230384, 0.06469547621377852, 0.2146713528911742, 0.0029407034642626602, 0.023991227544716043, 0.03998537924119341, 0.015994151696477363, 0.9116666466992096, 0.8117743474409304, 0.1840021854199442, 0.002164731593175814, 0.02600269192939868, 0.9620996013877512, 0.9556339543720995, 0.027786769123432423, 0.9586435347584186, 0.20310414438174992, 0.7904593727289726, 0.985586243169146, 0.010297261920006606, 0.23683702416015195, 0.020594523840013212, 0.020594523840013212, 0.025743154800016516, 0.03089178576001982, 0.6435788700004129, 0.01544589288000991, 0.9584912951705452, 0.9471981260979749, 0.9410746613988555, 0.1559180592201011, 0.024946889475216175, 0.8107739079445258, 0.030306328517873654, 0.19228842921685355, 0.0010450458109611605, 0.002090091621922321, 0.0689730235234366, 0.015675687164417407, 0.10659467271803838, 0.19960374989358165, 0.3417299801842995, 0.004180183243844642, 0.03657660338364062, 0.04702010086499805, 0.09223173631211155, 0.09584866714788064, 0.007233861671538161, 0.5750920028872838, 0.052445497118651666, 0.0054253962536536205, 0.08138094380480432, 0.0018084654178845403, 0.03436084293980626, 0.0054253962536536205, 0.10671076756942208, 0.001693821707451144, 0.013550573659609152, 0.8147282412840003, 0.060977581468241185, 0.003387643414902288, 0.20130652066361002, 0.010065326033180501, 0.0028758074380515713, 0.008627422314154715, 0.21712346157289364, 0.5320243760395408, 0.025882266942464142, 0.970652755460536, 0.9734913376529909, 0.30437355758255796, 0.6640877619983083, 0.02767032341659618, 0.8999669765686086, 0.09797463197480964, 0.0013996375996401377, 0.12450354988887381, 0.02490070997777476, 0.8466241392443419, 0.9671119685178062, 0.8724401577768471, 0.9807337249833223, 0.9859907881368589, 0.9671119685178062, 0.029326618265836206, 0.14166247806378507, 0.017397146428885884, 0.09990932663445894, 0.003976490612316774, 0.07754156694017708, 0.2549924605148131, 0.2927691213318225, 0.0457296420416429, 0.014414778469648304, 0.007455919898093951, 0.0024853066326979835, 0.013420655816569111, 0.9562125938863187, 0.014254283665511005, 0.06359603481535679, 0.0073098890592364135, 0.0007309889059236413, 0.07675383512198233, 0.06980944051570774, 0.031432522954716574, 0.01096483358885462, 0.052631201226502174, 0.09173910769341699, 0.06798196825089864, 0.02375713944251834, 0.019371206006976494, 0.40971928177020095, 0.009137361324045516, 0.031798017407678396, 0.018640217101052854, 0.8544667047563175, 0.09494074497292417, 0.04747037248646208, 0.9837357534824174, 0.9847720517961807, 0.007815651204731593, 0.9656829203398982, 0.12134753100177632, 0.8774359933974596, 0.9656829203458159, 0.9656829203444203, 0.978263517079775, 0.9773772695880555, 0.16429705660196653, 0.1889247468112962, 0.018555109061823734, 0.03947177745878867, 0.024627690209329683, 0.00775940924403538, 0.28709814202930906, 0.017543012203906076, 0.04554435860629462, 0.09378764216703633, 0.07894355491757735, 0.007084678005423607, 0.0003373656193058861, 0.0074220436247294935, 0.01720564658460019, 0.0006747312386117722, 0.0006747312386117722, 0.002590077293206912, 0.19425579699051837, 0.015540463759241471, 0.05180154586413824, 0.002590077293206912, 0.1579947148856216, 0.36261082104896764, 0.20979626074975985, 0.042328575432607644, 0.10229405729546848, 0.0035273812860506367, 0.15520477658622803, 0.5890726747704563, 0.02469166900235446, 0.0035273812860506367, 0.03880119414655701, 0.03527381286050637, 0.042452109037928974, 0.9528140028512948, 0.9734106510071884, 0.03116435161238246, 0.01705219239168097, 0.11113325386302425, 0.07526484917707463, 0.022344252099444028, 0.05115657717504291, 0.28047916451144217, 0.007056079610350746, 0.10760521405784888, 0.0005880066341958955, 0.008820099512938433, 0.001176013268391791, 0.08467295532420896, 0.06291670985896082, 0.0917290349345597, 0.015876179123289178, 0.032340364880774256, 0.9675764952717033, 0.9940299899364867, 0.9660418256210093, 0.01509440352532827, 0.9366128827019683, 0.9987679186653903, 0.968969739631133, 0.18015471869466393, 0.030592310721735384, 0.013596582542993504, 0.020394873814490257, 0.7444128942288943, 0.010197436907245129, 0.00448224187237152, 0.06595298755060951, 0.10629316440195319, 0.04098049711882532, 0.07491747129535255, 0.04610305925867849, 0.048664340328605074, 0.04930466059608672, 0.22027017201368612, 0.035217614711490514, 0.10245124279706332, 0.05442722273593988, 0.012806405349632915, 0.019849928291931017, 0.01024512427970633, 0.06531266728312786, 0.04226113765378862, 0.019597804626119462, 0.03723582878962698, 0.04115538971485087, 0.35863982465798616, 0.5232613835173896, 0.011758682775671677, 0.003919560925223892, 0.005879341387835839, 0.0025170503689776677, 0.04593616923384244, 0.15857417324559306, 0.14535965880846033, 0.0629262592244417, 0.005663363330199752, 0.029575341835487597, 0.0006292625922444169, 0.011326726660399505, 0.26429028874265514, 0.17619352582843675, 0.07362372329259678, 0.0025170503689776677, 0.0006292625922444169, 0.019507140359576926, 0.9701532200861653, 0.9934703226714307, 0.9398275514265431, 0.05649236647919111, 0.9354074996226119, 0.027094804996425446, 0.07959098967699975, 0.025401379684148854, 0.12785361107688256, 0.021167816403457378, 0.03132836827711692, 0.011007264529797837, 0.0016934253122765904, 0.04064220749463817, 0.0008467126561382952, 0.0347152189016701, 0.4208161901007327, 0.1727293818522122, 0.004233563280691475, 0.6920141051310486, 0.12985537839751268, 0.014793650703514101, 0.057530863846999285, 0.0065749558682284895, 0.008218694835285612, 0.055887124879942164, 0.01972486760468547, 0.0032874779341142447, 0.0016437389670571224, 0.0065749558682284895, 0.0032874779341142447, 0.9964116599034119, 0.00367679579300152, 0.9278632883185494, 0.01688771540320974, 0.28371361877392365, 0.04593458589673049, 0.12024053367085334, 0.001351017232256779, 0.052689672058014385, 0.006079577545155506, 0.06822637022896735, 0.1378037576901915, 0.23575250702880796, 0.002702034464513558, 0.025669327412878803, 0.002026525848385169, 0.0729034423788055, 0.020655975340661558, 0.09902717589787746, 0.12758102416290962, 0.10935516356820825, 0.06318298339496477, 0.3724150848183981, 0.04920982360569371, 0.03462913512993261, 0.00850540161086064, 0.006075286864900458, 0.00425270080543032, 0.031591491697482384, 0.10291175069138081, 0.10413689058056391, 0.0012251398891831048, 0.5574386495783127, 0.07963409279690183, 0.08821007202118356, 0.06493241412670456, 0.9366084762449369, 0.9599260903163338, 0.21731706941195045, 0.0007366680319049168, 0.06409011877572776, 0.2648321574698176, 0.03388672946762617, 0.010313352446668835, 0.028361719228339296, 0.11344687691335718, 0.2195270735076652, 0.017311698749765545, 0.0040516741754770425, 0.012523356542383585, 0.01362835859024096, 0.9128514429168877, 0.08230627764004725, 0.9417721927415281, 0.08806688625750964, 0.05268630313222192, 0.05499373246647981, 0.0815291698104456, 0.025766294232546484, 0.04730230135228683, 0.13767661694405436, 0.04614858668515789, 0.10460346315302453, 0.05114801690938332, 0.03153486756819122, 0.08268288447757455, 0.07614516803051051, 0.04960973068654473, 0.026150865788256133, 0.009229717337031576, 0.034611440013868414, 0.9739432151623038, 0.1727000520565799, 0.09594447336476662, 0.027412706675647606, 0.02924022045402411, 0.001827513778376507, 0.07127303735668378, 0.004568784445941268, 0.05208414268373045, 0.26773076853215827, 0.2585931996402757, 0.0009137568891882535, 0.0009137568891882535, 0.014620110227012055, 0.0009137568891882535, 0.0009137568891882535, 0.9576905503798416, 0.12357874046188841, 0.07287977001598547, 0.022180799570082534, 0.7794966706057577, 0.0007066607300008066, 0.048052929640054844, 0.008479928760009678, 0.11023907388012583, 0.017666518250020163, 0.02049316117002339, 0.007066607300008065, 0.734220498470838, 0.007773268030008872, 0.04522628672005162, 0.9635318814741634, 0.9985092581791986, 0.9079061466548757, 0.0912148698742048, 0.9565397027249973, 0.023330236651829202, 0.06417657427657336, 0.6396500315258467, 0.17489879583066148, 0.014104741599246894, 0.0014104741599246895, 0.09520700579491653, 0.009168082039510481, 0.02967953112789809, 0.10684631206043313, 0.005935906225579618, 0.07123087470695541, 0.6232701536858599, 0.16026946809064968, 0.005409638435743698, 0.006762048044679622, 0.03719126424573792, 0.016905120111699055, 0.005409638435743698, 0.11292620234614968, 0.17040361072592647, 0.11563102156402154, 0.32660692055802576, 0.0013524096089359244, 0.0006762048044679622, 0.024343372960846637, 0.10819276871487395, 0.05206776994403309, 0.00946686726255147, 0.005409638435743698, 0.0561873575410429, 0.01560759931695636, 0.40371656899860453, 0.3423266783519095, 0.004162026484521696, 0.15919751303295487, 0.0062430397267825444, 0.01040506621130424, 0.001040506621130424, 0.006890268705657905, 0.09301862752638172, 0.051677015292434285, 0.8475030507959224, 0.9304602980740011, 0.046523014903700054, 0.9924910871539758, 0.9863054481722322, 0.9972695889091168, 0.007016553249134155, 0.6700808352923118, 0.05613242599307324, 0.05613242599307324, 0.20698832084945756, 0.1172012152909629, 0.06388426899056585, 0.06892776391087369, 0.07517209095506433, 0.08405824867179718, 0.0314618016457298, 0.28147504983813226, 0.01224848766360473, 0.1080748911494535, 0.049474283503972045, 0.01152798838927504, 0.03242246734483605, 0.00288199709731876, 0.0024016642477656335, 0.025457641026315713, 0.00144099854865938, 0.03170196807050636, 0.004644376443987354, 0.6455683257142423, 0.12539816398765857, 0.01625531755395574, 0.06037689377183561, 0.004644376443987354, 0.002322188221993677, 0.03483282332990516, 0.018577505775949417, 0.037155011551898834, 0.0510881408838609, 0.10550272172706733, 0.12436069614205039, 0.019877324383360512, 0.06574807296034631, 0.058102948197515346, 0.14882509538310948, 0.19571519392847275, 0.024974074225247823, 0.036186923877399906, 0.01885797441498305, 0.05453522330819423, 0.008664474731208429, 0.020896674351737976, 0.0076451247628309665, 0.10601239671125606, 0.0035677248893211176, 0.0005096749841887311, 0.5182997483835416, 0.4146397987068333, 0.0655807844893461, 0.9780490982258484, 0.12563043682905486, 0.028991639268243434, 0.8407575387790596, 0.16164059485393678, 0.8189790139266131, 0.01077603965692912, 0.03243746913813, 0.7201118148664859, 0.009731240741438999, 0.09731240741438998, 0.0032437469138129997, 0.04216870987956899, 0.094068660500577, 0.03152122022728358, 0.6146637944320299, 0.002251515730520256, 0.29269704496763327, 0.05853940899352666, 0.9663630314965895, 0.018406914885649325, 0.07176354074429935, 0.9259247086276671, 0.9781547022086196, 0.09089337575344678, 0.0073982980264433425, 0.07186918082830675, 0.015853495770950018, 0.0549587853392934, 0.22089204107523694, 0.017967295207076687, 0.006341398308380008, 0.0010568997180633345, 0.002113799436126669, 0.09512097462570011, 0.035934590414153374, 0.020081094643203356, 0.031706991541900036, 0.10251927265214346, 0.1986971469959069, 0.0274793926696467, 0.8622306344068608, 0.0030253706470416168, 0.08168500747012365, 0.05143130099970748, 0.0184954794201244, 0.2908834490619565, 0.6355719291642749, 0.003362814440022618, 0.0050442216600339275, 0.047079402160316655, 0.936608476192647, 0.029018052021399347, 0.20796270615336196, 0.7593056945599496, 0.98501290184126, 0.9794406797350041, 0.3764372647714033, 0.0061711027011705465, 0.5808550417476777, 0.033941064856438004, 0.0007713878376463183, 0.0015427756752926366, 0.20146252734363743, 0.013658476430077112, 0.7717039182993569, 0.010243857322557835, 0.054528487840813364, 0.018176162613604455, 0.03635232522720891, 0.7234112720214573, 0.1635854635224401, 0.01578948631445007, 0.035526344207512654, 0.03256581552355327, 0.0009868428946531293, 0.10460534683323171, 0.052302673416615854, 0.12138167604233491, 0.0671053168364128, 0.002960528683959388, 0.03157897262890014, 0.40559242970243614, 0.0009868428946531293, 0.06809215973106593, 0.002960528683959388, 0.03157897262890014, 0.02565791526098136, 0.9901129197750042, 0.05348203042080799, 0.9448492041009412, 0.998345795789116, 0.9527549876705772, 0.9650507833953129, 0.048716928668272666, 0.6637681531052151, 0.1765988664224884, 0.1035234734200794, 0.17317002340135504, 0.0024390144141035923, 0.17682854502251044, 0.017073100898725144, 0.13536529998274938, 0.4182909720187661, 0.004878028828207185, 0.04024373783270927, 0.013414579277569757, 0.01951211531282874, 0.9527754463656081, 0.9128008930459127, 0.043725725911615984, 0.09929383592429462, 0.29423769728024923, 0.1525845643790766, 0.06877692304847931, 0.14119765658959327, 0.0851740702653353, 0.003188334181055332, 0.0022773815578966657, 0.08745145182323197, 0.008198573608427996, 0.003643810492634665, 0.003188334181055332, 0.005465715738951998, 0.0018219052463173326, 0.06855276775595244, 0.03427638387797622, 0.8740477888883936, 0.9830804192274218, 0.020572188186063104, 0.061716564558189316, 0.04114437637212621, 0.8228875274425241, 0.020572188186063104, 0.0030615039278269474, 0.07041459034001979, 0.08266060605132758, 0.2663508417209444, 0.0030615039278269474, 0.10409113354611621, 0.45004107739056126, 0.018369023566961684, 0.17183818226599368, 0.788693195528535, 0.004406107237589581, 0.03084275066312707, 0.9837357534823822, 0.10926430580495868, 0.018210717634159778, 0.8680442072282828, 0.8276402658084598, 0.1460541645544341, 0.20216503800746585, 0.6557063403794781, 0.0558613920810103, 0.047881193212294546, 0.02793069604050515, 0.009310232013501717, 0.08677827349492419, 0.7438137728136358, 0.061984481067802986, 0.04958758485424239, 0.04958758485424239, 0.006198448106780299, 0.9065154008756561, 0.9354074996084925, 0.027747102123735125, 0.021218372212268036, 0.009793094867200633, 0.09140221876053924, 0.25788483150295, 0.07997694141547183, 0.00816091238933386, 0.009793094867200633, 0.0048965474336003165, 0.39498815964375883, 0.09466658371627278, 0.9536040563524775, 0.14174014251837555, 0.7979445060293734, 0.05774598398896781, 0.9794661900815662, 0.02527845294540577, 0.9605812119254193, 0.959926042555002, 0.9834467575476492, 0.24445426130034303, 0.10782414984923239, 0.0835108611577388, 0.09910307890554447, 0.0412268808247065, 0.06078322172873394, 0.012949468976991145, 0.012685194099909692, 0.12553056661368966, 0.02589893795398229, 0.07267559119739928, 0.05074077639963877, 0.03805558229972908, 0.010306720206176625, 0.014270843362398403, 0.8838754569800387, 0.10522326868809985, 0.9357472492503219, 0.9607868595880812, 0.07627203232461818, 0.02000140707813414, 0.056270625246484046, 0.011734158819172029, 0.025068430204594788, 0.1768124385707058, 0.018134609084174955, 0.10640748565567362, 0.05787073781273478, 0.11440804848692727, 0.22614924269677, 0.039736128728559826, 0.023201632210635603, 0.03706927445147527, 0.004800337698752193, 0.0021334834216676416, 0.004266966843335283, 0.9568532119944752, 0.9766703894118515, 0.9737492481542275, 0.9314741056043119, 0.18215768843359456, 0.23989138769128535, 0.050592633731058156, 0.04454088328475934, 0.10481631772989561, 0.0004841400357039058, 0.0519240188292439, 0.02699080699049275, 0.08702417141777707, 0.14257924051480025, 0.001331385098185741, 0.0082303806069664, 0.009682800714078116, 0.018155251338896467, 0.026748736972640796, 0.003994155294557223, 0.0009682800714078116, 0.9948080995653652, 0.9373354933565847, 0.056413364199965524, 0.09251791728794345, 0.08574831358394759, 0.09026138271994484, 0.03836108765597655, 0.42874156791973794, 0.09251791728794345, 0.08800484815194622, 0.024821880247984828, 0.9718919778995727, 0.0073403685196110485, 0.06606331667649944, 0.008616954349108622, 0.019467933899838, 0.01787220161296603, 0.055850630040518844, 0.00031914645737439343, 0.14329675936110264, 0.08074405371572153, 0.011170126008103768, 0.001595732286871967, 0.05712721587001642, 0.011170126008103768, 0.0035106110311183274, 0.4480816261536483, 0.015319029953970883, 0.051701726094651734, 0.0007760919937739036, 0.017850115856799784, 0.0007760919937739036, 0.10322023517192917, 0.23282759813217108, 0.2747365657959619, 0.0077609199377390355, 0.0007760919937739036, 0.03414804772605176, 0.18393380252441516, 0.04656551962643422, 0.0069848279439651325, 0.07372873940852084, 0.006208735950191229, 0.010089195919060746, 0.9926850172751891, 0.8136981553750169, 0.02113501702272771, 0.03170252553409157, 0.04227003404545542, 0.08454006809091084, 0.9628780029876772, 0.884687698511708, 0.11489450630022181, 0.9575635982802921, 0.10700102503727495, 0.06513105871834128, 0.40939522622957375, 0.058152730998518996, 0.3605469321908178, 0.9832437332904848, 0.990302510654386, 0.008962013671080417, 0.9637070497345723, 0.9790370501521234, 0.5424315566413251, 0.16437319898221975, 0.20090057653382415, 0.08949207500143075, 0.9663498550303763, 0.027414180284549682, 0.12905949005809114, 0.06022776202710921, 0.08173767703679106, 0.6797133143059467, 0.04301983001936372, 0.9853191768565454, 0.1173064531025984, 0.0007820430206839893, 0.032845806868727546, 0.0007820430206839893, 0.0007820430206839893, 0.0007820430206839893, 0.2987404339012839, 0.03753806499283149, 0.4512388229346618, 0.0586532265512992, 0.14513807904534223, 0.007379902324339436, 0.02090972325229507, 0.29273612553213096, 0.006149918603616197, 0.0750290069641176, 0.033209560459527464, 0.003689951162169718, 0.007379902324339436, 0.009839869765785915, 0.006149918603616197, 0.26198653251404996, 0.09716871393713591, 0.029519609297357745, 0.0012299837207232394, 0.0012299837207232394, 0.37468447820380163, 0.18889052206968512, 0.4335192309796052, 0.21149139616629573, 0.05767947168171702, 0.7113801507411766, 0.08322995167128765, 0.010485663202681909, 0.11698068010492005, 0.058654178540001926, 0.010813340177765718, 0.15171443946380386, 0.17923930537084387, 0.04161497583564382, 0.15073140853855244, 0.004259800676089526, 0.06913984174268384, 0.02785254288212382, 0.0304739586827943, 0.004587477651173335, 0.0203159724551962, 0.016056171779106673, 0.024248096156201913, 0.9981066377044956, 0.95286710959294, 0.9761545755993076, 0.9626937855577599, 0.08337258500798977, 0.015158651819634505, 0.007579325909817252, 0.7958292205308115, 0.007579325909817252, 0.04547595545890351, 0.037896629549086264, 0.035955400433741326, 0.9528181114941451, 0.8933408239485515, 0.08933408239485516, 0.9527549876801016, 0.29733588978454684, 0.047363239080724276, 0.4631072265670818, 0.0013156455300201188, 0.0026312910600402376, 0.03420678378052309, 0.14208971724217284, 0.011840809770181069, 0.9616038339123646, 0.917038175506573, 0.06046993437117265, 0.026875526387187845, 0.08062657916156353, 0.7592336204380566, 0.0671888159679696, 0.7636304744069601, 0.23086502714629026, 0.9540074546590449, 0.01849875950862414, 0.026426799298034487, 0.7639892259511684, 0.23490151896009567, 0.6846984789336553, 0.18141583629866082, 0.06242265335007684, 0.0019507079171899012, 0.07022548501883644, 0.2518378516246545, 0.14224756457103302, 0.00031401228382126495, 0.04364770745115583, 0.17584687893990839, 0.05275406368197252, 0.0043961719734977095, 0.0006280245676425299, 0.11335843445947666, 0.014444565055778189, 0.04082159689676445, 0.0006280245676425299, 0.13659534346225027, 0.01915474931309716, 0.0043961719734977095, 0.9791013599888198, 0.9983249321901727, 0.10278641591274415, 0.028780196455568362, 0.1562353521873711, 0.028780196455568362, 0.04522602300160743, 0.008222913273019532, 0.04933747963811719, 0.47692896983513283, 0.09867495927623438, 0.152072770867062, 0.007838802622013506, 0.1802924603063106, 0.004703281573208103, 0.04076177363447023, 0.4358374257839509, 0.17715693925750522, 0.000832334944503568, 0.3021375848547952, 0.009988019334042817, 0.1223532368420245, 0.1198562320085138, 0.000832334944503568, 0.001664669889007136, 0.0391197423916677, 0.010820354278546385, 0.3728860551375985, 0.017479033834574928, 0.001664669889007136, 0.000832334944503568, 0.9061237723934245, 0.06566114292705974, 0.013132228585411949, 0.9872525426458364, 0.9408367382166909, 0.8515495386197086, 0.03281833921658106, 0.022454653148187044, 0.017272810113990032, 0.07254580247875814, 0.05775717298197258, 0.10953946600029284, 0.4291955440556928, 0.01792463989095701, 0.0069706932909277255, 0.0069706932909277255, 0.011949759927304673, 0.18223383889139624, 0.04481159972739252, 0.09659389274571277, 0.0069706932909277255, 0.0069706932909277255, 0.021907893200058568, 0.0019903763247014917, 0.9951881623507459, 0.9864538183423677, 0.010040242425876516, 0.929992021355616, 0.15926918868770093, 0.31601029501527966, 0.522049007365242, 0.9979781921655682, 0.1711375769898016, 0.012446369235621934, 0.0031115923089054835, 0.6098720925454748, 0.14002165390074675, 0.024892738471243868, 0.018669553853432903, 0.021781146162338384, 0.2087582881602747, 0.7733545675028358, 0.014233519647291457, 0.11245822659582999, 0.02788782635340139, 0.1052028571380345, 0.30404532634074194, 0.02539379310228419, 0.05509546182013445, 0.11177803570916166, 0.005441527093346612, 0.15213602831814904, 0.0009069211822244354, 0.007028639162239374, 0.007482099753351592, 0.04829355295345118, 0.01360381773336653, 0.007028639162239374, 0.00022673029555610885, 0.016097850984483728, 0.16092232096832562, 0.17701455306515818, 0.6544174386045242, 0.033968420279654646, 0.1132280675988488, 0.7812736664320568, 0.03962982365959709, 0.033968420279654646, 0.9639021298388447, 0.9596979493577775, 0.9863192897004174, 0.9556339543759097, 0.9191779364207625, 0.05744862102629766, 0.9694150132100559, 0.9529266500513955, 0.9468015723959359, 0.18932475140433375, 0.00591639848138543, 0.7336334116917933, 0.02366559392554172, 0.04733118785108344, 0.9882006267729254, 0.08263180406191514, 0.04131590203095757, 0.8469759916346302, 0.10846752838759545, 0.021498068689433332, 0.13876026154088789, 0.0029315548212863634, 0.15928114528989243, 0.03224710303415, 0.056676726544869695, 0.05374517172358333, 0.014657774106431818, 0.020520883749004546, 0.33517443456707424, 0.05374517172358333, 0.0039087397617151515, 0.9318753432239335, 0.02276336716272204, 0.04552673432544408, 0.03219896923116875, 0.27369123846493437, 0.6158052865461023, 0.03622384038506484, 0.03219896923116875, 0.016099484615584376, 0.0027272027356824145, 0.05818032502789151, 0.30090136850362637, 0.12272412310570865, 0.008181608207047244, 0.21090367822610673, 0.0009090675785608048, 0.024544824621141728, 0.2545389219970253, 0.008181608207047244, 0.008181608207047244, 0.16157999369716397, 0.833752767477366, 0.009530506826489689, 0.9864074565416827, 0.9938432389007698, 0.9880474921783969, 0.9354311363600802, 0.025281922604326493, 0.012703422727953917, 0.48957036820807015, 0.09380989091412123, 0.09283270455043247, 0.026384031819596594, 0.003908745454755051, 0.02833840454697412, 0.08012928182247855, 0.012703422727953917, 0.03713308182017298, 0.10944487273314144, 0.007817490909510103, 0.0019543727273775256, 0.9969045277219087, 0.9545574358794697, 0.0431709393111318, 0.9675470323059066, 0.2568825997428743, 0.06701285210683677, 0.6440679674712646, 0.03350642605341839, 0.1426720611328661, 0.757520705538789, 0.003396953836496812, 0.05265278446570058, 0.042461922956210145, 0.9915973619760771, 0.9817299756167378, 0.9809557148103694, 0.9974482082405108, 0.7492121168673266, 0.003517427778719843, 0.014069711114879372, 0.1231099722551945, 0.007034855557439686, 0.049243988902077804, 0.04572656112335796, 0.010552283336159528, 0.00941240251603793, 0.0015687337526729883, 0.5746047631219345, 0.15059844025660687, 0.0006723144654312807, 0.01792838574483415, 0.013446289308625613, 0.09098655765503331, 0.05221642348182946, 0.00044820964362085375, 0.001792838574483415, 0.07641974423735556, 0.004930306079829391, 0.004706201258018965, 0.9586748637534936, 0.96370703431539, 0.4057634975099113, 0.01674266858657401, 0.10341060009354536, 0.12507758297028818, 0.01674266858657401, 0.05810690862399215, 0.0906073829391064, 0.08863765722303887, 0.04136424003741814, 0.04431882861151944, 0.0029545885741012958, 0.004924314290168826, 0.08812089582086527, 0.08812089582086527, 0.03133187406964099, 0.7930880623877875, 0.10624960305203605, 0.2124992061040721, 0.6707006192659776, 0.9608542048218061, 0.14725582275471105, 0.847990427587474, 0.12767483600813914, 0.8697848203054478, 0.9469602172346236, 0.05037022432099062, 0.004143838678641692, 0.6864959410949737, 0.30802534177903246, 0.0014668357059363939, 0.2376273843616958, 0.6542087248476316, 0.09241064947399281, 0.0058673428237455754, 0.0073341785296819695, 0.6603343820681811, 0.06996920604695958, 0.002186537688967487, 0.11151342213734183, 0.12681918596011424, 0.013119226133804921, 0.013119226133804921, 0.0016493970218236273, 0.5371536301072279, 0.07477266498933777, 0.059928091792925124, 0.1050116103894376, 0.0010995980145490848, 0.008796784116392679, 0.0505815086692579, 0.1605413101241664, 0.9228561403267141, 0.8429744576352779, 0.08873415343529241, 0.06785552909757654, 0.01279355602821099, 0.07932004737490814, 0.6447952238218339, 0.020469689645137585, 0.02558711205642198, 0.015352267233853188, 0.07420262496362375, 0.010234844822568792, 0.028145823262064176, 0.06396778014105495, 0.005117422411284396, 0.01279355602821099, 0.11358310968052808, 0.8802691000240926, 0.1811744572963731, 0.11568696454566897, 0.006160844265745685, 0.1709063835201303, 0.026012453566481783, 0.017797994545487535, 0.0013690765034990412, 0.03468327142197571, 0.2918414746625456, 0.06480295449895461, 0.04723313937071692, 0.004791767762246644, 0.03628052734272459, 0.0002281794172498402, 0.0006845382517495206, 0.9890527656834428, 0.024627115314480075, 0.05039967785288946, 0.014890813911080976, 0.08419037095880398, 0.27433461013106875, 0.10767203904935474, 0.1288628126920469, 0.014890813911080976, 0.05097240146485411, 0.16208078218599678, 0.013172643075187016, 0.058990532032359246, 0.010309025015363751, 0.005154512507681876, 0.1459552547926008, 0.48297920676824263, 0.021524714343151227, 0.0002948591005911127, 0.18074862866235208, 0.0008845773017733381, 0.04629287879280469, 0.07961195715960043, 0.002064013704137789, 0.0005897182011822254, 0.02919105095852016, 0.00973035031950672, 0.6516949484162893, 0.01191317779772499, 0.020296525136864797, 0.004412288073231478, 0.05515360091539347, 0.006618432109847217, 0.002206144036615739, 0.022061440366157387, 0.006618432109847217, 0.06088957541059439, 0.10412999852826288, 0.022061440366157387, 0.01985529632954165, 0.008824576146462955, 0.0008824576146462956, 0.0026473728439388865, 0.9952658627734787, 0.9371531119873634, 0.10446309480426771, 0.08382840941083212, 0.08511807724792185, 0.27083024578884224, 0.011607010533807523, 0.0006448339185448625, 0.012896678370897249, 0.008382840941083212, 0.09994925737445368, 0.09865958953736395, 0.09156641643337046, 0.04578320821668523, 0.015476014045076699, 0.001289667837089725, 0.02643819066033936, 0.04384870646105065, 0.9181878683941224, 0.9346835396813333, 0.9767499883751533, 0.07330604154231549, 0.06108836795192957, 0.01832651038557887, 0.1832651038557887, 0.054979531156736615, 0.6047748427241028, 0.7000138300354829, 0.002966160296760521, 0.005932320593521042, 0.14830801483802603, 0.029661602967605206, 0.10974793098013927, 0.002966160296760521, 0.9971478922878316, 0.20771004759645045, 0.13389573316134823, 0.045490217035586256, 0.4832262677553785, 0.11930453147068848, 0.010299671781642171, 0.11574673932042774, 0.13641579991336128, 0.14054961203194796, 0.19428916957357514, 0.4092473997400838, 0.9840136677497606, 0.9895649682641424, 0.06430399179724809, 0.8916820195885068, 0.04286932786483206, 0.9714561309727127, 0.08649637487502226, 0.15746775938786106, 0.02217855766026212, 0.0066535672980786355, 0.028832124958340755, 0.08206066334296984, 0.02217855766026212, 0.05988210568270772, 0.05101068261860288, 0.013307134596157271, 0.002217855766026212, 0.028832124958340755, 0.026614269192314542, 0.002217855766026212, 0.36816405716035117, 0.02217855766026212, 0.01996070189423591, 0.03219895386500044, 0.09659686159500133, 0.04024869233125056, 0.009659686159500133, 0.1022316785213764, 0.02253926770550031, 0.027369110785250377, 0.048298430797500666, 0.004829843079750066, 0.10947644314100151, 0.03863874463800053, 0.0796924108158761, 0.14811518777900204, 0.027369110785250377, 0.0796924108158761, 0.07244764619625099, 0.05956806465025082, 0.028991733116967112, 0.03727508543610057, 0.031062571196750478, 0.07662100895198451, 0.002070838079783365, 0.018637542718050286, 0.07869184703176788, 0.5301345484245414, 0.047629275835017394, 0.05591262815415086, 0.051770951994584126, 0.035204247356317206, 0.002070838079783365, 0.9626670029615485, 0.03346424195973656, 0.11154747319912185, 0.011154747319912185, 0.8254513016735018, 0.011154747319912185, 0.8648746219715032, 0.12138591185564958, 0.036634763216582336, 0.13607197766159151, 0.06803598883079576, 0.6751263507055887, 0.057568913626057955, 0.026167688011844523, 0.9329784161829566, 0.03931899892858392, 0.10248722671548922, 0.5330624936711296, 0.019981786340755762, 0.011602327552696894, 0.02191550759953858, 0.0012891475058552104, 0.0038674425175656314, 0.2668535337120286, 0.09785740524207455, 0.002386765981514013, 0.023867659815140135, 0.27447808787411154, 0.026254425796654147, 0.031027957759682173, 0.004773531963028026, 0.49644732415491477, 0.026254425796654147, 0.011933829907570068, 0.963063354001006, 0.04934760358210776, 0.9376044680600475, 0.9864503493713831, 0.06137950870492971, 0.0424935060264898, 0.8120981151729162, 0.014164502008829934, 0.06137950870492971, 0.11951539081458944, 0.05179000268632209, 0.7848177330158039, 0.03983846360486314, 0.0039838463604863145, 0.9803399312608913, 0.018661609688272324, 0.15240314578755731, 0.003110268281378721, 0.02799241453240849, 0.6593768756522889, 0.05598482906481698, 0.003110268281378721, 0.04354375593930209, 0.02799241453240849, 0.21565331000959795, 0.6338900324524546, 0.15030382212790158, 0.005137130995051025, 0.9657806270695928, 0.025685654975255125, 0.9808179103949695, 0.09754815873851373, 0.015301671958982547, 0.01147625396923691, 0.1568421375795711, 0.05546856085131173, 0.009563544974364091, 0.06694481482054865, 0.5833762434362096, 0.003825417989745637, 0.9523117553251206, 0.02489703935490511, 0.018672779516178833, 0.7697381939911399, 0.22240742399743996, 0.0004343894999949999, 0.006950231999919999, 0.008648761701816813, 0.8735249318834981, 0.05189257021090088, 0.06054133191271769, 0.05799561077233328, 0.04027472970300922, 0.03383077295052775, 0.4945736807529532, 0.06282857833669439, 0.009665935128722214, 0.26259123766362014, 0.022553848633685165, 0.016109891881203688, 0.16301576349118568, 0.1253967411470659, 0.1442062523191258, 0.4932271818451259, 0.02298940254362875, 0.0020899456857844316, 0.0020899456857844316, 0.0459788050872575, 0.9552988541027149, 0.9220367146811211, 0.9942928401291099, 0.9785157979589735, 0.04554606388782924, 0.0011386515971957309, 0.026188986735501813, 0.028466289929893276, 0.06034853465137374, 0.014802470763544504, 0.05579392826259082, 0.009109212777565847, 0.17876830075972977, 0.4998680511689259, 0.06490314104015667, 0.006831909583174386, 0.006831909583174386, 0.9029020103280646, 0.09380800107304567, 0.029793087166752552, 0.4491307890387947, 0.38805496034695197, 0.12289648456285428, 0.0007448271791688138, 0.0007448271791688138, 0.008193098970856951, 0.0018505389600632959, 0.04996455192170899, 0.07587209736259513, 0.12398611032424083, 0.07587209736259513, 0.2165130583274056, 0.005551616880189888, 0.08327425320284831, 0.00925269480031648, 0.35715401929221613, 0.9771792962597635, 0.39330390391588294, 0.5402753627476077, 0.012420123281554198, 0.05175051367314249, 0.08812457922439354, 0.16405582044289616, 0.5542426366314059, 0.0005542426366314059, 0.04156819774735544, 0.1513082398003738, 0.9902258717861593, 0.16882972241644084, 0.021103715302055105, 0.002009877647814772, 0.3145458518830118, 0.06632596237788747, 0.024118531773777263, 0.27635817657453116, 0.11757784239716416, 0.001004938823907386, 0.0050246941195369295, 0.001004938823907386, 0.003014816471722158, 0.12373191531176944, 0.06212699545190111, 0.11381247906314658, 0.35083479784602983, 0.0005220755920327825, 0.001044151184065565, 0.01461811657691791, 0.015140192168950692, 0.06212699545190111, 0.0036545291442294774, 0.008875285064557302, 0.07517888525272068, 0.16393173589829368, 0.00417660473626226, 0.932435989253627, 0.9650043423813323, 0.9117874102982284, 0.07294299282385827, 0.9665398971184663, 0.015341903128864545, 0.9438214944583896, 0.9633949646177444, 0.08188265426684373, 0.8279246153647533, 0.07278458157052776, 0.9580278757569041, 0.919093261152603, 0.9884018195213262, 0.9931512652691639, 0.13313396128314914, 0.01916850227898744, 0.03241219476265149, 0.2798601332732166, 0.0013940728930172683, 0.1038584305297865, 0.053323288157910514, 0.0010455546697629512, 0.09619102961819152, 0.02509331207431083, 0.009758510251120879, 0.0027881457860345366, 0.16589467426905494, 0.04007959567424647, 0.0027881457860345366, 0.031715158316142855, 0.9272528601266076, 0.05954834881547021, 0.5008473722260116, 0.0009576431591319534, 0.026814008455694694, 0.03351751056961837, 0.016279933705243207, 0.00574585895479172, 0.018195220023507114, 0.18290984339420308, 0.07852673904882017, 0.1005525317088551, 0.0038305726365278135, 0.03160222425135446, 0.9955688337748685, 0.9784780979517415, 0.8938804548661332, 0.09663572485039279, 0.9856979096318115, 0.9631113904999539, 0.017511116190908255, 0.955633981017122, 0.016571621048882434, 0.9280107787374163, 0.0497148631466473, 0.9151251935571232, 0.035197122829120124, 0.08817438297073735, 0.011869628476830027, 0.24587087559147913, 0.15091384777683892, 0.5019157184488126, 0.9689033504188211, 0.002483698168154972, 0.26327200582442706, 0.17385887177084805, 0.013660339924852346, 0.22974208055433493, 0.004967396336309944, 0.0707853977924167, 0.23967687322695483, 0.02123802526418399, 0.936832892209005, 0.040116269943458654, 0.00345807794152737, 0.08299387059665687, 0.9094744986216983, 0.03631745804969886, 0.953333273804595, 0.9864140024233721, 0.023842253582441773, 0.9722341183062366, 0.04131299512697236, 0.03098474634522927, 0.9088858927933919, 0.01032824878174309, 0.2806326378083246, 0.00048468503939261585, 0.0019387401575704634, 0.03489732283626834, 0.018418031496919403, 0.3896867716716631, 0.04119822834837235, 0.023264881890845558, 0.11535503937544257, 0.08191177165735207, 0.0019387401575704634, 0.009693700787852316, 0.352228678115149, 0.0022434947650646435, 0.033652421475969654, 0.04823513744888984, 0.04262640053622823, 0.0033652421475969655, 0.2826803403981451, 0.18621006550036542, 0.04374814791876055, 0.0011217473825323218, 0.0033652421475969655, 0.027354928311985702, 0.273549283119857, 0.14160198185027892, 0.03540049546256973, 0.006436453720467224, 0.003218226860233612, 0.14482020871051254, 0.004827340290350418, 0.030573155172219313, 0.2992950980017259, 0.001609113430116806, 0.030573155172219313, 0.02610906317771803, 0.05221812635543606, 0.8877081480424129, 0.04695862904680835, 0.9391725809361671, 0.9780490982347559, 0.056583004071992064, 0.8002453433038879, 0.1454991533279796, 0.9864404604343968, 0.018687741125333147, 0.9811064090799902, 0.9422809944238822, 0.9699187592216507, 0.02486971177491412, 0.045675756467645205, 0.9363530075867268, 0.9460092219192254, 0.0009042028785939872, 0.12839680876034618, 0.04249753529391739, 0.0009042028785939872, 0.0018084057571879743, 0.5262460753417005, 0.29205752978585786, 0.00632942015015791, 0.9873192739751226, 0.9775467374101813, 0.12359380293526295, 0.8033597190792092, 0.05561721132086833, 0.012359380293526295, 0.007428760581848992, 0.054654452852174726, 0.04775631802617209, 0.15971835250975333, 0.1575958494863679, 0.21278092809438898, 0.01857190145462248, 0.09498201029649782, 0.03077629383908868, 0.04351131197940124, 0.03236817110662775, 0.0965738875640369, 0.003714380290924496, 0.039266305932630384, 0.008980333868963145, 0.02641274667342101, 0.07342743575211041, 0.016904157870989447, 0.03486482560891573, 0.06286233708274201, 0.32012248968186263, 0.09244461335697354, 0.10512273176021562, 0.008452078935494723, 0.004754294401215782, 0.02271496213914207, 0.03486482560891573, 0.015847648004052608, 0.10406622189327878, 0.061805827215805166, 0.005282549334684202, 0.9689033504101217, 0.9643631316138667, 0.985360376347861, 0.9897765159717973, 0.07374379212342792, 0.034140644501587, 0.02321563826107916, 0.0204843867009522, 0.00273125156012696, 0.009559380460444359, 0.038237521841777436, 0.22532825371047419, 0.3004376716139656, 0.14612195846679235, 0.00136562578006348, 0.12427194598577668, 0.9914718096240777, 0.0011836675834548105, 0.14243466587572887, 0.41092992938939504, 0.050305872296829444, 0.07812206050801748, 0.012823065487427112, 0.00019727793057580173, 0.018938681335276968, 0.03511547164249271, 0.002761891028061224, 0.13040071211060494, 0.019925070988155977, 0.03925830818458455, 0.03965286404573615, 0.0009863896528790087, 0.00019727793057580173, 0.016571346168367345, 0.13860869377787222, 0.09069457741021268, 0.5253440616025528, 0.023957058183829764, 0.006844873766808504, 0.027379495067234017, 0.054758990134468034, 0.032513150392340394, 0.049625334809361654, 0.05133655325106378, 0.017509893438652994, 0.9630441391259147, 0.0025645859004341243, 0.03162989277202087, 0.0008548619668113748, 0.0008548619668113748, 0.020516687203472994, 0.10771260781823323, 0.06667923341128723, 0.004274309834056874, 0.7163743281879321, 0.04872713210824837, 0.0008548619668113748, 0.9900036486643802, 0.16139361847240816, 0.04537584161524574, 0.17015940605717153, 0.05362599463619951, 0.008250153020953771, 0.012375229531430658, 0.024234824499051705, 0.44808643595055175, 0.0623917822209629, 0.01392213322285949, 0.9775637864146794, 0.04770482491767264, 0.8205229885839693, 0.02862289495060358, 0.09540964983534528, 0.9701547234894738, 0.9624378620819749, 0.025665009655519332, 0.9737492481319718, 0.9496777132673564, 0.8624108715318672, 0.04172955829992906, 0.09736896936650115, 0.09558274864488989, 0.879361287532987, 0.00955827486448899, 0.8455536094338373, 0.14965550609448447, 0.9717707039121936, 0.014083633390031792, 0.9844936226739635, 0.9963148932087472, 0.0019768152643030697, 0.94377220374486, 0.9228561404028582, 0.9444199697172969, 0.003935083207155404, 0.04722099848586485, 0.970815007450478, 0.9994752488602445, 0.9945982352377596, 0.9690194396877843, 0.9896656282358359, 0.08515758128332883, 0.0510945487699973, 0.017031516256665765, 0.8430600547049554, 0.9086621681133498, 0.08003760030013962, 0.0047080941353023304, 0.10357650706364474, 0.8804003100409803, 0.012185471419252322, 0.9285388170430199, 0.009134438402005, 0.13930018563057625, 0.13473296642957375, 0.7147698049568912, 0.9465430110063576, 0.03005253002858184, 0.15658949856997906, 0.028470817921814374, 0.0015817121067674652, 0.12021012011432736, 0.15342607435644412, 0.007908560533837327, 0.03796109056241917, 0.03005253002858184, 0.39068289037156395, 0.0363793784556517, 0.006326848427069861, 0.23631344528999912, 0.7426993994828543, 0.013503625445142808, 0.9791804896552544, 0.9520315857744094, 0.9883851913882025, 0.74309819624963, 0.08980038625373173, 0.011225048281716466, 0.005238355864801017, 0.000748336552114431, 0.14891897387077177, 0.10408317038034032, 0.012744878005755958, 0.031862195014389895, 0.04248292668585319, 0.1465660970661935, 0.010620731671463298, 0.05522780469160915, 0.04673121935443851, 0.061600243694487127, 0.4630639008757998, 0.023365609677219255, 0.02941620128416517, 0.01103107548156194, 0.08457157869197486, 0.14248472497017506, 0.009192562901301616, 0.31714342009490576, 0.02941620128416517, 0.012869588061822262, 0.036770251605206465, 0.036770251605206465, 0.021142894672993715, 0.1029567044945781, 0.019304382092733392, 0.0073540503210412925, 0.13788844351952423, 0.03417693703173692, 0.02285582663997407, 0.0352449663139787, 0.013884380669143126, 0.29968901659704317, 0.07326680876178603, 0.11662879762080225, 0.08330628401485875, 0.06920829748926727, 0.037167419022013905, 0.011748322104659568, 0.031186455041459945, 0.019651738793248733, 0.03631299559622048, 0.08608316014868737, 0.007689810832140808, 0.02178779735773229, 0.8407917991152891, 0.1483750233732863, 0.40159163389818936, 0.11498563876572089, 0.06435763363753035, 0.3543960358973338, 0.009439119600171119, 0.0008581017818337379, 0.048911801564523065, 0.005148610691002428, 0.9280647631678193, 0.058004047697988705, 0.9946947729061868, 0.046551873989433196, 0.1280176534709413, 0.8030198263177226, 0.01745695274603745, 0.9431424102951504, 0.9692857776489527, 0.34035550712723656, 0.5893192577110485, 0.003151439880807746, 0.06302879761615492, 0.019584421200780872, 0.7703205672307143, 0.03264070200130145, 0.05222512320208232, 0.07180954440286319, 0.02611256160104116, 0.02611256160104116, 0.9782380006387487, 0.0144821409167896, 0.0144821409167896, 0.9558213005081135, 0.024256391417892417, 0.24256391417892417, 0.7276917425367726, 0.004851278283578483, 0.03849595316454067, 0.0036662812537657783, 0.25297340650983874, 0.48028284424331696, 0.031163390657009116, 0.06049364068713534, 0.08799075009037868, 0.012831984388180225, 0.027497109403243337, 0.0036662812537657783, 0.9410746614253791, 0.9288079973204258, 0.9312196096574704, 0.027388812048749128, 0.11162008153551105, 0.5538073276184972, 0.1867489825690281, 0.05151696070869741, 0.036491180501994, 0.008586160118116234, 0.0021465400295290586, 0.04722388064963929, 0.0038240006635856106, 0.08030401393529782, 0.01593333609827338, 0.599093437295079, 0.1287413556740489, 0.17144269641742155, 0.9818141067784981, 0.011389279447027972, 0.022778558894055945, 0.14236599308784964, 0.808638840738986, 0.011389279447027972, 0.966122351689131, 0.05187199904389468, 0.946663982551078, 0.9630471375285173, 0.021641508708506008, 0.9476166758473961, 0.9864311369870018, 0.9464294616255786, 0.988024469348781, 0.10921753668253337, 0.8821416424358465, 0.9650043424881116, 0.9841858087136967, 0.9986800158616101, 0.024627099857639424, 0.2658770392397577, 0.022953413459547427, 0.021518825118325712, 0.14752350108896625, 0.02390980568702857, 0.11596255758208855, 0.1068768314210177, 0.038494787156116, 0.05690533753512799, 0.07866326071032399, 0.014345883412217141, 0.012433098957254855, 0.0026300786255731424, 0.02988725710878571, 0.011954902843514284, 0.025344394028250283, 0.1284061488347088, 0.08354134984426838, 0.004641186102459355, 0.0061882481366124726, 0.18874156816668042, 0.4610244861776292, 0.0510530471270529, 0.04022361288798107, 0.0069617791536890315, 0.0015470620341531181, 0.027073585597679566, 0.9785306603653934, 0.9586977449931846, 0.9806540763249947, 0.919093261175562, 0.9169196622247018, 0.010419541616189793, 0.06772702050523365, 0.24466786818451694, 0.02753384841392712, 0.07807065879391993, 0.10665009638812277, 0.034504442949098546, 0.03659562130964997, 0.08225301551502279, 0.022305902512548555, 0.12512217190632705, 0.0724941831657828, 0.022654432239307125, 0.016380897157652844, 0.02753384841392712, 0.0676147669911628, 0.012895599890067132, 0.0020911783605514268, 0.02160884305903141, 0.9239326852833699, 0.00339581303634019, 0.04414556947242247, 0.057728821617783234, 0.026034566611941458, 0.01018743910902057, 0.0045277507151202535, 0.142624147526288, 0.05886075929656329, 0.11772151859312659, 0.04414556947242247, 0.39504624989424214, 0.01358325214536076, 0.022638753575601266, 0.05999269697534336, 0.008943125751804401, 0.47398566484563326, 0.19575508590060745, 0.05266507387173703, 0.01391152894725129, 0.2543822436068807, 0.04110163458990181, 0.04110163458990181, 0.9101076230621115, 0.005871662084271687, 0.9565031662237312, 0.14645799435869775, 0.09226853644597957, 0.23579737091750336, 0.013181219492282797, 0.09373311638956655, 0.007322899717934887, 0.008787479661521864, 0.35296376640446153, 0.048331138138370255, 0.813901958163121, 0.007432894595096997, 0.12264276081910044, 0.05203026216567897, 0.011085281979364644, 0.9865900961634533, 0.8138579709025522, 0.04858853557627177, 0.0850299372584756, 0.024294267788135884, 0.8945389781576465, 0.09803166883919415, 0.9949739922418358, 0.9558626249738215, 0.9648904239812861, 0.052632389592796563, 0.7368534542991519, 0.01973714609729871, 0.1118438278846927, 0.026316194796398282, 0.03947429219459742, 0.970952488533565, 0.361220499931573, 0.02693847796099867, 0.0004081587569848283, 0.0008163175139696565, 0.5191779388847015, 0.08734597399475326, 0.0036734288128634548, 0.9298706918756205, 0.05660082472286386, 0.07839731533308232, 0.027033557011407697, 0.0027033557011407697, 0.05136375832167462, 0.37846979815970777, 0.0973208052410677, 0.00811006710342231, 0.0027033557011407697, 0.05947382542509693, 0.27844563721749926, 0.013516778505703849, 0.08437163770212948, 0.03937343092766043, 0.016874327540425896, 0.8380916011744862, 0.02249910338723453, 0.9558626249452281, 0.012754419349480132, 0.65472685993998, 0.0014171577054977924, 0.0014171577054977924, 0.039680415753938186, 0.021257365582466884, 0.025508838698960264, 0.16013882072125055, 0.08361230462436975, 0.012454947623939509, 0.00045290718632507305, 0.08333492228381344, 0.4042196637951277, 0.012002040437614436, 0.0378177500581436, 0.020380823384628287, 0.12477592983255763, 0.00022645359316253653, 0.038950018023956284, 0.26495070400016774, 0.00022645359316253653, 0.9899943101225233, 0.9612709784918367, 0.06103348959253696, 0.05090051641694202, 0.058441333663896394, 0.08907590372964853, 0.028513715215046226, 0.06621780144981809, 0.24295570567531122, 0.01131122587043156, 0.19629689895978103, 0.020737247429124528, 0.05584917773525583, 0.018380742039451285, 0.02026594635118988, 0.02097289796809185, 0.045951855098628216, 0.0035347580845098625, 0.009426021558692967, 0.9711550275760703, 0.9863452916965644, 0.020455030372807825, 0.050751631962721304, 0.07390827012061696, 0.024507442050439563, 0.07004883042763435, 0.22114589440790347, 0.0729434101973713, 0.07159260630482739, 0.056926735471493475, 0.03724359303728217, 0.08220606546052957, 0.003280523739035217, 0.013122094956140869, 0.07699582187500303, 0.037629537006580435, 0.06754019462719565, 0.019490170449562173, 0.9889165395994458, 0.07427277891877229, 0.03794959506798584, 0.002168548289599191, 0.016264112171993934, 0.10463245497316097, 0.4808755832186206, 0.25209373866590595, 0.0010842741447995956, 0.02927540190958908, 0.9220367234131854, 0.032233762747218744, 0.004204403836593749, 0.056058717821249986, 0.0014014679455312496, 0.5339592872474062, 0.0028029358910624993, 0.34335964665515617, 0.023824955074031245, 0.027059219688932372, 0.9606022989570993, 0.013357546932305597, 0.9751009260583087, 0.04705601479830975, 0.018822405919323902, 0.762307439732618, 0.018822405919323902, 0.1317568414352673, 0.014116804439492927, 0.9278632882753257, 0.0018181096345067232, 0.8836012823702675, 0.11272279733941684, 0.9956323664796565, 0.1675301141352877, 0.735935858522871, 0.08974827542961841, 0.9663144820891434, 0.022577441170307088, 0.009030976468122835, 0.02108609448882085, 0.9699603464857591, 0.9904582262433681, 0.9720636749921364, 0.928540070317209, 0.9692814343849374, 0.9549475611810839, 0.662370220055811, 0.057957394254883464, 0.01931913141829449, 0.027598759168992126, 0.0027598759168992125, 0.008279627750697637, 0.0855561534238756, 0.013799379584496063, 0.057957394254883464, 0.057957394254883464, 0.008279627750697637, 0.7152419409263218, 0.011841753988846387, 0.07105052393307833, 0.035525261966539164, 0.021315157179923497, 0.11368083829292532, 0.021315157179923497, 0.007105052393307832, 0.99913341570074, 0.04565035618551244, 0.9320281054542124, 0.01902098174396352, 0.06329870259136128, 0.8703571606312175, 0.05538636476744112, 0.022539488769159403, 0.0005879866635432888, 0.47685718413360717, 0.26008610084064804, 0.0005879866635432888, 0.0993697461388158, 0.06938242629810806, 0.029791324286193296, 0.033711235376481886, 0.002351946654173155, 0.004899888862860739, 0.8106594797565421, 0.14004093202606932, 0.04536537234647316, 0.00394481498664984, 0.9542323048474771, 0.07080671089283073, 0.9204872416067995, 0.9797983267010641, 0.993323900041386, 0.962514157929289, 0.9986300203728073, 0.9698095203402097, 0.01940432133882455, 0.0021560357043138387, 0.1444543921890272, 0.13798628507608568, 0.06252503542510134, 0.008624142817255355, 0.47217181924473073, 0.0021560357043138387, 0.02587242845176607, 0.04958882119921829, 0.028028464156079905, 0.04527674979059062, 0.9441111286044274, 0.014293559586829032, 0.9791088316977887, 0.8833988351298988, 0.06795375654845376, 0.9681332529954592, 0.9448209550846638, 0.9671458867362109, 0.33623064798316754, 0.6588303237508012, 0.9706026474880488, 0.07996682159059074, 0.09842070349611168, 0.018453881905520938, 0.7381552762208375, 0.05536164571656282, 0.16227617602464356, 0.8351286131999949, 0.9933808915590965, 0.08914295670197264, 0.8914295670197264, 0.014857159450328773, 0.9915339847964926, 0.9347666705033746, 0.96612533272731, 0.9431754456264478, 0.00278329292365023, 0.05149091908752925, 0.009741525232775805, 0.7125229884544588, 0.050099272625704135, 0.00278329292365023, 0.06401573724395529, 0.07097396955308086, 0.03479116154562787, 0.9664298230540805, 0.022475112164048384, 0.07097396323907577, 0.1596914172879205, 0.0009338679373562601, 0.0009338679373562601, 0.1970461347821709, 0.04109018924367545, 0.3772826466919291, 0.0037354717494250404, 0.0635030197402257, 0.04202405718103171, 0.009338679373562602, 0.011206415248275122, 0.021478962559193984, 0.0997984239383761, 0.031309309470863085, 0.09523248297387522, 0.03717980499664992, 0.09197109657066031, 0.008479604648358752, 0.022177427541861354, 0.016959209296717504, 0.23481982103147314, 0.15654654735431545, 0.05218218245143848, 0.05218218245143848, 0.030004754909577127, 0.03457069587407799, 0.03717980499664992, 0.9782641797832263, 0.020433716548996894, 0.09845186127741744, 0.11635219969149334, 0.7518142133911877, 0.017900338414075897, 0.008950169207037948, 0.010883763420901079, 0.7110725434988705, 0.02539544798210252, 0.021767526841802158, 0.22130318955832196, 0.00725584228060072, 0.9863196143889704, 0.9767264716416122, 0.9766373549808328, 0.9959039762567814, 0.02746174390351164, 0.7414670853948142, 0.08238523171053491, 0.1373087195175582, 0.0018175930051704894, 0.38987369960907, 0.0054527790155114685, 0.0009087965025852447, 0.3998704611375077, 0.14268105090588343, 0.05816297616545566, 0.0842821248347982, 0.9030227660871235, 0.9128008930852252, 0.14464996047819895, 0.010332140034157068, 0.7955747826300942, 0.030996420102471202, 0.015498210051235601, 0.0449277456032936, 0.22659210826008946, 0.7266574506271835, 0.006921165748712482, 0.003460582874356241, 0.027684662994849927, 0.9585814561966787, 0.24111607431568993, 0.01048330757894304, 0.026208268947357602, 0.7233482229470698, 0.06738986351514703, 0.00962712335930672, 0.6450172650735502, 0.20216959054544112, 0.060971781275609226, 0.012836164479075627, 0.620146773708337, 0.01218145448355662, 0.05537024765253009, 0.050940627840327685, 0.03322214859151806, 0.009966644577455417, 0.011074049530506018, 0.008859239624404816, 0.19379586678385533, 0.005537024765253009, 0.013154619479548806, 0.23130205918206653, 0.01973192921932321, 0.11839157531593926, 0.0010962182899624006, 0.3935423660965018, 0.1951268556133073, 0.004384873159849602, 0.023020584089210414, 0.0071017182952965874, 0.010652577442944882, 0.5858917593619685, 0.021305154885889764, 0.09232233783885564, 0.24145842204008397, 0.03905945062413123, 0.00043871139500246823, 0.021058146960118474, 0.3123625132417574, 0.10441331201058744, 0.007019382320039492, 0.2667365281615007, 0.0030709797650172775, 0.03202593183518018, 0.25225905212641925, 0.990417261936685, 0.006031439317867058, 0.3860121163434917, 0.6061596514456393, 0.9408367386784792, 0.9823188253000119, 0.762343186702153, 0.06785253494207645, 0.04390458143310829, 0.1237310931296688, 0.040646655902703846, 0.009337745274945478, 0.2565133554940905, 0.18620562636508922, 0.02636539842337547, 0.02746395669101611, 0.1658822984137373, 0.0005492791338203222, 0.08843394054507188, 0.014281257479328378, 0.028013235824836433, 0.010985582676406444, 0.0395480976350632, 0.02636539842337547, 0.026914677557195787, 0.013182699211687734, 0.04009737676888352, 0.8217425067229999, 0.008033795456789105, 0.020658331174600555, 0.0011476850652555864, 0.02639675650087849, 0.11935924678658098, 0.9608542048360339, 0.09601311249513217, 0.8833206349552161, 0.976915231612855, 0.018432362860619906, 0.012260952268912956, 0.11978007216553427, 0.006602051221722361, 0.05093010942471536, 0.026408204886889445, 0.0009431501745317659, 0.03301025610861181, 0.0009431501745317659, 0.016976703141571785, 0.6658640232194267, 0.006602051221722361, 0.026408204886889445, 0.03301025610861181, 0.9824993447896253, 0.35867144991714817, 0.6197163513361377, 0.019100846445291916, 0.9722887835363265, 0.08735429485699495, 0.07411879563623813, 0.07676589548038949, 0.05823619657132996, 0.02911809828566498, 0.06617749610378405, 0.26735708425928756, 0.058765616540160236, 0.12970789236341673, 0.006353039625963269, 0.03388287800513743, 0.0021176798753210894, 0.0031765198129816343, 0.0015882599064908172, 0.10323689392190312, 0.0021176798753210894, 0.859488085594148, 0.07367040733664126, 0.049113604891094176, 0.9861939163215321, 0.9769380126492425, 0.9759576016738163, 0.979217940588122, 0.9876620318535771, 0.08349226694313894, 0.002140827357516383, 0.004281654715032766, 0.019267446217647446, 0.8884433533692989, 0.022876289656051294, 0.9760550253248552, 0.010108465127304308, 0.6604197216505481, 0.048857581448637485, 0.0067389767515362055, 0.011793209315188359, 0.0033694883757681027, 0.025271162818260768, 0.0016847441878840514, 0.21564725604915858, 0.011793209315188359, 0.0016847441878840514, 0.946906661731093, 0.024048713216375354, 0.042085248128656876, 0.12775878896199408, 0.3983068126462168, 0.4058220355263341, 0.00425378664240173, 0.8784069416559572, 0.11272534602364584, 0.002126893321200865, 0.9989284449532396, 0.9657520190714906, 0.1664854947785032, 0.003370151716164032, 0.2817446834713131, 0.5479866690482716, 0.09537973766229693, 0.10298757493521278, 0.001972402255941148, 0.06128535580959995, 0.0824182371232551, 0.041843105001037204, 0.33037737787014226, 0.08270000887410384, 0.08565861225801556, 0.021696424815352625, 0.03564412648236503, 0.0028177175084873538, 0.0021132881313655153, 0.004085690387306663, 0.04747854001801191, 0.0015497446296680445, 0.13980780062264234, 0.37435023062471995, 0.030768512106141364, 0.0013494961450062001, 0.00782707764103596, 0.03292770593815129, 0.020512341404094244, 0.3881150913037832, 0.0037785892060173605, 0.9768188405721713, 0.10949354185102235, 0.8516164366190627, 0.03649784728367412, 0.931474105600505, 0.007982082090555013, 0.05079506784898644, 0.006530794437726828, 0.3737065706032574, 0.04136169810560325, 0.10812093013569972, 0.002176931479242276, 0.009433369743383197, 0.02394624627166504, 0.02830010923014959, 0.013061588875453656, 0.32436279040709914, 0.0007256438264140921, 0.008707725916969104, 0.969112430379928, 0.9646834926253747, 0.046603109479324306, 0.06817862312715964, 0.15836427017511132, 0.2170496672972234, 0.026753636923315807, 0.021575513647835328, 0.028048167742185926, 0.022007023920792033, 0.039698945112017006, 0.05868539712211209, 0.015965880099398144, 0.1570697393562412, 0.05609633548437185, 0.04271951702271395, 0.006904164367307305, 0.010787756823917664, 0.023733065012618862, 0.9893541822529334, 0.010565488752035411, 0.9825904539392932, 0.9269405431713943, 0.744936188787333, 0.03547315184701586, 0.14189260738806345, 0.07094630369403172, 0.9797982522765124, 0.08843485564112841, 0.909615658023035, 0.0006982707762366481, 0.0055861662098931845, 0.12289565661765006, 0.0006982707762366481, 0.338312191086656, 0.00034913538811832403, 0.05935301598011509, 0.16060227853442904, 0.14558945684534114, 0.09496482556818414, 0.010823197031668045, 0.013267144748496313, 0.03281872648312246, 0.013616280136614638, 0.9680790649603701, 0.08598432966082298, 0.9071346779216825, 0.05312905751885991, 0.9209036636602385, 0.9502235131286353, 0.9860958662689263], \"Term\": [\"abort\", \"abort\", \"abort\", \"abort\", \"absente\", \"abus\", \"abus\", \"abus\", \"abus\", \"abus\", \"abus\", \"abus\", \"aca\", \"aca\", \"aca\", \"academi\", \"academi\", \"academi\", \"accept\", \"accept\", \"accept\", \"accept\", \"access\", \"access\", \"access\", \"access\", \"access\", \"access\", \"access\", \"access\", \"access\", \"access\", \"access\", \"access\", \"account\", \"account\", \"account\", \"account\", \"account\", \"account\", \"account\", \"account\", \"account\", \"account\", \"account\", \"acquit\", \"acquitt\", \"across\", \"across\", \"across\", \"across\", \"across\", \"across\", \"across\", \"across\", \"across\", \"across\", \"across\", \"across\", \"across\", \"across\", \"act\", \"act\", \"act\", \"act\", \"act\", \"act\", \"act\", \"act\", \"act\", \"act\", \"act\", \"act\", \"act\", \"act\", \"act\", \"act\", \"administr\", \"administr\", \"administr\", \"administr\", \"administr\", \"administr\", \"administr\", \"administr\", \"administr\", \"administr\", \"administr\", \"administr\", \"adventur\", \"advic\", \"advic\", \"advic\", \"afford\", \"afford\", \"afford\", \"afford\", \"afford\", \"afford\", \"afford\", \"afloat\", \"ag\", \"ag\", \"ag\", \"ag\", \"ag\", \"agenc\", \"agenc\", \"agenc\", \"agenc\", \"agenc\", \"agenc\", \"agenc\", \"agenc\", \"agenc\", \"agreement\", \"agreement\", \"agreement\", \"agreement\", \"agreement\", \"agreement\", \"agricultur\", \"agricultur\", \"agricultur\", \"agricultur\", \"ahmaud\", \"air\", \"air\", \"air\", \"air\", \"air\", \"air\", \"air\", \"air\", \"al\", \"al\", \"al\", \"albuquerqu\", \"alert\", \"alert\", \"alex\", \"alex\", \"alik\", \"aloha\", \"aloha\", \"alway\", \"alway\", \"alway\", \"alway\", \"alway\", \"alway\", \"alway\", \"alway\", \"alway\", \"alway\", \"amaz\", \"amaz\", \"amaz\", \"amaz\", \"amaz\", \"amaz\", \"amazon\", \"amazon\", \"amend\", \"amend\", \"amend\", \"amend\", \"amend\", \"america\", \"america\", \"america\", \"america\", \"america\", \"america\", \"america\", \"america\", \"america\", \"america\", \"america\", \"america\", \"america\", \"america\", \"america\", \"america\", \"american\", \"american\", \"american\", \"american\", \"american\", \"american\", \"american\", \"american\", \"american\", \"american\", \"american\", \"american\", \"american\", \"american\", \"american\", \"ami\", \"ami\", \"amicu\", \"amp\", \"amp\", \"amp\", \"amp\", \"amp\", \"amp\", \"amp\", \"amp\", \"amp\", \"amp\", \"amp\", \"amp\", \"amp\", \"amp\", \"amp\", \"amp\", \"amp\", \"amtrak\", \"anniversari\", \"answer\", \"answer\", \"answer\", \"answer\", \"answer\", \"answer\", \"answer\", \"answer\", \"answer\", \"answer\", \"answer\", \"appli\", \"appli\", \"applic\", \"applic\", \"appreci\", \"appreci\", \"appreci\", \"appreci\", \"appreci\", \"appreci\", \"appreci\", \"appreci\", \"appreci\", \"appreci\", \"apprenticeship\", \"approv\", \"approv\", \"approv\", \"approv\", \"approv\", \"approv\", \"approv\", \"approv\", \"april\", \"april\", \"april\", \"april\", \"april\", \"april\", \"aqui\", \"arberi\", \"archiv\", \"arctic\", \"arctic\", \"argument\", \"arizonan\", \"arizonan\", \"arizonan\", \"arizonan\", \"armedforcesday\", \"articl\", \"ashley\", \"asian\", \"asian\", \"asian\", \"assert\", \"assist\", \"assist\", \"assist\", \"assist\", \"assist\", \"assist\", \"assist\", \"assist\", \"assist\", \"assist\", \"astronaut\", \"asylum\", \"attorney\", \"attorney\", \"attorney\", \"attorney\", \"audio\", \"auschwitz\", \"automat\", \"automat\", \"autonomi\", \"aviat\", \"away\", \"away\", \"away\", \"away\", \"away\", \"away\", \"away\", \"away\", \"away\", \"away\", \"back\", \"back\", \"back\", \"back\", \"back\", \"back\", \"back\", \"back\", \"back\", \"back\", \"back\", \"back\", \"back\", \"back\", \"back\", \"back\", \"back\", \"background\", \"background\", \"background\", \"backlog\", \"backlog\", \"backlog\", \"bailout\", \"bailout\", \"bailout\", \"bailout\", \"bailout\", \"ballot\", \"ballot\", \"ballot\", \"ban\", \"ban\", \"ban\", \"ban\", \"banker\", \"bargain\", \"barr\", \"barr\", \"barr\", \"baseless\", \"beat\", \"beat\", \"beat\", \"beat\", \"beat\", \"beat\", \"bed\", \"bed\", \"bed\", \"bed\", \"beef\", \"benefit\", \"benefit\", \"benefit\", \"benefit\", \"benefit\", \"benefit\", \"benefit\", \"benefit\", \"benefit\", \"benefit\", \"benefit\", \"berni\", \"bet\", \"betsi\", \"bezo\", \"biden\", \"biden\", \"biden\", \"bigger\", \"bigger\", \"bigger\", \"bill\", \"bill\", \"bill\", \"bill\", \"bill\", \"bill\", \"bill\", \"bill\", \"bill\", \"bill\", \"bill\", \"billionair\", \"biofuel\", \"bipartisan\", \"bipartisan\", \"bipartisan\", \"bipartisan\", \"bipartisan\", \"bipartisan\", \"bipartisan\", \"bipartisan\", \"bipartisan\", \"bipartisan\", \"bipartisan\", \"bipartisan\", \"bipartisan\", \"bipartisan\", \"birthday\", \"biz\", \"biz\", \"black\", \"black\", \"black\", \"black\", \"black\", \"black\", \"blackhistorymonth\", \"blackhistorymonth\", \"blackhistorymonth\", \"blank\", \"bless\", \"bless\", \"blood\", \"blood\", \"boil\", \"bold\", \"bold\", \"bold\", \"bold\", \"bold\", \"bolton\", \"bolton\", \"bonu\", \"bonu\", \"boom\", \"bop\", \"borrow\", \"borrow\", \"brad\", \"brasher\", \"brave\", \"brave\", \"brave\", \"breach\", \"breakfreefromplast\", \"brighten\", \"brightest\", \"british\", \"broadband\", \"broadband\", \"broadband\", \"broadband\", \"broken\", \"broken\", \"broken\", \"broken\", \"broken\", \"bryant\", \"buck\", \"budget\", \"budget\", \"budget\", \"budget\", \"budget\", \"burisma\", \"busi\", \"busi\", \"busi\", \"busi\", \"busi\", \"call\", \"call\", \"call\", \"call\", \"call\", \"call\", \"call\", \"call\", \"call\", \"call\", \"call\", \"call\", \"call\", \"call\", \"call\", \"call\", \"call\", \"call\", \"campaign\", \"campaign\", \"campaign\", \"campaign\", \"campaign\", \"campaign\", \"campaign\", \"campaign\", \"campaign\", \"canada\", \"candid\", \"candid\", \"candid\", \"candid\", \"cannabi\", \"canva\", \"capt\", \"care\", \"care\", \"care\", \"care\", \"care\", \"care\", \"care\", \"care\", \"care\", \"carolina\", \"carranza\", \"case\", \"case\", \"case\", \"case\", \"case\", \"case\", \"case\", \"case\", \"case\", \"case\", \"case\", \"casework\", \"caseworksenategov\", \"cattl\", \"cattl\", \"caucu\", \"caucu\", \"caucu\", \"caucu\", \"caucu\", \"caucu\", \"caucus\", \"caught\", \"caught\", \"ccp\", \"ccp\", \"cdc\", \"cdc\", \"cdc\", \"cdc\", \"cdc\", \"cdc\", \"celebr\", \"cemeteri\", \"censu\", \"censu\", \"censusday\", \"censusday\", \"censusday\", \"chag\", \"chain\", \"challeng\", \"challeng\", \"challeng\", \"challeng\", \"challeng\", \"challeng\", \"challeng\", \"challeng\", \"challeng\", \"challeng\", \"challeng\", \"chang\", \"chang\", \"chang\", \"chang\", \"chang\", \"chang\", \"chang\", \"chang\", \"chang\", \"chang\", \"chang\", \"chang\", \"chang\", \"chang\", \"chang\", \"chang\", \"charli\", \"charter\", \"chattanooga\", \"chc\", \"check\", \"check\", \"check\", \"check\", \"check\", \"check\", \"check\", \"check\", \"check\", \"check\", \"check\", \"chemic\", \"child\", \"child\", \"child\", \"child\", \"child\", \"child\", \"child\", \"child\", \"child\", \"child\", \"child\", \"childhood\", \"china\", \"china\", \"china\", \"china\", \"china\", \"china\", \"chines\", \"chines\", \"chines\", \"chip\", \"chip\", \"chronic\", \"cig\", \"cigarett\", \"cincinnati\", \"citi\", \"citi\", \"citi\", \"citi\", \"citi\", \"citi\", \"citi\", \"citi\", \"citi\", \"citi\", \"citi\", \"citi\", \"clean\", \"clean\", \"clean\", \"clean\", \"clean\", \"clean\", \"cleaneconomi\", \"clear\", \"clear\", \"clear\", \"clear\", \"clear\", \"clear\", \"clear\", \"clear\", \"clear\", \"clear\", \"clear\", \"clear\", \"climat\", \"climat\", \"climat\", \"climat\", \"climat\", \"climat\", \"climat\", \"climat\", \"cm\", \"coalit\", \"coalit\", \"coburn\", \"collar\", \"collar\", \"colleg\", \"colleg\", \"colleg\", \"colleg\", \"colleg\", \"combatcovid\", \"combatcovidchalleng\", \"come\", \"come\", \"come\", \"come\", \"come\", \"come\", \"come\", \"come\", \"come\", \"come\", \"come\", \"come\", \"come\", \"come\", \"come\", \"come\", \"come\", \"committe\", \"committe\", \"committe\", \"committe\", \"committe\", \"committe\", \"commun\", \"commun\", \"commun\", \"commun\", \"commun\", \"commun\", \"commun\", \"commun\", \"commun\", \"commun\", \"commun\", \"commun\", \"commun\", \"commun\", \"commun\", \"commun\", \"commun\", \"communist\", \"communist\", \"communist\", \"como\", \"compani\", \"compani\", \"compani\", \"compani\", \"compani\", \"compani\", \"compani\", \"compani\", \"compani\", \"compel\", \"compel\", \"compel\", \"compil\", \"comput\", \"comput\", \"comput\", \"con\", \"conceal\", \"condit\", \"condit\", \"condit\", \"condol\", \"condol\", \"confuciu\", \"congrat\", \"congrat\", \"congratul\", \"congratul\", \"congratul\", \"congratul\", \"congratul\", \"congratul\", \"congratul\", \"congress\", \"congress\", \"congress\", \"congress\", \"congress\", \"congress\", \"congress\", \"congress\", \"congress\", \"congress\", \"congress\", \"congress\", \"congress\", \"congress\", \"congress\", \"congresswoman\", \"connect\", \"connect\", \"connect\", \"connect\", \"connect\", \"connect\", \"connect\", \"connect\", \"conni\", \"conspiraci\", \"constitut\", \"constitut\", \"constitut\", \"constitut\", \"contact\", \"contact\", \"contact\", \"contact\", \"contact\", \"contact\", \"continu\", \"continu\", \"continu\", \"continu\", \"continu\", \"continu\", \"continu\", \"continu\", \"continu\", \"continu\", \"continu\", \"continu\", \"continu\", \"continu\", \"continu\", \"continu\", \"continu\", \"contradict\", \"coronaviru\", \"coronaviru\", \"coronaviru\", \"coronaviru\", \"coronaviru\", \"coronaviru\", \"coronaviru\", \"coronaviru\", \"coronaviru\", \"coronaviru\", \"coronaviru\", \"coronaviru\", \"coronaviru\", \"coronaviru\", \"corpor\", \"corpor\", \"corpor\", \"corrupt\", \"corrupt\", \"corrupt\", \"corrupt\", \"cost\", \"cost\", \"cost\", \"cost\", \"cost\", \"cost\", \"cost\", \"cost\", \"cough\", \"cough\", \"count\", \"count\", \"counti\", \"counti\", \"counti\", \"counti\", \"counti\", \"counti\", \"counti\", \"counti\", \"countri\", \"countri\", \"countri\", \"countri\", \"countri\", \"countri\", \"countri\", \"countri\", \"countri\", \"countri\", \"countri\", \"countri\", \"countri\", \"countri\", \"countri\", \"countri\", \"court\", \"court\", \"court\", \"court\", \"court\", \"court\", \"covid\", \"covid\", \"covid\", \"covid\", \"covid\", \"covid\", \"covid\", \"covid\", \"covid\", \"covid\", \"covid\", \"covid\", \"covid\", \"covid\", \"craig\", \"creat\", \"creat\", \"creat\", \"creat\", \"creat\", \"creat\", \"creat\", \"creat\", \"creat\", \"creat\", \"creat\", \"creat\", \"creat\", \"creat\", \"creat\", \"creativ\", \"creativ\", \"crime\", \"crime\", \"crime\", \"crime\", \"crime\", \"crisi\", \"crisi\", \"crisi\", \"crisi\", \"crisi\", \"crisi\", \"crisi\", \"crisi\", \"crisi\", \"crisi\", \"crisi\", \"crisi\", \"crisi\", \"crisi\", \"crisi\", \"crisi\", \"crisi\", \"critic\", \"critic\", \"critic\", \"critic\", \"critic\", \"critic\", \"critic\", \"critic\", \"critic\", \"critic\", \"critic\", \"critic\", \"critic\", \"critic\", \"critic\", \"critic\", \"crumbl\", \"cruz\", \"cruz\", \"cruz\", \"cruz\", \"ct\", \"ct\", \"ct\", \"ct\", \"cte\", \"cuban\", \"curv\", \"curv\", \"cut\", \"cut\", \"cut\", \"cut\", \"cut\", \"cut\", \"cut\", \"daca\", \"dakota\", \"dakota\", \"dakota\", \"dakota\", \"data\", \"data\", \"data\", \"data\", \"data\", \"date\", \"date\", \"date\", \"date\", \"date\", \"date\", \"dave\", \"david\", \"david\", \"david\", \"day\", \"day\", \"day\", \"day\", \"day\", \"day\", \"day\", \"day\", \"day\", \"day\", \"day\", \"day\", \"day\", \"day\", \"day\", \"day\", \"de\", \"deadlin\", \"deadlin\", \"deadlin\", \"deal\", \"deal\", \"deal\", \"deal\", \"deal\", \"deal\", \"deal\", \"deal\", \"deal\", \"deal\", \"deal\", \"deal\", \"deal\", \"deal\", \"debit\", \"decis\", \"decis\", \"decis\", \"decis\", \"decis\", \"decis\", \"decis\", \"decis\", \"decis\", \"decis\", \"decis\", \"decis\", \"decis\", \"decis\", \"decis\", \"decis\", \"declar\", \"declar\", \"declar\", \"declar\", \"declar\", \"declar\", \"dedic\", \"dedic\", \"dedic\", \"dedic\", \"dedic\", \"dedic\", \"dedic\", \"deepest\", \"deepest\", \"defeat\", \"defeat\", \"defeat\", \"defeat\", \"defeat\", \"defens\", \"defens\", \"defens\", \"defens\", \"defens\", \"deficit\", \"definit\", \"definit\", \"definit\", \"definit\", \"defraud\", \"del\", \"deliveri\", \"deliveri\", \"deliveri\", \"deliveri\", \"deliveri\", \"demand\", \"demand\", \"demand\", \"demand\", \"demand\", \"demand\", \"demand\", \"demand\", \"demand\", \"demand\", \"demdeb\", \"demdeb\", \"demdeb\", \"democrat\", \"democrat\", \"democrat\", \"democrat\", \"democrat\", \"democrat\", \"democrat\", \"democrat\", \"deposit\", \"detain\", \"develop\", \"develop\", \"develop\", \"develop\", \"develop\", \"develop\", \"develop\", \"develop\", \"develop\", \"devo\", \"difficult\", \"difficult\", \"difficult\", \"difficult\", \"difficult\", \"difficult\", \"difficult\", \"difficult\", \"difficult\", \"direct\", \"direct\", \"direct\", \"direct\", \"direct\", \"direct\", \"direct\", \"direct\", \"direct\", \"direct\", \"direct\", \"direct\", \"disabl\", \"disabl\", \"disabl\", \"disabl\", \"disast\", \"disast\", \"discu\", \"discu\", \"discu\", \"discu\", \"discu\", \"discu\", \"discu\", \"discuss\", \"discuss\", \"discuss\", \"discuss\", \"discuss\", \"discuss\", \"discuss\", \"discuss\", \"discuss\", \"diseas\", \"diseas\", \"diseas\", \"diseas\", \"diseas\", \"diseas\", \"diseas\", \"dismantl\", \"dismantl\", \"dismiss\", \"dispar\", \"dispar\", \"dispar\", \"distanc\", \"distanc\", \"distanc\", \"distanc\", \"distilleri\", \"dm\", \"doctor\", \"doctor\", \"doctor\", \"doctor\", \"doctor\", \"document\", \"doj\", \"doj\", \"doj\", \"doj\", \"domest\", \"domest\", \"donald\", \"donald\", \"donald\", \"donat\", \"donat\", \"done\", \"done\", \"done\", \"done\", \"done\", \"done\", \"done\", \"done\", \"done\", \"done\", \"done\", \"done\", \"done\", \"done\", \"dpa\", \"dr\", \"dr\", \"dr\", \"dr\", \"dreamer\", \"drill\", \"drive\", \"drive\", \"drive\", \"drive\", \"drive\", \"drive\", \"drive\", \"drive\", \"drive\", \"driver\", \"driver\", \"driver\", \"driver\", \"driver\", \"drone\", \"dropthelawsuit\", \"drug\", \"earlyvot\", \"earthday\", \"earthday\", \"earthquak\", \"easter\", \"econom\", \"econom\", \"econom\", \"econom\", \"econom\", \"econom\", \"econom\", \"econom\", \"econom\", \"econom\", \"economi\", \"economi\", \"economi\", \"economi\", \"economi\", \"economi\", \"economi\", \"economi\", \"economi\", \"economi\", \"economi\", \"ed\", \"ed\", \"editori\", \"editori\", \"edt\", \"educ\", \"educ\", \"educ\", \"educ\", \"educ\", \"educ\", \"educ\", \"educ\", \"educ\", \"educ\", \"egg\", \"eidl\", \"eidl\", \"el\", \"elbow\", \"elect\", \"elect\", \"elect\", \"elect\", \"elect\", \"elect\", \"elig\", \"elig\", \"elig\", \"elig\", \"elizabeth\", \"elizabeth\", \"emerg\", \"emerg\", \"emerg\", \"emerg\", \"emerg\", \"emerg\", \"emerg\", \"emerg\", \"emerg\", \"emerg\", \"employ\", \"employ\", \"employ\", \"employ\", \"employ\", \"employ\", \"employ\", \"employ\", \"employe\", \"employe\", \"employe\", \"employe\", \"employe\", \"employe\", \"employe\", \"en\", \"end\", \"end\", \"end\", \"end\", \"end\", \"end\", \"end\", \"end\", \"end\", \"end\", \"end\", \"end\", \"end\", \"end\", \"end\", \"end\", \"endgunviol\", \"endors\", \"endors\", \"endors\", \"endors\", \"endors\", \"endow\", \"energi\", \"energi\", \"energi\", \"energi\", \"energi\", \"energi\", \"energyinnov\", \"enforc\", \"enforc\", \"enforc\", \"enforc\", \"enforc\", \"english\", \"ensur\", \"ensur\", \"ensur\", \"ensur\", \"ensur\", \"ensur\", \"ensur\", \"ensur\", \"ensur\", \"ensur\", \"ensur\", \"ensur\", \"ensur\", \"ensur\", \"ensur\", \"ensur\", \"entiti\", \"entiti\", \"entiti\", \"environment\", \"environment\", \"environment\", \"environment\", \"environment\", \"epa\", \"epa\", \"episod\", \"equalpayday\", \"equip\", \"equip\", \"eranow\", \"eric\", \"escal\", \"espionag\", \"essenti\", \"essenti\", \"essenti\", \"essenti\", \"essenti\", \"essenti\", \"esta\", \"et\", \"et\", \"ethanol\", \"everi\", \"everi\", \"everi\", \"everi\", \"everi\", \"everi\", \"everi\", \"everi\", \"everi\", \"everi\", \"everi\", \"everi\", \"everi\", \"everi\", \"everi\", \"everi\", \"everi\", \"evict\", \"evid\", \"evid\", \"evid\", \"exist\", \"exist\", \"exist\", \"expand\", \"expand\", \"expand\", \"expand\", \"expand\", \"expand\", \"expand\", \"expand\", \"expert\", \"expert\", \"expert\", \"expert\", \"expert\", \"expert\", \"export\", \"export\", \"facebook\", \"fact\", \"fact\", \"fact\", \"fact\", \"fact\", \"fact\", \"fact\", \"fact\", \"fact\", \"fair\", \"fair\", \"fair\", \"fair\", \"fair\", \"fair\", \"fair\", \"fair\", \"fair\", \"fair\", \"fair\", \"fairmont\", \"faith\", \"faith\", \"faith\", \"faith\", \"faith\", \"faith\", \"fake\", \"fallen\", \"fallen\", \"famili\", \"famili\", \"famili\", \"famili\", \"famili\", \"famili\", \"famili\", \"famili\", \"famili\", \"famili\", \"famili\", \"familyact\", \"farmer\", \"farmer\", \"farmer\", \"fauci\", \"fbi\", \"fda\", \"fda\", \"feder\", \"feder\", \"feder\", \"feder\", \"feder\", \"feder\", \"feder\", \"feder\", \"feder\", \"feder\", \"feder\", \"feder\", \"feder\", \"feder\", \"feder\", \"feel\", \"feel\", \"feel\", \"feel\", \"feel\", \"feel\", \"feel\", \"feel\", \"feel\", \"feel\", \"feel\", \"fentanyl\", \"fentanyl\", \"fight\", \"fight\", \"fight\", \"fight\", \"fight\", \"fight\", \"fight\", \"fight\", \"fight\", \"fight\", \"fight\", \"fight\", \"fight\", \"fight\", \"fight\", \"fight\", \"file\", \"file\", \"file\", \"file\", \"filer\", \"financi\", \"financi\", \"financi\", \"financi\", \"financi\", \"financi\", \"financi\", \"find\", \"find\", \"find\", \"find\", \"find\", \"find\", \"find\", \"find\", \"find\", \"find\", \"find\", \"find\", \"find\", \"find\", \"find\", \"find\", \"fisa\", \"fisa\", \"fish\", \"fish\", \"fisheri\", \"fisherman\", \"flatten\", \"flattenthecurv\", \"flattenthecurv\", \"flattenthecurv\", \"flavor\", \"fleet\", \"flood\", \"flood\", \"flood\", \"flood\", \"flood\", \"floor\", \"floor\", \"floor\", \"floor\", \"floor\", \"floridiansstuckabroad\", \"flynn\", \"folk\", \"folk\", \"folk\", \"folk\", \"folk\", \"folk\", \"folk\", \"folk\", \"folk\", \"folk\", \"folk\", \"food\", \"food\", \"food\", \"food\", \"food\", \"food\", \"food\", \"food\", \"foreclosur\", \"foreign\", \"foreign\", \"foreign\", \"foreign\", \"foreign\", \"foreign\", \"forgiv\", \"forgiven\", \"forthepeopl\", \"forward\", \"forward\", \"forward\", \"forward\", \"forward\", \"forward\", \"forward\", \"forward\", \"forward\", \"forward\", \"forward\", \"forward\", \"fossil\", \"frack\", \"fred\", \"friend\", \"friend\", \"friend\", \"friend\", \"friend\", \"friend\", \"friend\", \"friend\", \"frontlin\", \"frontlin\", \"frontlin\", \"frontlin\", \"frontlin\", \"fuel\", \"fuel\", \"fuel\", \"fund\", \"fund\", \"fund\", \"fund\", \"fund\", \"fund\", \"fund\", \"fund\", \"fundlwcf\", \"fundmentalhealth\", \"fundrais\", \"funer\", \"gabbard\", \"gao\", \"garnish\", \"gayl\", \"gaynor\", \"gear\", \"gener\", \"gener\", \"gener\", \"gener\", \"gener\", \"gener\", \"gener\", \"gener\", \"gener\", \"gener\", \"gener\", \"gener\", \"gener\", \"gener\", \"gener\", \"gener\", \"get\", \"get\", \"get\", \"get\", \"get\", \"get\", \"get\", \"get\", \"get\", \"get\", \"get\", \"get\", \"get\", \"get\", \"get\", \"get\", \"getcount\", \"gi\", \"gig\", \"gig\", \"giveaway\", \"giveaway\", \"global\", \"global\", \"global\", \"global\", \"global\", \"global\", \"glove\", \"go\", \"go\", \"go\", \"go\", \"go\", \"go\", \"go\", \"go\", \"go\", \"go\", \"go\", \"go\", \"go\", \"go\", \"go\", \"go\", \"go\", \"good\", \"good\", \"good\", \"good\", \"good\", \"good\", \"good\", \"good\", \"good\", \"good\", \"good\", \"good\", \"good\", \"good\", \"good\", \"govern\", \"govern\", \"govern\", \"govern\", \"govern\", \"govern\", \"govern\", \"govern\", \"govern\", \"govern\", \"govern\", \"govern\", \"govern\", \"govern\", \"govern\", \"gown\", \"grade\", \"grade\", \"grade\", \"granit\", \"granit\", \"granit\", \"granitestatersgiveback\", \"grassroot\", \"grassroot\", \"grate\", \"grate\", \"grate\", \"grate\", \"grate\", \"grate\", \"grate\", \"grate\", \"gratitud\", \"gratitud\", \"great\", \"great\", \"great\", \"great\", \"great\", \"great\", \"great\", \"great\", \"great\", \"great\", \"great\", \"great\", \"great\", \"greed\", \"greenhous\", \"greennewd\", \"grid\", \"groceri\", \"groceri\", \"groceri\", \"groceri\", \"groceri\", \"guardsman\", \"gulf\", \"gun\", \"ha\", \"hall\", \"hall\", \"hampshir\", \"hampshir\", \"handout\", \"handshak\", \"happi\", \"hard\", \"hard\", \"hard\", \"hard\", \"hard\", \"hard\", \"hard\", \"hard\", \"hard\", \"hard\", \"hard\", \"hawley\", \"hawley\", \"hawley\", \"hawley\", \"hawley\", \"hawley\", \"hazard\", \"hbcu\", \"hbcu\", \"health\", \"health\", \"health\", \"health\", \"health\", \"health\", \"health\", \"health\", \"hear\", \"hear\", \"hear\", \"hear\", \"hear\", \"hear\", \"hear\", \"hear\", \"hear\", \"hear\", \"hear\", \"hear\", \"hear\", \"hear\", \"hear\", \"heartwarm\", \"heartwarm\", \"hello\", \"help\", \"help\", \"help\", \"help\", \"help\", \"help\", \"help\", \"help\", \"help\", \"help\", \"help\", \"help\", \"help\", \"help\", \"help\", \"help\", \"help\", \"hero\", \"hero\", \"hero\", \"hero\", \"hero\", \"hero\", \"heroism\", \"heroism\", \"hid\", \"high\", \"high\", \"high\", \"high\", \"high\", \"high\", \"high\", \"high\", \"high\", \"high\", \"high\", \"high\", \"high\", \"histori\", \"histori\", \"histori\", \"histori\", \"histori\", \"histori\", \"histori\", \"histori\", \"hk\", \"hold\", \"hold\", \"hold\", \"hold\", \"hold\", \"hold\", \"hold\", \"hold\", \"hold\", \"hold\", \"hold\", \"hold\", \"hold\", \"holi\", \"holocaust\", \"holocaustremembranceday\", \"home\", \"home\", \"home\", \"home\", \"home\", \"home\", \"home\", \"home\", \"home\", \"home\", \"home\", \"home\", \"home\", \"homework\", \"hong\", \"hongkong\", \"honor\", \"honor\", \"hoosierhighlight\", \"hope\", \"hope\", \"hope\", \"hope\", \"hope\", \"hope\", \"hope\", \"hope\", \"hope\", \"hope\", \"hope\", \"hope\", \"hope\", \"hope\", \"horrifi\", \"hospit\", \"hospit\", \"hospit\", \"hospit\", \"hospit\", \"hospit\", \"host\", \"host\", \"host\", \"host\", \"host\", \"hostil\", \"hot\", \"hot\", \"hot\", \"hottest\", \"hous\", \"hous\", \"hous\", \"hous\", \"hous\", \"hous\", \"hous\", \"hous\", \"hous\", \"hous\", \"hous\", \"hous\", \"huawei\", \"human\", \"human\", \"human\", \"human\", \"human\", \"human\", \"hunger\", \"hunger\", \"hunt\", \"hunt\", \"hunt\", \"hunter\", \"hurricanemichael\", \"hygien\", \"icebreak\", \"ill\", \"ill\", \"ill\", \"immigr\", \"immigr\", \"immigr\", \"immigr\", \"immigr\", \"immigr\", \"impact\", \"impact\", \"impact\", \"impact\", \"impact\", \"impact\", \"impact\", \"impact\", \"impact\", \"impact\", \"impact\", \"impact\", \"impact\", \"impact\", \"imparti\", \"impeach\", \"import\", \"import\", \"import\", \"import\", \"import\", \"import\", \"import\", \"import\", \"import\", \"import\", \"import\", \"import\", \"import\", \"import\", \"import\", \"import\", \"import\", \"imprison\", \"improv\", \"improv\", \"improv\", \"improv\", \"improv\", \"improv\", \"improv\", \"improv\", \"improv\", \"improv\", \"improv\", \"improv\", \"indigen\", \"indigen\", \"indigen\", \"indigen\", \"industri\", \"industri\", \"industri\", \"industri\", \"industri\", \"infect\", \"infect\", \"infect\", \"infect\", \"inform\", \"inform\", \"inform\", \"inform\", \"inform\", \"inform\", \"inform\", \"inform\", \"informacion\", \"infrastructur\", \"infrastructur\", \"infrastructur\", \"infrastructur\", \"infrastructur\", \"infrastructur\", \"infrastructur\", \"infrastructur\", \"injur\", \"injur\", \"inmat\", \"innov\", \"innov\", \"innov\", \"innov\", \"innov\", \"innov\", \"inspector\", \"inspector\", \"inspector\", \"inspector\", \"inspir\", \"inspir\", \"inspir\", \"instagram\", \"instagram\", \"insulin\", \"intellectu\", \"intellectu\", \"interfer\", \"interfer\", \"internationalwomensday\", \"internet\", \"internet\", \"internet\", \"internet\", \"internet\", \"internet\", \"internet\", \"internet\", \"internship\", \"interpret\", \"interrupt\", \"interview\", \"interview\", \"interview\", \"introduc\", \"introduc\", \"introduc\", \"introduc\", \"introduc\", \"introduc\", \"introduc\", \"introduc\", \"introduc\", \"introduc\", \"introduc\", \"invest\", \"invest\", \"invest\", \"invest\", \"invest\", \"invest\", \"invest\", \"invest\", \"invest\", \"invest\", \"invest\", \"investig\", \"investig\", \"investig\", \"investig\", \"investig\", \"investig\", \"iowa\", \"iowa\", \"iowa\", \"iowa\", \"iowa\", \"iowa\", \"iowa\", \"iowacaucus\", \"ip\", \"ir\", \"ir\", \"ir\", \"iran\", \"iran\", \"iran\", \"island\", \"island\", \"island\", \"iwo\", \"jami\", \"jew\", \"jewish\", \"jima\", \"job\", \"job\", \"job\", \"job\", \"job\", \"job\", \"job\", \"job\", \"job\", \"job\", \"job\", \"job\", \"job\", \"jobsreport\", \"join\", \"join\", \"join\", \"join\", \"join\", \"join\", \"join\", \"join\", \"join\", \"join\", \"join\", \"join\", \"join\", \"join\", \"join\", \"join\", \"join\", \"journalist\", \"journalist\", \"journalist\", \"joy\", \"jr\", \"jr\", \"judgment\", \"juli\", \"juli\", \"juror\", \"justifi\", \"justin\", \"katherin\", \"keep\", \"keep\", \"keep\", \"keep\", \"keep\", \"keep\", \"keep\", \"keep\", \"keep\", \"keep\", \"keep\", \"keep\", \"keep\", \"keep\", \"keep\", \"keep\", \"keep\", \"kid\", \"kid\", \"kid\", \"kid\", \"kid\", \"kid\", \"kid\", \"kid\", \"kind\", \"kind\", \"kind\", \"kind\", \"kind\", \"kind\", \"kind\", \"kind\", \"kind\", \"king\", \"king\", \"knock\", \"know\", \"know\", \"know\", \"know\", \"know\", \"know\", \"know\", \"know\", \"know\", \"know\", \"know\", \"know\", \"know\", \"know\", \"know\", \"know\", \"know\", \"kobe\", \"kong\", \"korea\", \"korea\", \"kyle\", \"la\", \"lamestream\", \"land\", \"land\", \"land\", \"land\", \"land\", \"land\", \"last\", \"last\", \"last\", \"last\", \"last\", \"last\", \"last\", \"last\", \"last\", \"last\", \"last\", \"last\", \"last\", \"last\", \"last\", \"last\", \"last\", \"latest\", \"latest\", \"latest\", \"latest\", \"latest\", \"latest\", \"latest\", \"latest\", \"law\", \"law\", \"law\", \"law\", \"law\", \"law\", \"law\", \"law\", \"law\", \"law\", \"law\", \"law\", \"law\", \"law\", \"law\", \"lawenforcementappreciationday\", \"lawsuit\", \"lawyer\", \"lawyer\", \"lean\", \"learn\", \"learn\", \"learn\", \"learn\", \"learn\", \"learn\", \"learn\", \"learn\", \"learn\", \"learn\", \"learn\", \"learn\", \"learn\", \"learn\", \"leav\", \"leav\", \"leav\", \"leav\", \"leav\", \"leav\", \"leav\", \"leav\", \"leav\", \"leav\", \"leav\", \"leav\", \"legaci\", \"legaci\", \"legion\", \"legisl\", \"legisl\", \"legisl\", \"legisl\", \"legisl\", \"legisl\", \"legisl\", \"legisl\", \"legisl\", \"legisl\", \"legisl\", \"legisl\", \"legisl\", \"let\", \"let\", \"let\", \"let\", \"let\", \"let\", \"let\", \"let\", \"let\", \"let\", \"let\", \"let\", \"let\", \"letter\", \"letter\", \"letter\", \"letter\", \"letter\", \"letter\", \"letter\", \"lgbtqia\", \"li\", \"life\", \"life\", \"life\", \"life\", \"life\", \"life\", \"life\", \"life\", \"life\", \"life\", \"life\", \"life\", \"life\", \"lifelin\", \"lifelin\", \"ligado\", \"like\", \"like\", \"like\", \"like\", \"like\", \"like\", \"like\", \"like\", \"like\", \"like\", \"like\", \"like\", \"like\", \"like\", \"like\", \"like\", \"like\", \"lincoln\", \"line\", \"line\", \"line\", \"line\", \"line\", \"line\", \"line\", \"line\", \"line\", \"line\", \"line\", \"line\", \"line\", \"line\", \"line\", \"liquid\", \"listen\", \"listen\", \"listen\", \"listen\", \"live\", \"live\", \"live\", \"live\", \"live\", \"live\", \"live\", \"live\", \"live\", \"live\", \"livestream\", \"lo\", \"loan\", \"loan\", \"lobbyist\", \"lobbyist\", \"local\", \"local\", \"local\", \"local\", \"local\", \"local\", \"local\", \"locat\", \"locat\", \"locat\", \"locat\", \"locat\", \"locat\", \"look\", \"look\", \"look\", \"look\", \"look\", \"look\", \"look\", \"look\", \"look\", \"look\", \"look\", \"look\", \"look\", \"look\", \"look\", \"look\", \"love\", \"love\", \"love\", \"love\", \"love\", \"love\", \"love\", \"love\", \"love\", \"lower\", \"lower\", \"lower\", \"lower\", \"lowest\", \"lowest\", \"luther\", \"lwcf\", \"ma\", \"mail\", \"mail\", \"mail\", \"mail\", \"mail\", \"make\", \"make\", \"make\", \"make\", \"make\", \"make\", \"make\", \"make\", \"make\", \"make\", \"make\", \"make\", \"make\", \"make\", \"make\", \"make\", \"make\", \"manag\", \"manag\", \"manag\", \"manag\", \"manag\", \"manag\", \"manag\", \"manag\", \"manag\", \"manag\", \"manag\", \"mani\", \"mani\", \"mani\", \"mani\", \"mani\", \"mani\", \"mani\", \"mani\", \"mani\", \"mani\", \"mani\", \"mani\", \"mani\", \"mani\", \"mani\", \"mani\", \"mani\", \"manufactur\", \"manufactur\", \"manufactur\", \"marchforlif\", \"marco\", \"marco\", \"marco\", \"marin\", \"marin\", \"marin\", \"mark\", \"mark\", \"mark\", \"mark\", \"mark\", \"mark\", \"mark\", \"market\", \"market\", \"market\", \"market\", \"market\", \"martin\", \"martin\", \"mask\", \"mask\", \"matern\", \"may\", \"may\", \"may\", \"may\", \"may\", \"may\", \"may\", \"may\", \"may\", \"may\", \"may\", \"may\", \"may\", \"may\", \"may\", \"may\", \"may\", \"mayor\", \"mayor\", \"mayor\", \"mayor\", \"mcconnel\", \"mcconnel\", \"mcconnel\", \"mcconnel\", \"mcconnel\", \"mcconnel\", \"mcdonald\", \"meal\", \"meal\", \"meal\", \"meat\", \"meatpack\", \"medic\", \"medic\", \"medic\", \"medic\", \"medic\", \"medic\", \"medicaid\", \"medicaid\", \"medicaid\", \"medicaid\", \"medium\", \"medium\", \"medium\", \"medium\", \"medium\", \"member\", \"member\", \"member\", \"member\", \"member\", \"member\", \"member\", \"member\", \"member\", \"member\", \"member\", \"member\", \"member\", \"member\", \"member\", \"member\", \"memorialday\", \"men\", \"men\", \"mental\", \"meth\", \"mick\", \"mike\", \"mike\", \"mike\", \"mike\", \"militari\", \"militari\", \"militari\", \"militari\", \"militari\", \"militari\", \"militari\", \"militari\", \"militari\", \"militari\", \"militaryappreciationmonth\", \"militaryspouseappreciationday\", \"million\", \"million\", \"million\", \"million\", \"million\", \"million\", \"million\", \"million\", \"million\", \"million\", \"million\", \"million\", \"million\", \"million\", \"million\", \"miner\", \"miner\", \"miner\", \"mini\", \"minnesotan\", \"minnesotan\", \"minnesotan\", \"minnesotan\", \"minnesotan\", \"miss\", \"miss\", \"miss\", \"miss\", \"miss\", \"miss\", \"miss\", \"miss\", \"mitch\", \"mitch\", \"mitch\", \"mitch\", \"mlkday\", \"mom\", \"mom\", \"mom\", \"momentum\", \"momentum\", \"money\", \"money\", \"money\", \"money\", \"money\", \"money\", \"monitor\", \"monitor\", \"monitor\", \"monitor\", \"monitor\", \"monitor\", \"monro\", \"moor\", \"morn\", \"morn\", \"morn\", \"morn\", \"morn\", \"morn\", \"morn\", \"morn\", \"morn\", \"morn\", \"morn\", \"mortal\", \"mother\", \"mother\", \"mother\", \"mothersday\", \"movi\", \"movi\", \"msdnc\", \"mulvaney\", \"must\", \"must\", \"must\", \"must\", \"must\", \"must\", \"must\", \"must\", \"must\", \"must\", \"must\", \"must\", \"must\", \"must\", \"must\", \"nanci\", \"nanci\", \"nashua\", \"nashvil\", \"nation\", \"nation\", \"nation\", \"nation\", \"nation\", \"nation\", \"nation\", \"nation\", \"nation\", \"nation\", \"nation\", \"nation\", \"nation\", \"nation\", \"nation\", \"nation\", \"nation\", \"nationalagday\", \"nationalpoliceweek\", \"ndag\", \"nearest\", \"need\", \"need\", \"need\", \"need\", \"need\", \"need\", \"need\", \"need\", \"need\", \"need\", \"need\", \"need\", \"need\", \"need\", \"need\", \"need\", \"need\", \"neighbor\", \"nepa\", \"nevada\", \"nevada\", \"nevada\", \"nevada\", \"nevada\", \"nevada\", \"nevada\", \"nevada\", \"nevada\", \"neveragain\", \"new\", \"new\", \"new\", \"new\", \"new\", \"new\", \"new\", \"new\", \"new\", \"new\", \"new\", \"new\", \"new\", \"new\", \"new\", \"new\", \"new\", \"news\", \"news\", \"news\", \"news\", \"news\", \"news\", \"news\", \"news\", \"news\", \"news\", \"news\", \"news\", \"news\", \"news\", \"news\", \"newslett\", \"nice\", \"nice\", \"nice\", \"nice\", \"nice\", \"nobanact\", \"nonprofit\", \"nonprofit\", \"noon\", \"north\", \"north\", \"north\", \"north\", \"north\", \"northdakota\", \"novemb\", \"novemb\", \"nowarwithiran\", \"nuestro\", \"nurs\", \"nurs\", \"nurs\", \"nurs\", \"oath\", \"oath\", \"obama\", \"obama\", \"obama\", \"obama\", \"obama\", \"obstruct\", \"offic\", \"offic\", \"offic\", \"offic\", \"offic\", \"offic\", \"offic\", \"offic\", \"offic\", \"offic\", \"offici\", \"offici\", \"offici\", \"offici\", \"offici\", \"offici\", \"offici\", \"offici\", \"offici\", \"offici\", \"offici\", \"offici\", \"offici\", \"offici\", \"offici\", \"offici\", \"oil\", \"oil\", \"oil\", \"older\", \"older\", \"older\", \"one\", \"one\", \"one\", \"one\", \"one\", \"one\", \"one\", \"one\", \"one\", \"one\", \"one\", \"one\", \"one\", \"one\", \"one\", \"one\", \"one\", \"op\", \"opportunityzon\", \"oppress\", \"orang\", \"oregon\", \"oregon\", \"oregon\", \"oregon\", \"oregon\", \"oregon\", \"oregon\", \"oregonian\", \"oregonian\", \"oregonway\", \"oregonway\", \"osha\", \"outbreak\", \"outbreak\", \"outbreak\", \"outbreak\", \"outbreak\", \"outbreak\", \"outbreak\", \"outbreak\", \"oval\", \"overburden\", \"owe\", \"owe\", \"owe\", \"owe\", \"owe\", \"own\", \"own\", \"owner\", \"owner\", \"owner\", \"packag\", \"packag\", \"paid\", \"paid\", \"paid\", \"paid\", \"paid\", \"pandem\", \"pandem\", \"pandem\", \"pandem\", \"pandem\", \"pandem\", \"pandem\", \"pandem\", \"pandem\", \"pandem\", \"pandem\", \"pandem\", \"pandem\", \"pandem\", \"pandem\", \"pantri\", \"para\", \"parent\", \"parent\", \"parent\", \"parent\", \"parent\", \"parent\", \"parent\", \"parent\", \"parent\", \"parti\", \"parti\", \"parti\", \"parti\", \"parti\", \"parti\", \"parti\", \"pass\", \"pass\", \"pass\", \"pass\", \"pass\", \"pass\", \"pass\", \"pass\", \"pass\", \"pass\", \"pass\", \"pass\", \"pass\", \"passeng\", \"passeng\", \"passeng\", \"passov\", \"passthebil\", \"patient\", \"patient\", \"patient\", \"patient\", \"patient\", \"pay\", \"pay\", \"pay\", \"pay\", \"pay\", \"pay\", \"pay\", \"pay\", \"pay\", \"pay\", \"pay\", \"pay\", \"pay\", \"paycheck\", \"paycheck\", \"paycheckprotectionprogram\", \"paycheckprotectionprogram\", \"payer\", \"payment\", \"payment\", \"payment\", \"payrol\", \"peac\", \"peac\", \"peac\", \"peac\", \"peac\", \"peac\", \"peac\", \"peac\", \"pelosi\", \"pelosi\", \"pelosi\", \"peopl\", \"peopl\", \"peopl\", \"peopl\", \"peopl\", \"peopl\", \"peopl\", \"peopl\", \"peopl\", \"peopl\", \"peopl\", \"peopl\", \"peopl\", \"peopl\", \"peopl\", \"peopl\", \"peopl\", \"per\", \"per\", \"per\", \"perman\", \"perman\", \"perman\", \"perman\", \"perman\", \"perpetr\", \"peteonfox\", \"pfa\", \"pharma\", \"physician\", \"physician\", \"pin\", \"pitch\", \"pkg\", \"plant\", \"plant\", \"plant\", \"plant\", \"plant\", \"plastic\", \"player\", \"player\", \"player\", \"pleas\", \"pleas\", \"pleas\", \"pleas\", \"pleas\", \"pleas\", \"pleas\", \"pleas\", \"pleas\", \"pleas\", \"pleas\", \"pleas\", \"pleas\", \"pm\", \"pm\", \"pm\", \"polic\", \"polic\", \"polic\", \"polic\", \"polic\", \"polic\", \"polit\", \"polit\", \"polit\", \"polit\", \"polit\", \"polit\", \"polit\", \"polit\", \"polit\", \"polit\", \"polit\", \"poll\", \"poll\", \"pollut\", \"pollut\", \"por\", \"port\", \"portal\", \"portal\", \"power\", \"power\", \"power\", \"power\", \"power\", \"power\", \"power\", \"power\", \"power\", \"power\", \"power\", \"power\", \"power\", \"ppe\", \"ppp\", \"ppp\", \"ppploan\", \"pray\", \"pray\", \"pray\", \"pray\", \"pre\", \"pre\", \"pre\", \"pre\", \"pre\", \"precaut\", \"preced\", \"preexist\", \"prescript\", \"present\", \"present\", \"present\", \"present\", \"present\", \"present\", \"present\", \"present\", \"presid\", \"presid\", \"presid\", \"presid\", \"presid\", \"presid\", \"presid\", \"presid\", \"presid\", \"presid\", \"presid\", \"presid\", \"presid\", \"presid\", \"presumpt\", \"pretend\", \"prevent\", \"prevent\", \"prevent\", \"prevent\", \"prevent\", \"prevent\", \"prevent\", \"prevent\", \"prevent\", \"prevent\", \"prevent\", \"prevent\", \"price\", \"price\", \"price\", \"price\", \"primari\", \"primari\", \"primari\", \"printer\", \"prison\", \"prison\", \"privaci\", \"privaci\", \"proceed\", \"proceed\", \"produc\", \"produc\", \"produc\", \"product\", \"product\", \"product\", \"product\", \"product\", \"product\", \"profession\", \"profession\", \"profession\", \"profession\", \"profession\", \"profession\", \"profession\", \"program\", \"program\", \"program\", \"program\", \"program\", \"program\", \"program\", \"program\", \"program\", \"programm\", \"project\", \"project\", \"project\", \"promis\", \"promis\", \"promis\", \"promis\", \"promis\", \"promis\", \"promis\", \"promis\", \"promis\", \"promis\", \"promis\", \"promis\", \"propaganda\", \"propaganda\", \"protect\", \"protect\", \"protect\", \"protect\", \"protect\", \"protect\", \"protect\", \"protect\", \"protect\", \"protect\", \"protect\", \"protect\", \"protect\", \"protect\", \"protect\", \"protectourcar\", \"proud\", \"proud\", \"proud\", \"proud\", \"proud\", \"proud\", \"proud\", \"proud\", \"proud\", \"proud\", \"proud\", \"proud\", \"proud\", \"proud\", \"provid\", \"provid\", \"provid\", \"provid\", \"provid\", \"provid\", \"provid\", \"provid\", \"provid\", \"provid\", \"provid\", \"provid\", \"public\", \"public\", \"public\", \"public\", \"public\", \"public\", \"public\", \"public\", \"public\", \"public\", \"public\", \"public\", \"public\", \"public\", \"public\", \"public\", \"puerto\", \"pundit\", \"put\", \"put\", \"put\", \"put\", \"put\", \"put\", \"put\", \"put\", \"put\", \"put\", \"put\", \"put\", \"put\", \"put\", \"put\", \"put\", \"putnam\", \"qaeda\", \"qasem\", \"qualifi\", \"qualifi\", \"qualifi\", \"qualifi\", \"qualifi\", \"qualifi\", \"qualiti\", \"qualiti\", \"qualiti\", \"qualiti\", \"qualiti\", \"qualiti\", \"qualiti\", \"que\", \"question\", \"question\", \"question\", \"question\", \"question\", \"question\", \"race\", \"race\", \"race\", \"race\", \"race\", \"rail\", \"ramadan\", \"rancher\", \"rancher\", \"rancher\", \"ratcliff\", \"reach\", \"reach\", \"reach\", \"reach\", \"reach\", \"reach\", \"reach\", \"reach\", \"reach\", \"reach\", \"reach\", \"reach\", \"reach\", \"reach\", \"reach\", \"reach\", \"reach\", \"read\", \"read\", \"read\", \"read\", \"read\", \"read\", \"read\", \"read\", \"read\", \"read\", \"read\", \"read\", \"read\", \"read\", \"read\", \"read\", \"read\", \"readi\", \"readi\", \"readi\", \"readi\", \"readi\", \"readi\", \"readi\", \"readi\", \"readi\", \"readi\", \"readi\", \"readi\", \"readi\", \"realsotu\", \"reauthor\", \"reauthor\", \"reauthor\", \"reauthor\", \"reauthor\", \"rebat\", \"rebat\", \"rebuild\", \"rebuild\", \"rebuild\", \"rebuild\", \"rebuild\", \"rebuild\", \"rebuilt\", \"receiv\", \"receiv\", \"receiv\", \"receiv\", \"receiv\", \"receiv\", \"receiv\", \"receiv\", \"receiv\", \"recogn\", \"recogn\", \"recogn\", \"recogn\", \"recogn\", \"recogn\", \"recogn\", \"recogn\", \"recogn\", \"recogn\", \"recycl\", \"reduct\", \"reduct\", \"refineri\", \"reflect\", \"reflect\", \"reflect\", \"reflect\", \"reflect\", \"regim\", \"regim\", \"regim\", \"regim\", \"regim\", \"regimen\", \"region\", \"region\", \"region\", \"region\", \"region\", \"region\", \"region\", \"region\", \"region\", \"regist\", \"regist\", \"regist\", \"regul\", \"regul\", \"regul\", \"rehir\", \"releas\", \"releas\", \"releas\", \"releas\", \"releas\", \"releas\", \"releas\", \"releas\", \"releas\", \"relev\", \"relev\", \"relev\", \"relief\", \"relief\", \"relief\", \"relief\", \"religi\", \"religi\", \"religi\", \"religi\", \"rememb\", \"rememb\", \"rememb\", \"rememb\", \"rememb\", \"rememb\", \"rememb\", \"rememb\", \"rememb\", \"reopen\", \"reopen\", \"reopen\", \"reopen\", \"reopen\", \"reopen\", \"reopen\", \"reopen\", \"repatri\", \"repatriar\", \"repeal\", \"replenish\", \"report\", \"report\", \"report\", \"report\", \"report\", \"report\", \"report\", \"report\", \"report\", \"report\", \"report\", \"report\", \"report\", \"reproduct\", \"reproduct\", \"republican\", \"republican\", \"republican\", \"republican\", \"republican\", \"republican\", \"republican\", \"request\", \"request\", \"request\", \"request\", \"request\", \"request\", \"request\", \"request\", \"request\", \"request\", \"resign\", \"resolut\", \"resolut\", \"resolut\", \"resolut\", \"resourc\", \"resourc\", \"resourc\", \"resourc\", \"resourc\", \"resourc\", \"respir\", \"respond\", \"respond\", \"respond\", \"respond\", \"respond\", \"respond\", \"respond\", \"respond\", \"respond\", \"respond\", \"respond\", \"respond\", \"respons\", \"respons\", \"respons\", \"respons\", \"respons\", \"respons\", \"respons\", \"respons\", \"respons\", \"respons\", \"respons\", \"respons\", \"respons\", \"respons\", \"restartamerica\", \"restoreourpark\", \"resum\", \"resum\", \"retali\", \"retali\", \"retent\", \"revel\", \"revenu\", \"revenu\", \"revenu\", \"reynold\", \"ribbon\", \"richard\", \"rico\", \"right\", \"right\", \"right\", \"right\", \"right\", \"right\", \"right\", \"right\", \"right\", \"right\", \"right\", \"right\", \"right\", \"right\", \"right\", \"right\", \"rip\", \"rip\", \"risk\", \"risk\", \"risk\", \"risk\", \"risk\", \"risk\", \"risk\", \"risk\", \"risk\", \"risk\", \"risk\", \"risk\", \"river\", \"robocal\", \"roe\", \"roe\", \"roevwad\", \"roger\", \"roger\", \"rollback\", \"roundtabl\", \"roundtabl\", \"roundtabl\", \"rsvp\", \"rsvp\", \"rubio\", \"rubio\", \"rubio\", \"rubio\", \"rubio\", \"ruin\", \"rule\", \"rule\", \"rule\", \"rule\", \"rule\", \"rule\", \"rule\", \"rule\", \"rural\", \"rural\", \"rural\", \"russia\", \"russia\", \"russia\", \"russian\", \"russian\", \"rx\", \"sacrific\", \"sacrific\", \"sadden\", \"sadden\", \"sadden\", \"sadden\", \"safe\", \"safe\", \"safe\", \"safe\", \"safe\", \"safe\", \"safe\", \"safe\", \"safe\", \"safe\", \"safe\", \"safe\", \"safeti\", \"safeti\", \"safeti\", \"safeti\", \"safeti\", \"safeti\", \"safeti\", \"safeti\", \"safeti\", \"safeti\", \"safeti\", \"said\", \"said\", \"said\", \"said\", \"said\", \"said\", \"said\", \"said\", \"said\", \"said\", \"said\", \"said\", \"salari\", \"salari\", \"salari\", \"salut\", \"salut\", \"sameach\", \"sanction\", \"sanction\", \"sanction\", \"sanctuari\", \"sander\", \"sander\", \"saveusp\", \"sba\", \"sba\", \"sc\", \"sc\", \"scari\", \"school\", \"school\", \"school\", \"school\", \"school\", \"school\", \"school\", \"school\", \"se\", \"seafood\", \"sector\", \"sector\", \"sector\", \"sector\", \"secur\", \"secur\", \"secur\", \"secur\", \"secur\", \"secur\", \"secur\", \"secur\", \"secur\", \"secur\", \"secur\", \"secur\", \"secur\", \"secur\", \"see\", \"see\", \"see\", \"see\", \"see\", \"see\", \"see\", \"see\", \"see\", \"see\", \"see\", \"see\", \"see\", \"see\", \"see\", \"see\", \"see\", \"seeker\", \"seiz\", \"selfless\", \"semit\", \"sen\", \"sen\", \"sen\", \"sen\", \"sen\", \"sen\", \"sen\", \"sen\", \"sen\", \"sen\", \"sen\", \"sen\", \"senador\", \"senat\", \"senat\", \"senat\", \"senat\", \"senat\", \"senat\", \"senat\", \"senat\", \"senat\", \"senat\", \"senat\", \"senat\", \"senat\", \"senat\", \"senat\", \"senat\", \"senat\", \"senior\", \"senior\", \"senior\", \"senior\", \"senior\", \"senior\", \"senior\", \"senior\", \"senior\", \"senior\", \"sentenc\", \"sentenc\", \"serv\", \"serv\", \"serv\", \"serv\", \"serv\", \"serv\", \"serv\", \"serv\", \"serv\", \"serv\", \"serv\", \"servant\", \"servic\", \"servic\", \"servic\", \"servic\", \"servic\", \"servic\", \"servic\", \"servic\", \"servic\", \"servic\", \"sew\", \"sexual\", \"sexual\", \"sexual\", \"sexual\", \"sgt\", \"sham\", \"sham\", \"shark\", \"shelley\", \"shield\", \"shield\", \"shield\", \"shoot\", \"shoot\", \"shoot\", \"shortag\", \"shortag\", \"shortli\", \"shortli\", \"si\", \"sick\", \"sick\", \"sicken\", \"sixth\", \"slow\", \"slow\", \"slow\", \"slush\", \"small\", \"smallbiz\", \"sneez\", \"sobr\", \"soldier\", \"soldier\", \"soldier\", \"soldier\", \"soleimani\", \"soleimani\", \"soleimani\", \"sotu\", \"sotu\", \"sotu\", \"soulsaturday\", \"south\", \"south\", \"south\", \"south\", \"spanish\", \"speak\", \"speak\", \"speak\", \"speak\", \"speak\", \"speak\", \"speak\", \"speak\", \"speak\", \"speak\", \"speak\", \"speak\", \"speaker\", \"speaker\", \"speaker\", \"spectrum\", \"speedi\", \"spous\", \"spread\", \"spread\", \"spread\", \"spread\", \"spread\", \"spread\", \"staff\", \"staff\", \"staff\", \"staff\", \"staff\", \"staff\", \"staff\", \"staff\", \"staff\", \"staff\", \"staff\", \"stand\", \"stand\", \"stand\", \"stand\", \"stand\", \"stand\", \"stand\", \"stand\", \"stand\", \"stand\", \"stand\", \"stand\", \"stand\", \"stand\", \"stand\", \"state\", \"state\", \"state\", \"state\", \"state\", \"state\", \"state\", \"state\", \"state\", \"state\", \"state\", \"state\", \"state\", \"state\", \"state\", \"state\", \"state\", \"stater\", \"stater\", \"stay\", \"stay\", \"stay\", \"stay\", \"stay\", \"stay\", \"stay\", \"stay\", \"stayhom\", \"stayhom\", \"steal\", \"stem\", \"stem\", \"stem\", \"stem\", \"steward\", \"stick\", \"stimulu\", \"stimulu\", \"stimulu\", \"stimulu\", \"stock\", \"stock\", \"stock\", \"stock\", \"stock\", \"stock\", \"stock\", \"stockpil\", \"stone\", \"stone\", \"stone\", \"store\", \"store\", \"store\", \"store\", \"stori\", \"stori\", \"stori\", \"stori\", \"stori\", \"stori\", \"stori\", \"stori\", \"stori\", \"stori\", \"strait\", \"stranger\", \"stream\", \"stream\", \"struggl\", \"struggl\", \"struggl\", \"struggl\", \"struggl\", \"struggl\", \"struggl\", \"struggl\", \"student\", \"student\", \"student\", \"student\", \"student\", \"student\", \"studentsfirst\", \"studi\", \"studi\", \"studi\", \"studi\", \"studi\", \"stunt\", \"su\", \"su\", \"subpoena\", \"subpoena\", \"subscrib\", \"subsidi\", \"summari\", \"summer\", \"super\", \"super\", \"supercharg\", \"supplement\", \"suppli\", \"support\", \"support\", \"support\", \"support\", \"support\", \"support\", \"support\", \"support\", \"support\", \"support\", \"support\", \"support\", \"support\", \"support\", \"support\", \"support\", \"support\", \"sure\", \"sure\", \"sure\", \"sure\", \"sure\", \"sure\", \"sure\", \"sure\", \"sure\", \"sure\", \"sure\", \"surgic\", \"survey\", \"swamp\", \"swing\", \"tabl\", \"tabl\", \"tabl\", \"take\", \"take\", \"take\", \"take\", \"take\", \"take\", \"take\", \"take\", \"take\", \"take\", \"take\", \"take\", \"take\", \"take\", \"take\", \"take\", \"take\", \"takeaway\", \"talk\", \"talk\", \"talk\", \"talk\", \"talk\", \"talk\", \"talk\", \"talk\", \"talk\", \"talk\", \"talk\", \"talk\", \"talk\", \"talk\", \"tax\", \"tax\", \"tax\", \"tax\", \"tax\", \"tax\", \"teacher\", \"teacher\", \"teacher\", \"teacher\", \"teacherappreciationweek\", \"team\", \"team\", \"team\", \"team\", \"team\", \"team\", \"team\", \"team\", \"team\", \"technolog\", \"technolog\", \"technolog\", \"technolog\", \"ted\", \"ted\", \"tele\", \"tele\", \"tele\", \"tele\", \"telehealth\", \"telehealth\", \"telephon\", \"teletour\", \"teletown\", \"ten\", \"ten\", \"ten\", \"ten\", \"ten\", \"ten\", \"tension\", \"test\", \"test\", \"test\", \"test\", \"test\", \"test\", \"test\", \"testimoni\", \"testimoni\", \"texa\", \"texa\", \"texa\", \"texa\", \"texa\", \"texa\", \"texa\", \"texa\", \"texa\", \"texa\", \"texa\", \"texan\", \"texan\", \"texan\", \"texan\", \"texan\", \"texastogeth\", \"th\", \"th\", \"th\", \"th\", \"th\", \"th\", \"th\", \"th\", \"th\", \"thank\", \"thank\", \"thank\", \"thank\", \"thank\", \"thank\", \"thank\", \"thank\", \"thank\", \"thank\", \"thank\", \"thank\", \"theori\", \"throw\", \"time\", \"time\", \"time\", \"time\", \"time\", \"time\", \"time\", \"time\", \"time\", \"time\", \"time\", \"time\", \"time\", \"time\", \"time\", \"time\", \"time\", \"timeact\", \"tobacco\", \"today\", \"today\", \"today\", \"today\", \"today\", \"today\", \"today\", \"today\", \"today\", \"today\", \"today\", \"today\", \"today\", \"today\", \"today\", \"today\", \"today\", \"todo\", \"togeth\", \"togeth\", \"togeth\", \"togeth\", \"togeth\", \"togeth\", \"togeth\", \"togeth\", \"togeth\", \"toledo\", \"tonight\", \"tonight\", \"tonight\", \"tonight\", \"tonight\", \"tonight\", \"tonight\", \"tonight\", \"topic\", \"topic\", \"tornado\", \"tornado\", \"tough\", \"tough\", \"tough\", \"tough\", \"tough\", \"tough\", \"tournament\", \"town\", \"town\", \"town\", \"townhal\", \"trace\", \"trace\", \"trace\", \"trade\", \"trade\", \"trade\", \"traffick\", \"traffick\", \"trailblaz\", \"transcript\", \"transdayofvis\", \"transfer\", \"transmit\", \"treat\", \"treat\", \"treat\", \"treat\", \"treat\", \"treat\", \"treat\", \"treat\", \"treat\", \"treat\", \"treat\", \"treatment\", \"treatment\", \"treatment\", \"treatment\", \"treatment\", \"treatment\", \"treatment\", \"treatment\", \"trial\", \"tribal\", \"tribal\", \"tribal\", \"tribe\", \"tribe\", \"tribe\", \"trump\", \"trump\", \"trump\", \"trump\", \"trump\", \"trump\", \"trump\", \"trump\", \"trump\", \"trump\", \"trump\", \"truth\", \"truth\", \"truth\", \"truth\", \"tsai\", \"tuesday\", \"tuesday\", \"tuition\", \"tulsi\", \"tulsigabbard\", \"tune\", \"turkey\", \"turn\", \"turn\", \"turn\", \"turn\", \"turn\", \"turn\", \"turn\", \"turn\", \"turn\", \"turn\", \"turn\", \"turn\", \"turnout\", \"tv\", \"tv\", \"tva\", \"tva\", \"tyranni\", \"ugli\", \"ui\", \"ukrain\", \"ukrain\", \"ukrainian\", \"ultim\", \"ultim\", \"ultim\", \"ultim\", \"ultim\", \"un\", \"un\", \"una\", \"underserv\", \"underserv\", \"underserv\", \"uniform\", \"unilater\", \"unmask\", \"unnot\", \"updat\", \"updat\", \"updat\", \"updat\", \"updat\", \"updat\", \"updat\", \"updat\", \"updat\", \"upgrad\", \"upgrad\", \"urg\", \"urg\", \"urg\", \"urg\", \"urg\", \"urg\", \"urg\", \"urg\", \"urg\", \"urg\", \"urg\", \"urg\", \"urg\", \"use\", \"use\", \"use\", \"use\", \"use\", \"use\", \"use\", \"use\", \"use\", \"use\", \"use\", \"use\", \"use\", \"use\", \"use\", \"usmca\", \"usmca\", \"utah\", \"utah\", \"utah\", \"utah\", \"utah\", \"va\", \"va\", \"va\", \"va\", \"va\", \"va\", \"vape\", \"vehicl\", \"venezuelan\", \"ventil\", \"vermont\", \"vermont\", \"vermont\", \"vermont\", \"veteran\", \"veteran\", \"veteran\", \"veteran\", \"veteran\", \"veteran\", \"veteran\", \"vice\", \"vice\", \"vicki\", \"violat\", \"violat\", \"violat\", \"violat\", \"violat\", \"violenc\", \"violenc\", \"violenc\", \"virginia\", \"virginia\", \"virginia\", \"virginia\", \"virginian\", \"virginian\", \"virginian\", \"virginian\", \"virtual\", \"virtual\", \"virtual\", \"virtual\", \"virtual\", \"virtual\", \"viru\", \"viru\", \"viru\", \"viru\", \"viru\", \"viru\", \"viru\", \"viru\", \"viru\", \"viru\", \"visit\", \"visit\", \"visit\", \"visit\", \"visit\", \"visit\", \"visit\", \"visit\", \"visit\", \"volunt\", \"volunt\", \"volunt\", \"volunt\", \"volunt\", \"volunt\", \"volunt\", \"vote\", \"vote\", \"vote\", \"vote\", \"vote\", \"vote\", \"vote\", \"vote\", \"vote\", \"votebymail\", \"voter\", \"voter\", \"voter\", \"votesaf\", \"walker\", \"wall\", \"wall\", \"wall\", \"wall\", \"want\", \"want\", \"want\", \"want\", \"want\", \"want\", \"want\", \"want\", \"want\", \"want\", \"want\", \"want\", \"want\", \"want\", \"want\", \"want\", \"want\", \"war\", \"war\", \"war\", \"war\", \"war\", \"war\", \"warehous\", \"warren\", \"warren\", \"wash\", \"wash\", \"watch\", \"watch\", \"watch\", \"watch\", \"watch\", \"watch\", \"watch\", \"watch\", \"watch\", \"watch\", \"watch\", \"watch\", \"watch\", \"watchdog\", \"water\", \"water\", \"water\", \"waterway\", \"way\", \"way\", \"way\", \"way\", \"way\", \"way\", \"way\", \"way\", \"way\", \"way\", \"way\", \"way\", \"way\", \"way\", \"way\", \"way\", \"wealth\", \"wealth\", \"wealth\", \"wealthi\", \"wealthiest\", \"webpag\", \"weekli\", \"werememb\", \"west\", \"west\", \"west\", \"west\", \"west\", \"whistleblow\", \"whistleblow\", \"white\", \"white\", \"white\", \"white\", \"white\", \"white\", \"white\", \"white\", \"white\", \"white\", \"white\", \"wichita\", \"win\", \"win\", \"win\", \"win\", \"win\", \"wish\", \"wish\", \"wish\", \"wish\", \"wit\", \"witch\", \"woman\", \"woman\", \"woman\", \"woman\", \"work\", \"work\", \"work\", \"work\", \"work\", \"work\", \"work\", \"work\", \"work\", \"work\", \"work\", \"work\", \"work\", \"work\", \"work\", \"work\", \"worker\", \"worker\", \"worker\", \"worker\", \"worker\", \"worker\", \"worker\", \"worker\", \"worker\", \"workersfirst\", \"workplac\", \"workplac\", \"workplac\", \"workshop\", \"world\", \"world\", \"world\", \"world\", \"world\", \"world\", \"world\", \"world\", \"world\", \"world\", \"world\", \"world\", \"world\", \"world\", \"worldhealthday\", \"wotu\", \"would\", \"would\", \"would\", \"would\", \"would\", \"would\", \"would\", \"would\", \"would\", \"would\", \"would\", \"would\", \"would\", \"would\", \"would\", \"would\", \"would\", \"wow\", \"wuhan\", \"wuhan\", \"yang\", \"yanggang\", \"yanggang\", \"yanggang\", \"yanggang\", \"yangspeak\", \"ye\", \"ye\", \"year\", \"year\", \"year\", \"year\", \"year\", \"year\", \"year\", \"year\", \"year\", \"year\", \"year\", \"year\", \"year\", \"year\", \"yemen\", \"york\", \"york\", \"yorker\", \"yorker\", \"yuma\", \"zoom\"]}, \"R\": 30, \"lambda.step\": 0.01, \"plot.opts\": {\"xlab\": \"PC1\", \"ylab\": \"PC2\"}, \"topic.order\": [5, 1, 11, 18, 10, 16, 15, 17, 14, 13, 4, 2, 6, 8, 9, 3, 12, 7]};\n",
       "\n",
       "function LDAvis_load_lib(url, callback){\n",
       "  var s = document.createElement('script');\n",
       "  s.src = url;\n",
       "  s.async = true;\n",
       "  s.onreadystatechange = s.onload = callback;\n",
       "  s.onerror = function(){console.warn(\"failed to load library \" + url);};\n",
       "  document.getElementsByTagName(\"head\")[0].appendChild(s);\n",
       "}\n",
       "\n",
       "if(typeof(LDAvis) !== \"undefined\"){\n",
       "   // already loaded: just create the visualization\n",
       "   !function(LDAvis){\n",
       "       new LDAvis(\"#\" + \"ldavis_el6940852379962406999446372\", ldavis_el6940852379962406999446372_data);\n",
       "   }(LDAvis);\n",
       "}else if(typeof define === \"function\" && define.amd){\n",
       "   // require.js is available: use it to load d3/LDAvis\n",
       "   require.config({paths: {d3: \"https://cdnjs.cloudflare.com/ajax/libs/d3/3.5.5/d3.min\"}});\n",
       "   require([\"d3\"], function(d3){\n",
       "      window.d3 = d3;\n",
       "      LDAvis_load_lib(\"https://cdn.rawgit.com/bmabey/pyLDAvis/files/ldavis.v1.0.0.js\", function(){\n",
       "        new LDAvis(\"#\" + \"ldavis_el6940852379962406999446372\", ldavis_el6940852379962406999446372_data);\n",
       "      });\n",
       "    });\n",
       "}else{\n",
       "    // require.js not available: dynamically load d3 & LDAvis\n",
       "    LDAvis_load_lib(\"https://cdnjs.cloudflare.com/ajax/libs/d3/3.5.5/d3.min.js\", function(){\n",
       "         LDAvis_load_lib(\"https://cdn.rawgit.com/bmabey/pyLDAvis/files/ldavis.v1.0.0.js\", function(){\n",
       "                 new LDAvis(\"#\" + \"ldavis_el6940852379962406999446372\", ldavis_el6940852379962406999446372_data);\n",
       "            })\n",
       "         });\n",
       "}\n",
       "</script>"
      ],
      "text/plain": [
       "<IPython.core.display.HTML object>"
      ]
     },
     "execution_count": 301,
     "metadata": {},
     "output_type": "execute_result"
    }
   ],
   "source": [
    "pyLDAvis.display(pyLDAvis2020)"
   ]
  },
  {
   "cell_type": "markdown",
   "metadata": {},
   "source": [
    "# DO NOT RUN BELOW CODE"
   ]
  },
  {
   "cell_type": "code",
   "execution_count": null,
   "metadata": {},
   "outputs": [],
   "source": [
    "# Prepare LDA visualization\n",
    "    # pyLDAvis.sklearn.prepare(lda model, vectorized sparse matrix, vectorizer)\n",
    "    # vectorizer is the vectorizer fit (not transform yet)\n",
    "pyLDAvis_train = pyLDAvis.sklearn.prepare(lda_mod, traincounts, vec) \n",
    "\n",
    "# Save LDA into a html\n",
    "# pyLDAvis.save_html(pyLDAvis_train, 'trainingLDAvis.html')\n",
    "\n",
    "# Enable pyLDAvis in jupyter notebook \n",
    "pyLDAvis.enable_notebook()\n",
    "\n",
    "# Display pyLDAvis\n",
    "pyLDAvis.display(pyLDAvis_train)"
   ]
  }
 ],
 "metadata": {
  "colab": {
   "collapsed_sections": [
    "Hclo8BaiBgSB",
    "u74fs3TV-JTo",
    "MN1H8wf2-UFp",
    "KjIkOkBw-XdI",
    "mM_PdaSDE-IT",
    "eeCMpYVYdRDT",
    "x9M8G5lSdTKL"
   ],
   "name": "BubbleBurster.ipynb",
   "provenance": []
  },
  "kernelspec": {
   "display_name": "Python 3",
   "language": "python",
   "name": "python3"
  },
  "language_info": {
   "codemirror_mode": {
    "name": "ipython",
    "version": 3
   },
   "file_extension": ".py",
   "mimetype": "text/x-python",
   "name": "python",
   "nbconvert_exporter": "python",
   "pygments_lexer": "ipython3",
   "version": "3.7.4"
  }
 },
 "nbformat": 4,
 "nbformat_minor": 1
}
